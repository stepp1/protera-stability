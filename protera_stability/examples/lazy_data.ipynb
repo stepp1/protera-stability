{
    "cells": [
        {
            "cell_type": "code",
            "execution_count": 1,
            "source": [
                "# changing in order to not reset paths\n",
                "%cd -q ../../project/parallel_synthesis/experiments \n",
                "\n",
                "from copy import copy\n",
                "from protera_stability.config.lazy import LazyCall as L\n",
                "from protera_stability.config.instantiate import instantiate\n",
                "from protera_stability.config.common.data import base_dataset, base_dataloader, base_sampler, get_train_val_indices\n"
            ],
            "outputs": [],
            "metadata": {}
        },
        {
            "cell_type": "markdown",
            "source": [
                "# Does our LazyConfig work?"
            ],
            "metadata": {}
        },
        {
            "cell_type": "code",
            "execution_count": 2,
            "source": [
                "dataset = instantiate(base_dataset.data)"
            ],
            "outputs": [],
            "metadata": {}
        },
        {
            "cell_type": "code",
            "execution_count": 3,
            "source": [
                "train_idx, valid_idx = get_train_val_indices(\n",
                "    dataset,\n",
                "    0.8\n",
                ")\n",
                "\n",
                "assert len(set(train_idx).intersection(set(valid_idx))) == 0"
            ],
            "outputs": [],
            "metadata": {}
        },
        {
            "cell_type": "code",
            "execution_count": 4,
            "source": [
                "base_sampler.name # this should change for each experiment!"
            ],
            "outputs": [
                {
                    "output_type": "execute_result",
                    "data": {
                        "text/plain": [
                            "''"
                        ]
                    },
                    "metadata": {},
                    "execution_count": 4
                }
            ],
            "metadata": {}
        },
        {
            "cell_type": "markdown",
            "source": [
                "## *No Sampler* \n",
                "> this is because we aren't using a \"special\" sampling method, therefore we directly pass the indices"
            ],
            "metadata": {}
        },
        {
            "cell_type": "code",
            "execution_count": 5,
            "source": [
                "a_sampler = copy(base_sampler)\n",
                "a_sampler.random.indices = train_idx\n",
                "\n",
                "a_sampler = instantiate(a_sampler.random)\n",
                "\n",
                "len(a_sampler), len(train_idx)"
            ],
            "outputs": [
                {
                    "output_type": "execute_result",
                    "data": {
                        "text/plain": [
                            "(6564, 6564)"
                        ]
                    },
                    "metadata": {},
                    "execution_count": 5
                }
            ],
            "metadata": {}
        },
        {
            "cell_type": "markdown",
            "source": [
                "## Instantiate Diversity Sampler"
            ],
            "metadata": {}
        },
        {
            "cell_type": "code",
            "execution_count": 27,
            "source": [
                "div_sampler = copy(base_sampler)\n",
                "div_sampler.diversity.set_sequences.dataset = dataset.data\n",
                "div_sampler.diversity.set_sequences.set_indices = train_idx\n",
                "div_sampler.diversity.max_size = int(len(dataset) * 0.8)\n",
                "\n",
                "diversity_sampler = instantiate(div_sampler.diversity)\n",
                "\n",
                "assert len(set(diversity_sampler.indices).intersection(set(valid_idx))) == 0\n",
                "\n",
                "len(diversity_sampler), diversity_sampler.stopped_by"
            ],
            "outputs": [
                {
                    "output_type": "error",
                    "ename": "AttributeError",
                    "evalue": "'ProteinStabilityDataset' object has no attribute 'data'",
                    "traceback": [
                        "\u001b[0;31m---------------------------------------------------------------------------\u001b[0m",
                        "\u001b[0;31mAttributeError\u001b[0m                            Traceback (most recent call last)",
                        "\u001b[0;32m<ipython-input-27-c0b856a7a491>\u001b[0m in \u001b[0;36m<module>\u001b[0;34m\u001b[0m\n\u001b[0;32m----> 1\u001b[0;31m \u001b[0msampler\u001b[0m\u001b[0;34m.\u001b[0m\u001b[0mdiversity\u001b[0m\u001b[0;34m.\u001b[0m\u001b[0mset_sequences\u001b[0m\u001b[0;34m.\u001b[0m\u001b[0mdataset\u001b[0m \u001b[0;34m=\u001b[0m \u001b[0mdataset\u001b[0m\u001b[0;34m.\u001b[0m\u001b[0mdata\u001b[0m\u001b[0;34m\u001b[0m\u001b[0;34m\u001b[0m\u001b[0m\n\u001b[0m\u001b[1;32m      2\u001b[0m \u001b[0msampler\u001b[0m\u001b[0;34m.\u001b[0m\u001b[0mdiversity\u001b[0m\u001b[0;34m.\u001b[0m\u001b[0mset_sequences\u001b[0m\u001b[0;34m.\u001b[0m\u001b[0mset_indices\u001b[0m \u001b[0;34m=\u001b[0m \u001b[0mtrain_idx\u001b[0m\u001b[0;34m\u001b[0m\u001b[0;34m\u001b[0m\u001b[0m\n\u001b[1;32m      3\u001b[0m \u001b[0msampler\u001b[0m\u001b[0;34m.\u001b[0m\u001b[0mdiversity\u001b[0m\u001b[0;34m.\u001b[0m\u001b[0mmax_size\u001b[0m \u001b[0;34m=\u001b[0m \u001b[0mint\u001b[0m\u001b[0;34m(\u001b[0m\u001b[0mlen\u001b[0m\u001b[0;34m(\u001b[0m\u001b[0mdataset\u001b[0m\u001b[0;34m)\u001b[0m \u001b[0;34m*\u001b[0m \u001b[0;36m0.8\u001b[0m\u001b[0;34m)\u001b[0m\u001b[0;34m\u001b[0m\u001b[0;34m\u001b[0m\u001b[0m\n\u001b[1;32m      4\u001b[0m \u001b[0;34m\u001b[0m\u001b[0m\n\u001b[1;32m      5\u001b[0m \u001b[0mdiversity_sampler\u001b[0m \u001b[0;34m=\u001b[0m \u001b[0minstantiate\u001b[0m\u001b[0;34m(\u001b[0m\u001b[0msampler\u001b[0m\u001b[0;34m.\u001b[0m\u001b[0mdiversity\u001b[0m\u001b[0;34m)\u001b[0m\u001b[0;34m\u001b[0m\u001b[0;34m\u001b[0m\u001b[0m\n",
                        "\u001b[0;31mAttributeError\u001b[0m: 'ProteinStabilityDataset' object has no attribute 'data'"
                    ]
                }
            ],
            "metadata": {}
        },
        {
            "cell_type": "markdown",
            "source": [
                "## Instantiate Random Sampler"
            ],
            "metadata": {}
        },
        {
            "cell_type": "code",
            "execution_count": 7,
            "source": [
                "rand_sampler = copy(base_sampler)\n",
                "rand_sampler.random.indices.dataset = dataset\n",
                "rand_sampler.random.indices.set_indices = train_idx\n",
                "\n",
                "random_sampler = instantiate(rand_sampler.random)\n",
                "\n",
                "assert len(set(random_sampler.indices).intersection(set(valid_idx))) == 0\n",
                "\n",
                "len(random_sampler), len(dataset) * 0.3, len(train_idx)\n"
            ],
            "outputs": [
                {
                    "output_type": "execute_result",
                    "data": {
                        "text/plain": [
                            "(2461, 2461.2, 6564)"
                        ]
                    },
                    "metadata": {},
                    "execution_count": 7
                }
            ],
            "metadata": {}
        },
        {
            "cell_type": "markdown",
            "source": [
                "### Validation Sampler"
            ],
            "metadata": {}
        },
        {
            "cell_type": "code",
            "execution_count": 8,
            "source": [
                "val_sampler = copy(base_sampler)\n",
                "val_sampler = sampler.random.indices = valid_idx\n",
                "valid_sampler = instantiate(val_sampler.random)\n",
                "\n",
                "len(valid_sampler), len(valid_idx)"
            ],
            "outputs": [
                {
                    "output_type": "execute_result",
                    "data": {
                        "text/plain": [
                            "(1640, 1640)"
                        ]
                    },
                    "metadata": {},
                    "execution_count": 8
                }
            ],
            "metadata": {}
        },
        {
            "cell_type": "markdown",
            "source": [
                "## Instantiate Dataloaders"
            ],
            "metadata": {}
        },
        {
            "cell_type": "code",
            "execution_count": 10,
            "source": [
                "dataloader.train.sampler = div_sampler.diversity\n",
                "(instantiate(dataloader.train))"
            ],
            "outputs": [
                {
                    "output_type": "stream",
                    "name": "stderr",
                    "text": [
                        "Global seed set to 3232581377\n"
                    ]
                },
                {
                    "output_type": "execute_result",
                    "data": {
                        "text/plain": [
                            "<torch.utils.data.dataloader.DataLoader at 0x7f4256067790>"
                        ]
                    },
                    "metadata": {},
                    "execution_count": 10
                }
            ],
            "metadata": {}
        },
        {
            "cell_type": "code",
            "execution_count": 11,
            "source": [
                "dataloader.valid.sampler = val_sampler.random\n",
                "instantiate(dataloader.valid)"
            ],
            "outputs": [
                {
                    "output_type": "execute_result",
                    "data": {
                        "text/plain": [
                            "<torch.utils.data.dataloader.DataLoader at 0x7f42567d7710>"
                        ]
                    },
                    "metadata": {},
                    "execution_count": 11
                }
            ],
            "metadata": {}
        },
        {
            "cell_type": "code",
            "execution_count": 12,
            "source": [
                "instantiate(dataloader.test)"
            ],
            "outputs": [
                {
                    "output_type": "execute_result",
                    "data": {
                        "text/plain": [
                            "<torch.utils.data.dataloader.DataLoader at 0x7f42566e2250>"
                        ]
                    },
                    "metadata": {},
                    "execution_count": 12
                }
            ],
            "metadata": {}
        },
        {
            "cell_type": "code",
            "execution_count": 15,
            "source": [
                "len(instantiate(dataloader.train))"
            ],
            "outputs": [
                {
                    "output_type": "stream",
                    "name": "stderr",
                    "text": [
                        "Global seed set to 3232581377\n"
                    ]
                },
                {
                    "output_type": "execute_result",
                    "data": {
                        "text/plain": [
                            "24"
                        ]
                    },
                    "metadata": {},
                    "execution_count": 15
                }
            ],
            "metadata": {}
        },
        {
            "cell_type": "code",
            "execution_count": 26,
            "source": [
                "samples=0\n",
                "for X, y in instantiate(dataloader.test):\n",
                "    samples += X.shape[0]\n",
                "\n",
                "samples"
            ],
            "outputs": [
                {
                    "output_type": "execute_result",
                    "data": {
                        "text/plain": [
                            "2077"
                        ]
                    },
                    "metadata": {},
                    "execution_count": 26
                }
            ],
            "metadata": {}
        },
        {
            "cell_type": "code",
            "execution_count": null,
            "source": [],
            "outputs": [],
            "metadata": {}
        }
    ],
    "metadata": {
        "orig_nbformat": 4,
        "language_info": {
            "name": "python",
            "version": "3.7.11",
            "mimetype": "text/x-python",
            "codemirror_mode": {
                "name": "ipython",
                "version": 3
            },
            "pygments_lexer": "ipython3",
            "nbconvert_exporter": "python",
            "file_extension": ".py"
        },
        "kernelspec": {
            "name": "python3",
            "display_name": "Python 3.7.11 64-bit ('protera-stability': conda)"
        },
        "interpreter": {
            "hash": "a78d51e19256cfce1d39a2c3cba2e8056cac1355cb83723ad6d6938cbf3c5352"
        }
    },
    "nbformat": 4,
    "nbformat_minor": 2
}