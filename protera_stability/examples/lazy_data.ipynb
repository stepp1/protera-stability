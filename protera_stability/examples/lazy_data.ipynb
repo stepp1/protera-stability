{
 "cells": [
  {
   "cell_type": "code",
   "execution_count": 1,
   "metadata": {
    "ExecuteTime": {
     "end_time": "2021-09-03T19:55:20.438662Z",
     "start_time": "2021-09-03T19:55:19.319382Z"
    }
   },
   "outputs": [],
   "source": [
    "# changing in order to not reset paths\n",
    "%cd -q ../../project/parallel_synthesis/experiments\n",
    "\n",
    "from copy import copy\n",
    "from protera_stability.config.lazy import LazyCall as L\n",
    "from protera_stability.config.instantiate import instantiate\n",
    "from protera_stability.config.common.data import (\n",
    "    base_dataset,\n",
    "    base_dataloader,\n",
    "    base_sampler,\n",
    "    get_train_val_indices,\n",
    ")"
   ]
  },
  {
   "cell_type": "markdown",
   "metadata": {},
   "source": [
    "# Does our LazyConfig work?"
   ]
  },
  {
   "cell_type": "code",
   "execution_count": 2,
   "metadata": {
    "ExecuteTime": {
     "end_time": "2021-09-03T19:55:20.698894Z",
     "start_time": "2021-09-03T19:55:20.565259Z"
    }
   },
   "outputs": [],
   "source": [
    "dataset = instantiate(base_dataset.data)"
   ]
  },
  {
   "cell_type": "code",
   "execution_count": 3,
   "metadata": {
    "ExecuteTime": {
     "end_time": "2021-09-03T19:55:20.962114Z",
     "start_time": "2021-09-03T19:55:20.949101Z"
    }
   },
   "outputs": [],
   "source": [
    "train_idx, valid_idx = get_train_val_indices(dataset, 0.8)\n",
    "\n",
    "assert len(set(train_idx).intersection(set(valid_idx))) == 0"
   ]
  },
  {
   "cell_type": "code",
   "execution_count": 4,
   "metadata": {
    "ExecuteTime": {
     "end_time": "2021-09-03T19:55:21.350036Z",
     "start_time": "2021-09-03T19:55:21.346465Z"
    }
   },
   "outputs": [
    {
     "data": {
      "text/plain": [
       "''"
      ]
     },
     "execution_count": 4,
     "metadata": {},
     "output_type": "execute_result"
    }
   ],
   "source": [
    "base_sampler.name  # this should change for each experiment!"
   ]
  },
  {
   "cell_type": "markdown",
   "metadata": {},
   "source": [
    "## *No Sampler* \n",
    "> this is because we aren't using a \"special\" sampling method, therefore we directly pass the indices"
   ]
  },
  {
   "cell_type": "code",
   "execution_count": 5,
   "metadata": {
    "ExecuteTime": {
     "end_time": "2021-09-03T19:55:23.576846Z",
     "start_time": "2021-09-03T19:55:22.117467Z"
    }
   },
   "outputs": [
    {
     "data": {
      "text/plain": [
       "(6564, 6564, 369)"
      ]
     },
     "execution_count": 5,
     "metadata": {},
     "output_type": "execute_result"
    }
   ],
   "source": [
    "a_sampler = copy(base_sampler)\n",
    "a_sampler.random.indices.set_indices = train_idx\n",
    "a_sampler.random.indices.random_percent = 1.0\n",
    "\n",
    "all_data_sampler = instantiate(a_sampler.random)\n",
    "\n",
    "len(all_data_sampler), len(train_idx), next(iter(all_data_sampler))"
   ]
  },
  {
   "cell_type": "markdown",
   "metadata": {},
   "source": [
    "## Instantiate Diversity Sampler"
   ]
  },
  {
   "cell_type": "code",
   "execution_count": 6,
   "metadata": {
    "ExecuteTime": {
     "end_time": "2021-09-03T19:55:25.382550Z",
     "start_time": "2021-09-03T19:55:24.478045Z"
    }
   },
   "outputs": [
    {
     "name": "stderr",
     "output_type": "stream",
     "text": [
      "/home/roberto/anaconda3/envs/protera-stability/lib/python3.7/site-packages/pytorch_lightning/utilities/seed.py:57: UserWarning: No correct seed found, seed set to 215523697\n",
      "  rank_zero_warn(f\"No correct seed found, seed set to {seed}\")\n",
      "Global seed set to 215523697\n"
     ]
    },
    {
     "data": {
      "text/plain": [
       "(6141, 'CUTOFF')"
      ]
     },
     "execution_count": 6,
     "metadata": {},
     "output_type": "execute_result"
    }
   ],
   "source": [
    "div_sampler = copy(base_sampler)\n",
    "div_sampler.diversity.set_sequences.dataset = base_dataset.data\n",
    "div_sampler.diversity.set_sequences.set_indices = train_idx\n",
    "div_sampler.diversity.max_size = int(len(dataset) * 0.8)\n",
    "\n",
    "diversity_sampler = instantiate(div_sampler.diversity)\n",
    "\n",
    "assert len(set(diversity_sampler.indices).intersection(set(valid_idx))) == 0\n",
    "\n",
    "len(diversity_sampler), diversity_sampler.stopped_by"
   ]
  },
  {
   "cell_type": "markdown",
   "metadata": {},
   "source": [
    "## Instantiate Random Sampler"
   ]
  },
  {
   "cell_type": "code",
   "execution_count": 7,
   "metadata": {
    "ExecuteTime": {
     "end_time": "2021-09-03T19:55:27.786288Z",
     "start_time": "2021-09-03T19:55:26.493187Z"
    }
   },
   "outputs": [
    {
     "data": {
      "text/plain": [
       "(0, 2461.2, 6564)"
      ]
     },
     "execution_count": 7,
     "metadata": {},
     "output_type": "execute_result"
    }
   ],
   "source": [
    "rand_sampler = copy(base_sampler)\n",
    "rand_sampler.random.indices.dataset = base_dataset\n",
    "rand_sampler.random.indices.set_indices = train_idx\n",
    "\n",
    "random_sampler = instantiate(rand_sampler.random)\n",
    "\n",
    "assert len(set(random_sampler.indices).intersection(set(valid_idx))) == 0\n",
    "\n",
    "len(random_sampler), len(dataset) * 0.3, len(train_idx)"
   ]
  },
  {
   "cell_type": "markdown",
   "metadata": {},
   "source": [
    "### Validation Sampler"
   ]
  },
  {
   "cell_type": "code",
   "execution_count": 8,
   "metadata": {
    "ExecuteTime": {
     "end_time": "2021-09-03T19:55:29.585673Z",
     "start_time": "2021-09-03T19:55:29.144145Z"
    }
   },
   "outputs": [
    {
     "data": {
      "text/plain": [
       "(1640, 1640)"
      ]
     },
     "execution_count": 8,
     "metadata": {},
     "output_type": "execute_result"
    }
   ],
   "source": [
    "val_sampler = copy(base_sampler)\n",
    "val_sampler.random.indices.set_indices = valid_idx\n",
    "val_sampler.random.indices.random_percent = 1.0\n",
    "valid_sampler = instantiate(val_sampler.random)\n",
    "\n",
    "len(valid_sampler), len(valid_idx)"
   ]
  },
  {
   "cell_type": "markdown",
   "metadata": {},
   "source": [
    "## Instantiate Dataloaders"
   ]
  },
  {
   "cell_type": "code",
   "execution_count": 15,
   "metadata": {
    "ExecuteTime": {
     "end_time": "2021-09-03T19:58:39.023032Z",
     "start_time": "2021-09-03T19:58:38.813272Z"
    }
   },
   "outputs": [],
   "source": [
    "dl = copy(base_dataloader)"
   ]
  },
  {
   "cell_type": "code",
   "execution_count": 21,
   "metadata": {
    "ExecuteTime": {
     "end_time": "2021-09-03T20:01:14.540082Z",
     "start_time": "2021-09-03T20:01:13.624341Z"
    }
   },
   "outputs": [
    {
     "name": "stderr",
     "output_type": "stream",
     "text": [
      "Global seed set to 215523697\n"
     ]
    },
    {
     "data": {
      "text/plain": [
       "<torch.utils.data.dataloader.DataLoader at 0x7f1ca495e410>"
      ]
     },
     "execution_count": 21,
     "metadata": {},
     "output_type": "execute_result"
    }
   ],
   "source": [
    "# dl.train.sampler = a_sampler.random\n",
    "dl.train.sampler = div_sampler.diversity\n",
    "instantiate(dl.train)"
   ]
  },
  {
   "cell_type": "code",
   "execution_count": 22,
   "metadata": {
    "ExecuteTime": {
     "end_time": "2021-09-03T20:01:15.777059Z",
     "start_time": "2021-09-03T20:01:15.268732Z"
    }
   },
   "outputs": [
    {
     "data": {
      "text/plain": [
       "<torch.utils.data.dataloader.DataLoader at 0x7f1c9bc60050>"
      ]
     },
     "execution_count": 22,
     "metadata": {},
     "output_type": "execute_result"
    }
   ],
   "source": [
    "dl.valid.sampler = val_sampler.random\n",
    "instantiate(dl.valid)"
   ]
  },
  {
   "cell_type": "code",
   "execution_count": 23,
   "metadata": {
    "ExecuteTime": {
     "end_time": "2021-09-03T20:01:15.857959Z",
     "start_time": "2021-09-03T20:01:15.826596Z"
    }
   },
   "outputs": [
    {
     "data": {
      "text/plain": [
       "<torch.utils.data.dataloader.DataLoader at 0x7f1cac5a9e10>"
      ]
     },
     "execution_count": 23,
     "metadata": {},
     "output_type": "execute_result"
    }
   ],
   "source": [
    "instantiate(dl.test)"
   ]
  },
  {
   "cell_type": "markdown",
   "metadata": {},
   "source": [
    "## Check if we have all our data"
   ]
  },
  {
   "cell_type": "code",
   "execution_count": 24,
   "metadata": {
    "ExecuteTime": {
     "end_time": "2021-09-03T20:01:16.875897Z",
     "start_time": "2021-09-03T20:01:16.869951Z"
    }
   },
   "outputs": [],
   "source": [
    "from protera_stability.data.dataset import ProteinStabilityDataset"
   ]
  },
  {
   "cell_type": "code",
   "execution_count": 25,
   "metadata": {
    "ExecuteTime": {
     "end_time": "2021-09-03T20:01:18.490216Z",
     "start_time": "2021-09-03T20:01:17.460236Z"
    },
    "scrolled": true
   },
   "outputs": [
    {
     "name": "stderr",
     "output_type": "stream",
     "text": [
      "Global seed set to 215523697\n"
     ]
    },
    {
     "data": {
      "text/plain": [
       "(6563, 6141)"
      ]
     },
     "execution_count": 25,
     "metadata": {},
     "output_type": "execute_result"
    }
   ],
   "source": [
    "count_samples = 0\n",
    "for X, y in instantiate(dl.train):\n",
    "    count_samples += X.shape[0]\n",
    "\n",
    "int(\n",
    "    len(\n",
    "        ProteinStabilityDataset(\n",
    "            proteins_path=\"../data/stability_train.h5\",\n",
    "            ret_dict=False,\n",
    "        )\n",
    "    )\n",
    "    * 0.8\n",
    "), count_samples  # difference might be due to diversity cutoff"
   ]
  },
  {
   "cell_type": "code",
   "execution_count": 14,
   "metadata": {
    "ExecuteTime": {
     "end_time": "2021-09-03T15:31:19.046356Z",
     "start_time": "2021-09-03T15:31:18.319782Z"
    }
   },
   "outputs": [
    {
     "data": {
      "text/plain": [
       "True"
      ]
     },
     "execution_count": 14,
     "metadata": {},
     "output_type": "execute_result"
    }
   ],
   "source": [
    "count_samples = 0\n",
    "for X, y in instantiate(dl.valid):\n",
    "    count_samples += X.shape[0]\n",
    "\n",
    "count_samples == len(valid_idx)"
   ]
  },
  {
   "cell_type": "code",
   "execution_count": 20,
   "metadata": {
    "ExecuteTime": {
     "end_time": "2021-09-03T19:58:47.423469Z",
     "start_time": "2021-09-03T19:58:47.159503Z"
    }
   },
   "outputs": [
    {
     "data": {
      "text/plain": [
       "True"
      ]
     },
     "execution_count": 20,
     "metadata": {},
     "output_type": "execute_result"
    }
   ],
   "source": [
    "count_samples = 0\n",
    "for X, y in instantiate(dl.test):\n",
    "    count_samples += X.shape[0]\n",
    "\n",
    "count_samples == len(\n",
    "    ProteinStabilityDataset(\n",
    "        proteins_path=\"../data/stability_test.h5\",\n",
    "        ret_dict=False,\n",
    "    )\n",
    ")"
   ]
  },
  {
   "cell_type": "code",
   "execution_count": null,
   "metadata": {},
   "outputs": [],
   "source": []
  }
 ],
 "metadata": {
  "interpreter": {
   "hash": "a78d51e19256cfce1d39a2c3cba2e8056cac1355cb83723ad6d6938cbf3c5352"
  },
  "kernelspec": {
   "display_name": "Python 3 (ipykernel)",
   "language": "python",
   "name": "python3"
  },
  "language_info": {
   "codemirror_mode": {
    "name": "ipython",
    "version": 3
   },
   "file_extension": ".py",
   "mimetype": "text/x-python",
   "name": "python",
   "nbconvert_exporter": "python",
   "pygments_lexer": "ipython3",
   "version": "3.7.11"
  }
 },
 "nbformat": 4,
 "nbformat_minor": 2
}
