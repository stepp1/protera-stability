{
 "cells": [
  {
   "cell_type": "code",
   "execution_count": 1,
   "id": "c650a8c3",
   "metadata": {
    "ExecuteTime": {
     "end_time": "2021-09-03T18:16:11.253872Z",
     "start_time": "2021-09-03T18:16:10.141841Z"
    }
   },
   "outputs": [],
   "source": [
    "# changing in order to not reset paths\n",
    "%cd -q ../../project/parallel_synthesis/experiments\n",
    "\n",
    "from copy import copy\n",
    "from protera_stability.config.lazy import LazyCall as L\n",
    "from protera_stability.config.instantiate import instantiate\n",
    "from protera_stability.config.common.optim import Adam, AdamW, SGD"
   ]
  },
  {
   "cell_type": "code",
   "execution_count": 2,
   "id": "23ff3cd5",
   "metadata": {
    "ExecuteTime": {
     "end_time": "2021-09-03T18:16:11.256870Z",
     "start_time": "2021-09-03T18:16:11.254796Z"
    }
   },
   "outputs": [],
   "source": [
    "from protera_stability.config.common import mlp_esm"
   ]
  },
  {
   "cell_type": "markdown",
   "id": "7cf9f67c",
   "metadata": {},
   "source": [
    "## Base optimizers"
   ]
  },
  {
   "cell_type": "code",
   "execution_count": 4,
   "id": "71807e86",
   "metadata": {
    "ExecuteTime": {
     "end_time": "2021-09-03T18:16:17.619676Z",
     "start_time": "2021-09-03T18:16:17.603807Z"
    }
   },
   "outputs": [],
   "source": [
    "adam = copy(Adam)\n",
    "model = instantiate(mlp_esm)\n",
    "adam.params.model = model\n",
    "optim = instantiate(adam)"
   ]
  },
  {
   "cell_type": "code",
   "execution_count": 11,
   "id": "6c706132",
   "metadata": {
    "ExecuteTime": {
     "end_time": "2021-09-03T18:16:43.766896Z",
     "start_time": "2021-09-03T18:16:43.760295Z"
    }
   },
   "outputs": [
    {
     "data": {
      "text/plain": [
       "Parameter containing:\n",
       "tensor([[ 0.0194,  0.0091, -0.0241,  ...,  0.0177,  0.0169,  0.0245],\n",
       "        [-0.0027,  0.0119,  0.0034,  ...,  0.0191,  0.0264,  0.0105],\n",
       "        [-0.0176,  0.0035, -0.0072,  ..., -0.0001,  0.0007, -0.0182],\n",
       "        ...,\n",
       "        [-0.0176, -0.0086, -0.0093,  ...,  0.0204,  0.0079, -0.0016],\n",
       "        [ 0.0083,  0.0067,  0.0200,  ...,  0.0203,  0.0247,  0.0105],\n",
       "        [-0.0131,  0.0201, -0.0013,  ...,  0.0006, -0.0142, -0.0206]],\n",
       "       requires_grad=True)"
      ]
     },
     "execution_count": 11,
     "metadata": {},
     "output_type": "execute_result"
    }
   ],
   "source": [
    "list(optim.param_groups[0][\"params\"])[0]"
   ]
  },
  {
   "cell_type": "code",
   "execution_count": 7,
   "id": "94fbb889",
   "metadata": {
    "ExecuteTime": {
     "end_time": "2021-09-03T18:16:26.060894Z",
     "start_time": "2021-09-03T18:16:26.058660Z"
    }
   },
   "outputs": [],
   "source": [
    "import torch\n",
    "\n",
    "X = torch.randn((1, 1280))\n",
    "y = torch.Tensor([[0.5]])"
   ]
  },
  {
   "cell_type": "code",
   "execution_count": 10,
   "id": "6c2d3d9f",
   "metadata": {
    "ExecuteTime": {
     "end_time": "2021-09-03T18:16:41.873835Z",
     "start_time": "2021-09-03T18:16:41.870358Z"
    }
   },
   "outputs": [
    {
     "data": {
      "text/plain": [
       "Parameter containing:\n",
       "tensor([[ 0.0194,  0.0091, -0.0241,  ...,  0.0177,  0.0169,  0.0245],\n",
       "        [-0.0027,  0.0119,  0.0034,  ...,  0.0191,  0.0264,  0.0105],\n",
       "        [-0.0176,  0.0035, -0.0072,  ..., -0.0001,  0.0007, -0.0182],\n",
       "        ...,\n",
       "        [-0.0176, -0.0086, -0.0093,  ...,  0.0204,  0.0079, -0.0016],\n",
       "        [ 0.0083,  0.0067,  0.0200,  ...,  0.0203,  0.0247,  0.0105],\n",
       "        [-0.0131,  0.0201, -0.0013,  ...,  0.0006, -0.0142, -0.0206]],\n",
       "       requires_grad=True)"
      ]
     },
     "execution_count": 10,
     "metadata": {},
     "output_type": "execute_result"
    }
   ],
   "source": [
    "model.layers[0].weight"
   ]
  },
  {
   "cell_type": "code",
   "execution_count": 9,
   "id": "fad3d7da",
   "metadata": {
    "ExecuteTime": {
     "end_time": "2021-09-03T18:16:39.416317Z",
     "start_time": "2021-09-03T18:16:39.371759Z"
    }
   },
   "outputs": [
    {
     "name": "stdout",
     "output_type": "stream",
     "text": [
      "tensor([[-0.1304]], grad_fn=<AddmmBackward>)\n"
     ]
    }
   ],
   "source": [
    "criterion = torch.nn.MSELoss()\n",
    "y_hat = model(X)\n",
    "print(y_hat)\n",
    "loss = criterion(y_hat, y)\n",
    "loss.backward()\n",
    "optim.step()\n",
    "optim.zero_grad()"
   ]
  },
  {
   "cell_type": "code",
   "execution_count": 8,
   "id": "37f804aa",
   "metadata": {
    "ExecuteTime": {
     "end_time": "2021-09-03T17:47:07.645520Z",
     "start_time": "2021-09-03T17:47:07.641103Z"
    }
   },
   "outputs": [
    {
     "data": {
      "text/plain": [
       "tensor([[False]])"
      ]
     },
     "execution_count": 8,
     "metadata": {},
     "output_type": "execute_result"
    }
   ],
   "source": [
    "y_hat == model(X)"
   ]
  },
  {
   "cell_type": "code",
   "execution_count": 4,
   "id": "7ea76987",
   "metadata": {
    "ExecuteTime": {
     "end_time": "2021-09-03T15:11:17.345709Z",
     "start_time": "2021-09-03T15:11:17.333677Z"
    }
   },
   "outputs": [
    {
     "data": {
      "text/plain": [
       "AdamW (\n",
       "Parameter Group 0\n",
       "    amsgrad: False\n",
       "    betas: (0.9, 0.999)\n",
       "    eps: 1e-08\n",
       "    lr: 0.001\n",
       "    weight_decay: 0.01\n",
       ")"
      ]
     },
     "execution_count": 4,
     "metadata": {},
     "output_type": "execute_result"
    }
   ],
   "source": [
    "adamw = copy(AdamW)\n",
    "adamw.params.model = mlp_esm\n",
    "instantiate(adamw)"
   ]
  },
  {
   "cell_type": "code",
   "execution_count": 5,
   "id": "090a0d92",
   "metadata": {
    "ExecuteTime": {
     "end_time": "2021-09-03T15:11:17.359423Z",
     "start_time": "2021-09-03T15:11:17.346521Z"
    }
   },
   "outputs": [
    {
     "data": {
      "text/plain": [
       "SGD (\n",
       "Parameter Group 0\n",
       "    dampening: 0\n",
       "    lr: 0.02\n",
       "    momentum: 0.9\n",
       "    nesterov: False\n",
       "    weight_decay: 0.0001\n",
       ")"
      ]
     },
     "execution_count": 5,
     "metadata": {},
     "output_type": "execute_result"
    }
   ],
   "source": [
    "sgd = copy(SGD)\n",
    "sgd.params.model = mlp_esm\n",
    "instantiate(sgd)"
   ]
  },
  {
   "cell_type": "markdown",
   "id": "8259a275",
   "metadata": {},
   "source": [
    "## Base Schedulers"
   ]
  },
  {
   "cell_type": "code",
   "execution_count": 6,
   "id": "f39c3dfa",
   "metadata": {
    "ExecuteTime": {
     "end_time": "2021-09-03T15:11:17.362371Z",
     "start_time": "2021-09-03T15:11:17.360543Z"
    }
   },
   "outputs": [],
   "source": [
    "from protera_stability.config.common import StepLR, CosineLR"
   ]
  },
  {
   "cell_type": "code",
   "execution_count": 8,
   "id": "e81be31a",
   "metadata": {
    "ExecuteTime": {
     "end_time": "2021-09-03T15:11:28.165241Z",
     "start_time": "2021-09-03T15:11:28.152002Z"
    }
   },
   "outputs": [
    {
     "data": {
      "text/plain": [
       "<torch.optim.lr_scheduler.StepLR at 0x7f3ba9392210>"
      ]
     },
     "execution_count": 8,
     "metadata": {},
     "output_type": "execute_result"
    }
   ],
   "source": [
    "linear_sched = copy(StepLR)\n",
    "linear_sched.optimizer = sgd\n",
    "instantiate(linear_sched)"
   ]
  },
  {
   "cell_type": "code",
   "execution_count": 9,
   "id": "f11b391f",
   "metadata": {
    "ExecuteTime": {
     "end_time": "2021-09-03T15:11:29.032815Z",
     "start_time": "2021-09-03T15:11:29.020072Z"
    }
   },
   "outputs": [
    {
     "data": {
      "text/plain": [
       "<torch.optim.lr_scheduler.CosineAnnealingLR at 0x7f3d086b3690>"
      ]
     },
     "execution_count": 9,
     "metadata": {},
     "output_type": "execute_result"
    }
   ],
   "source": [
    "cosine_sched = copy(CosineLR)\n",
    "cosine_sched.optimizer = sgd\n",
    "instantiate(cosine_sched)"
   ]
  },
  {
   "cell_type": "code",
   "execution_count": null,
   "id": "769ff5b2",
   "metadata": {},
   "outputs": [],
   "source": []
  }
 ],
 "metadata": {
  "kernelspec": {
   "display_name": "Stability",
   "language": "python",
   "name": "stability"
  },
  "language_info": {
   "codemirror_mode": {
    "name": "ipython",
    "version": 3
   },
   "file_extension": ".py",
   "mimetype": "text/x-python",
   "name": "python",
   "nbconvert_exporter": "python",
   "pygments_lexer": "ipython3",
   "version": "3.7.11"
  }
 },
 "nbformat": 4,
 "nbformat_minor": 5
}
