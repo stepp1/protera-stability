{
 "cells": [
  {
   "cell_type": "code",
   "execution_count": 1,
   "source": [
    "import os\n",
    "\n",
    "if not \"experiments\" in os.getcwd():\n",
    "    %cd -q ../../project/parallel_synthesis/experiments"
   ],
   "outputs": [],
   "metadata": {
    "ExecuteTime": {
     "end_time": "2021-09-03T21:22:53.732763Z",
     "start_time": "2021-09-03T21:22:53.729352Z"
    }
   }
  },
  {
   "cell_type": "code",
   "execution_count": 2,
   "source": [
    "from copy import copy\n",
    "\n",
    "import torch\n",
    "from protera_stability.config.lazy import LazyCall as L\n",
    "from protera_stability.config.common.mlp import mlp_esm"
   ],
   "outputs": [],
   "metadata": {
    "ExecuteTime": {
     "end_time": "2021-09-03T21:22:54.867076Z",
     "start_time": "2021-09-03T21:22:53.734437Z"
    }
   }
  },
  {
   "cell_type": "code",
   "execution_count": 3,
   "source": [
    "from protera_stability.train import get_cfg, setup_diversity, setup_data, DefaultTrainer"
   ],
   "outputs": [],
   "metadata": {
    "ExecuteTime": {
     "end_time": "2021-09-03T21:22:54.870901Z",
     "start_time": "2021-09-03T21:22:54.868086Z"
    }
   }
  },
  {
   "cell_type": "markdown",
   "source": [
    "## Setup experiement, data and training cfg"
   ],
   "metadata": {}
  },
  {
   "cell_type": "code",
   "execution_count": 4,
   "source": [
    "exp_params = {\n",
    "    \"diversity_cutoff\": 0.866,\n",
    "    \"random_percent\": 0.15,\n",
    "    \"sampling_method\": \"diversity\",\n",
    "    \"experiment_name\": \"example\",\n",
    "}\n",
    "\n",
    "cfg = get_cfg(args={})\n",
    "cfg = setup_diversity(cfg, **exp_params)\n",
    "mlp_esm.n_units = 2048\n",
    "mlp_esm.act = L(torch.nn.GELU)()\n",
    "cfg.model = mlp_esm\n",
    "cfg.model"
   ],
   "outputs": [
    {
     "output_type": "execute_result",
     "data": {
      "text/plain": [
       "{'n_in': 1280, 'n_units': 2048, 'n_layers': 3, 'act': {'_target_': <class 'torch.nn.modules.activation.GELU'>}, 'drop_p': 0.7, 'last_drop': False, '_target_': <class 'protera_stability.models.ProteinMLP'>}"
      ]
     },
     "metadata": {},
     "execution_count": 4
    }
   ],
   "metadata": {
    "ExecuteTime": {
     "end_time": "2021-09-03T21:23:52.809259Z",
     "start_time": "2021-09-03T21:23:52.800893Z"
    },
    "scrolled": false
   }
  },
  {
   "cell_type": "code",
   "execution_count": 5,
   "source": [
    "cfg = setup_data(cfg)"
   ],
   "outputs": [],
   "metadata": {
    "ExecuteTime": {
     "end_time": "2021-09-03T21:23:56.429851Z",
     "start_time": "2021-09-03T21:23:55.349207Z"
    }
   }
  },
  {
   "cell_type": "code",
   "execution_count": 6,
   "source": [
    "cfg.keys()"
   ],
   "outputs": [
    {
     "output_type": "execute_result",
     "data": {
      "text/plain": [
       "dict_keys(['trainer_params', 'output_dir', 'random_split', 'experiment', 'model', 'dataloader'])"
      ]
     },
     "metadata": {},
     "execution_count": 6
    }
   ],
   "metadata": {
    "ExecuteTime": {
     "end_time": "2021-09-03T21:23:56.434214Z",
     "start_time": "2021-09-03T21:23:56.431174Z"
    }
   }
  },
  {
   "cell_type": "markdown",
   "source": [
    "## Run Training"
   ],
   "metadata": {}
  },
  {
   "cell_type": "markdown",
   "source": [
    "### Add specific callbacks"
   ],
   "metadata": {}
  },
  {
   "cell_type": "code",
   "execution_count": 7,
   "source": [
    "from pytorch_lightning.callbacks.early_stopping import EarlyStopping\n",
    "\n",
    "stop_r2_reached = L(EarlyStopping)(\n",
    "    monitor=\"valid/r2\",\n",
    "    patience=1,\n",
    "    check_on_train_epoch_end=False,\n",
    "    stopping_threshold=0.72,\n",
    "    mode=\"max\",\n",
    ")\n",
    "cfg.trainer_params[\"callbacks\"] = [stop_r2_reached]"
   ],
   "outputs": [],
   "metadata": {
    "ExecuteTime": {
     "end_time": "2021-09-03T21:23:56.634773Z",
     "start_time": "2021-09-03T21:23:56.614292Z"
    }
   }
  },
  {
   "cell_type": "markdown",
   "source": [
    "### Build Trainer, Model, Optimizer, Scheduler and Lightning Modules"
   ],
   "metadata": {}
  },
  {
   "cell_type": "code",
   "execution_count": 8,
   "source": [
    "from protera_stability.engine.default import DefaultTrainer\n",
    "\n",
    "trainer = DefaultTrainer(cfg)\n",
    "train_dl = trainer.data_module.train_dataloader()\n",
    "print(f\"=== USING {cfg.experiment.sampling_method} as Sampling Method ===\")\n",
    "print(f\"=== USING {len(train_dl.sampler)} out of {len(train_dl.dataset)} samples ===\")\n",
    "\n",
    "if cfg.experiment.sampling_method == \"diversity\":\n",
    "    print(f\"=== SIZE WAS DETERMINED BY {train_dl.sampler.stopped_by} ===\")\n",
    "\n",
    "elif cfg.experiment.sampling_method == \"random\":\n",
    "    print(\n",
    "        f\"=== SIZE WAS DETERMINED BY RANDOM PERCENT OF {cfg.experiment.random_percent} ===\"\n",
    "    )"
   ],
   "outputs": [
    {
     "output_type": "stream",
     "name": "stderr",
     "text": [
      "/home/roberto/anaconda3/envs/protera-stability/lib/python3.9/site-packages/pytorch_lightning/callbacks/model_checkpoint.py:446: UserWarning: Checkpoint directory logs/example_all-data/models exists and is not empty.\n",
      "  rank_zero_warn(f\"Checkpoint directory {dirpath} exists and is not empty.\")\n",
      "GPU available: True, used: True\n",
      "TPU available: False, using: 0 TPU cores\n",
      "IPU available: False, using: 0 IPUs\n",
      "/home/roberto/anaconda3/envs/protera-stability/lib/python3.9/site-packages/pytorch_lightning/utilities/seed.py:57: UserWarning: No correct seed found, seed set to 4059305300\n",
      "  rank_zero_warn(f\"No correct seed found, seed set to {seed}\")\n",
      "Global seed set to 4059305300\n"
     ]
    },
    {
     "output_type": "stream",
     "name": "stdout",
     "text": [
      "=== USING diversity as Sampling Method ===\n",
      "=== USING 6123 out of 8204 samples ===\n",
      "=== SIZE WAS DETERMINED BY CUTOFF ===\n"
     ]
    }
   ],
   "metadata": {
    "ExecuteTime": {
     "end_time": "2021-09-03T21:23:58.266787Z",
     "start_time": "2021-09-03T21:23:57.700954Z"
    }
   }
  },
  {
   "cell_type": "code",
   "execution_count": 9,
   "source": [
    "cfg[\"experiment\"]"
   ],
   "outputs": [
    {
     "output_type": "execute_result",
     "data": {
      "text/plain": [
       "{'sampling_method': 'diversity', 'diversity_cutoff': 0.866, 'random_percent': 0.15, 'random_split': 0.8, 'name': 'example_all-data'}"
      ]
     },
     "metadata": {},
     "execution_count": 9
    }
   ],
   "metadata": {
    "ExecuteTime": {
     "end_time": "2021-09-03T21:24:00.881573Z",
     "start_time": "2021-09-03T21:24:00.877254Z"
    }
   }
  },
  {
   "cell_type": "code",
   "execution_count": 10,
   "source": [
    "trainer.fit()"
   ],
   "outputs": [
    {
     "output_type": "stream",
     "name": "stderr",
     "text": [
      "LOCAL_RANK: 0 - CUDA_VISIBLE_DEVICES: [0,1]\n",
      "\n",
      "  | Name     | Type       | Params\n",
      "----------------------------------------\n",
      "0 | model    | ProteinMLP | 4.7 M \n",
      "1 | train_r2 | R2Score    | 0     \n",
      "2 | valid_r2 | R2Score    | 0     \n",
      "3 | test_r2  | R2Score    | 0     \n",
      "----------------------------------------\n",
      "4.7 M     Trainable params\n",
      "0         Non-trainable params\n",
      "4.7 M     Total params\n",
      "18.891    Total estimated model params size (MB)\n"
     ]
    },
    {
     "output_type": "stream",
     "name": "stdout",
     "text": [
      "                                                                      "
     ]
    },
    {
     "output_type": "stream",
     "name": "stderr",
     "text": [
      "Global seed set to 4059305300\n"
     ]
    },
    {
     "output_type": "stream",
     "name": "stdout",
     "text": []
    },
    {
     "output_type": "stream",
     "name": "stderr",
     "text": [
      "Global seed set to 4059305300\n"
     ]
    },
    {
     "output_type": "stream",
     "name": "stdout",
     "text": [
      "Epoch 11: 100%|██████████| 28/28 [00:01<00:00, 19.35it/s, loss=0.245, v_num=48, train/r2=0.727, train/loss=0.254, valid/r2=0.725, valid/loss=0.289]\n"
     ]
    },
    {
     "output_type": "execute_result",
     "data": {
      "text/plain": [
       "<protera_stability.trainer.default.DefaultTrainer at 0x7fac86fba760>"
      ]
     },
     "metadata": {},
     "execution_count": 10
    }
   ],
   "metadata": {
    "ExecuteTime": {
     "end_time": "2021-09-03T21:24:30.394463Z",
     "start_time": "2021-09-03T21:24:01.263866Z"
    },
    "scrolled": false
   }
  },
  {
   "cell_type": "markdown",
   "source": [
    "### Run as fn"
   ],
   "metadata": {}
  },
  {
   "cell_type": "code",
   "execution_count": 11,
   "source": [
    "# cfg, trainer_dict = do_train(cfg)"
   ],
   "outputs": [],
   "metadata": {
    "ExecuteTime": {
     "end_time": "2021-09-03T21:23:27.942515Z",
     "start_time": "2021-09-03T21:23:27.940785Z"
    }
   }
  },
  {
   "cell_type": "code",
   "execution_count": 12,
   "source": [
    "# cfg, trainer_dict = do_test(cfg, trainer_dict)"
   ],
   "outputs": [],
   "metadata": {
    "ExecuteTime": {
     "end_time": "2021-09-03T21:23:27.945082Z",
     "start_time": "2021-09-03T21:23:27.943440Z"
    },
    "scrolled": true
   }
  },
  {
   "cell_type": "code",
   "execution_count": null,
   "source": [],
   "outputs": [],
   "metadata": {}
  }
 ],
 "metadata": {
  "kernelspec": {
   "name": "python3",
   "display_name": "Python 3.9.7 64-bit ('protera-stability': conda)"
  },
  "language_info": {
   "codemirror_mode": {
    "name": "ipython",
    "version": 3
   },
   "file_extension": ".py",
   "mimetype": "text/x-python",
   "name": "python",
   "nbconvert_exporter": "python",
   "pygments_lexer": "ipython3",
   "version": "3.9.7"
  },
  "interpreter": {
   "hash": "a78d51e19256cfce1d39a2c3cba2e8056cac1355cb83723ad6d6938cbf3c5352"
  }
 },
 "nbformat": 4,
 "nbformat_minor": 5
}