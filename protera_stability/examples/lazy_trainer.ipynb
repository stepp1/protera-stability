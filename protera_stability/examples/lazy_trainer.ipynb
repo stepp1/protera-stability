{
 "cells": [
  {
   "cell_type": "code",
   "execution_count": 1,
   "id": "307a947f",
   "metadata": {
    "ExecuteTime": {
     "end_time": "2021-09-03T21:22:53.732763Z",
     "start_time": "2021-09-03T21:22:53.729352Z"
    }
   },
   "outputs": [],
   "source": [
    "import os\n",
    "if not \"experiments\" in os.getcwd():\n",
    "    %cd -q ../../project/parallel_synthesis/experiments "
   ]
  },
  {
   "cell_type": "code",
   "execution_count": 2,
   "id": "7d5895d8",
   "metadata": {
    "ExecuteTime": {
     "end_time": "2021-09-03T21:22:54.867076Z",
     "start_time": "2021-09-03T21:22:53.734437Z"
    }
   },
   "outputs": [],
   "source": [
    "from copy import copy\n",
    "\n",
    "import torch\n",
    "from protera_stability.config.lazy import LazyCall as L\n",
    "from protera_stability.config.instantiate import instantiate\n",
    "from protera_stability.config.common.mlp import mlp_esm"
   ]
  },
  {
   "cell_type": "code",
   "execution_count": 3,
   "id": "d033cd2b",
   "metadata": {
    "ExecuteTime": {
     "end_time": "2021-09-03T21:22:54.870901Z",
     "start_time": "2021-09-03T21:22:54.868086Z"
    }
   },
   "outputs": [],
   "source": [
    "from protera_stability.train import get_cfg, setup_diversity, setup_data, setup_train"
   ]
  },
  {
   "cell_type": "markdown",
   "id": "11afd798",
   "metadata": {},
   "source": [
    "## Setup experiement, data and training cfg"
   ]
  },
  {
   "cell_type": "code",
   "execution_count": 4,
   "id": "3651a5e7",
   "metadata": {
    "ExecuteTime": {
     "end_time": "2021-09-03T21:22:54.880884Z",
     "start_time": "2021-09-03T21:22:54.871654Z"
    },
    "scrolled": false
   },
   "outputs": [
    {
     "data": {
      "text/plain": [
       "{'n_in': 1280, 'n_units': 2048, 'n_layers': 3, 'act': {'_target_': <class 'torch.nn.modules.activation.GELU'>}, 'drop_p': 0.7, 'last_drop': False, '_target_': <class 'protera_stability.models.ProteinMLP'>}"
      ]
     },
     "execution_count": 4,
     "metadata": {},
     "output_type": "execute_result"
    }
   ],
   "source": [
    "exp_params = {\n",
    "    \"diversity_cutoff\": 0.8, \n",
    "    \"random_percent\": 0.15,\n",
    "    \"sampling_method\": \"diversity\",\n",
    "    \"experiment_name\": \"example\"\n",
    "}\n",
    "\n",
    "cfg = get_cfg(args = {})\n",
    "cfg = setup_diversity(cfg, **exp_params)\n",
    "mlp_esm.n_units = 2048\n",
    "mlp_esm.act = L(torch.nn.GELU)()\n",
    "cfg.model = mlp_esm\n",
    "cfg.model"
   ]
  },
  {
   "cell_type": "code",
   "execution_count": 5,
   "id": "00f934cc",
   "metadata": {
    "ExecuteTime": {
     "end_time": "2021-09-03T21:22:55.935962Z",
     "start_time": "2021-09-03T21:22:54.881657Z"
    }
   },
   "outputs": [],
   "source": [
    "cfg = setup_data(cfg)\n",
    "cfg = setup_train(cfg)"
   ]
  },
  {
   "cell_type": "code",
   "execution_count": 6,
   "id": "b0a1a827",
   "metadata": {
    "ExecuteTime": {
     "end_time": "2021-09-03T21:22:55.939391Z",
     "start_time": "2021-09-03T21:22:55.937198Z"
    }
   },
   "outputs": [
    {
     "data": {
      "text/plain": [
       "dict_keys(['trainer_params', 'output_dir', 'random_split', 'experiment', 'model', 'dataloader', 'optim', 'scheduler'])"
      ]
     },
     "execution_count": 6,
     "metadata": {},
     "output_type": "execute_result"
    }
   ],
   "source": [
    "cfg.keys()"
   ]
  },
  {
   "cell_type": "code",
   "execution_count": 7,
   "id": "46b23a1a",
   "metadata": {
    "ExecuteTime": {
     "end_time": "2021-09-03T21:22:55.941906Z",
     "start_time": "2021-09-03T21:22:55.940190Z"
    }
   },
   "outputs": [],
   "source": [
    "from protera_stability.train import do_train, do_test "
   ]
  },
  {
   "cell_type": "markdown",
   "id": "84e8269a",
   "metadata": {},
   "source": [
    "## Run Training"
   ]
  },
  {
   "cell_type": "markdown",
   "id": "d5e29483",
   "metadata": {},
   "source": [
    "### Add specific callbacks"
   ]
  },
  {
   "cell_type": "code",
   "execution_count": 8,
   "id": "4db9edda",
   "metadata": {
    "ExecuteTime": {
     "end_time": "2021-09-03T21:22:55.946565Z",
     "start_time": "2021-09-03T21:22:55.942709Z"
    }
   },
   "outputs": [],
   "source": [
    "from pytorch_lightning.callbacks.early_stopping import EarlyStopping\n",
    "\n",
    "stop_r2_reached = L(EarlyStopping)(\n",
    "        monitor=\"valid/r2\",\n",
    "        patience=1,\n",
    "        check_on_train_epoch_end=False,\n",
    "        stopping_threshold=0.72,\n",
    "        mode=\"max\",\n",
    "    )\n",
    "cbs = cfg.trainer_params[\"callbacks\"]\n",
    "cbs += [stop_r2_reached]\n",
    "cfg.trainer_params[\"callbacks\"] = cbs"
   ]
  },
  {
   "cell_type": "markdown",
   "id": "21583b27",
   "metadata": {},
   "source": [
    "### Build Trainer, Model, Optimizer, Scheduler and Lightning Modules"
   ]
  },
  {
   "cell_type": "code",
   "execution_count": 9,
   "id": "ec6c00c3",
   "metadata": {
    "ExecuteTime": {
     "end_time": "2021-09-03T21:22:56.666695Z",
     "start_time": "2021-09-03T21:22:55.947468Z"
    }
   },
   "outputs": [
    {
     "name": "stderr",
     "output_type": "stream",
     "text": [
      "/home/roberto/anaconda3/envs/protera-stability/lib/python3.7/site-packages/pytorch_lightning/callbacks/model_checkpoint.py:446: UserWarning: Checkpoint directory logs/example_all-data/models exists and is not empty.\n",
      "  rank_zero_warn(f\"Checkpoint directory {dirpath} exists and is not empty.\")\n",
      "GPU available: True, used: True\n",
      "TPU available: False, using: 0 TPU cores\n",
      "IPU available: False, using: 0 IPUs\n"
     ]
    },
    {
     "name": "stdout",
     "output_type": "stream",
     "text": [
      "Building trainer\n",
      "Building models\n",
      "Building optimizers\n",
      "Building schedulers\n",
      "Building modules\n"
     ]
    },
    {
     "name": "stderr",
     "output_type": "stream",
     "text": [
      "/home/roberto/anaconda3/envs/protera-stability/lib/python3.7/site-packages/pytorch_lightning/utilities/seed.py:57: UserWarning: No correct seed found, seed set to 1455664959\n",
      "  rank_zero_warn(f\"No correct seed found, seed set to {seed}\")\n",
      "Global seed set to 1455664959\n"
     ]
    },
    {
     "name": "stdout",
     "output_type": "stream",
     "text": [
      "=== USING diversity as Sampling Method ===\n",
      "=== USING 6135 out of 8204 samples ===\n",
      "=== SIZE WAS DETERMINED BY CUTOFF ===\n"
     ]
    }
   ],
   "source": [
    "from pytorch_lightning import Trainer\n",
    "from protera_stability.trainer.lightning_train import DataModule, TrainingLit\n",
    "\n",
    "# build trainer\n",
    "print(\"Building trainer\")\n",
    "trainer_params = {k : instantiate(v) for k, v in cfg.trainer_params.items()}\n",
    "trainer = Trainer(**trainer_params)\n",
    "\n",
    "# build model\n",
    "print(\"Building models\")\n",
    "model = instantiate(cfg.model)\n",
    "\n",
    "# build optim\n",
    "print(\"Building optimizers\")\n",
    "cfg.optim.params.model = model\n",
    "optimizer = instantiate(cfg.optim)\n",
    "\n",
    "# build scheduler\n",
    "print(\"Building schedulers\")\n",
    "cfg.scheduler.optimizer = optimizer\n",
    "scheduler = instantiate(cfg.scheduler)\n",
    "schedulers = [{\"scheduler\": scheduler, \"interval\": \"epoch\"}]\n",
    "\n",
    "# build modules\n",
    "print(\"Building modules\")\n",
    "module = TrainingLit(cfg, model=model, optimizer=optimizer, schedulers=schedulers)\n",
    "data_module = DataModule(cfg)\n",
    "\n",
    "train_dl = data_module.train_dataloader()\n",
    "print(f\"=== USING {cfg.experiment.sampling_method} as Sampling Method ===\")\n",
    "print(f\"=== USING {len(train_dl.sampler)} out of {len(train_dl.dataset)} samples ===\")\n",
    "\n",
    "if cfg.experiment.sampling_method == \"diversity\":\n",
    "    print(f\"=== SIZE WAS DETERMINED BY {train_dl.sampler.stopped_by} ===\")\n",
    "\n",
    "elif cfg.experiment.sampling_method == \"random\":\n",
    "    print(f\"=== SIZE WAS DETERMINED BY RANDOM PERCENT OF {cfg.experiment.random_percent} ===\")"
   ]
  },
  {
   "cell_type": "code",
   "execution_count": 10,
   "id": "c12e1d33",
   "metadata": {
    "ExecuteTime": {
     "end_time": "2021-09-03T21:22:56.672304Z",
     "start_time": "2021-09-03T21:22:56.667521Z"
    }
   },
   "outputs": [
    {
     "data": {
      "text/plain": [
       "{'sampling_method': 'diversity', 'diversity_cutoff': 0.8, 'random_percent': 0.15, 'random_split': 0.8, 'name': 'example_all-data'}"
      ]
     },
     "execution_count": 10,
     "metadata": {},
     "output_type": "execute_result"
    }
   ],
   "source": [
    "cfg[\"experiment\"]"
   ]
  },
  {
   "cell_type": "code",
   "execution_count": null,
   "id": "8a46e180",
   "metadata": {
    "ExecuteTime": {
     "start_time": "2021-09-03T21:22:53.744Z"
    },
    "scrolled": false
   },
   "outputs": [
    {
     "name": "stderr",
     "output_type": "stream",
     "text": [
      "LOCAL_RANK: 0 - CUDA_VISIBLE_DEVICES: [0,1]\n",
      "\n",
      "  | Name     | Type       | Params\n",
      "----------------------------------------\n",
      "0 | model    | ProteinMLP | 4.7 M \n",
      "1 | train_r2 | R2Score    | 0     \n",
      "2 | valid_r2 | R2Score    | 0     \n",
      "3 | test_r2  | R2Score    | 0     \n",
      "----------------------------------------\n",
      "4.7 M     Trainable params\n",
      "0         Non-trainable params\n",
      "4.7 M     Total params\n",
      "18.891    Total estimated model params size (MB)\n"
     ]
    },
    {
     "data": {
      "application/vnd.jupyter.widget-view+json": {
       "model_id": "",
       "version_major": 2,
       "version_minor": 0
      },
      "text/plain": [
       "Validation sanity check: 0it [00:00, ?it/s]"
      ]
     },
     "metadata": {},
     "output_type": "display_data"
    },
    {
     "name": "stderr",
     "output_type": "stream",
     "text": [
      "Global seed set to 1455664959\n",
      "Global seed set to 1455664959\n"
     ]
    },
    {
     "data": {
      "application/vnd.jupyter.widget-view+json": {
       "model_id": "faf33756497341549fc26e62856c2054",
       "version_major": 2,
       "version_minor": 0
      },
      "text/plain": [
       "Training: -1it [00:00, ?it/s]"
      ]
     },
     "metadata": {},
     "output_type": "display_data"
    },
    {
     "data": {
      "application/vnd.jupyter.widget-view+json": {
       "model_id": "",
       "version_major": 2,
       "version_minor": 0
      },
      "text/plain": [
       "Validating: 0it [00:00, ?it/s]"
      ]
     },
     "metadata": {},
     "output_type": "display_data"
    },
    {
     "data": {
      "application/vnd.jupyter.widget-view+json": {
       "model_id": "",
       "version_major": 2,
       "version_minor": 0
      },
      "text/plain": [
       "Validating: 0it [00:00, ?it/s]"
      ]
     },
     "metadata": {},
     "output_type": "display_data"
    },
    {
     "data": {
      "application/vnd.jupyter.widget-view+json": {
       "model_id": "",
       "version_major": 2,
       "version_minor": 0
      },
      "text/plain": [
       "Validating: 0it [00:00, ?it/s]"
      ]
     },
     "metadata": {},
     "output_type": "display_data"
    },
    {
     "data": {
      "application/vnd.jupyter.widget-view+json": {
       "model_id": "",
       "version_major": 2,
       "version_minor": 0
      },
      "text/plain": [
       "Validating: 0it [00:00, ?it/s]"
      ]
     },
     "metadata": {},
     "output_type": "display_data"
    },
    {
     "data": {
      "application/vnd.jupyter.widget-view+json": {
       "model_id": "",
       "version_major": 2,
       "version_minor": 0
      },
      "text/plain": [
       "Validating: 0it [00:00, ?it/s]"
      ]
     },
     "metadata": {},
     "output_type": "display_data"
    },
    {
     "data": {
      "application/vnd.jupyter.widget-view+json": {
       "model_id": "",
       "version_major": 2,
       "version_minor": 0
      },
      "text/plain": [
       "Validating: 0it [00:00, ?it/s]"
      ]
     },
     "metadata": {},
     "output_type": "display_data"
    }
   ],
   "source": [
    "trainer.fit(module, data_module)"
   ]
  },
  {
   "cell_type": "markdown",
   "id": "91d8b31d",
   "metadata": {},
   "source": [
    "### Run as fn"
   ]
  },
  {
   "cell_type": "code",
   "execution_count": null,
   "id": "ca2cef88",
   "metadata": {
    "ExecuteTime": {
     "start_time": "2021-09-03T21:22:53.747Z"
    }
   },
   "outputs": [],
   "source": [
    "#cfg, trainer_dict = do_train(cfg)"
   ]
  },
  {
   "cell_type": "code",
   "execution_count": null,
   "id": "da116c48",
   "metadata": {
    "ExecuteTime": {
     "start_time": "2021-09-03T21:22:53.748Z"
    },
    "scrolled": true
   },
   "outputs": [],
   "source": [
    "#cfg, trainer_dict = do_test(cfg, trainer_dict)"
   ]
  },
  {
   "cell_type": "code",
   "execution_count": null,
   "id": "aa5d9c23",
   "metadata": {
    "ExecuteTime": {
     "start_time": "2021-09-03T21:22:53.749Z"
    }
   },
   "outputs": [],
   "source": [
    "2048*2"
   ]
  },
  {
   "cell_type": "code",
   "execution_count": null,
   "id": "2e9448b9",
   "metadata": {},
   "outputs": [],
   "source": []
  }
 ],
 "metadata": {
  "kernelspec": {
   "display_name": "Stability",
   "language": "python",
   "name": "stability"
  },
  "language_info": {
   "codemirror_mode": {
    "name": "ipython",
    "version": 3
   },
   "file_extension": ".py",
   "mimetype": "text/x-python",
   "name": "python",
   "nbconvert_exporter": "python",
   "pygments_lexer": "ipython3",
   "version": "3.7.11"
  }
 },
 "nbformat": 4,
 "nbformat_minor": 5
}
