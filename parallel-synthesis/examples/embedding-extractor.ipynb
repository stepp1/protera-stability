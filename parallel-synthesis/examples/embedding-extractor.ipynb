{
 "cells": [
  {
   "cell_type": "code",
   "execution_count": 1,
   "metadata": {
    "ExecuteTime": {
     "end_time": "2021-08-20T16:35:54.167066Z",
     "start_time": "2021-08-20T16:35:53.639767Z"
    },
    "collapsed": true
   },
   "outputs": [],
   "source": [
    "from proteins import EmbeddingProtein1D"
   ]
  },
  {
   "cell_type": "code",
   "execution_count": 2,
   "metadata": {
    "ExecuteTime": {
     "end_time": "2021-08-20T16:35:54.298393Z",
     "start_time": "2021-08-20T16:35:54.168242Z"
    },
    "collapsed": true
   },
   "outputs": [],
   "source": [
    "from utils import open_func \n",
    "from pathlib import Path\n",
    "\n",
    "# solo este notebook ya que corre desde una subcarpeta\n",
    "import sys; sys.path.append(\"..\") \n",
    "\n",
    "data_path = Path(\"data\")"
   ]
  },
  {
   "cell_type": "markdown",
   "metadata": {},
   "source": [
    "> * `open_func` deberia ser una funcion que:\n",
    ">    1. reciba `data_path`\n",
    ">    2. reciba el *prefijo* de tus archivos `.csv`\n",
    ">        e.g. `data/stability_train.csv`, `data/<prefijo>_<kind>.csv`\n",
    ">    3. Devuelva un dict que tenga como llaves los `<kind>` y como valores los `.csv` en pd.DataFrame.\n",
    "\n",
    ">    Los `.csv` deben contener las columnas `labels` y `sequences`.\n",
    "\n",
    "\n",
    "\n",
    "> * `data_path` debe ser Path y un directorio que contenga tus `.csv`"
   ]
  },
  {
   "cell_type": "code",
   "execution_count": 3,
   "metadata": {
    "ExecuteTime": {
     "end_time": "2021-08-20T16:35:54.317473Z",
     "start_time": "2021-08-20T16:35:54.299391Z"
    }
   },
   "outputs": [
    {
     "data": {
      "text/html": [
       "<div>\n",
       "<style scoped>\n",
       "    .dataframe tbody tr th:only-of-type {\n",
       "        vertical-align: middle;\n",
       "    }\n",
       "\n",
       "    .dataframe tbody tr th {\n",
       "        vertical-align: top;\n",
       "    }\n",
       "\n",
       "    .dataframe thead th {\n",
       "        text-align: right;\n",
       "    }\n",
       "</style>\n",
       "<table border=\"1\" class=\"dataframe\">\n",
       "  <thead>\n",
       "    <tr style=\"text-align: right;\">\n",
       "      <th></th>\n",
       "      <th>labels</th>\n",
       "      <th>sequence</th>\n",
       "    </tr>\n",
       "  </thead>\n",
       "  <tbody>\n",
       "    <tr>\n",
       "      <th>0</th>\n",
       "      <td>0.37</td>\n",
       "      <td>GSSQETIEVEDEEEARRVAKELRKKGYEVKDERRGNKWHVHRT</td>\n",
       "    </tr>\n",
       "    <tr>\n",
       "      <th>1</th>\n",
       "      <td>0.62</td>\n",
       "      <td>TLDEARELVERAKKEGTGMDVNGQRFEDWREAERWVREQEKNK</td>\n",
       "    </tr>\n",
       "    <tr>\n",
       "      <th>2</th>\n",
       "      <td>-0.03</td>\n",
       "      <td>TELKKKLEEALKKGEEVRVKFNGIEIRNTSEDAARKAVELLEK</td>\n",
       "    </tr>\n",
       "    <tr>\n",
       "      <th>3</th>\n",
       "      <td>1.41</td>\n",
       "      <td>GSSQETIEVEDEEEARRVAKELRKTGYEVKIERRGNKWHVHRT</td>\n",
       "    </tr>\n",
       "    <tr>\n",
       "      <th>4</th>\n",
       "      <td>1.11</td>\n",
       "      <td>TTIHVGDLTLKYDNPKKAYEIAKKLAKKYNLQVTIKNGKITVT</td>\n",
       "    </tr>\n",
       "    <tr>\n",
       "      <th>...</th>\n",
       "      <td>...</td>\n",
       "      <td>...</td>\n",
       "    </tr>\n",
       "    <tr>\n",
       "      <th>7705</th>\n",
       "      <td>0.80</td>\n",
       "      <td>GSSKTQYEYDTKEEHQKAYEKFKKQGIPVTITQKNGKWFVQVE</td>\n",
       "    </tr>\n",
       "    <tr>\n",
       "      <th>7706</th>\n",
       "      <td>0.82</td>\n",
       "      <td>TIDEIIKALEQAVKDNKPIQVGNYTVTSADEAEKLAKKLKKPY</td>\n",
       "    </tr>\n",
       "    <tr>\n",
       "      <th>7707</th>\n",
       "      <td>0.66</td>\n",
       "      <td>TQDEIIKALEQAVKDNKPIQVGNYTVTSADEAEKLAKKLKKEY</td>\n",
       "    </tr>\n",
       "    <tr>\n",
       "      <th>7708</th>\n",
       "      <td>1.05</td>\n",
       "      <td>TTIKVNGQEYTVPLSPEQAAKAAKKRWPDYEVQIHGNTVWVTR</td>\n",
       "    </tr>\n",
       "    <tr>\n",
       "      <th>7709</th>\n",
       "      <td>1.69</td>\n",
       "      <td>GSSTTWYRFTDEEEARRAAKEWARRGYQVHVTQNGTYWEVEVR</td>\n",
       "    </tr>\n",
       "  </tbody>\n",
       "</table>\n",
       "<p>7710 rows × 2 columns</p>\n",
       "</div>"
      ],
      "text/plain": [
       "      labels                                     sequence\n",
       "0       0.37  GSSQETIEVEDEEEARRVAKELRKKGYEVKDERRGNKWHVHRT\n",
       "1       0.62  TLDEARELVERAKKEGTGMDVNGQRFEDWREAERWVREQEKNK\n",
       "2      -0.03  TELKKKLEEALKKGEEVRVKFNGIEIRNTSEDAARKAVELLEK\n",
       "3       1.41  GSSQETIEVEDEEEARRVAKELRKTGYEVKIERRGNKWHVHRT\n",
       "4       1.11  TTIHVGDLTLKYDNPKKAYEIAKKLAKKYNLQVTIKNGKITVT\n",
       "...      ...                                          ...\n",
       "7705    0.80  GSSKTQYEYDTKEEHQKAYEKFKKQGIPVTITQKNGKWFVQVE\n",
       "7706    0.82  TIDEIIKALEQAVKDNKPIQVGNYTVTSADEAEKLAKKLKKPY\n",
       "7707    0.66  TQDEIIKALEQAVKDNKPIQVGNYTVTSADEAEKLAKKLKKEY\n",
       "7708    1.05  TTIKVNGQEYTVPLSPEQAAKAAKKRWPDYEVQIHGNTVWVTR\n",
       "7709    1.69  GSSTTWYRFTDEEEARRAAKEWARRGYQVHVTQNGTYWEVEVR\n",
       "\n",
       "[7710 rows x 2 columns]"
      ]
     },
     "execution_count": 3,
     "metadata": {},
     "output_type": "execute_result"
    }
   ],
   "source": [
    "open_func(Path(\"data\"), \"stability\")[\"train\"]"
   ]
  },
  {
   "cell_type": "code",
   "execution_count": 10,
   "metadata": {
    "ExecuteTime": {
     "end_time": "2021-08-20T16:40:47.873924Z",
     "start_time": "2021-08-20T16:39:53.304497Z"
    }
   },
   "outputs": [
    {
     "name": "stderr",
     "output_type": "stream",
     "text": [
      "Using cache found in /home/roberto/.cache/torch/hub/facebookresearch_esm_master\n",
      "100%|██████████| 31/31 [00:48<00:00,  1.56s/it]"
     ]
    },
    {
     "name": "stdout",
     "output_type": "stream",
     "text": [
      "Embeddings saved to data/stability_embeddings_train.pkl\n"
     ]
    },
    {
     "name": "stderr",
     "output_type": "stream",
     "text": [
      "\n"
     ]
    }
   ],
   "source": [
    "args_dict = {\n",
    "    \"model_name\": \"esm1b_t33_650M_UR50S\",\n",
    "    \"open_func\": open_func,\n",
    "    \"data_path\": data_path,\n",
    "    \"gpu\": True,\n",
    "}\n",
    "\n",
    "emb_stabilty = EmbeddingProtein1D(**args_dict)\n",
    "\n",
    "#_ = emb_stabilty.generate_embeddings(\"stability\", kind=\"test\", save=False, bs=256)\n",
    "embeddings = emb_stabilty.generate_embeddings(\n",
    "    \"stability\", \n",
    "    kind=\"train\",\n",
    "    save=True, # guardarlo en data_path/stability_train.pkl\n",
    "    bs=256\n",
    ")"
   ]
  },
  {
   "cell_type": "code",
   "execution_count": 11,
   "metadata": {
    "ExecuteTime": {
     "end_time": "2021-08-20T16:41:40.026720Z",
     "start_time": "2021-08-20T16:41:39.958425Z"
    },
    "collapsed": true
   },
   "outputs": [],
   "source": [
    "dset = emb_stabilty.generate_datasets(\n",
    "    'stability',\n",
    "    kind=\"train\",\n",
    "    load_embeddings=True # cargar los embeddings desde donde se espera que esten\n",
    ")"
   ]
  },
  {
   "cell_type": "code",
   "execution_count": 15,
   "metadata": {
    "ExecuteTime": {
     "end_time": "2021-08-20T16:42:04.337189Z",
     "start_time": "2021-08-20T16:42:04.327876Z"
    }
   },
   "outputs": [
    {
     "data": {
      "text/plain": [
       "(array([ 0.37,  0.62, -0.03,  1.41,  1.11,  1.24,  1.05,  0.89,  0.88,\n",
       "         1.15]),\n",
       " array([b'GSSQETIEVEDEEEARRVAKELRKKGYEVKDERRGNKWHVHRT',\n",
       "        b'TLDEARELVERAKKEGTGMDVNGQRFEDWREAERWVREQEKNK',\n",
       "        b'TELKKKLEEALKKGEEVRVKFNGIEIRNTSEDAARKAVELLEK',\n",
       "        b'GSSQETIEVEDEEEARRVAKELRKTGYEVKIERRGNKWHVHRT',\n",
       "        b'TTIHVGDLTLKYDNPKKAYEIAKKLAKKYNLQVTIKNGKITVT',\n",
       "        b'SKDEAQREAERAIRSGNKEEARRILEEVGYSPEQAERIIRKLG',\n",
       "        b'TIDEIIKALEQAVKDGKPIQVGNYTVTSADEAEKLAKKLKKEY',\n",
       "        b'FEIPDDVPLPAGWEMARTSSGQRYFKNHIDQTTTWQDPRKAMLSQM',\n",
       "        b'TTIHVGDLTLKYDNPKKAYEIAKKLDKKYNLTVTIKNGKITVT',\n",
       "        b'GSSGSLSDEDFKAVFGMTRSAFAMLPLWKQQNLKKEKGLFGSS'], dtype=object))"
      ]
     },
     "execution_count": 15,
     "metadata": {},
     "output_type": "execute_result"
    }
   ],
   "source": [
    "dset[\"labels\"][:10], dset[\"sequences\"][:10]"
   ]
  },
  {
   "cell_type": "code",
   "execution_count": 16,
   "metadata": {
    "ExecuteTime": {
     "end_time": "2021-08-20T16:42:06.762009Z",
     "start_time": "2021-08-20T16:42:06.754994Z"
    },
    "collapsed": true
   },
   "outputs": [],
   "source": [
    "dset.close()"
   ]
  },
  {
   "cell_type": "markdown",
   "metadata": {},
   "source": [
    "> Como mejorarlo? \n",
    "    1. En la parte de .generate_datasets deberia ser posible pasarle el `.pkl`\n",
    "    2. Generalizar la lectura y escritura de archivo c/r a los nombres.\n",
    "    I.e. no depender del estilo `<prefijo>_<algo>.csv`"
   ]
  },
  {
   "cell_type": "code",
   "execution_count": 2,
   "metadata": {
    "ExecuteTime": {
     "end_time": "2021-08-23T18:33:35.122665Z",
     "start_time": "2021-08-23T18:33:27.110969Z"
    }
   },
   "outputs": [
    {
     "name": "stderr",
     "output_type": "stream",
     "text": [
      "Using cache found in /home/roberto/.cache/torch/hub/facebookresearch_esm_master\n"
     ]
    }
   ],
   "source": [
    "import torch\n",
    "\n",
    "model, alphabet = torch.hub.load(\"facebookresearch/esm\", \"esm1b_t33_650M_UR50S\")\n",
    "batch_converter = alphabet.get_batch_converter()"
   ]
  },
  {
   "cell_type": "code",
   "execution_count": null,
   "metadata": {
    "collapsed": true
   },
   "outputs": [],
   "source": []
  }
 ],
 "metadata": {
  "kernelspec": {
   "display_name": "Stability",
   "language": "python",
   "name": "stability"
  },
  "language_info": {
   "codemirror_mode": {
    "name": "ipython",
    "version": 3
   },
   "file_extension": ".py",
   "mimetype": "text/x-python",
   "name": "python",
   "nbconvert_exporter": "python",
   "pygments_lexer": "ipython3",
   "version": "3.7.11"
  }
 },
 "nbformat": 4,
 "nbformat_minor": 2
}
