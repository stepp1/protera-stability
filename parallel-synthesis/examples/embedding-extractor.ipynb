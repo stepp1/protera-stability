{
 "cells": [
  {
   "cell_type": "code",
   "execution_count": 1,
   "metadata": {
    "ExecuteTime": {
     "end_time": "2021-08-24T15:46:38.698456Z",
     "start_time": "2021-08-24T15:46:37.661866Z"
    },
    "scrolled": true
   },
   "outputs": [],
   "source": [
    "from protera_stability import EmbeddingExtractor1D"
   ]
  },
  {
   "cell_type": "code",
   "execution_count": 2,
   "metadata": {
    "ExecuteTime": {
     "end_time": "2021-08-24T15:46:38.701340Z",
     "start_time": "2021-08-24T15:46:38.699434Z"
    }
   },
   "outputs": [],
   "source": [
    "from protera_stability import open_train_test \n",
    "from pathlib import Path\n",
    "\n",
    "data_path = Path(\"../data\")"
   ]
  },
  {
   "cell_type": "markdown",
   "metadata": {},
   "source": [
    "> * Los `.csv` deben contener las columnas `labels` y `sequences`.\n",
    "\n",
    "> * `data_path` debe ser Path y un directorio que contenga tus `.csv`"
   ]
  },
  {
   "cell_type": "code",
   "execution_count": 3,
   "metadata": {
    "ExecuteTime": {
     "end_time": "2021-08-24T15:46:38.717966Z",
     "start_time": "2021-08-24T15:46:38.702110Z"
    }
   },
   "outputs": [
    {
     "data": {
      "text/html": [
       "<div>\n",
       "<style scoped>\n",
       "    .dataframe tbody tr th:only-of-type {\n",
       "        vertical-align: middle;\n",
       "    }\n",
       "\n",
       "    .dataframe tbody tr th {\n",
       "        vertical-align: top;\n",
       "    }\n",
       "\n",
       "    .dataframe thead th {\n",
       "        text-align: right;\n",
       "    }\n",
       "</style>\n",
       "<table border=\"1\" class=\"dataframe\">\n",
       "  <thead>\n",
       "    <tr style=\"text-align: right;\">\n",
       "      <th></th>\n",
       "      <th>labels</th>\n",
       "      <th>sequence</th>\n",
       "    </tr>\n",
       "  </thead>\n",
       "  <tbody>\n",
       "    <tr>\n",
       "      <th>0</th>\n",
       "      <td>0.37</td>\n",
       "      <td>GSSQETIEVEDEEEARRVAKELRKKGYEVKDERRGNKWHVHRT</td>\n",
       "    </tr>\n",
       "    <tr>\n",
       "      <th>1</th>\n",
       "      <td>0.62</td>\n",
       "      <td>TLDEARELVERAKKEGTGMDVNGQRFEDWREAERWVREQEKNK</td>\n",
       "    </tr>\n",
       "    <tr>\n",
       "      <th>2</th>\n",
       "      <td>-0.03</td>\n",
       "      <td>TELKKKLEEALKKGEEVRVKFNGIEIRNTSEDAARKAVELLEK</td>\n",
       "    </tr>\n",
       "    <tr>\n",
       "      <th>3</th>\n",
       "      <td>1.41</td>\n",
       "      <td>GSSQETIEVEDEEEARRVAKELRKTGYEVKIERRGNKWHVHRT</td>\n",
       "    </tr>\n",
       "    <tr>\n",
       "      <th>4</th>\n",
       "      <td>1.11</td>\n",
       "      <td>TTIHVGDLTLKYDNPKKAYEIAKKLAKKYNLQVTIKNGKITVT</td>\n",
       "    </tr>\n",
       "    <tr>\n",
       "      <th>...</th>\n",
       "      <td>...</td>\n",
       "      <td>...</td>\n",
       "    </tr>\n",
       "    <tr>\n",
       "      <th>7705</th>\n",
       "      <td>0.80</td>\n",
       "      <td>GSSKTQYEYDTKEEHQKAYEKFKKQGIPVTITQKNGKWFVQVE</td>\n",
       "    </tr>\n",
       "    <tr>\n",
       "      <th>7706</th>\n",
       "      <td>0.82</td>\n",
       "      <td>TIDEIIKALEQAVKDNKPIQVGNYTVTSADEAEKLAKKLKKPY</td>\n",
       "    </tr>\n",
       "    <tr>\n",
       "      <th>7707</th>\n",
       "      <td>0.66</td>\n",
       "      <td>TQDEIIKALEQAVKDNKPIQVGNYTVTSADEAEKLAKKLKKEY</td>\n",
       "    </tr>\n",
       "    <tr>\n",
       "      <th>7708</th>\n",
       "      <td>1.05</td>\n",
       "      <td>TTIKVNGQEYTVPLSPEQAAKAAKKRWPDYEVQIHGNTVWVTR</td>\n",
       "    </tr>\n",
       "    <tr>\n",
       "      <th>7709</th>\n",
       "      <td>1.69</td>\n",
       "      <td>GSSTTWYRFTDEEEARRAAKEWARRGYQVHVTQNGTYWEVEVR</td>\n",
       "    </tr>\n",
       "  </tbody>\n",
       "</table>\n",
       "<p>7710 rows × 2 columns</p>\n",
       "</div>"
      ],
      "text/plain": [
       "      labels                                     sequence\n",
       "0       0.37  GSSQETIEVEDEEEARRVAKELRKKGYEVKDERRGNKWHVHRT\n",
       "1       0.62  TLDEARELVERAKKEGTGMDVNGQRFEDWREAERWVREQEKNK\n",
       "2      -0.03  TELKKKLEEALKKGEEVRVKFNGIEIRNTSEDAARKAVELLEK\n",
       "3       1.41  GSSQETIEVEDEEEARRVAKELRKTGYEVKIERRGNKWHVHRT\n",
       "4       1.11  TTIHVGDLTLKYDNPKKAYEIAKKLAKKYNLQVTIKNGKITVT\n",
       "...      ...                                          ...\n",
       "7705    0.80  GSSKTQYEYDTKEEHQKAYEKFKKQGIPVTITQKNGKWFVQVE\n",
       "7706    0.82  TIDEIIKALEQAVKDNKPIQVGNYTVTSADEAEKLAKKLKKPY\n",
       "7707    0.66  TQDEIIKALEQAVKDNKPIQVGNYTVTSADEAEKLAKKLKKEY\n",
       "7708    1.05  TTIKVNGQEYTVPLSPEQAAKAAKKRWPDYEVQIHGNTVWVTR\n",
       "7709    1.69  GSSTTWYRFTDEEEARRAAKEWARRGYQVHVTQNGTYWEVEVR\n",
       "\n",
       "[7710 rows x 2 columns]"
      ]
     },
     "execution_count": 3,
     "metadata": {},
     "output_type": "execute_result"
    }
   ],
   "source": [
    "sets = open_train_test(data_path, \"stability\")\n",
    "sets[\"train\"]"
   ]
  },
  {
   "cell_type": "code",
   "execution_count": 4,
   "metadata": {
    "ExecuteTime": {
     "end_time": "2021-08-24T15:46:46.975338Z",
     "start_time": "2021-08-24T15:46:38.718918Z"
    }
   },
   "outputs": [
    {
     "name": "stderr",
     "output_type": "stream",
     "text": [
      "Using cache found in /home/roberto/.cache/torch/hub/facebookresearch_esm_master\n"
     ]
    }
   ],
   "source": [
    "args_dict = {\n",
    "    \"model_name\": \"esm1b_t33_650M_UR50S\",\n",
    "    \"base_path\": data_path,\n",
    "    \"gpu\": True,\n",
    "}\n",
    "\n",
    "emb_stabilty = EmbeddingExtractor1D(**args_dict)"
   ]
  },
  {
   "cell_type": "code",
   "execution_count": 5,
   "metadata": {
    "ExecuteTime": {
     "end_time": "2021-08-24T15:33:32.262132Z",
     "start_time": "2021-08-24T15:32:24.649967Z"
    }
   },
   "outputs": [
    {
     "name": "stderr",
     "output_type": "stream",
     "text": [
      "100%|███████████████████████████████████████████████████████████████████████████████████████████████████████████████████████████████████████████████████████████████████████| 41/41 [01:07<00:00,  1.65s/it]"
     ]
    },
    {
     "name": "stdout",
     "output_type": "stream",
     "text": [
      "Embeddings saved to ../data/stability_embeddings.pkl.pkl\n"
     ]
    },
    {
     "name": "stderr",
     "output_type": "stream",
     "text": [
      "\n"
     ]
    }
   ],
   "source": [
    "embeddings = emb_stabilty.generate_embeddings(\n",
    "    [\"stability.csv\"],  # esta en data_path\n",
    "    path_out=\"stability_embeddings\",  # guardarlo en data_path/stability_train.pkl\n",
    "    bs=256,\n",
    "    overwrite=True,\n",
    "    target_name=\"stability\"\n",
    ")"
   ]
  },
  {
   "cell_type": "code",
   "execution_count": 5,
   "metadata": {
    "ExecuteTime": {
     "end_time": "2021-08-24T15:46:47.954842Z",
     "start_time": "2021-08-24T15:46:47.889752Z"
    }
   },
   "outputs": [],
   "source": [
    "emb_stabilty.generate_datasets?"
   ]
  },
  {
   "cell_type": "code",
   "execution_count": 6,
   "metadata": {
    "ExecuteTime": {
     "end_time": "2021-08-24T15:46:48.569413Z",
     "start_time": "2021-08-24T15:46:48.512796Z"
    }
   },
   "outputs": [
    {
     "name": "stderr",
     "output_type": "stream",
     "text": [
      "Returning existing dataset...\n"
     ]
    }
   ],
   "source": [
    "dset = emb_stabilty.generate_datasets(\n",
    "    [\"stability.csv\"],\n",
    "    h5_stem=\"stability\",  # data_path / \"stability\".h5\n",
    "    bs=256,\n",
    "    embedding_file=\"stability_embeddings\",  # cargar los embeddings desde donde se espera que esten\n",
    "    target_name=\"stability_scores\"\n",
    ")"
   ]
  },
  {
   "cell_type": "code",
   "execution_count": 7,
   "metadata": {
    "ExecuteTime": {
     "end_time": "2021-08-24T15:46:53.362321Z",
     "start_time": "2021-08-24T15:46:53.357619Z"
    }
   },
   "outputs": [
    {
     "data": {
      "text/plain": [
       "(array([ 0.37,  0.62, -0.03,  1.41,  1.11,  1.24,  1.05,  0.89,  0.88,\n",
       "         1.15]),\n",
       " array([b'GSSQETIEVEDEEEARRVAKELRKKGYEVKDERRGNKWHVHRT',\n",
       "        b'TLDEARELVERAKKEGTGMDVNGQRFEDWREAERWVREQEKNK',\n",
       "        b'TELKKKLEEALKKGEEVRVKFNGIEIRNTSEDAARKAVELLEK',\n",
       "        b'GSSQETIEVEDEEEARRVAKELRKTGYEVKIERRGNKWHVHRT',\n",
       "        b'TTIHVGDLTLKYDNPKKAYEIAKKLAKKYNLQVTIKNGKITVT',\n",
       "        b'SKDEAQREAERAIRSGNKEEARRILEEVGYSPEQAERIIRKLG',\n",
       "        b'TIDEIIKALEQAVKDGKPIQVGNYTVTSADEAEKLAKKLKKEY',\n",
       "        b'FEIPDDVPLPAGWEMARTSSGQRYFKNHIDQTTTWQDPRKAMLSQM',\n",
       "        b'TTIHVGDLTLKYDNPKKAYEIAKKLDKKYNLTVTIKNGKITVT',\n",
       "        b'GSSGSLSDEDFKAVFGMTRSAFAMLPLWKQQNLKKEKGLFGSS'], dtype=object))"
      ]
     },
     "execution_count": 7,
     "metadata": {},
     "output_type": "execute_result"
    }
   ],
   "source": [
    "dset[\"labels\"][:10], dset[\"sequences\"][:10]"
   ]
  },
  {
   "cell_type": "code",
   "execution_count": 8,
   "metadata": {
    "ExecuteTime": {
     "end_time": "2021-08-24T15:46:56.724395Z",
     "start_time": "2021-08-24T15:46:56.722370Z"
    }
   },
   "outputs": [],
   "source": [
    "dset.close() # hay que cerrarlo pq es un h5py"
   ]
  }
 ],
 "metadata": {
  "kernelspec": {
   "display_name": "Stability",
   "language": "python",
   "name": "stability"
  },
  "language_info": {
   "codemirror_mode": {
    "name": "ipython",
    "version": 3
   },
   "file_extension": ".py",
   "mimetype": "text/x-python",
   "name": "python",
   "nbconvert_exporter": "python",
   "pygments_lexer": "ipython3",
   "version": "3.7.11"
  }
 },
 "nbformat": 4,
 "nbformat_minor": 2
}
