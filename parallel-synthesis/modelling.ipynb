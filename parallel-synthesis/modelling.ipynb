{
 "cells": [
  {
   "cell_type": "code",
   "execution_count": 1,
   "id": "48740d31",
   "metadata": {
    "ExecuteTime": {
     "end_time": "2021-07-29T01:32:37.601478Z",
     "start_time": "2021-07-29T01:32:37.132627Z"
    }
   },
   "outputs": [],
   "source": [
    "from pathlib import Path\n",
    "import pickle as pkl\n",
    "import random\n",
    "import os\n",
    "\n",
    "import torch\n",
    "from torch.utils.data import DataLoader\n",
    "import esm\n",
    "\n",
    "from tqdm import tqdm\n",
    "import pandas as pd\n",
    "import numpy as np\n",
    "import h5py"
   ]
  },
  {
   "cell_type": "markdown",
   "id": "8316533f",
   "metadata": {},
   "source": [
    "## Protein Embeddings Manipulation"
   ]
  },
  {
   "cell_type": "code",
   "execution_count": 2,
   "id": "919c9f12",
   "metadata": {
    "ExecuteTime": {
     "end_time": "2021-07-29T01:32:37.613225Z",
     "start_time": "2021-07-29T01:32:37.602308Z"
    },
    "code_folding": []
   },
   "outputs": [],
   "source": [
    "class AttrDict(dict):\n",
    "    def __init__(self, *args, **kwargs):\n",
    "        super(AttrDict, self).__init__(*args, **kwargs)\n",
    "        self.__dict__ = self\n",
    "\n",
    "class EmbeddingProtein1D:\n",
    "    \"\"\"\n",
    "    Embedding Extractor for 1D protein sequences.\n",
    "    \"\"\"\n",
    "    def __init__(self, model_name, open_func, data_path, gpu = False):\n",
    "        \"\"\"\n",
    "        Constructor.\n",
    "        \n",
    "        Arguments:\n",
    "        ---------\n",
    "            model_name : str\n",
    "                Can be one of the ESM models\n",
    "                \n",
    "            open_func : callable\n",
    "                A callable function that loads the data into a train/test/val dictionary\n",
    "                \n",
    "            data_path: str or pathlib.Path\n",
    "                The data's base path\n",
    "                \n",
    "            gpu : bool\n",
    "                Whether to move the model to cuda.\n",
    "                \n",
    "        \"\"\"\n",
    "        \n",
    "        self.model, self.alphabet = torch.hub.load(\"facebookresearch/esm\", model_name)\n",
    "        self.batch_converter = self.alphabet.get_batch_converter()\n",
    "        self.open_func = open_func\n",
    "        self.data_path = data_path\n",
    "        self.data = None\n",
    "        self.gpu = gpu\n",
    "        self.kind = None\n",
    "        if self.gpu:\n",
    "            self.model.cuda()\n",
    "            \n",
    "    def open_embeddings(self, prefix, kind):\n",
    "        \"\"\"\n",
    "        Opens a binary pkl file with the precomputed embeddings.\n",
    "        \"\"\"\n",
    "        fname = (\n",
    "            self.data_path\n",
    "            / f'{prefix}_embeddings_{kind}.pkl'\n",
    "        )\n",
    "        return pkl.load(open(fname, 'rb'))\n",
    "    \n",
    "    \n",
    "    def predict(self, sequence):\n",
    "        \"\"\"\n",
    "        Obtains model's predictionsfor the given sequence.\n",
    "        \n",
    "        Arguments:\n",
    "        ---------\n",
    "            sequence: str\n",
    "                An aminoacid sequence\n",
    "                \n",
    "        Returns:\n",
    "        -------\n",
    "            predictions : dict\n",
    "        \"\"\"\n",
    "        # only one sequence\n",
    "        if np.array(sequence).shape == ():\n",
    "            sequence = sequence.upper()\n",
    "            data = [(\"0\", sequence)]\n",
    "        else:\n",
    "            data = sequence\n",
    "\n",
    "        batch_labels, batch_strs, batch_tokens = self.batch_converter(data)\n",
    "        with torch.no_grad():\n",
    "            if self.gpu:\n",
    "                batch_tokens = batch_tokens.cuda()\n",
    "            predictions = self.model(batch_tokens, repr_layers=[33])\n",
    "        return predictions\n",
    "        \n",
    "        \n",
    "    def get_embedding(self, sequence, sequence_emb = True):\n",
    "        \"\"\"\n",
    "        Obtains the embeddings model predictions and averages over \n",
    "        the sequence length to  obtain embedding representations.\n",
    "        \n",
    "        Arguments:\n",
    "        ---------\n",
    "            sequence: str\n",
    "                An aminoacid sequence\n",
    "            sequence_emb: bool\n",
    "                Whether to reduce the token embeddings to obtain a sequence embedding\n",
    "                \n",
    "        Returns:\n",
    "        --------\n",
    "            sequence_embeddings/token_embeddings: str/list\n",
    "        \"\"\"\n",
    "        results = self.predict(sequence)\n",
    "    \n",
    "        token_embeddings = results[\"representations\"][33] # shape: (bs, seq_len, emb_dim)\n",
    "        # NOTE: token 0 is always a beginning-of-sequence token, so the first residue is token 1.\n",
    "\n",
    "        if sequence_emb: # one emb for the whole seq => average over seq_len\n",
    "            if token_embeddings.shape[0] == 1:\n",
    "                sequence_embeddings = (\n",
    "                    token_embeddings[0, 1 : len(sequence) + 1].mean(dim=0).cpu().numpy()\n",
    "                )\n",
    "            else:\n",
    "                sequence_embeddings = (\n",
    "                    token_embeddings[:, 1 : len(sequence) + 1, :].mean(dim=1).cpu().numpy()\n",
    "                )\n",
    "            return sequence_embeddings\n",
    "    \n",
    "        return token_embeddings\n",
    "\n",
    "\n",
    "    def generate_embeddings(self, file_prefix, save = False, kind = 'train', bs = 32, subset = None):\n",
    "        \"\"\"\n",
    "        Generates sequence/token embeddings for a whole dataset.\n",
    "        Can write the embeddings into a pickle file with the path_out argument.\n",
    "        \n",
    "        Arguments:\n",
    "        ---------\n",
    "            file_prefix : str, pathlib.Path\n",
    "                A file prefix to load certain files from the data_path\n",
    "                \n",
    "            path_out : bool\n",
    "                Whether to save the embeddings to a pickle file\n",
    "                \n",
    "            kind: str\n",
    "                One of train/test/val sets\n",
    "            \n",
    "            bs: int\n",
    "                The dataloader batch size\n",
    "                \n",
    "            subset: int\n",
    "                A subset size of the train/test/val set\n",
    "            \n",
    "        \"\"\"\n",
    "        self.data = self.data if self.data is not None and self.kind == kind \\\n",
    "                              else self.open_func(self.data_path, file_prefix)[kind]\n",
    "        self.kind = kind\n",
    "    \n",
    "        if subset is not None:\n",
    "            random.choice(df.index)\n",
    "            raise NotImplementedError\n",
    "\n",
    "        # batch the dataset and return a batch of the form [(label, seq), ...]\n",
    "        dl = DataLoader(\n",
    "            list(self.data.itertuples(index=False, name=None)), \n",
    "            batch_size=bs, \n",
    "            collate_fn=lambda batch: batch\n",
    "        )\n",
    "\n",
    "        embeddings = {}\n",
    "        for batch in tqdm(dl):\n",
    "            batch_embeddings = self.get_embedding(batch)\n",
    "            i = 0\n",
    "            if len(batch_embeddings.shape) == 2:            \n",
    "                for (label, seq), emb in zip(batch, batch_embeddings):\n",
    "                    i +=1  \n",
    "#                     print(i)\n",
    "                    embeddings[seq] = emb\n",
    "            else:\n",
    "                label, seq = zip(*batch)\n",
    "                embeddings[seq[0]] = batch_embeddings\n",
    "\n",
    "        if save:\n",
    "            out_fname = (\n",
    "                self.data_path\n",
    "                / f\"{file_prefix}_embeddings_{kind}.pkl\"\n",
    "            )\n",
    "            pkl.dump(embeddings, open(out_fname, 'wb'))\n",
    "            print(f'Embeddings saved to {out_fname}')\n",
    "\n",
    "        return embeddings\n",
    "    \n",
    "    \n",
    "    def generate_datasets(self, file_prefix, save_emb = False, kind = 'train', bs = 32, subset = None, load_embeddings = False):\n",
    "        \"\"\"\n",
    "        Generates sequence/token embeddings for a whole dataset.\n",
    "        Can write the embeddings into a pickle file with the path_out argument.\n",
    "        \n",
    "        Arguments:\n",
    "        ---------\n",
    "            file_prefix : str, pathlib.Path\n",
    "                A file prefix to load certain files from the data_path\n",
    "                \n",
    "            save_emb : bool\n",
    "                Save precomputed embeddings\n",
    "                \n",
    "            kind: str\n",
    "                One of train/test/val sets\n",
    "            \n",
    "            bs: int\n",
    "                The dataloader batch size\n",
    "                \n",
    "            subset: int\n",
    "                A subset size of the train/test/val set\n",
    "                \n",
    "            load_embeddings : bool\n",
    "                Whether to load the embeddings from a file in the data_path.\n",
    "                It assumes that file a is binary pickle and the file name is f\"{file_prefix}_embeddings.pkl\"\n",
    "        \"\"\"\n",
    "        if subset:\n",
    "            raise NotImplementedError(f\"Subsets are not implemented yet\")\n",
    "            \n",
    "        self.data = self.data if self.data is not None and self.kind == kind \\\n",
    "                              else self.open_func(self.data_path, file_prefix)[kind]\n",
    "        self.kind = kind\n",
    "        \n",
    "        h5_fname = (\n",
    "            self.data_path \n",
    "            / f\"{file_prefix}_{kind}.h5\"\n",
    "        )\n",
    "        if Path(h5_fname).exists():\n",
    "            raise ValueError(f\"Dataset {h5_fname} exists.\")\n",
    "            \n",
    "        n_samples = len(self.data)\n",
    "                \n",
    "        embeddings = self.generate_embeddings(file_prefix, save=save_emb, kind=kind, bs=bs, subset=subset) \\\n",
    "                    if load_embeddings == False else self.open_embeddings(file_prefix, kind)\n",
    "        \n",
    "        emb_len = max([len(val) for val in embeddings.values()])\n",
    "        \n",
    "        with h5py.File(str(h5_fname), \"w\") as file_handler:\n",
    "            dset_labels = file_handler.create_dataset(\n",
    "                \"labels\", (n_samples,), dtype=self.data.labels.dtype\n",
    "            )\n",
    "            dset_embeddings = file_handler.create_dataset(\n",
    "                \"embeddings\", (n_samples, emb_len)\n",
    "            )\n",
    "            dset_seqs = file_handler.create_dataset(\n",
    "                \"sequences\", (n_samples,), dtype= h5py.string_dtype(encoding='utf-8', length=None)\n",
    "            )\n",
    "            \n",
    "            dset_labels.attrs[\"target\"] = file_prefix\n",
    "            dset_labels[:] = self.data.labels\n",
    "            dset_embeddings[:] = list(embeddings.values())\n",
    "            dset_seqs[:] = self.data.sequence.astype(str)\n",
    "            \n",
    "            \n",
    "        return h5py.File(str(h5_fname), \"r\")"
   ]
  },
  {
   "cell_type": "markdown",
   "id": "8d74cae2",
   "metadata": {},
   "source": [
    "### Utility Functions"
   ]
  },
  {
   "cell_type": "code",
   "execution_count": 3,
   "id": "27dc99a1",
   "metadata": {
    "ExecuteTime": {
     "end_time": "2021-07-29T01:32:37.620220Z",
     "start_time": "2021-07-29T01:32:37.614141Z"
    }
   },
   "outputs": [],
   "source": [
    "def open_func(base_path, prefix):\n",
    "    sets = {}\n",
    "\n",
    "    for path in base_path.glob(f'{prefix}_*.csv'):\n",
    "        fname = path.stem\n",
    "        parts = fname.split('_')\n",
    "        \n",
    "        if len(parts) > 2:\n",
    "            continue\n",
    "        \n",
    "        kind = parts[1]\n",
    "\n",
    "        df = pd.read_csv(path)\n",
    "        cols = df.columns\n",
    "        df = df[cols[::-1]]\n",
    "        df.columns = ['labels', 'sequence']\n",
    "        [df.labels]\n",
    "        \n",
    "        sets[kind] = df\n",
    "        \n",
    "    return sets"
   ]
  },
  {
   "cell_type": "code",
   "execution_count": 4,
   "id": "2d45e483",
   "metadata": {
    "ExecuteTime": {
     "end_time": "2021-07-29T01:32:37.637684Z",
     "start_time": "2021-07-29T01:32:37.620871Z"
    }
   },
   "outputs": [
    {
     "data": {
      "text/html": [
       "<div>\n",
       "<style scoped>\n",
       "    .dataframe tbody tr th:only-of-type {\n",
       "        vertical-align: middle;\n",
       "    }\n",
       "\n",
       "    .dataframe tbody tr th {\n",
       "        vertical-align: top;\n",
       "    }\n",
       "\n",
       "    .dataframe thead th {\n",
       "        text-align: right;\n",
       "    }\n",
       "</style>\n",
       "<table border=\"1\" class=\"dataframe\">\n",
       "  <thead>\n",
       "    <tr style=\"text-align: right;\">\n",
       "      <th></th>\n",
       "      <th>labels</th>\n",
       "      <th>sequence</th>\n",
       "    </tr>\n",
       "  </thead>\n",
       "  <tbody>\n",
       "    <tr>\n",
       "      <th>0</th>\n",
       "      <td>0.37</td>\n",
       "      <td>GSSQETIEVEDEEEARRVAKELRKKGYEVKDERRGNKWHVHRT</td>\n",
       "    </tr>\n",
       "    <tr>\n",
       "      <th>1</th>\n",
       "      <td>0.62</td>\n",
       "      <td>TLDEARELVERAKKEGTGMDVNGQRFEDWREAERWVREQEKNK</td>\n",
       "    </tr>\n",
       "    <tr>\n",
       "      <th>2</th>\n",
       "      <td>-0.03</td>\n",
       "      <td>TELKKKLEEALKKGEEVRVKFNGIEIRNTSEDAARKAVELLEK</td>\n",
       "    </tr>\n",
       "    <tr>\n",
       "      <th>3</th>\n",
       "      <td>1.41</td>\n",
       "      <td>GSSQETIEVEDEEEARRVAKELRKTGYEVKIERRGNKWHVHRT</td>\n",
       "    </tr>\n",
       "    <tr>\n",
       "      <th>4</th>\n",
       "      <td>1.11</td>\n",
       "      <td>TTIHVGDLTLKYDNPKKAYEIAKKLAKKYNLQVTIKNGKITVT</td>\n",
       "    </tr>\n",
       "    <tr>\n",
       "      <th>...</th>\n",
       "      <td>...</td>\n",
       "      <td>...</td>\n",
       "    </tr>\n",
       "    <tr>\n",
       "      <th>7705</th>\n",
       "      <td>0.80</td>\n",
       "      <td>GSSKTQYEYDTKEEHQKAYEKFKKQGIPVTITQKNGKWFVQVE</td>\n",
       "    </tr>\n",
       "    <tr>\n",
       "      <th>7706</th>\n",
       "      <td>0.82</td>\n",
       "      <td>TIDEIIKALEQAVKDNKPIQVGNYTVTSADEAEKLAKKLKKPY</td>\n",
       "    </tr>\n",
       "    <tr>\n",
       "      <th>7707</th>\n",
       "      <td>0.66</td>\n",
       "      <td>TQDEIIKALEQAVKDNKPIQVGNYTVTSADEAEKLAKKLKKEY</td>\n",
       "    </tr>\n",
       "    <tr>\n",
       "      <th>7708</th>\n",
       "      <td>1.05</td>\n",
       "      <td>TTIKVNGQEYTVPLSPEQAAKAAKKRWPDYEVQIHGNTVWVTR</td>\n",
       "    </tr>\n",
       "    <tr>\n",
       "      <th>7709</th>\n",
       "      <td>1.69</td>\n",
       "      <td>GSSTTWYRFTDEEEARRAAKEWARRGYQVHVTQNGTYWEVEVR</td>\n",
       "    </tr>\n",
       "  </tbody>\n",
       "</table>\n",
       "<p>7710 rows × 2 columns</p>\n",
       "</div>"
      ],
      "text/plain": [
       "      labels                                     sequence\n",
       "0       0.37  GSSQETIEVEDEEEARRVAKELRKKGYEVKDERRGNKWHVHRT\n",
       "1       0.62  TLDEARELVERAKKEGTGMDVNGQRFEDWREAERWVREQEKNK\n",
       "2      -0.03  TELKKKLEEALKKGEEVRVKFNGIEIRNTSEDAARKAVELLEK\n",
       "3       1.41  GSSQETIEVEDEEEARRVAKELRKTGYEVKIERRGNKWHVHRT\n",
       "4       1.11  TTIHVGDLTLKYDNPKKAYEIAKKLAKKYNLQVTIKNGKITVT\n",
       "...      ...                                          ...\n",
       "7705    0.80  GSSKTQYEYDTKEEHQKAYEKFKKQGIPVTITQKNGKWFVQVE\n",
       "7706    0.82  TIDEIIKALEQAVKDNKPIQVGNYTVTSADEAEKLAKKLKKPY\n",
       "7707    0.66  TQDEIIKALEQAVKDNKPIQVGNYTVTSADEAEKLAKKLKKEY\n",
       "7708    1.05  TTIKVNGQEYTVPLSPEQAAKAAKKRWPDYEVQIHGNTVWVTR\n",
       "7709    1.69  GSSTTWYRFTDEEEARRAAKEWARRGYQVHVTQNGTYWEVEVR\n",
       "\n",
       "[7710 rows x 2 columns]"
      ]
     },
     "execution_count": 4,
     "metadata": {},
     "output_type": "execute_result"
    }
   ],
   "source": [
    "data_path = Path('data')\n",
    "open_func(data_path, 'stability')['train']"
   ]
  },
  {
   "cell_type": "code",
   "execution_count": 5,
   "id": "47abf3ac",
   "metadata": {
    "ExecuteTime": {
     "end_time": "2021-07-29T01:32:44.792622Z",
     "start_time": "2021-07-29T01:32:37.638374Z"
    }
   },
   "outputs": [
    {
     "name": "stderr",
     "output_type": "stream",
     "text": [
      "Using cache found in /home/step/.cache/torch/hub/facebookresearch_esm_master\n"
     ]
    }
   ],
   "source": [
    "args = AttrDict\n",
    "\n",
    "args_dict = {\n",
    "    'model_name': 'esm1b_t33_650M_UR50S',\n",
    "    'open_func': open_func,\n",
    "    'data_path': data_path,\n",
    "    'gpu': True\n",
    "}\n",
    "\n",
    "emb_stabilty = EmbeddingProtein1D(**args_dict)"
   ]
  },
  {
   "cell_type": "code",
   "execution_count": 6,
   "id": "a5d58cc8",
   "metadata": {
    "ExecuteTime": {
     "end_time": "2021-07-29T01:33:36.567364Z",
     "start_time": "2021-07-29T01:32:44.793582Z"
    },
    "scrolled": false
   },
   "outputs": [
    {
     "name": "stderr",
     "output_type": "stream",
     "text": [
      "100%|██████████| 11/11 [00:12<00:00,  1.17s/it]\n"
     ]
    },
    {
     "name": "stdout",
     "output_type": "stream",
     "text": [
      "Embeddings saved to data/stability_embeddings_test.pkl\n"
     ]
    },
    {
     "name": "stderr",
     "output_type": "stream",
     "text": [
      "100%|██████████| 31/31 [00:38<00:00,  1.25s/it]\n"
     ]
    },
    {
     "name": "stdout",
     "output_type": "stream",
     "text": [
      "Embeddings saved to data/stability_embeddings_train.pkl\n"
     ]
    }
   ],
   "source": [
    "# _ = emb_stabilty.generate_embeddings('stability', kind='test', save=True, bs=256)\n",
    "# embeddings = emb_stabilty.generate_embeddings('stability', save=True, bs=256)"
   ]
  },
  {
   "cell_type": "code",
   "execution_count": 7,
   "id": "c512a378",
   "metadata": {
    "ExecuteTime": {
     "end_time": "2021-07-29T01:33:36.814042Z",
     "start_time": "2021-07-29T01:33:36.568307Z"
    }
   },
   "outputs": [],
   "source": [
    "!rm data/stability_train.h5\n",
    "h5_dset = emb_stabilty.generate_datasets('stability', load_embeddings=True)"
   ]
  },
  {
   "cell_type": "code",
   "execution_count": 8,
   "id": "ff31265d",
   "metadata": {
    "ExecuteTime": {
     "end_time": "2021-07-29T01:33:36.817267Z",
     "start_time": "2021-07-29T01:33:36.814873Z"
    }
   },
   "outputs": [
    {
     "data": {
      "text/plain": [
       "(7710, 1280)"
      ]
     },
     "execution_count": 8,
     "metadata": {},
     "output_type": "execute_result"
    }
   ],
   "source": [
    "h5_dset['embeddings'].shape"
   ]
  },
  {
   "cell_type": "markdown",
   "id": "86506e8f",
   "metadata": {},
   "source": [
    "## Dimensionality Reduction"
   ]
  },
  {
   "cell_type": "code",
   "execution_count": 9,
   "id": "ba932760",
   "metadata": {
    "ExecuteTime": {
     "end_time": "2021-07-29T01:33:39.288963Z",
     "start_time": "2021-07-29T01:33:36.817848Z"
    }
   },
   "outputs": [
    {
     "name": "stdout",
     "output_type": "stream",
     "text": [
      "(7710, 2)\n"
     ]
    },
    {
     "data": {
      "image/png": "[encoded data removed]",
      "text/plain": [
       "<Figure size 720x360 with 2 Axes>"
      ]
     },
     "metadata": {
      "needs_background": "light"
     },
     "output_type": "display_data"
    }
   ],
   "source": [
    "import matplotlib.pyplot as plt\n",
    "import cuml\n",
    "\n",
    "def dim_reduction(X, y, strategy = 'PCA', n_components = 2, prefix = None, plot_viz = True, save_viz = False):\n",
    "    valid_strats = (\"PCA\", \"UMAP\", \"TSNE\")\n",
    "    if strategy not in valid_strats:\n",
    "        raise ValueError(f\"{strategy} is not a valid dimensionality reduction strategy\")\n",
    "    \n",
    "    if strategy == valid_strats[0]:\n",
    "        reducer = cuml.PCA(n_components = n_components)\n",
    "    elif strategy == valid_strats[1]:\n",
    "        reducer = cuml.UMAP(n_components = 2)\n",
    "    elif strategy == valid_strats[2]:\n",
    "        reducer = cuml.PCA(n_components = 2)\n",
    "        \n",
    "    X_hat = reducer.fit_transform(X,y)\n",
    "    print(X_hat.shape)\n",
    "    if plot_viz:\n",
    "        f, ax = plt.subplots(figsize=(10,5))\n",
    "        scatter = ax.scatter(X_hat[:, 0], X_hat[:, 1], c=y)\n",
    "        ax.set_xlabel('Component 1')\n",
    "        ax.set_ylabel('Component 2')\n",
    "        \n",
    "        cb = plt.colorbar(scatter, spacing='proportional')\n",
    "        cb.set_label(prefix)\n",
    "        plt.show()\n",
    "        \n",
    "    return X_hat\n",
    "\n",
    "\n",
    "X_train_reduced = dim_reduction(h5_dset['embeddings'][:], h5_dset['labels'][:].reshape(-1,1), plot_viz=True)\n",
    "y_train = h5_dset['labels'][:].reshape(-1,1)\n"
   ]
  },
  {
   "cell_type": "code",
   "execution_count": 10,
   "id": "63645df9",
   "metadata": {
    "ExecuteTime": {
     "end_time": "2021-07-29T01:33:39.293604Z",
     "start_time": "2021-07-29T01:33:39.289634Z"
    }
   },
   "outputs": [
    {
     "data": {
      "text/plain": [
       "((7710,), (7710,))"
      ]
     },
     "execution_count": 10,
     "metadata": {},
     "output_type": "execute_result"
    }
   ],
   "source": [
    "h5_dset['sequences'][:].shape, h5_dset['labels'][:].shape"
   ]
  },
  {
   "cell_type": "code",
   "execution_count": null,
   "id": "971ab4c8",
   "metadata": {
    "ExecuteTime": {
     "start_time": "2021-07-29T01:32:37.149Z"
    }
   },
   "outputs": [
    {
     "name": "stdout",
     "output_type": "stream",
     "text": [
      "Fitting model SVR...\n",
      "Fitting 5 folds for each of 12 candidates, totalling 60 fits\n"
     ]
    }
   ],
   "source": [
    "from sklearn.model_selection import GridSearchCV\n",
    "\n",
    "from sklearn.svm import SVR\n",
    "from sklearn.metrics import r2_score\n",
    "from sklearn.neural_network import MLPRegressor\n",
    "\n",
    "scoring = \"r2\"\n",
    "score = r2_score\n",
    "models = {\n",
    "    \"SVR\": {\n",
    "        \"model\": SVR(),\n",
    "        \"params\": {\n",
    "            \"C\": [0.1, 1.0, 10.0],\n",
    "            \"kernel\": [\"linear\", \"poly\", \"rbf\", \"sigmoid\"],\n",
    "            \"degree\": [3],\n",
    "            \"gamma\": [\"scale\"],\n",
    "        },\n",
    "    },\n",
    "    \"MLP\": {\n",
    "        \"model\": MLPRegressor(),\n",
    "        \"params\": {\n",
    "            \"hidden_layer_sizes\": [\n",
    "                (100,),\n",
    "                (\n",
    "                    100,\n",
    "                    100,\n",
    "                ),\n",
    "            ],\n",
    "            \"activation\": [\"tanh\", \"relu\"],\n",
    "            \"solver\": [\"sgd\", \"adam\"],\n",
    "        },\n",
    "    },\n",
    "}\n",
    "\n",
    "for name, model in models.items():\n",
    "    print(f'Fitting model {name}...')\n",
    "    grid = GridSearchCV(\n",
    "        estimator=model[\"model\"],\n",
    "        cv=None,\n",
    "        param_grid=model[\"params\"],\n",
    "        scoring=scoring,\n",
    "        verbose=1,\n",
    "        n_jobs=-1,\n",
    "        refit=False,\n",
    "    )\n",
    "    grid.fit(X_train_reduced, y_train)\n",
    "    print(name)\n",
    "    print(grid.best_score_)\n",
    "    print(grid.best_params_)"
   ]
  },
  {
   "cell_type": "code",
   "execution_count": null,
   "id": "ec078a0b",
   "metadata": {
    "ExecuteTime": {
     "start_time": "2021-07-29T01:32:37.151Z"
    }
   },
   "outputs": [],
   "source": [
    "h5_dset['embeddings'][:].shape, h5_dset['labels'][:].reshape(-1,1).shape"
   ]
  },
  {
   "cell_type": "code",
   "execution_count": null,
   "id": "da266b89",
   "metadata": {
    "ExecuteTime": {
     "start_time": "2021-07-29T01:32:37.153Z"
    }
   },
   "outputs": [],
   "source": [
    "model = MLPRegressor(**{'activation': 'relu', 'hidden_layer_sizes': (100, 100), 'solver': 'adam'})\n",
    "model.fit(X_reduced, h5_dset['labels'][:])\n",
    "\n",
    "\n",
    "\n",
    "h5_dset = emb_stabilty.generate_datasets('stability', kind='test', load_embeddings=True)\n",
    "X_test, y_test = h5_dset['embeddings'][:], h5_dset['labels'][:].reshape(-1,1)\n",
    "\n",
    "X_test_red = dim_reduction(X_test, y_test)\n",
    "model.score(X_test_red, y_test)"
   ]
  },
  {
   "cell_type": "markdown",
   "id": "a7138bf6",
   "metadata": {},
   "source": [
    "## Can a FeedForward Net do better?\n"
   ]
  },
  {
   "cell_type": "code",
   "execution_count": null,
   "id": "cc8a9b14",
   "metadata": {
    "ExecuteTime": {
     "start_time": "2021-07-29T01:32:37.154Z"
    }
   },
   "outputs": [],
   "source": [
    "from torch import nn\n",
    "import torch.nn.functional as F\n",
    "\n",
    "class ProteinMLP(nn.Module):\n",
    "    \n",
    "    def __init__(self, n_in = 1280, n_units = 1024, act = None, drop_p = 0.6):\n",
    "        \n",
    "        self.fc1 = nn.Linear(n_in, n_units)\n",
    "        self.drop1 = nn.Dropout(p=drop_p)\n",
    "        self.fc2 = nn.Linear(n_units, n_units//2)\n",
    "        self.drop2 = nn.Dropout(p=drop_p)\n",
    "        self.fc3 = nn.Linear(n_units//2, 1)\n",
    "        self.drop3 = nn.Dropout(p=drop_p)\n",
    "        \n",
    "        \n",
    "        self.act = act\n",
    "        if act is None:\n",
    "            self.act = nn.LeakyReLU()\n",
    "            \n",
    "    def forward(self, x):\n",
    "        out = self.act(self.drop1(self.fc1(x)))\n",
    "        out = self.act(self.drop2(self.fc2(x)))\n",
    "        out = self.act(self.drop3(self.fc3(x)))\n",
    "        \n",
    "        return out"
   ]
  },
  {
   "cell_type": "code",
   "execution_count": null,
   "id": "08b95127",
   "metadata": {
    "ExecuteTime": {
     "start_time": "2021-07-29T01:32:37.156Z"
    }
   },
   "outputs": [],
   "source": [
    "from skorch import NeuralNetRegressor\n",
    "\n",
    "net = NeuralNetClassifier(\n",
    "    MLP,\n",
    "    max_epochs=10,\n",
    "    lr=0.1,\n",
    "    iterator_train__shuffle=True,\n",
    ")\n",
    "\n",
    "net.fit(X, y)"
   ]
  }
 ],
 "metadata": {
  "kernelspec": {
   "display_name": "Python [conda env:protera-rapids]",
   "language": "python",
   "name": "conda-env-protera-rapids-py"
  },
  "language_info": {
   "codemirror_mode": {
    "name": "ipython",
    "version": 3
   },
   "file_extension": ".py",
   "mimetype": "text/x-python",
   "name": "python",
   "nbconvert_exporter": "python",
   "pygments_lexer": "ipython3",
   "version": "3.7.10"
  }
 },
 "nbformat": 4,
 "nbformat_minor": 5
}
