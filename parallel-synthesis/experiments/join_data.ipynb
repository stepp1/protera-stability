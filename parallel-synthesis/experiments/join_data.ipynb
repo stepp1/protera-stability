{
 "cells": [
  {
   "cell_type": "code",
   "execution_count": 1,
   "id": "595544ed",
   "metadata": {
    "ExecuteTime": {
     "end_time": "2021-08-16T12:38:31.017943Z",
     "start_time": "2021-08-16T12:38:30.876926Z"
    }
   },
   "outputs": [],
   "source": [
    "import pandas as pd"
   ]
  },
  {
   "cell_type": "code",
   "execution_count": 2,
   "id": "d7e5c6e0",
   "metadata": {
    "ExecuteTime": {
     "end_time": "2021-08-16T12:38:31.072810Z",
     "start_time": "2021-08-16T12:38:31.062538Z"
    }
   },
   "outputs": [],
   "source": [
    "df_train = pd.read_csv(\"data/stability_diversity_train.csv\", index_col=0)\n",
    "df_test = pd.read_csv(\"data/stability_diversity_test.csv\", index_col=0)"
   ]
  },
  {
   "cell_type": "code",
   "execution_count": 14,
   "id": "ee986ffa",
   "metadata": {
    "ExecuteTime": {
     "end_time": "2021-08-16T12:20:56.960974Z",
     "start_time": "2021-08-16T12:20:56.826979Z"
    }
   },
   "outputs": [],
   "source": [
    "df_full = pd.concat((df_train, df_test)).reset_index(drop=True)\n",
    "df_full.to_csv(\"data/stability_diversity_full.csv\")"
   ]
  },
  {
   "cell_type": "code",
   "execution_count": 5,
   "id": "60cd9514",
   "metadata": {
    "ExecuteTime": {
     "end_time": "2021-08-16T12:39:38.045052Z",
     "start_time": "2021-08-16T12:39:38.033561Z"
    }
   },
   "outputs": [],
   "source": [
    "df_train[[\"sequence\" , \"consensus_stability_score\"]].to_csv(\"data/stability_train.csv\", index=False)"
   ]
  },
  {
   "cell_type": "code",
   "execution_count": null,
   "id": "de6f747d",
   "metadata": {},
   "outputs": [],
   "source": []
  }
 ],
 "metadata": {
  "kernelspec": {
   "display_name": "Python [conda env:protera-rapids]",
   "language": "python",
   "name": "conda-env-protera-rapids-py"
  },
  "language_info": {
   "codemirror_mode": {
    "name": "ipython",
    "version": 3
   },
   "file_extension": ".py",
   "mimetype": "text/x-python",
   "name": "python",
   "nbconvert_exporter": "python",
   "pygments_lexer": "ipython3",
   "version": "3.7.10"
  }
 },
 "nbformat": 4,
 "nbformat_minor": 5
}
