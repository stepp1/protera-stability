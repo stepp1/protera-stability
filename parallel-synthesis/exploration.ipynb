{
 "cells": [
  {
   "cell_type": "code",
   "execution_count": 1,
   "id": "b71f96a8",
   "metadata": {
    "ExecuteTime": {
     "end_time": "2021-07-14T17:40:11.735591Z",
     "start_time": "2021-07-14T17:40:11.513514Z"
    }
   },
   "outputs": [],
   "source": [
    "from pathlib import Path\n",
    "\n",
    "import pandas as pd\n",
    "import numpy as np\n",
    "\n",
    "import matplotlib.pyplot as plt\n",
    "from collections import OrderedDict"
   ]
  },
  {
   "cell_type": "code",
   "execution_count": 2,
   "id": "ab91e103",
   "metadata": {
    "ExecuteTime": {
     "end_time": "2021-07-14T17:40:11.845101Z",
     "start_time": "2021-07-14T17:40:11.736246Z"
    }
   },
   "outputs": [
    {
     "name": "stdout",
     "output_type": "stream",
     "text": [
      "aan0693_Code-for-fitting-EC50-and-unfolded-state-model.bundle\r\n",
      "aan0693_designed-PDB-files\r\n",
      "aan0693_designed-PDB-files.gz\r\n",
      "aan0693_SI_datasets\r\n",
      "aan0693_SI_datasets.tar.gz\r\n",
      "stability_test.csv\r\n",
      "stability_train.csv\r\n",
      "stability_valid.csv\r\n"
     ]
    }
   ],
   "source": [
    "data_path = Path('data')\n",
    "\n",
    "!ls $data_path"
   ]
  },
  {
   "cell_type": "code",
   "execution_count": 49,
   "id": "cd45e4ba",
   "metadata": {
    "ExecuteTime": {
     "end_time": "2021-07-14T18:22:56.954382Z",
     "start_time": "2021-07-14T18:22:56.933539Z"
    }
   },
   "outputs": [
    {
     "data": {
      "text/html": [
       "<div>\n",
       "<style scoped>\n",
       "    .dataframe tbody tr th:only-of-type {\n",
       "        vertical-align: middle;\n",
       "    }\n",
       "\n",
       "    .dataframe tbody tr th {\n",
       "        vertical-align: top;\n",
       "    }\n",
       "\n",
       "    .dataframe thead th {\n",
       "        text-align: right;\n",
       "    }\n",
       "</style>\n",
       "<table border=\"1\" class=\"dataframe\">\n",
       "  <thead>\n",
       "    <tr style=\"text-align: right;\">\n",
       "      <th></th>\n",
       "      <th>sequence</th>\n",
       "      <th>consensus_stability_score</th>\n",
       "    </tr>\n",
       "  </thead>\n",
       "  <tbody>\n",
       "    <tr>\n",
       "      <th>0</th>\n",
       "      <td>GSSQETIEVEDEEEARRVAKELRKKGYEVKDERRGNKWHVHRT</td>\n",
       "      <td>0.37</td>\n",
       "    </tr>\n",
       "    <tr>\n",
       "      <th>1</th>\n",
       "      <td>TLDEARELVERAKKEGTGMDVNGQRFEDWREAERWVREQEKNK</td>\n",
       "      <td>0.62</td>\n",
       "    </tr>\n",
       "    <tr>\n",
       "      <th>2</th>\n",
       "      <td>TELKKKLEEALKKGEEVRVKFNGIEIRNTSEDAARKAVELLEK</td>\n",
       "      <td>-0.03</td>\n",
       "    </tr>\n",
       "    <tr>\n",
       "      <th>3</th>\n",
       "      <td>GSSQETIEVEDEEEARRVAKELRKTGYEVKIERRGNKWHVHRT</td>\n",
       "      <td>1.41</td>\n",
       "    </tr>\n",
       "    <tr>\n",
       "      <th>4</th>\n",
       "      <td>TTIHVGDLTLKYDNPKKAYEIAKKLAKKYNLQVTIKNGKITVT</td>\n",
       "      <td>1.11</td>\n",
       "    </tr>\n",
       "    <tr>\n",
       "      <th>...</th>\n",
       "      <td>...</td>\n",
       "      <td>...</td>\n",
       "    </tr>\n",
       "    <tr>\n",
       "      <th>7705</th>\n",
       "      <td>GSSKTQYEYDTKEEHQKAYEKFKKQGIPVTITQKNGKWFVQVE</td>\n",
       "      <td>0.80</td>\n",
       "    </tr>\n",
       "    <tr>\n",
       "      <th>7706</th>\n",
       "      <td>TIDEIIKALEQAVKDNKPIQVGNYTVTSADEAEKLAKKLKKPY</td>\n",
       "      <td>0.82</td>\n",
       "    </tr>\n",
       "    <tr>\n",
       "      <th>7707</th>\n",
       "      <td>TQDEIIKALEQAVKDNKPIQVGNYTVTSADEAEKLAKKLKKEY</td>\n",
       "      <td>0.66</td>\n",
       "    </tr>\n",
       "    <tr>\n",
       "      <th>7708</th>\n",
       "      <td>TTIKVNGQEYTVPLSPEQAAKAAKKRWPDYEVQIHGNTVWVTR</td>\n",
       "      <td>1.05</td>\n",
       "    </tr>\n",
       "    <tr>\n",
       "      <th>7709</th>\n",
       "      <td>GSSTTWYRFTDEEEARRAAKEWARRGYQVHVTQNGTYWEVEVR</td>\n",
       "      <td>1.69</td>\n",
       "    </tr>\n",
       "  </tbody>\n",
       "</table>\n",
       "<p>7710 rows × 2 columns</p>\n",
       "</div>"
      ],
      "text/plain": [
       "                                         sequence  consensus_stability_score\n",
       "0     GSSQETIEVEDEEEARRVAKELRKKGYEVKDERRGNKWHVHRT                       0.37\n",
       "1     TLDEARELVERAKKEGTGMDVNGQRFEDWREAERWVREQEKNK                       0.62\n",
       "2     TELKKKLEEALKKGEEVRVKFNGIEIRNTSEDAARKAVELLEK                      -0.03\n",
       "3     GSSQETIEVEDEEEARRVAKELRKTGYEVKIERRGNKWHVHRT                       1.41\n",
       "4     TTIHVGDLTLKYDNPKKAYEIAKKLAKKYNLQVTIKNGKITVT                       1.11\n",
       "...                                           ...                        ...\n",
       "7705  GSSKTQYEYDTKEEHQKAYEKFKKQGIPVTITQKNGKWFVQVE                       0.80\n",
       "7706  TIDEIIKALEQAVKDNKPIQVGNYTVTSADEAEKLAKKLKKPY                       0.82\n",
       "7707  TQDEIIKALEQAVKDNKPIQVGNYTVTSADEAEKLAKKLKKEY                       0.66\n",
       "7708  TTIKVNGQEYTVPLSPEQAAKAAKKRWPDYEVQIHGNTVWVTR                       1.05\n",
       "7709  GSSTTWYRFTDEEEARRAAKEWARRGYQVHVTQNGTYWEVEVR                       1.69\n",
       "\n",
       "[7710 rows x 2 columns]"
      ]
     },
     "execution_count": 49,
     "metadata": {},
     "output_type": "execute_result"
    }
   ],
   "source": [
    "def open_sets(base_path):\n",
    "    sets = {}\n",
    "\n",
    "    for path in base_path.glob('*.csv'):\n",
    "        fname = path.stem\n",
    "        kind = fname.split('_')[1]\n",
    "\n",
    "        df = pd.read_csv(path)\n",
    "        sets[kind] = df\n",
    "        \n",
    "    return sets\n",
    "\n",
    "sets = open_sets(data_path)\n",
    "sets['train']"
   ]
  },
  {
   "cell_type": "markdown",
   "id": "3b6204e9",
   "metadata": {},
   "source": [
    "## Data Duplication"
   ]
  },
  {
   "cell_type": "code",
   "execution_count": 4,
   "id": "d2e22419",
   "metadata": {
    "ExecuteTime": {
     "end_time": "2021-07-14T17:40:11.875150Z",
     "start_time": "2021-07-14T17:40:11.870125Z"
    }
   },
   "outputs": [
    {
     "data": {
      "text/plain": [
       "False"
      ]
     },
     "execution_count": 4,
     "metadata": {},
     "output_type": "execute_result"
    }
   ],
   "source": [
    "len(sets['train']['sequence'].unique()) != len(sets['train'])"
   ]
  },
  {
   "cell_type": "markdown",
   "id": "b325a5a5",
   "metadata": {},
   "source": [
    "## Alignments"
   ]
  },
  {
   "cell_type": "code",
   "execution_count": 19,
   "id": "cb4d9217",
   "metadata": {
    "ExecuteTime": {
     "end_time": "2021-07-14T17:45:06.310343Z",
     "start_time": "2021-07-14T17:45:06.301594Z"
    },
    "scrolled": true
   },
   "outputs": [
    {
     "name": "stdout",
     "output_type": "stream",
     "text": [
      "GSSQETIEVE-DEEEARRVAKEL--R-KKGYEVK----D------E--R---RGNKWHVHRT------\n",
      "     |     |  || |   ||  | ||  |      |      |  |   |   | | |       \n",
      "-----T----LD--EA-R---ELVERAKK--E--GTGMDVNGQRFEDWREAER---W-V-R-EQEKNK\n",
      "  Score=18\n",
      "\n"
     ]
    }
   ],
   "source": [
    "from Bio import pairwise2\n",
    "\n",
    "alignment = pairwise2.align.globalxx(sets['train']['sequence'][0], sets['train']['sequence'][1])\n",
    "print(pairwise2.format_alignment(*alignment[0]))"
   ]
  },
  {
   "cell_type": "markdown",
   "id": "746ff177",
   "metadata": {},
   "source": [
    "## Score per metrics\n",
    "\n",
    "* More unique values => more stability?\n",
    "* Does sequence lenght matter?\n"
   ]
  },
  {
   "cell_type": "code",
   "execution_count": 5,
   "id": "b2e0f80d",
   "metadata": {
    "ExecuteTime": {
     "end_time": "2021-07-14T17:40:11.879011Z",
     "start_time": "2021-07-14T17:40:11.875993Z"
    }
   },
   "outputs": [],
   "source": [
    "def append_to_key(d, k, v):\n",
    "    if k in d:\n",
    "        values = d[k]\n",
    "        values.append(v)\n",
    "        d[k] = values\n",
    "        \n",
    "    else:\n",
    "        d[k] = [v]\n",
    "        \n",
    "def compute_mean_scores(d):\n",
    "    new_d = dict()\n",
    "    for k in d:\n",
    "        mean_score = np.mean(d[k])\n",
    "        new_d[k] = (mean_score, len(d[k]))\n",
    "        \n",
    "    return  OrderedDict(sorted(new_d.items()))"
   ]
  },
  {
   "cell_type": "code",
   "execution_count": 7,
   "id": "ffa9af68",
   "metadata": {
    "ExecuteTime": {
     "end_time": "2021-07-14T17:40:20.289891Z",
     "start_time": "2021-07-14T17:40:20.109747Z"
    }
   },
   "outputs": [],
   "source": [
    "score_per_length = dict()\n",
    "score_per_uniqueness = dict()\n",
    "\n",
    "for idx, (seq, score) in sets['train'].iterrows():\n",
    "    # score_per_length\n",
    "    size = len(seq)\n",
    "    append_to_key(score_per_length, size, score)\n",
    "    \n",
    "    \n",
    "    # score_per_uniqueness\n",
    "    uniques = set(seq)\n",
    "    uniq_size = len(uniques)\n",
    "    \n",
    "    append_to_key(score_per_uniqueness, uniq_size, score)\n",
    "    \n",
    "    # count unique aminoacids\n",
    "    for amino in uniques:\n",
    "        uniques.add(amino)\n"
   ]
  },
  {
   "cell_type": "code",
   "execution_count": 8,
   "id": "8e3e76ca",
   "metadata": {
    "ExecuteTime": {
     "end_time": "2021-07-14T17:40:21.196302Z",
     "start_time": "2021-07-14T17:40:21.193489Z"
    }
   },
   "outputs": [
    {
     "data": {
      "text/plain": [
       "OrderedDict([(43, (1.0939332224993072, 7218)),\n",
       "             (46, (0.5659959349593496, 492))])"
      ]
     },
     "execution_count": 8,
     "metadata": {},
     "output_type": "execute_result"
    }
   ],
   "source": [
    "compute_mean_scores(score_per_length)"
   ]
  },
  {
   "cell_type": "code",
   "execution_count": 9,
   "id": "7c359b44",
   "metadata": {
    "ExecuteTime": {
     "end_time": "2021-07-14T17:40:21.712437Z",
     "start_time": "2021-07-14T17:40:21.709391Z"
    }
   },
   "outputs": [
    {
     "data": {
      "text/plain": [
       "OrderedDict([(11, (1.1877272727272727, 22)),\n",
       "             (12, (1.1719895287958115, 382)),\n",
       "             (13, (1.1024068598462446, 1691)),\n",
       "             (14, (1.04685173089484, 1531)),\n",
       "             (15, (1.1661388550548113, 1642)),\n",
       "             (16, (1.1496199999999999, 1000)),\n",
       "             (17, (0.7856092436974791, 476)),\n",
       "             (18, (0.8948214285714284, 168)),\n",
       "             (19, (0.8083333333333332, 798))])"
      ]
     },
     "execution_count": 9,
     "metadata": {},
     "output_type": "execute_result"
    }
   ],
   "source": [
    "compute_mean_scores(score_per_uniqueness)"
   ]
  },
  {
   "cell_type": "markdown",
   "id": "63ce2968",
   "metadata": {},
   "source": [
    "## By Score"
   ]
  },
  {
   "cell_type": "code",
   "execution_count": 41,
   "id": "f6a78f62",
   "metadata": {
    "ExecuteTime": {
     "end_time": "2021-07-14T17:48:40.232873Z",
     "start_time": "2021-07-14T17:48:40.229908Z"
    }
   },
   "outputs": [],
   "source": [
    "sorted_train = sets['train'].sort_values(by='consensus_stability_score').reset_index()"
   ]
  },
  {
   "cell_type": "code",
   "execution_count": 48,
   "id": "929db5b5",
   "metadata": {
    "ExecuteTime": {
     "end_time": "2021-07-14T17:49:30.542427Z",
     "start_time": "2021-07-14T17:49:30.530094Z"
    }
   },
   "outputs": [
    {
     "name": "stdout",
     "output_type": "stream",
     "text": [
      "RKWEE--IA-----ER----LREEFNIN-PEE-AREAVEKAGGNEEEAR--R-P---VK-------K--RL\n",
      "       |      |     |        | | |  |  ||      |   | |   |        |  | \n",
      "-----TTI-KVNGQE-YTVPL-------SP-EQA--A--KA------A-KKRWPDYEV-QIHGNTYKVTR-\n",
      "  Score=15\n",
      "\n"
     ]
    },
    {
     "data": {
      "text/html": [
       "<div>\n",
       "<style scoped>\n",
       "    .dataframe tbody tr th:only-of-type {\n",
       "        vertical-align: middle;\n",
       "    }\n",
       "\n",
       "    .dataframe tbody tr th {\n",
       "        vertical-align: top;\n",
       "    }\n",
       "\n",
       "    .dataframe thead th {\n",
       "        text-align: right;\n",
       "    }\n",
       "</style>\n",
       "<table border=\"1\" class=\"dataframe\">\n",
       "  <thead>\n",
       "    <tr style=\"text-align: right;\">\n",
       "      <th></th>\n",
       "      <th>index</th>\n",
       "      <th>sequence</th>\n",
       "      <th>consensus_stability_score</th>\n",
       "    </tr>\n",
       "  </thead>\n",
       "  <tbody>\n",
       "    <tr>\n",
       "      <th>0</th>\n",
       "      <td>5537</td>\n",
       "      <td>RKWEEIAERLREEFNINPEEAREAVEKAGGNEEEARRPVKKRL</td>\n",
       "      <td>-0.26</td>\n",
       "    </tr>\n",
       "    <tr>\n",
       "      <th>1</th>\n",
       "      <td>122</td>\n",
       "      <td>TTIKVNGQEYTVPLSPEQAAKAAKKRWPDYEVQIHGNTYKVTR</td>\n",
       "      <td>-0.13</td>\n",
       "    </tr>\n",
       "    <tr>\n",
       "      <th>2</th>\n",
       "      <td>7529</td>\n",
       "      <td>TELKKKREEALKKGEEVRVKFNGIEIRITSEDAARKAVELLEK</td>\n",
       "      <td>-0.12</td>\n",
       "    </tr>\n",
       "    <tr>\n",
       "      <th>3</th>\n",
       "      <td>2520</td>\n",
       "      <td>GMADEEKLPPGWESRMSRSSGRVYYFNHITNASQWERPSGGSS</td>\n",
       "      <td>-0.11</td>\n",
       "    </tr>\n",
       "    <tr>\n",
       "      <th>4</th>\n",
       "      <td>2471</td>\n",
       "      <td>GSSGSLSDEDFKAVFGMTRSAFANLPLWKQQNPKKEKGLFGSS</td>\n",
       "      <td>-0.10</td>\n",
       "    </tr>\n",
       "    <tr>\n",
       "      <th>5</th>\n",
       "      <td>6493</td>\n",
       "      <td>GSSGSLSDEDFKAVGGMTRSAFANLPLWKQQNLKKEKGLFGSS</td>\n",
       "      <td>-0.10</td>\n",
       "    </tr>\n",
       "    <tr>\n",
       "      <th>6</th>\n",
       "      <td>4036</td>\n",
       "      <td>GSSGSLSDEDFKAVDGMTRSAFANLPLWKQQNLKKEKGLFGSS</td>\n",
       "      <td>-0.10</td>\n",
       "    </tr>\n",
       "    <tr>\n",
       "      <th>7</th>\n",
       "      <td>643</td>\n",
       "      <td>TELKKKLEEALKKGEEVRVKFNGIEIRDTSEDAARKAVELLEK</td>\n",
       "      <td>-0.10</td>\n",
       "    </tr>\n",
       "    <tr>\n",
       "      <th>8</th>\n",
       "      <td>2442</td>\n",
       "      <td>GSSGSLSDEDFKAVEGMTRSAFANLPLWKQQNLKKEKGLFGSS</td>\n",
       "      <td>-0.09</td>\n",
       "    </tr>\n",
       "    <tr>\n",
       "      <th>9</th>\n",
       "      <td>5356</td>\n",
       "      <td>GSSGSLSDEDFKAVFPMTRSAFANLPLWKQQNLKKEKGLFGSS</td>\n",
       "      <td>-0.09</td>\n",
       "    </tr>\n",
       "    <tr>\n",
       "      <th>10</th>\n",
       "      <td>7212</td>\n",
       "      <td>GSSGSLSDEDFKAVFGMTRSAFANLPLWKQQNDKKEKGLFGSS</td>\n",
       "      <td>-0.09</td>\n",
       "    </tr>\n",
       "    <tr>\n",
       "      <th>11</th>\n",
       "      <td>6337</td>\n",
       "      <td>TELKKKLEEALKKGEEVRVKFNGIERRITSEDAARKAVELLEK</td>\n",
       "      <td>-0.08</td>\n",
       "    </tr>\n",
       "    <tr>\n",
       "      <th>12</th>\n",
       "      <td>2785</td>\n",
       "      <td>TELKKKLEEALKKGEEVRVKFNGIEIRRTSEDAARKAVELLEK</td>\n",
       "      <td>-0.08</td>\n",
       "    </tr>\n",
       "    <tr>\n",
       "      <th>13</th>\n",
       "      <td>55</td>\n",
       "      <td>GSSGSLSDEDFKAVKGMTRSAFANLPLWKQQNLKKEKGLFGSS</td>\n",
       "      <td>-0.07</td>\n",
       "    </tr>\n",
       "    <tr>\n",
       "      <th>14</th>\n",
       "      <td>3913</td>\n",
       "      <td>RKWEEIAERPREEFNINPEEAREAVEKAGGNEEEARRIVKKRL</td>\n",
       "      <td>-0.07</td>\n",
       "    </tr>\n",
       "    <tr>\n",
       "      <th>15</th>\n",
       "      <td>7403</td>\n",
       "      <td>RKWEEIAERLREEFNINPEEAREAVEKAGGNEEEPRRIVKKRL</td>\n",
       "      <td>-0.04</td>\n",
       "    </tr>\n",
       "    <tr>\n",
       "      <th>16</th>\n",
       "      <td>4048</td>\n",
       "      <td>GSSGSLSDEDFKAVFGMTRSAFANLPLWKSQNLKKEKGLFGSS</td>\n",
       "      <td>-0.03</td>\n",
       "    </tr>\n",
       "    <tr>\n",
       "      <th>17</th>\n",
       "      <td>2</td>\n",
       "      <td>TELKKKLEEALKKGEEVRVKFNGIEIRNTSEDAARKAVELLEK</td>\n",
       "      <td>-0.03</td>\n",
       "    </tr>\n",
       "    <tr>\n",
       "      <th>18</th>\n",
       "      <td>5080</td>\n",
       "      <td>GSSGSLSDEDFKAVFGNTRSAFANLPLWKQQNLKKEKGLFGSS</td>\n",
       "      <td>-0.02</td>\n",
       "    </tr>\n",
       "    <tr>\n",
       "      <th>19</th>\n",
       "      <td>7363</td>\n",
       "      <td>TEVHLGDIKLKYPNPEQAKKAAEKLAQKYNLTWTVIGDYVKRE</td>\n",
       "      <td>-0.02</td>\n",
       "    </tr>\n",
       "  </tbody>\n",
       "</table>\n",
       "</div>"
      ],
      "text/plain": [
       "    index                                     sequence  \\\n",
       "0    5537  RKWEEIAERLREEFNINPEEAREAVEKAGGNEEEARRPVKKRL   \n",
       "1     122  TTIKVNGQEYTVPLSPEQAAKAAKKRWPDYEVQIHGNTYKVTR   \n",
       "2    7529  TELKKKREEALKKGEEVRVKFNGIEIRITSEDAARKAVELLEK   \n",
       "3    2520  GMADEEKLPPGWESRMSRSSGRVYYFNHITNASQWERPSGGSS   \n",
       "4    2471  GSSGSLSDEDFKAVFGMTRSAFANLPLWKQQNPKKEKGLFGSS   \n",
       "5    6493  GSSGSLSDEDFKAVGGMTRSAFANLPLWKQQNLKKEKGLFGSS   \n",
       "6    4036  GSSGSLSDEDFKAVDGMTRSAFANLPLWKQQNLKKEKGLFGSS   \n",
       "7     643  TELKKKLEEALKKGEEVRVKFNGIEIRDTSEDAARKAVELLEK   \n",
       "8    2442  GSSGSLSDEDFKAVEGMTRSAFANLPLWKQQNLKKEKGLFGSS   \n",
       "9    5356  GSSGSLSDEDFKAVFPMTRSAFANLPLWKQQNLKKEKGLFGSS   \n",
       "10   7212  GSSGSLSDEDFKAVFGMTRSAFANLPLWKQQNDKKEKGLFGSS   \n",
       "11   6337  TELKKKLEEALKKGEEVRVKFNGIERRITSEDAARKAVELLEK   \n",
       "12   2785  TELKKKLEEALKKGEEVRVKFNGIEIRRTSEDAARKAVELLEK   \n",
       "13     55  GSSGSLSDEDFKAVKGMTRSAFANLPLWKQQNLKKEKGLFGSS   \n",
       "14   3913  RKWEEIAERPREEFNINPEEAREAVEKAGGNEEEARRIVKKRL   \n",
       "15   7403  RKWEEIAERLREEFNINPEEAREAVEKAGGNEEEPRRIVKKRL   \n",
       "16   4048  GSSGSLSDEDFKAVFGMTRSAFANLPLWKSQNLKKEKGLFGSS   \n",
       "17      2  TELKKKLEEALKKGEEVRVKFNGIEIRNTSEDAARKAVELLEK   \n",
       "18   5080  GSSGSLSDEDFKAVFGNTRSAFANLPLWKQQNLKKEKGLFGSS   \n",
       "19   7363  TEVHLGDIKLKYPNPEQAKKAAEKLAQKYNLTWTVIGDYVKRE   \n",
       "\n",
       "    consensus_stability_score  \n",
       "0                       -0.26  \n",
       "1                       -0.13  \n",
       "2                       -0.12  \n",
       "3                       -0.11  \n",
       "4                       -0.10  \n",
       "5                       -0.10  \n",
       "6                       -0.10  \n",
       "7                       -0.10  \n",
       "8                       -0.09  \n",
       "9                       -0.09  \n",
       "10                      -0.09  \n",
       "11                      -0.08  \n",
       "12                      -0.08  \n",
       "13                      -0.07  \n",
       "14                      -0.07  \n",
       "15                      -0.04  \n",
       "16                      -0.03  \n",
       "17                      -0.03  \n",
       "18                      -0.02  \n",
       "19                      -0.02  "
      ]
     },
     "execution_count": 48,
     "metadata": {},
     "output_type": "execute_result"
    }
   ],
   "source": [
    "alignment = pairwise2.align.globalxx(sorted_train['sequence'][0], sorted_train['sequence'][1])\n",
    "print(pairwise2.format_alignment(*alignment[0]))\n",
    "\n",
    "sorted_train.head(20)"
   ]
  },
  {
   "cell_type": "code",
   "execution_count": 47,
   "id": "d8d836e3",
   "metadata": {
    "ExecuteTime": {
     "end_time": "2021-07-14T17:49:24.760162Z",
     "start_time": "2021-07-14T17:49:24.752923Z"
    }
   },
   "outputs": [
    {
     "name": "stdout",
     "output_type": "stream",
     "text": [
      "GSSET-RYRFTDEEE-ARRAAKEWARRGYQVHVTQNGTYWEVEVR\n",
      "||| | |||||| || |||||||||||||||||||||||||||||\n",
      "GSS-TTRYRFTD-EEKARRAAKEWARRGYQVHVTQNGTYWEVEVR\n",
      "  Score=41\n",
      "\n"
     ]
    },
    {
     "data": {
      "text/html": [
       "<div>\n",
       "<style scoped>\n",
       "    .dataframe tbody tr th:only-of-type {\n",
       "        vertical-align: middle;\n",
       "    }\n",
       "\n",
       "    .dataframe tbody tr th {\n",
       "        vertical-align: top;\n",
       "    }\n",
       "\n",
       "    .dataframe thead th {\n",
       "        text-align: right;\n",
       "    }\n",
       "</style>\n",
       "<table border=\"1\" class=\"dataframe\">\n",
       "  <thead>\n",
       "    <tr style=\"text-align: right;\">\n",
       "      <th></th>\n",
       "      <th>index</th>\n",
       "      <th>sequence</th>\n",
       "      <th>consensus_stability_score</th>\n",
       "    </tr>\n",
       "  </thead>\n",
       "  <tbody>\n",
       "    <tr>\n",
       "      <th>7690</th>\n",
       "      <td>1367</td>\n",
       "      <td>ERRKIEEIAKKLYQSGNPEAARRFLRKRGISEEEIERILQKAG</td>\n",
       "      <td>1.86</td>\n",
       "    </tr>\n",
       "    <tr>\n",
       "      <th>7691</th>\n",
       "      <td>7209</td>\n",
       "      <td>ERRKIEEIAWKLYQSGNPEAARRFLRKAGISEEEIERILQKAG</td>\n",
       "      <td>1.87</td>\n",
       "    </tr>\n",
       "    <tr>\n",
       "      <th>7692</th>\n",
       "      <td>3917</td>\n",
       "      <td>GSSKTQYEYDTKEEAQKAYFKFKKQGIPVTITQKNGKWFVQVE</td>\n",
       "      <td>1.87</td>\n",
       "    </tr>\n",
       "    <tr>\n",
       "      <th>7693</th>\n",
       "      <td>401</td>\n",
       "      <td>GSSKTQYEYDTKEKAQKAYEKFKKQGIPVTITQKNGKWFVQVE</td>\n",
       "      <td>1.88</td>\n",
       "    </tr>\n",
       "    <tr>\n",
       "      <th>7694</th>\n",
       "      <td>2842</td>\n",
       "      <td>ERRKIEEIAFKLYQSGNPEAARRFLRKAGISEEEIERILQKAG</td>\n",
       "      <td>1.88</td>\n",
       "    </tr>\n",
       "    <tr>\n",
       "      <th>7695</th>\n",
       "      <td>2199</td>\n",
       "      <td>ERRKIEEIAYKLYQSGNPEAARRFLRKAGISEEEIERILQKAG</td>\n",
       "      <td>1.88</td>\n",
       "    </tr>\n",
       "    <tr>\n",
       "      <th>7696</th>\n",
       "      <td>6055</td>\n",
       "      <td>GSSKTQYEYDTKEEAQKAYEKFKKQGIMVTITQKNGKWFVQVE</td>\n",
       "      <td>1.88</td>\n",
       "    </tr>\n",
       "    <tr>\n",
       "      <th>7697</th>\n",
       "      <td>3094</td>\n",
       "      <td>GSSTTRYRFTDEEEARRYAKEWARRGYQVHVTQNGTYWEVEVR</td>\n",
       "      <td>1.90</td>\n",
       "    </tr>\n",
       "    <tr>\n",
       "      <th>7698</th>\n",
       "      <td>3512</td>\n",
       "      <td>GSSTTRYRFTDEEEARRWAKEWARRGYQVHVTQNGTYWEVEVR</td>\n",
       "      <td>1.90</td>\n",
       "    </tr>\n",
       "    <tr>\n",
       "      <th>7699</th>\n",
       "      <td>5293</td>\n",
       "      <td>GSSQETIEVEDEEEARRVAKELRKKGYQVKIERRGNKWHVHRT</td>\n",
       "      <td>1.93</td>\n",
       "    </tr>\n",
       "    <tr>\n",
       "      <th>7700</th>\n",
       "      <td>1863</td>\n",
       "      <td>GSSQETIEVEDEEEARRVAKELRKKGYEVKIFRRGNKWHVHRT</td>\n",
       "      <td>1.94</td>\n",
       "    </tr>\n",
       "    <tr>\n",
       "      <th>7701</th>\n",
       "      <td>4416</td>\n",
       "      <td>GSSKTQYEYDTKEEAQKAYELFKKQGIPVTITQKNGKWFVQVE</td>\n",
       "      <td>1.98</td>\n",
       "    </tr>\n",
       "    <tr>\n",
       "      <th>7702</th>\n",
       "      <td>4341</td>\n",
       "      <td>GSSKTQYEYDTKEEAQKAYEKFKKQGIPVTITQKNGKWRVQVE</td>\n",
       "      <td>2.00</td>\n",
       "    </tr>\n",
       "    <tr>\n",
       "      <th>7703</th>\n",
       "      <td>6772</td>\n",
       "      <td>GSSKTQYEYDTKEEAQKAYEKFKKQGIPVTITQANGKWFVQVE</td>\n",
       "      <td>2.04</td>\n",
       "    </tr>\n",
       "    <tr>\n",
       "      <th>7704</th>\n",
       "      <td>3826</td>\n",
       "      <td>GSSKTQYEYDTKEEAQKAYHKFKKQGIPVTITQKNGKWFVQVE</td>\n",
       "      <td>2.09</td>\n",
       "    </tr>\n",
       "    <tr>\n",
       "      <th>7705</th>\n",
       "      <td>5218</td>\n",
       "      <td>ERRKIEEIAKKLYQSGNPEAARWFLRKAGISEEEIERILQKAG</td>\n",
       "      <td>2.13</td>\n",
       "    </tr>\n",
       "    <tr>\n",
       "      <th>7706</th>\n",
       "      <td>7132</td>\n",
       "      <td>ERRKIEEIAKKLYQSGNPEAARKFLRKAGISEEEIERILQKAG</td>\n",
       "      <td>2.20</td>\n",
       "    </tr>\n",
       "    <tr>\n",
       "      <th>7707</th>\n",
       "      <td>1541</td>\n",
       "      <td>GSSKTQYEYDTKEEAQKAYEKFKRQGIPVTITQKNGKWFVQVE</td>\n",
       "      <td>2.28</td>\n",
       "    </tr>\n",
       "    <tr>\n",
       "      <th>7708</th>\n",
       "      <td>575</td>\n",
       "      <td>GSSTTRYRFTDEEKARRAAKEWARRGYQVHVTQNGTYWEVEVR</td>\n",
       "      <td>2.47</td>\n",
       "    </tr>\n",
       "    <tr>\n",
       "      <th>7709</th>\n",
       "      <td>3655</td>\n",
       "      <td>GSSETRYRFTDEEEARRAAKEWARRGYQVHVTQNGTYWEVEVR</td>\n",
       "      <td>2.49</td>\n",
       "    </tr>\n",
       "  </tbody>\n",
       "</table>\n",
       "</div>"
      ],
      "text/plain": [
       "      index                                     sequence  \\\n",
       "7690   1367  ERRKIEEIAKKLYQSGNPEAARRFLRKRGISEEEIERILQKAG   \n",
       "7691   7209  ERRKIEEIAWKLYQSGNPEAARRFLRKAGISEEEIERILQKAG   \n",
       "7692   3917  GSSKTQYEYDTKEEAQKAYFKFKKQGIPVTITQKNGKWFVQVE   \n",
       "7693    401  GSSKTQYEYDTKEKAQKAYEKFKKQGIPVTITQKNGKWFVQVE   \n",
       "7694   2842  ERRKIEEIAFKLYQSGNPEAARRFLRKAGISEEEIERILQKAG   \n",
       "7695   2199  ERRKIEEIAYKLYQSGNPEAARRFLRKAGISEEEIERILQKAG   \n",
       "7696   6055  GSSKTQYEYDTKEEAQKAYEKFKKQGIMVTITQKNGKWFVQVE   \n",
       "7697   3094  GSSTTRYRFTDEEEARRYAKEWARRGYQVHVTQNGTYWEVEVR   \n",
       "7698   3512  GSSTTRYRFTDEEEARRWAKEWARRGYQVHVTQNGTYWEVEVR   \n",
       "7699   5293  GSSQETIEVEDEEEARRVAKELRKKGYQVKIERRGNKWHVHRT   \n",
       "7700   1863  GSSQETIEVEDEEEARRVAKELRKKGYEVKIFRRGNKWHVHRT   \n",
       "7701   4416  GSSKTQYEYDTKEEAQKAYELFKKQGIPVTITQKNGKWFVQVE   \n",
       "7702   4341  GSSKTQYEYDTKEEAQKAYEKFKKQGIPVTITQKNGKWRVQVE   \n",
       "7703   6772  GSSKTQYEYDTKEEAQKAYEKFKKQGIPVTITQANGKWFVQVE   \n",
       "7704   3826  GSSKTQYEYDTKEEAQKAYHKFKKQGIPVTITQKNGKWFVQVE   \n",
       "7705   5218  ERRKIEEIAKKLYQSGNPEAARWFLRKAGISEEEIERILQKAG   \n",
       "7706   7132  ERRKIEEIAKKLYQSGNPEAARKFLRKAGISEEEIERILQKAG   \n",
       "7707   1541  GSSKTQYEYDTKEEAQKAYEKFKRQGIPVTITQKNGKWFVQVE   \n",
       "7708    575  GSSTTRYRFTDEEKARRAAKEWARRGYQVHVTQNGTYWEVEVR   \n",
       "7709   3655  GSSETRYRFTDEEEARRAAKEWARRGYQVHVTQNGTYWEVEVR   \n",
       "\n",
       "      consensus_stability_score  \n",
       "7690                       1.86  \n",
       "7691                       1.87  \n",
       "7692                       1.87  \n",
       "7693                       1.88  \n",
       "7694                       1.88  \n",
       "7695                       1.88  \n",
       "7696                       1.88  \n",
       "7697                       1.90  \n",
       "7698                       1.90  \n",
       "7699                       1.93  \n",
       "7700                       1.94  \n",
       "7701                       1.98  \n",
       "7702                       2.00  \n",
       "7703                       2.04  \n",
       "7704                       2.09  \n",
       "7705                       2.13  \n",
       "7706                       2.20  \n",
       "7707                       2.28  \n",
       "7708                       2.47  \n",
       "7709                       2.49  "
      ]
     },
     "execution_count": 47,
     "metadata": {},
     "output_type": "execute_result"
    }
   ],
   "source": [
    "alignment = pairwise2.align.globalxx(\n",
    "    sorted_train['sequence'][len(sorted_train)-1], \n",
    "    sorted_train['sequence'][len(sorted_train)-2]\n",
    ")\n",
    "\n",
    "print(pairwise2.format_alignment(*alignment[0]))\n",
    "\n",
    "sorted_train.tail(20)"
   ]
  },
  {
   "cell_type": "markdown",
   "id": "deee02dc",
   "metadata": {},
   "source": [
    "* Diversity Maximizing: This is a greedy strategy which starts from the reference and adds the sequence with highest average hamming distance to current set of sequences.\n",
    "\n",
    "* Diversity Minimizing: This strategy is equivalent to the Diversity Maximizing strategy, but adds the se- quence with lowest average hamming distance. It is used to explore the effects of diversity on model per- formance.\n",
    "\n",
    "* HHFilter: This strategy applies hhfilter (Steinegger etal.,2019)withthe-diff Mparameter,whichre- turns M or more sequences that maximize diversity (the result is usually close to M). If more than M sequences are returned we apply the Diversity Maxi- mizing strategy on top of the output."
   ]
  },
  {
   "cell_type": "code",
   "execution_count": null,
   "id": "f3e9211a",
   "metadata": {},
   "outputs": [],
   "source": []
  }
 ],
 "metadata": {
  "kernelspec": {
   "display_name": "Python [conda env:protera]",
   "language": "python",
   "name": "conda-env-protera-py"
  },
  "language_info": {
   "codemirror_mode": {
    "name": "ipython",
    "version": 3
   },
   "file_extension": ".py",
   "mimetype": "text/x-python",
   "name": "python",
   "nbconvert_exporter": "python",
   "pygments_lexer": "ipython3",
   "version": "3.9.6"
  }
 },
 "nbformat": 4,
 "nbformat_minor": 5
}
