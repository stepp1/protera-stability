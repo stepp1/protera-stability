{
 "cells": [
  {
   "cell_type": "code",
   "execution_count": 1,
   "id": "5ff86e16",
   "metadata": {
    "ExecuteTime": {
     "end_time": "2021-07-14T19:58:07.142586Z",
     "start_time": "2021-07-14T19:57:55.956925Z"
    }
   },
   "outputs": [
    {
     "name": "stderr",
     "output_type": "stream",
     "text": [
      "Using cache found in /home/step/.cache/torch/hub/facebookresearch_esm_master\n"
     ]
    }
   ],
   "source": [
    "import torch\n",
    "import esm\n",
    "\n",
    "# Load ESM-1b model\n",
    "model, alphabet = torch.hub.load(\"facebookresearch/esm\", \"esm1b_t33_650M_UR50S\")\n",
    "model.cuda()\n",
    "batch_converter = alphabet.get_batch_converter()"
   ]
  },
  {
   "cell_type": "code",
   "execution_count": 6,
   "id": "a32d7b3b",
   "metadata": {
    "ExecuteTime": {
     "end_time": "2021-07-14T19:59:23.748082Z",
     "start_time": "2021-07-14T19:59:23.728447Z"
    }
   },
   "outputs": [
    {
     "data": {
      "text/html": [
       "<div>\n",
       "<style scoped>\n",
       "    .dataframe tbody tr th:only-of-type {\n",
       "        vertical-align: middle;\n",
       "    }\n",
       "\n",
       "    .dataframe tbody tr th {\n",
       "        vertical-align: top;\n",
       "    }\n",
       "\n",
       "    .dataframe thead th {\n",
       "        text-align: right;\n",
       "    }\n",
       "</style>\n",
       "<table border=\"1\" class=\"dataframe\">\n",
       "  <thead>\n",
       "    <tr style=\"text-align: right;\">\n",
       "      <th></th>\n",
       "      <th>consensus_stability_score</th>\n",
       "      <th>sequence</th>\n",
       "    </tr>\n",
       "  </thead>\n",
       "  <tbody>\n",
       "    <tr>\n",
       "      <th>0</th>\n",
       "      <td>0.37</td>\n",
       "      <td>GSSQETIEVEDEEEARRVAKELRKKGYEVKDERRGNKWHVHRT</td>\n",
       "    </tr>\n",
       "    <tr>\n",
       "      <th>1</th>\n",
       "      <td>0.62</td>\n",
       "      <td>TLDEARELVERAKKEGTGMDVNGQRFEDWREAERWVREQEKNK</td>\n",
       "    </tr>\n",
       "    <tr>\n",
       "      <th>2</th>\n",
       "      <td>-0.03</td>\n",
       "      <td>TELKKKLEEALKKGEEVRVKFNGIEIRNTSEDAARKAVELLEK</td>\n",
       "    </tr>\n",
       "    <tr>\n",
       "      <th>3</th>\n",
       "      <td>1.41</td>\n",
       "      <td>GSSQETIEVEDEEEARRVAKELRKTGYEVKIERRGNKWHVHRT</td>\n",
       "    </tr>\n",
       "    <tr>\n",
       "      <th>4</th>\n",
       "      <td>1.11</td>\n",
       "      <td>TTIHVGDLTLKYDNPKKAYEIAKKLAKKYNLQVTIKNGKITVT</td>\n",
       "    </tr>\n",
       "    <tr>\n",
       "      <th>...</th>\n",
       "      <td>...</td>\n",
       "      <td>...</td>\n",
       "    </tr>\n",
       "    <tr>\n",
       "      <th>7705</th>\n",
       "      <td>0.80</td>\n",
       "      <td>GSSKTQYEYDTKEEHQKAYEKFKKQGIPVTITQKNGKWFVQVE</td>\n",
       "    </tr>\n",
       "    <tr>\n",
       "      <th>7706</th>\n",
       "      <td>0.82</td>\n",
       "      <td>TIDEIIKALEQAVKDNKPIQVGNYTVTSADEAEKLAKKLKKPY</td>\n",
       "    </tr>\n",
       "    <tr>\n",
       "      <th>7707</th>\n",
       "      <td>0.66</td>\n",
       "      <td>TQDEIIKALEQAVKDNKPIQVGNYTVTSADEAEKLAKKLKKEY</td>\n",
       "    </tr>\n",
       "    <tr>\n",
       "      <th>7708</th>\n",
       "      <td>1.05</td>\n",
       "      <td>TTIKVNGQEYTVPLSPEQAAKAAKKRWPDYEVQIHGNTVWVTR</td>\n",
       "    </tr>\n",
       "    <tr>\n",
       "      <th>7709</th>\n",
       "      <td>1.69</td>\n",
       "      <td>GSSTTWYRFTDEEEARRAAKEWARRGYQVHVTQNGTYWEVEVR</td>\n",
       "    </tr>\n",
       "  </tbody>\n",
       "</table>\n",
       "<p>7710 rows × 2 columns</p>\n",
       "</div>"
      ],
      "text/plain": [
       "      consensus_stability_score                                     sequence\n",
       "0                          0.37  GSSQETIEVEDEEEARRVAKELRKKGYEVKDERRGNKWHVHRT\n",
       "1                          0.62  TLDEARELVERAKKEGTGMDVNGQRFEDWREAERWVREQEKNK\n",
       "2                         -0.03  TELKKKLEEALKKGEEVRVKFNGIEIRNTSEDAARKAVELLEK\n",
       "3                          1.41  GSSQETIEVEDEEEARRVAKELRKTGYEVKIERRGNKWHVHRT\n",
       "4                          1.11  TTIHVGDLTLKYDNPKKAYEIAKKLAKKYNLQVTIKNGKITVT\n",
       "...                         ...                                          ...\n",
       "7705                       0.80  GSSKTQYEYDTKEEHQKAYEKFKKQGIPVTITQKNGKWFVQVE\n",
       "7706                       0.82  TIDEIIKALEQAVKDNKPIQVGNYTVTSADEAEKLAKKLKKPY\n",
       "7707                       0.66  TQDEIIKALEQAVKDNKPIQVGNYTVTSADEAEKLAKKLKKEY\n",
       "7708                       1.05  TTIKVNGQEYTVPLSPEQAAKAAKKRWPDYEVQIHGNTVWVTR\n",
       "7709                       1.69  GSSTTWYRFTDEEEARRAAKEWARRGYQVHVTQNGTYWEVEVR\n",
       "\n",
       "[7710 rows x 2 columns]"
      ]
     },
     "execution_count": 6,
     "metadata": {},
     "output_type": "execute_result"
    }
   ],
   "source": [
    "import pandas as pd\n",
    "import numpy as np\n",
    "\n",
    "import pickle\n",
    "from pathlib import Path\n",
    "from tqdm import tqdm\n",
    "from torch.utils.data import DataLoader\n",
    "\n",
    "\n",
    "import random\n",
    "\n",
    "def predict(sequence):\n",
    "    \n",
    "    # only one sequence\n",
    "    if np.array(sequence).shape == ():\n",
    "        sequence = sequence.upper()\n",
    "        data = [(\"0\", sequence)]\n",
    "    else:\n",
    "        data = sequence\n",
    "    \n",
    "    batch_labels, batch_strs, batch_tokens = batch_converter(data)\n",
    "    with torch.no_grad():\n",
    "        results = model(batch_tokens.cuda(), repr_layers=[33])\n",
    "    return results\n",
    "    \n",
    "def get_embedding(sequence, sequence_emb = True):\n",
    "    results = predict(sequence)\n",
    "    \n",
    "    token_embeddings = results[\"representations\"][33] # shape: (bs, seq_len, emb_dim)\n",
    "    # NOTE: token 0 is always a beginning-of-sequence token, so the first residue is token 1.\n",
    "    \n",
    "    if sequence_emb: # one emb for the whole seq => average over seq_len\n",
    "        if token_embeddings.shape[0] == 1:\n",
    "            sequence_embeddings = (\n",
    "                token_embeddings[0, 1 : len(sequence) + 1].mean(dim=0).cpu().numpy()\n",
    "            )\n",
    "        else:\n",
    "            sequence_embeddings = (\n",
    "                token_embeddings[:, 1 : len(sequence) + 1].mean(dim=0).cpu().numpy()\n",
    "            )\n",
    "            \n",
    "        return sequence_embeddings\n",
    "    \n",
    "    return token_embeddings\n",
    "    \n",
    "\n",
    "def generate_embeddings(path_in, path_out = None, kind = 'train', bs = 32, subset = None):\n",
    "    df = open_sets(path_in)[kind]\n",
    "    \n",
    "    if subset is not None:\n",
    "        random.choice(df.index)\n",
    "        raise NotImplementedError\n",
    "        \n",
    "    # batch the dataset and return a batch of the form [(label, seq), ...]\n",
    "    dl = DataLoader(\n",
    "        list(df.itertuples(index=False, name=None)), \n",
    "        batch_size=bs, \n",
    "        collate_fn=lambda batch: batch\n",
    "    )\n",
    "\n",
    "    embeddings = {}\n",
    "    for batch in tqdm(dl):\n",
    "        batch_embeddings = get_embedding(batch)\n",
    "        \n",
    "        if len(batch_embeddings.shape) == 2:            \n",
    "            for (label, seq), emb in zip(batch, batch_embeddings):\n",
    "                embeddings[seq] = emb\n",
    "        else:\n",
    "            label, seq = zip(*batch)\n",
    "            embeddings[seq[0]] = batch_embeddings\n",
    "        \n",
    "    if path_out is not None:\n",
    "        pickle.dump(embeddings, open(path_out, 'wb'))\n",
    "    \n",
    "#     df['embeddings'] = list(embeddings.values())\n",
    "    \n",
    "    return embeddings, df\n",
    "\n",
    "\n",
    "\n",
    "def open_sets(base_path):\n",
    "    sets = {}\n",
    "\n",
    "    for path in base_path.glob('*.csv'):\n",
    "        fname = path.stem\n",
    "        kind = fname.split('_')[1]\n",
    "\n",
    "        df = pd.read_csv(path)\n",
    "        cols = df.columns\n",
    "        \n",
    "        sets[kind] = df[cols[::-1]]\n",
    "        \n",
    "    return sets\n",
    "\n",
    "data_path = Path('data')\n",
    "sets = open_sets(data_path)\n",
    "sets['train']"
   ]
  },
  {
   "cell_type": "code",
   "execution_count": 13,
   "id": "cf7c710d",
   "metadata": {
    "ExecuteTime": {
     "end_time": "2021-07-14T20:50:05.884807Z",
     "start_time": "2021-07-14T20:50:05.879088Z"
    },
    "scrolled": false
   },
   "outputs": [],
   "source": [
    "emb = generate_embeddings(data_path, bs=64)\n",
    "model.cpu();"
   ]
  },
  {
   "cell_type": "code",
   "execution_count": 14,
   "id": "4fe63ad4",
   "metadata": {
    "ExecuteTime": {
     "end_time": "2021-07-14T20:52:01.247009Z",
     "start_time": "2021-07-14T20:52:01.102300Z"
    }
   },
   "outputs": [],
   "source": [
    "torch.cuda.empty_cache()"
   ]
  },
  {
   "cell_type": "code",
   "execution_count": null,
   "id": "cd595c0a",
   "metadata": {},
   "outputs": [],
   "source": []
  }
 ],
 "metadata": {
  "kernelspec": {
   "display_name": "Python [conda env:protera]",
   "language": "python",
   "name": "conda-env-protera-py"
  },
  "language_info": {
   "codemirror_mode": {
    "name": "ipython",
    "version": 3
   },
   "file_extension": ".py",
   "mimetype": "text/x-python",
   "name": "python",
   "nbconvert_exporter": "python",
   "pygments_lexer": "ipython3",
   "version": "3.9.6"
  }
 },
 "nbformat": 4,
 "nbformat_minor": 5
}
