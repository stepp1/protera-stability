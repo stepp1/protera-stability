{
 "cells": [
  {
   "cell_type": "markdown",
   "source": [
    "## Protein Embeddings Manipulation"
   ],
   "metadata": {}
  },
  {
   "cell_type": "code",
   "execution_count": 7,
   "source": [
    "from protera_stability.data import ProteinStabilityDataset\n",
    "from pathlib import Path\n",
    "\n",
    "data_path = Path(\"../data\") \n",
    "\n",
    "!ls $data_path"
   ],
   "outputs": [
    {
     "output_type": "stream",
     "name": "stdout",
     "text": [
      "dtm_Thermonuclease.h5\t    fireprotdb_results.csv  tm_fireprot.h5\n",
      "embeddings_tm_fireprot.pkl  stability_fireprot.h5   tm_Thermonuclease.h5\n"
     ]
    }
   ],
   "metadata": {
    "ExecuteTime": {
     "end_time": "2021-09-10T20:10:51.213053Z",
     "start_time": "2021-09-10T20:10:51.102567Z"
    }
   }
  },
  {
   "cell_type": "markdown",
   "source": [
    "### Get Dataset"
   ],
   "metadata": {}
  },
  {
   "cell_type": "code",
   "execution_count": 8,
   "source": [
    "train_set = ProteinStabilityDataset(proteins_path=data_path / \"tm_fireprot.h5\")\n",
    "# test_set =  ProteinStabilityDataset(proteins_path=data_path / \"stability_test.h5\")\n",
    "len(train_set)"
   ],
   "outputs": [
    {
     "output_type": "execute_result",
     "data": {
      "text/plain": [
       "4338"
      ]
     },
     "metadata": {},
     "execution_count": 8
    }
   ],
   "metadata": {
    "ExecuteTime": {
     "end_time": "2021-09-10T20:10:52.581821Z",
     "start_time": "2021-09-10T20:10:52.445748Z"
    },
    "scrolled": true
   }
  },
  {
   "cell_type": "markdown",
   "source": [
    "## Can a FeedForward Net do better?\n"
   ],
   "metadata": {}
  },
  {
   "cell_type": "code",
   "execution_count": 107,
   "source": [
    "from torch import nn\n",
    "import torch\n",
    "\n",
    "class ProteinMLP(nn.Module):\n",
    "    def __init__(self, n_in = 1280, n_units = 100, act = None, drop_p = 0.7, last_drop = True):\n",
    "        super(ProteinMLP, self).__init__()\n",
    "        self.fc1 = nn.Linear(n_in, n_units)\n",
    "        self.fc2 = nn.Linear(n_units, 1)\n",
    "        self.fc3 = nn.Linear(n_units // 2, 1)\n",
    "        \n",
    "        self.drop = nn.Dropout(p=drop_p)\n",
    "\n",
    "        self.last_drop = last_drop\n",
    "        self.act = act\n",
    "        if act is None:\n",
    "            self.act = nn.ReLU6()\n",
    "            \n",
    "    def forward(self, x):\n",
    "        out = self.drop(self.act(self.fc1(x)))\n",
    "        out = self.drop(self.act(self.fc2(out)))\n",
    "        \n",
    "        if self.last_drop: \n",
    "            out = self.drop(out)\n",
    "        return self.fc3(out)"
   ],
   "outputs": [],
   "metadata": {
    "ExecuteTime": {
     "end_time": "2021-08-27T18:49:01.042594Z",
     "start_time": "2021-08-27T18:49:01.038634Z"
    }
   }
  },
  {
   "cell_type": "code",
   "execution_count": 142,
   "source": [
    "from skorch.callbacks import Checkpoint, LRScheduler, EarlyStopping\n",
    "from skorch import NeuralNetRegressor\n",
    "\n",
    "cb = Checkpoint(dirname='models')\n",
    "sched = LRScheduler(\n",
    "    step_every=\"batch\"\n",
    ")\n",
    "stopper = EarlyStopping(patience=15)\n",
    "\n",
    "net = NeuralNetRegressor(\n",
    "    ProteinMLP,\n",
    "    criterion=nn.MSELoss,\n",
    "    # optimizer=torch.optim.Adam,\n",
    "    optimizer__momentum=0.1,\n",
    "    optimizer__weight_decay=1e-2,\n",
    "    lr=3e-3,\n",
    "    module__n_units=512,\n",
    "    module__drop_p=0.4,\n",
    "    iterator_train__shuffle=True,\n",
    "    device='cuda:1',\n",
    "    callbacks=[cb, sched, stopper],\n",
    ")\n",
    "\n",
    "net.fit(train_set.X, train_set.y.reshape(-1,1))"
   ],
   "outputs": [
    {
     "output_type": "stream",
     "name": "stdout",
     "text": [
      "  epoch    train_loss    valid_loss    cp     dur\n",
      "-------  ------------  ------------  ----  ------\n",
      "      1        \u001b[36m0.7863\u001b[0m        \u001b[32m0.6606\u001b[0m     +  0.0678\n",
      "      2        \u001b[36m0.6082\u001b[0m        0.7344        0.0663\n",
      "      3        \u001b[36m0.5518\u001b[0m        0.8096        0.0650\n",
      "      4        \u001b[36m0.5289\u001b[0m        0.7126        0.0646\n",
      "      5        \u001b[36m0.4957\u001b[0m        \u001b[32m0.5123\u001b[0m     +  0.0700\n",
      "      6        0.4999        0.5869        0.0691\n",
      "      7        0.5003        0.6379        0.0642\n",
      "      8        \u001b[36m0.4757\u001b[0m        0.7397        0.0711\n",
      "      9        \u001b[36m0.4542\u001b[0m        0.5196        0.0645\n",
      "     10        \u001b[36m0.4441\u001b[0m        \u001b[32m0.5048\u001b[0m     +  0.0665\n"
     ]
    },
    {
     "output_type": "execute_result",
     "data": {
      "text/plain": [
       "<class 'skorch.regressor.NeuralNetRegressor'>[initialized](\n",
       "  module_=ProteinMLP(\n",
       "    (fc1): Linear(in_features=1280, out_features=512, bias=True)\n",
       "    (fc2): Linear(in_features=512, out_features=256, bias=True)\n",
       "    (fc3): Linear(in_features=256, out_features=1, bias=True)\n",
       "    (drop): Dropout(p=0.4, inplace=False)\n",
       "    (act): ReLU6()\n",
       "  ),\n",
       ")"
      ]
     },
     "metadata": {},
     "execution_count": 142
    }
   ],
   "metadata": {
    "ExecuteTime": {
     "end_time": "2021-08-27T18:49:31.379296Z",
     "start_time": "2021-08-27T18:49:31.365191Z"
    },
    "scrolled": true
   }
  },
  {
   "cell_type": "code",
   "execution_count": 143,
   "source": [
    "net.score(train_set.X, train_set.y)"
   ],
   "outputs": [
    {
     "output_type": "execute_result",
     "data": {
      "text/plain": [
       "0.5876939916287223"
      ]
     },
     "metadata": {},
     "execution_count": 143
    }
   ],
   "metadata": {}
  },
  {
   "cell_type": "code",
   "execution_count": 113,
   "source": [
    "# net.score(test_set.X, test_set.y)"
   ],
   "outputs": [],
   "metadata": {}
  },
  {
   "cell_type": "code",
   "execution_count": null,
   "source": [],
   "outputs": [],
   "metadata": {}
  }
 ],
 "metadata": {
  "interpreter": {
   "hash": "a78d51e19256cfce1d39a2c3cba2e8056cac1355cb83723ad6d6938cbf3c5352"
  },
  "kernelspec": {
   "name": "python3",
   "display_name": "Python 3.8.10 64-bit ('protera-stability': conda)"
  },
  "language_info": {
   "codemirror_mode": {
    "name": "ipython",
    "version": 3
   },
   "file_extension": ".py",
   "mimetype": "text/x-python",
   "name": "python",
   "nbconvert_exporter": "python",
   "pygments_lexer": "ipython3",
   "version": "3.8.10"
  }
 },
 "nbformat": 4,
 "nbformat_minor": 5
}