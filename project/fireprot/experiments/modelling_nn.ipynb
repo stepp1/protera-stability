{
 "cells": [
  {
   "cell_type": "markdown",
   "source": [
    "## Protein Embeddings Manipulation"
   ],
   "metadata": {}
  },
  {
   "cell_type": "code",
   "execution_count": 1,
   "source": [
    "from pathlib import Path\n",
    "\n",
    "data_path = Path(\"data\") \n",
    "\n",
    "!ls $data_path"
   ],
   "outputs": [
    {
     "output_type": "stream",
     "name": "stdout",
     "text": [
      "embeddings_fireprot.pkl  fireprotdb_results.csv  stability_fireprot.h5\n"
     ]
    }
   ],
   "metadata": {
    "ExecuteTime": {
     "end_time": "2021-09-10T20:10:51.213053Z",
     "start_time": "2021-09-10T20:10:51.102567Z"
    }
   }
  },
  {
   "cell_type": "code",
   "execution_count": 2,
   "source": [
    "from pathlib import Path\n",
    "import matplotlib.pyplot as plt\n",
    "\n",
    "from protera_stability.data import ProteinStabilityDataset"
   ],
   "outputs": [],
   "metadata": {
    "ExecuteTime": {
     "end_time": "2021-09-10T20:10:52.444694Z",
     "start_time": "2021-09-10T20:10:51.284681Z"
    },
    "code_folding": []
   }
  },
  {
   "cell_type": "markdown",
   "source": [
    "### Get Dataset"
   ],
   "metadata": {}
  },
  {
   "cell_type": "code",
   "execution_count": 4,
   "source": [
    "train_set = ProteinStabilityDataset(proteins_path=data_path / \"stability_fireprot.h5\")\n",
    "# test_set =  ProteinStabilityDataset(proteins_path=data_path / \"stability_test.h5\")\n",
    "len(train_set)"
   ],
   "outputs": [
    {
     "output_type": "execute_result",
     "data": {
      "text/plain": [
       "4950"
      ]
     },
     "metadata": {},
     "execution_count": 4
    }
   ],
   "metadata": {
    "ExecuteTime": {
     "end_time": "2021-09-10T20:10:52.581821Z",
     "start_time": "2021-09-10T20:10:52.445748Z"
    },
    "scrolled": true
   }
  },
  {
   "cell_type": "code",
   "execution_count": 5,
   "source": [
    "train_set.X.mean(), train_set.X.var(), train_set.X.shape"
   ],
   "outputs": [
    {
     "output_type": "execute_result",
     "data": {
      "text/plain": [
       "(9.166472e-11, 1.0000002, (4950, 1280))"
      ]
     },
     "metadata": {},
     "execution_count": 5
    }
   ],
   "metadata": {
    "ExecuteTime": {
     "end_time": "2021-09-10T20:10:52.606264Z",
     "start_time": "2021-09-10T20:10:52.582838Z"
    }
   }
  },
  {
   "cell_type": "code",
   "execution_count": 6,
   "source": [
    "train_set.y.mean(), train_set.y.var(), train_set.y.shape"
   ],
   "outputs": [
    {
     "output_type": "execute_result",
     "data": {
      "text/plain": [
       "(9.247751e-09, 1.0, (4950,))"
      ]
     },
     "metadata": {},
     "execution_count": 6
    }
   ],
   "metadata": {
    "ExecuteTime": {
     "end_time": "2021-09-10T20:10:53.223680Z",
     "start_time": "2021-09-10T20:10:53.220638Z"
    },
    "scrolled": true
   }
  },
  {
   "cell_type": "code",
   "execution_count": 7,
   "source": [
    "plt.hist(train_set.y, bins=50)\n",
    "plt.show()"
   ],
   "outputs": [
    {
     "output_type": "display_data",
     "data": {
      "image/png": "[encoded data removed]",
      "text/plain": [
       "<Figure size 432x288 with 1 Axes>"
      ]
     },
     "metadata": {
      "needs_background": "light"
     }
    }
   ],
   "metadata": {
    "ExecuteTime": {
     "end_time": "2021-09-10T20:10:53.904641Z",
     "start_time": "2021-09-10T20:10:53.724736Z"
    }
   }
  },
  {
   "cell_type": "markdown",
   "source": [
    "## Can a FeedForward Net do better?\n"
   ],
   "metadata": {}
  },
  {
   "cell_type": "code",
   "execution_count": 58,
   "source": [
    "from torch import nn\n",
    "import torch\n",
    "\n",
    "class ProteinMLP(nn.Module):\n",
    "    def __init__(self, n_in = 1280, n_units = 512, act = None, drop_p = 0.65, last_drop = True):\n",
    "        super(ProteinMLP, self).__init__()\n",
    "        self.fc1 = nn.Linear(n_in, n_units)\n",
    "        self.fc2 = nn.Linear(n_units, n_units)\n",
    "        self.fc3 = nn.Linear(n_units, 1)\n",
    "        \n",
    "        self.drop = nn.Dropout(p=drop_p)\n",
    "\n",
    "        self.last_drop = last_drop\n",
    "        self.act = act\n",
    "        if act is None:\n",
    "            self.act = nn.GELU()\n",
    "            \n",
    "    def forward(self, x):\n",
    "        out = self.drop(self.act(self.fc1(x)))\n",
    "        out = self.drop(self.act(self.fc2(out)))\n",
    "        \n",
    "        if self.last_drop: \n",
    "            out = self.drop(out)\n",
    "        return self.fc3(out)"
   ],
   "outputs": [],
   "metadata": {
    "ExecuteTime": {
     "end_time": "2021-08-27T18:49:01.042594Z",
     "start_time": "2021-08-27T18:49:01.038634Z"
    }
   }
  },
  {
   "cell_type": "code",
   "execution_count": 59,
   "source": [
    "from skorch.callbacks import Checkpoint, LRScheduler, EarlyStopping\n",
    "from skorch import NeuralNetRegressor\n",
    "\n",
    "cb = Checkpoint(dirname='models')\n",
    "sched = LRScheduler(step_every=\"batch\")\n",
    "stopper = EarlyStopping(patience=15)\n",
    "\n",
    "net = NeuralNetRegressor(\n",
    "    ProteinMLP,\n",
    "    criterion=nn.MSELoss,\n",
    "    optimizer=torch.optim.Adam,\n",
    "    # optimizer__momentum=0.05,\n",
    "    optimizer__weight_decay=1e-2,\n",
    "    max_epochs=int(1e4),\n",
    "    lr=1e-3,\n",
    "    iterator_train__shuffle=True,\n",
    "    device='cuda:1',\n",
    "    callbacks=[cb, sched, stopper],\n",
    ")\n",
    "\n",
    "net.fit(train_set.X, train_set.y.reshape(-1,1))\n",
    "\n",
    "# net.score(test_set.X, test_set.y)"
   ],
   "outputs": [
    {
     "output_type": "stream",
     "name": "stdout",
     "text": [
      "  epoch    train_loss    valid_loss    cp     dur\n",
      "-------  ------------  ------------  ----  ------\n",
      "      1     \u001b[36m8950.4904\u001b[0m       \u001b[32m12.4997\u001b[0m     +  0.1571\n",
      "      2       \u001b[36m49.8048\u001b[0m        \u001b[32m0.6648\u001b[0m     +  0.1168\n",
      "      3       \u001b[36m11.2640\u001b[0m        0.6650        0.1073\n",
      "      4        \u001b[36m4.7616\u001b[0m        0.6651        0.1002\n",
      "      5        \u001b[36m4.4832\u001b[0m        0.6651        0.1087\n",
      "      6        \u001b[36m2.9776\u001b[0m        0.6652        0.1136\n",
      "      7        4.8154        0.6658        0.1155\n",
      "      8        \u001b[36m2.1566\u001b[0m        0.6659        0.1158\n",
      "      9        \u001b[36m2.0373\u001b[0m        0.6660        0.1178\n",
      "     10        \u001b[36m1.5341\u001b[0m        0.6660        0.1186\n",
      "     11        1.6100        0.6666        0.1159\n",
      "     12        2.2609        0.6672        0.1237\n",
      "     13        1.7207        0.6678        0.1197\n",
      "     14        2.1613        0.6680        0.1167\n",
      "     15        1.5881        0.6686        0.1181\n",
      "     16        1.9396        0.6687        0.1195\n",
      "Stopping since valid_loss has not improved in the last 15 epochs.\n"
     ]
    },
    {
     "output_type": "execute_result",
     "data": {
      "text/plain": [
       "<class 'skorch.regressor.NeuralNetRegressor'>[initialized](\n",
       "  module_=ProteinMLP(\n",
       "    (fc1): Linear(in_features=1280, out_features=512, bias=True)\n",
       "    (fc2): Linear(in_features=512, out_features=512, bias=True)\n",
       "    (fc3): Linear(in_features=512, out_features=1, bias=True)\n",
       "    (drop): Dropout(p=0.65, inplace=False)\n",
       "    (act): GELU()\n",
       "  ),\n",
       ")"
      ]
     },
     "metadata": {},
     "execution_count": 59
    }
   ],
   "metadata": {
    "ExecuteTime": {
     "end_time": "2021-08-27T18:49:31.379296Z",
     "start_time": "2021-08-27T18:49:31.365191Z"
    },
    "scrolled": true
   }
  },
  {
   "cell_type": "code",
   "execution_count": 60,
   "source": [
    "net.score(train_set.X, train_set.y)"
   ],
   "outputs": [
    {
     "output_type": "execute_result",
     "data": {
      "text/plain": [
       "-0.0002756875646132695"
      ]
     },
     "metadata": {},
     "execution_count": 60
    }
   ],
   "metadata": {}
  }
 ],
 "metadata": {
  "interpreter": {
   "hash": "a78d51e19256cfce1d39a2c3cba2e8056cac1355cb83723ad6d6938cbf3c5352"
  },
  "kernelspec": {
   "name": "python3",
   "display_name": "Python 3.8.10 64-bit ('protera-stability': conda)"
  },
  "language_info": {
   "codemirror_mode": {
    "name": "ipython",
    "version": 3
   },
   "file_extension": ".py",
   "mimetype": "text/x-python",
   "name": "python",
   "nbconvert_exporter": "python",
   "pygments_lexer": "ipython3",
   "version": "3.8.10"
  }
 },
 "nbformat": 4,
 "nbformat_minor": 5
}