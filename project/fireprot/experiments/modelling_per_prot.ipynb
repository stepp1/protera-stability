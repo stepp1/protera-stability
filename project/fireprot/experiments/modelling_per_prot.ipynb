{
 "cells": [
  {
   "cell_type": "markdown",
   "source": [
    "## Protein Embeddings Manipulation"
   ],
   "metadata": {}
  },
  {
   "cell_type": "code",
   "execution_count": 1,
   "source": [
    "from pathlib import Path\n",
    "import matplotlib.pyplot as plt\n",
    "from tqdm import tqdm \n",
    "import pandas as pd\n",
    "\n",
    "from protera_stability.data import ProteinStabilityDataset\n",
    "\n",
    "\n",
    "data_path = Path(\"../data\") \n",
    "\n",
    "df = pd.read_csv(data_path / \"fireprotdb_results.csv\", low_memory=False)\n",
    "df = df.drop_duplicates()\n",
    "total_prots = len(df.sequence.unique())\n",
    "\n",
    "df = df[df.tm.isin(df.tm.dropna())]\n",
    "tm_prots = len(df.sequence.unique())\n",
    "\n",
    "mutations_per_prot = df.groupby(by=\"sequence\").mutation.unique()\n",
    "\n",
    "sequences = []# set()\n",
    "\n",
    "#TODO: TEST IF MUTATION IS CORRECT\n",
    "nans = 0\n",
    "for row in tqdm(df.itertuples(), total = len(df)):\n",
    "    mutation = row.mutation\n",
    "    position = row.position\n",
    "    original_seq = row.sequence\n",
    "\n",
    "    new_sequence = original_seq[:position - 1] + mutation + original_seq[position:]\n",
    "    if mutation == original_seq[position - 1] or str(new_sequence) == str(original_seq) or (new_sequence in sequences):\n",
    "        # print(row.Index)\n",
    "        new_sequence = None\n",
    "        nans += 1\n",
    "    sequences.append(new_sequence)\n",
    "\n",
    "df[\"mutated_sequences\"] = sequences"
   ],
   "outputs": [
    {
     "output_type": "stream",
     "name": "stderr",
     "text": [
      "100%|██████████| 7481/7481 [00:00<00:00, 34743.12it/s]\n"
     ]
    }
   ],
   "metadata": {
    "ExecuteTime": {
     "end_time": "2021-09-10T20:10:51.213053Z",
     "start_time": "2021-09-10T20:10:51.102567Z"
    }
   }
  },
  {
   "cell_type": "code",
   "execution_count": 3,
   "source": [
    "most_mutateds = df.groupby(\"sequence\").mutated_sequences.count().sort_values(ascending=False)\n",
    "most_mutated_seq = most_mutateds.index[0]\n",
    "\n",
    "most_mutated_df = df[df.sequence == most_mutated_seq]\n",
    "most_mutated_df = most_mutated_df[most_mutated_df.dTm.isin(most_mutated_df.dTm.dropna())]\n",
    "\n",
    "print(most_mutated_df.protein_name.unique())\n",
    "\n",
    "data = most_mutated_df[[\"mutated_sequences\", \"dTm\"]]\n",
    "data.columns = [\"sequences\", \"labels\"]\n",
    "data = data[data[\"sequences\"].str.len() < 1024]\n",
    "data = data[data.columns[::-1]]\n",
    "data = data.dropna()\n",
    "\n",
    "data"
   ],
   "outputs": [
    {
     "output_type": "stream",
     "name": "stdout",
     "text": [
      "['Thermonuclease']\n"
     ]
    },
    {
     "output_type": "execute_result",
     "data": {
      "text/html": [
       "<div>\n",
       "<style scoped>\n",
       "    .dataframe tbody tr th:only-of-type {\n",
       "        vertical-align: middle;\n",
       "    }\n",
       "\n",
       "    .dataframe tbody tr th {\n",
       "        vertical-align: top;\n",
       "    }\n",
       "\n",
       "    .dataframe thead th {\n",
       "        text-align: right;\n",
       "    }\n",
       "</style>\n",
       "<table border=\"1\" class=\"dataframe\">\n",
       "  <thead>\n",
       "    <tr style=\"text-align: right;\">\n",
       "      <th></th>\n",
       "      <th>labels</th>\n",
       "      <th>sequences</th>\n",
       "    </tr>\n",
       "  </thead>\n",
       "  <tbody>\n",
       "    <tr>\n",
       "      <th>3199</th>\n",
       "      <td>-11.5</td>\n",
       "      <td>MLVMTEYLLSAGICMAIVSILLIGMAISNVSKGQYAKRFFFFATSC...</td>\n",
       "    </tr>\n",
       "    <tr>\n",
       "      <th>3200</th>\n",
       "      <td>3.9</td>\n",
       "      <td>MLVMTEYLLSAGICMAIVSILLIGMAISNVSKGQYAKRFFFFATSC...</td>\n",
       "    </tr>\n",
       "    <tr>\n",
       "      <th>3201</th>\n",
       "      <td>-7.6</td>\n",
       "      <td>MLVMTEYLLSAGICMAIVSILLIGMAISNVSKGQYAKRFFFFATSC...</td>\n",
       "    </tr>\n",
       "    <tr>\n",
       "      <th>3202</th>\n",
       "      <td>2.9</td>\n",
       "      <td>MLVMTEYLLSAGICMAIVSILLIGMAISNVSKGQYAKRFFFFATSC...</td>\n",
       "    </tr>\n",
       "    <tr>\n",
       "      <th>3203</th>\n",
       "      <td>-10.7</td>\n",
       "      <td>MLVMTEYLLSAGICMAIVSILLIGMAISNVSKGQYAKRFFFFATSC...</td>\n",
       "    </tr>\n",
       "    <tr>\n",
       "      <th>...</th>\n",
       "      <td>...</td>\n",
       "      <td>...</td>\n",
       "    </tr>\n",
       "    <tr>\n",
       "      <th>10693</th>\n",
       "      <td>-1.3</td>\n",
       "      <td>MLVMTEYLLSAGICMAIVSILLIGMAISNVSKGQYAKRFFFFATSC...</td>\n",
       "    </tr>\n",
       "    <tr>\n",
       "      <th>10694</th>\n",
       "      <td>-16.7</td>\n",
       "      <td>MLVMTEYLLSAGICMAIVSILLIGMAISNVSKGQYAKRFFFFATSC...</td>\n",
       "    </tr>\n",
       "    <tr>\n",
       "      <th>10695</th>\n",
       "      <td>-13.5</td>\n",
       "      <td>MLVMTEYLLSAGICMAIVSILLIGMAISNVSKGQYAKRFFFFATSC...</td>\n",
       "    </tr>\n",
       "    <tr>\n",
       "      <th>11242</th>\n",
       "      <td>-13.0</td>\n",
       "      <td>MLVMTEYLLSAGICMAIVSILLIGMAISNVSKGQYAKRFFFFATSC...</td>\n",
       "    </tr>\n",
       "    <tr>\n",
       "      <th>11243</th>\n",
       "      <td>-14.0</td>\n",
       "      <td>MLVMTEYLLSAGICMAIVSILLIGMAISNVSKGQYAKRFFFFATSC...</td>\n",
       "    </tr>\n",
       "  </tbody>\n",
       "</table>\n",
       "<p>141 rows × 2 columns</p>\n",
       "</div>"
      ],
      "text/plain": [
       "       labels                                          sequences\n",
       "3199    -11.5  MLVMTEYLLSAGICMAIVSILLIGMAISNVSKGQYAKRFFFFATSC...\n",
       "3200      3.9  MLVMTEYLLSAGICMAIVSILLIGMAISNVSKGQYAKRFFFFATSC...\n",
       "3201     -7.6  MLVMTEYLLSAGICMAIVSILLIGMAISNVSKGQYAKRFFFFATSC...\n",
       "3202      2.9  MLVMTEYLLSAGICMAIVSILLIGMAISNVSKGQYAKRFFFFATSC...\n",
       "3203    -10.7  MLVMTEYLLSAGICMAIVSILLIGMAISNVSKGQYAKRFFFFATSC...\n",
       "...       ...                                                ...\n",
       "10693    -1.3  MLVMTEYLLSAGICMAIVSILLIGMAISNVSKGQYAKRFFFFATSC...\n",
       "10694   -16.7  MLVMTEYLLSAGICMAIVSILLIGMAISNVSKGQYAKRFFFFATSC...\n",
       "10695   -13.5  MLVMTEYLLSAGICMAIVSILLIGMAISNVSKGQYAKRFFFFATSC...\n",
       "11242   -13.0  MLVMTEYLLSAGICMAIVSILLIGMAISNVSKGQYAKRFFFFATSC...\n",
       "11243   -14.0  MLVMTEYLLSAGICMAIVSILLIGMAISNVSKGQYAKRFFFFATSC...\n",
       "\n",
       "[141 rows x 2 columns]"
      ]
     },
     "metadata": {},
     "execution_count": 3
    }
   ],
   "metadata": {}
  },
  {
   "cell_type": "markdown",
   "source": [
    "### Generate Dataset"
   ],
   "metadata": {}
  },
  {
   "cell_type": "code",
   "execution_count": 4,
   "source": [
    "from protera_stability.proteins import EmbeddingExtractor1D\n",
    "\n",
    "args_dict = {\n",
    "    \"model_name\": \"esm1b_t33_650M_UR50S\",\n",
    "    \"base_path\": data_path,\n",
    "    \"gpu\": True,\n",
    "}\n",
    "emb_extractor = EmbeddingExtractor1D(**args_dict)\n",
    "dataset = emb_extractor.generate_datasets(\n",
    "    [\"\"],\n",
    "    h5_stem=\"dtm_Thermonuclease\",\n",
    "    data=data\n",
    ")"
   ],
   "outputs": [
    {
     "output_type": "stream",
     "name": "stderr",
     "text": [
      "Using cache found in /home/roberto/.cache/torch/hub/facebookresearch_esm_master\n",
      "Returning existing dataset...\n"
     ]
    }
   ],
   "metadata": {}
  },
  {
   "cell_type": "markdown",
   "source": [
    "### Get Dataset"
   ],
   "metadata": {}
  },
  {
   "cell_type": "code",
   "execution_count": 5,
   "source": [
    "train_set = ProteinStabilityDataset(proteins_path=data_path / \"dtm_Thermonuclease.h5\")\n",
    "len(train_set)"
   ],
   "outputs": [
    {
     "output_type": "execute_result",
     "data": {
      "text/plain": [
       "141"
      ]
     },
     "metadata": {},
     "execution_count": 5
    }
   ],
   "metadata": {
    "ExecuteTime": {
     "end_time": "2021-09-10T20:10:52.581821Z",
     "start_time": "2021-09-10T20:10:52.445748Z"
    },
    "scrolled": true
   }
  },
  {
   "cell_type": "markdown",
   "source": [
    "## Dimensionality Reduction"
   ],
   "metadata": {}
  },
  {
   "cell_type": "code",
   "execution_count": 6,
   "source": [
    "from protera_stability.utils.decomposition import dim_reduction\n",
    "\n",
    "X = dim_reduction(train_set.X, train_set.y, n_components=32, plot_viz=True, prefix=\"dTm\")\n",
    "y = train_set.y"
   ],
   "outputs": [
    {
     "output_type": "display_data",
     "data": {
      "image/png": "[encoded data removed]",
      "text/plain": [
       "<Figure size 720x360 with 2 Axes>"
      ]
     },
     "metadata": {
      "needs_background": "light"
     }
    }
   ],
   "metadata": {
    "ExecuteTime": {
     "end_time": "2021-09-10T20:10:55.633725Z",
     "start_time": "2021-09-10T20:10:55.253060Z"
    }
   }
  },
  {
   "cell_type": "markdown",
   "source": [
    "## Modelling"
   ],
   "metadata": {}
  },
  {
   "cell_type": "markdown",
   "source": [
    "### Grid Search"
   ],
   "metadata": {}
  },
  {
   "cell_type": "code",
   "execution_count": 13,
   "source": [
    "from sklearn.ensemble import RandomForestRegressor, GradientBoostingRegressor\n",
    "from sklearn.neural_network import MLPRegressor\n",
    "from sklearn.svm import SVR\n",
    "from sklearn.linear_model import LinearRegression, Ridge\n",
    "\n",
    "from sklearn.model_selection import train_test_split\n",
    "from sklearn.metrics import r2_score\n",
    "\n",
    "from protera_stability.utils.decomposition import dim_reduction\n",
    "X_train, X_valid, y_train, y_valid = train_test_split(X, y, random_state=123)\n",
    "\n",
    "reg = Ridge(alpha=1e2)\n",
    "reg.fit(X_train, y_train)\n",
    "\n",
    "print(\"Linear Regression R2\", reg.score(X_valid, y_valid))\n",
    "\n",
    "scoring = \"r2\"\n",
    "score = r2_score\n",
    "models = {\n",
    "    \"RandomForest\": {\n",
    "        \"model\": RandomForestRegressor(),\n",
    "        \"params\": {\n",
    "            \"n_estimators\": [50, 100, 200],\n",
    "            \"max_depth\": [None, 100],\n",
    "            \"criterion\": [\"mse\", \"mae\"]\n",
    "        },\n",
    "    },\n",
    "    \"SVR\": {\n",
    "        \"model\": SVR(),\n",
    "        \"params\": {\n",
    "            \"C\": [0.1, 1.0, 10.0],\n",
    "            \"kernel\": [\"linear\", \"poly\", \"rbf\", \"sigmoid\"],\n",
    "            \"degree\": [3],\n",
    "            \"gamma\": [\"scale\"],\n",
    "        },\n",
    "    },\n",
    "    \"GB\": {\n",
    "        \"model\": GradientBoostingRegressor(),\n",
    "        \"params\": {\n",
    "            \"learning_rate\": [0.1, 0.03, 0.01],\n",
    "            \"n_estimators\": [50, 100, 200],\n",
    "            \"max_depth\": [3, 16, 64]\n",
    "        },\n",
    "    },\n",
    "}"
   ],
   "outputs": [
    {
     "output_type": "stream",
     "name": "stdout",
     "text": [
      "Linear Regression R2 0.2067366948040268\n"
     ]
    }
   ],
   "metadata": {
    "ExecuteTime": {
     "start_time": "2021-09-10T20:10:56.051Z"
    }
   }
  },
  {
   "cell_type": "code",
   "execution_count": 14,
   "source": [
    "from protera_stability.utils import perform_search\n",
    "\n",
    "results = []\n",
    "for name, model in models.items():\n",
    "    search = perform_search(\n",
    "        X_train,\n",
    "        y_train,\n",
    "        model[\"model\"],\n",
    "        model[\"params\"],\n",
    "        name,\n",
    "        X_test=X_valid,\n",
    "        y_test=y_valid,\n",
    "        save_dir=\"./models-thermonuclease\",\n",
    "        n_jobs=8,\n",
    "        verbose=False\n",
    "    )\n",
    "\n",
    "    results.append(search)"
   ],
   "outputs": [
    {
     "output_type": "stream",
     "name": "stdout",
     "text": [
      "============\n",
      "Fitting model RandomForest...\n",
      "RandomForest best R2: 0.19263251557390032\n",
      "Best params: {'criterion': 'mse', 'max_depth': 100, 'n_estimators': 100}\n",
      "Test R2: 0.22258319212725675\n",
      "============\n",
      "============\n",
      "Fitting model SVR...\n",
      "SVR best R2: 0.31930367303098295\n",
      "Best params: {'C': 10.0, 'degree': 3, 'gamma': 'scale', 'kernel': 'rbf'}\n",
      "Test R2: 0.11674120575866775\n",
      "============\n",
      "============\n",
      "Fitting model GB...\n",
      "GB best R2: 0.2717033379225925\n",
      "Best params: {'learning_rate': 0.03, 'max_depth': 3, 'n_estimators': 200}\n",
      "Test R2: 0.30321913428763947\n",
      "============\n"
     ]
    }
   ],
   "metadata": {}
  },
  {
   "cell_type": "markdown",
   "source": [
    "```\n",
    "============\n",
    "Fitting model RandomForest...\n",
    "RandomForest best R2: 0.19263251557390032\n",
    "Best params: {'criterion': 'mse', 'max_depth': 100, 'n_estimators': 100}\n",
    "Test R2: 0.22258319212725675\n",
    "============\n",
    "============\n",
    "Fitting model SVR...\n",
    "SVR best R2: 0.31930367303098295\n",
    "Best params: {'C': 10.0, 'degree': 3, 'gamma': 'scale', 'kernel': 'rbf'}\n",
    "Test R2: 0.11674120575866775\n",
    "============\n",
    "============\n",
    "Fitting model GB...\n",
    "GB best R2: 0.2717033379225925\n",
    "Best params: {'learning_rate': 0.03, 'max_depth': 3, 'n_estimators': 200}\n",
    "Test R2: 0.30321913428763947\n",
    "============\n",
    "```"
   ],
   "metadata": {}
  },
  {
   "cell_type": "code",
   "execution_count": 65,
   "source": [
    "from joblib import load\n",
    "ereg = load(\"./models/ensemble_tm.joblib\")\n",
    "tm_preds = ereg.predict(X_train)"
   ],
   "outputs": [],
   "metadata": {}
  },
  {
   "cell_type": "code",
   "execution_count": 62,
   "source": [
    "import numpy as np\n",
    "idx = 0\n",
    "\n",
    "inverse_delta_op = lambda value, delta : value + np.sign(delta) * delta if np.sign(delta) == -1. else value - delta\n",
    "thermonuclease_tm = inverse_delta_op(data.iloc[idx, 1], data.iloc[idx, 2])"
   ],
   "outputs": [],
   "metadata": {}
  },
  {
   "cell_type": "code",
   "execution_count": 72,
   "source": [
    "train_set = ProteinStabilityDataset(proteins_path=data_path / \"tm_fireprot.h5\")\n",
    "train_set.x_scaler.mean_"
   ],
   "outputs": [
    {
     "output_type": "execute_result",
     "data": {
      "text/plain": [
       "array([ 0.15262517, -0.03977118,  0.19068956, ..., -0.13178226,\n",
       "       -0.23444186, -0.22619346])"
      ]
     },
     "metadata": {},
     "execution_count": 72
    }
   ],
   "metadata": {}
  }
 ],
 "metadata": {
  "interpreter": {
   "hash": "a78d51e19256cfce1d39a2c3cba2e8056cac1355cb83723ad6d6938cbf3c5352"
  },
  "kernelspec": {
   "name": "python3",
   "display_name": "Python 3.8.10 64-bit ('protera-stability': conda)"
  },
  "language_info": {
   "codemirror_mode": {
    "name": "ipython",
    "version": 3
   },
   "file_extension": ".py",
   "mimetype": "text/x-python",
   "name": "python",
   "nbconvert_exporter": "python",
   "pygments_lexer": "ipython3",
   "version": "3.8.10"
  }
 },
 "nbformat": 4,
 "nbformat_minor": 5
}