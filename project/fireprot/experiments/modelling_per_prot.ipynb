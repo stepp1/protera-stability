{
 "cells": [
  {
   "cell_type": "markdown",
   "source": [
    "## Protein Embeddings Manipulation"
   ],
   "metadata": {}
  },
  {
   "cell_type": "code",
   "execution_count": 2,
   "source": [
    "from pathlib import Path\n",
    "import matplotlib.pyplot as plt\n",
    "from tqdm import tqdm \n",
    "import pandas as pd\n",
    "\n",
    "from protera_stability.data import ProteinStabilityDataset\n",
    "\n",
    "\n",
    "data_path = Path(\"../data\") \n",
    "\n",
    "df = pd.read_csv(data_path / \"fireprotdb_results.csv\", low_memory=False)\n",
    "df = df.drop_duplicates()\n",
    "total_prots = len(df.sequence.unique())\n",
    "\n",
    "df = df[df.tm.isin(df.tm.dropna())]\n",
    "tm_prots = len(df.sequence.unique())\n",
    "\n",
    "mutations_per_prot = df.groupby(by=\"sequence\").mutation.unique()\n",
    "\n",
    "sequences = [] # set()\n",
    "\n",
    "#TODO: TEST IF MUTATION IS CORRECT\n",
    "nans = 0\n",
    "for row in tqdm(df.itertuples(), total = len(df)):\n",
    "    mutation = row.mutation\n",
    "    position = row.position\n",
    "    original_seq = row.sequence\n",
    "\n",
    "    new_sequence = original_seq[:position - 1] + mutation + original_seq[position:]\n",
    "    if mutation == original_seq[position - 1] or str(new_sequence) == str(original_seq) or (new_sequence in sequences):\n",
    "        # print(row.Index)\n",
    "        new_sequence = None\n",
    "        nans += 1\n",
    "    sequences.append(new_sequence)\n",
    "\n",
    "df[\"mutated_sequences\"] = sequences"
   ],
   "outputs": [
    {
     "output_type": "stream",
     "name": "stderr",
     "text": [
      "100%|██████████| 7481/7481 [00:00<00:00, 34629.28it/s]\n"
     ]
    }
   ],
   "metadata": {
    "ExecuteTime": {
     "end_time": "2021-09-10T20:10:51.213053Z",
     "start_time": "2021-09-10T20:10:51.102567Z"
    }
   }
  },
  {
   "cell_type": "code",
   "execution_count": 3,
   "source": [
    "most_mutateds = df.groupby(\"sequence\").mutated_sequences.count().sort_values(ascending=False)\n",
    "most_mutated_seq = most_mutateds.index[2]\n",
    "\n",
    "most_mutated_prot = df[df.sequence == most_mutated_seq]\n",
    "most_mutated_prot = most_mutated_prot[most_mutated_prot.mutated_sequences.isin(most_mutated_prot.mutated_sequences.dropna())]\n",
    "\n",
    "print(most_mutated_prot.protein_name.unique())"
   ],
   "outputs": [
    {
     "output_type": "stream",
     "name": "stdout",
     "text": [
      "['Aspartate aminotransferase family protein']\n"
     ]
    }
   ],
   "metadata": {}
  },
  {
   "cell_type": "markdown",
   "source": [
    "## Predicting Tm"
   ],
   "metadata": {}
  },
  {
   "cell_type": "code",
   "execution_count": 7,
   "source": [
    "from protera_stability.data import ProteinStabilityDataset\n",
    "from protera_stability.utils.decomposition import dim_reduction\n",
    "\n",
    "from sklearn.ensemble import RandomForestRegressor\n",
    "from sklearn.ensemble import VotingRegressor\n",
    "from sklearn.neural_network import MLPRegressor\n",
    "from sklearn.linear_model import RidgeCV\n",
    "from sklearn.svm import SVR\n",
    "from sklearn.base import clone\n",
    "\n",
    "from sklearn.model_selection import train_test_split\n",
    "from sklearn.metrics import r2_score\n",
    "\n",
    "from joblib import load\n",
    "\n",
    "train_set = ProteinStabilityDataset(proteins_path=data_path / \"tm_fireprot.h5\")\n",
    "\n",
    "\n",
    "results = {}\n",
    "for mutated_seq in most_mutateds.index[:5]:\n",
    "    most_mutated_prot = df[df.sequence == mutated_seq]\n",
    "    most_mutated_prot = most_mutated_prot[most_mutated_prot.mutated_sequences.isin(most_mutated_prot.mutated_sequences.dropna())]\n",
    "\n",
    "    all_seqs = list(map(lambda x : x.decode(\"utf8\"), train_set.sequences))\n",
    "    other_seqs = set(all_seqs).difference(set(most_mutated_prot.mutated_sequences.values))\n",
    "    idxs_most_mutated = [all_seqs.index(mutation) for mutation in most_mutated_prot.mutated_sequences.values]\n",
    "    idxs_other_mutations = [all_seqs.index(mutation) for mutation in other_seqs]\n",
    "\n",
    "    most_mutated_X = train_set.X[idxs_most_mutated]\n",
    "    most_mutated_y = train_set.y[idxs_most_mutated]\n",
    "\n",
    "    other_mutations_X = train_set.X[idxs_other_mutations]\n",
    "    other_mutations_y = train_set.y[idxs_other_mutations]\n",
    "    \n",
    "    most_mutated_X = dim_reduction(most_mutated_X, y=most_mutated_y, plot_viz=False, n_components=32)\n",
    "    other_mutations_X = dim_reduction(other_mutations_X, y=other_mutations_y, plot_viz=False, n_components=32)\n",
    "\n",
    "    mlp = MLPRegressor(**{'activation': 'tanh', 'hidden_layer_sizes': (100, 100), 'solver': 'adam', \"max_iter\": 1000})\n",
    "    rf = RandomForestRegressor(**{'criterion': 'mse', 'max_depth': None, 'n_estimators': 100, \"n_jobs\": 10})\n",
    "    svr = SVR(**{'C': 10.0, 'degree': 3, 'gamma': 'scale', 'kernel': 'rbf'})\n",
    "    linear_model = RidgeCV()\n",
    "\n",
    "    ereg = VotingRegressor(\n",
    "    estimators=\n",
    "        [\n",
    "            ('rf', clone(rf)), \n",
    "            ('svr', clone(svr)), \n",
    "            ('mlp', clone(mlp)),\n",
    "            ('ridge', clone(linear_model))\n",
    "        ],\n",
    "    weights=[0.5, 0.2, 0.2, 0.1]\n",
    "    )\n",
    "\n",
    "    # fit with other_mutations\n",
    "    ereg.fit(other_mutations_X, other_mutations_y)\n",
    "    print(\"fitted ensemble...\")\n",
    "\n",
    "    mlp.fit(other_mutations_X, other_mutations_y)\n",
    "    print(\"fitted mlp...\")\n",
    "\n",
    "    rf.fit(other_mutations_X, other_mutations_y)\n",
    "    print(\"fitted rf...\")\n",
    "\n",
    "    svr.fit(other_mutations_X, other_mutations_y)\n",
    "    print(\"fitted svr...\")\n",
    "\n",
    "    linear_model.fit(other_mutations_X, other_mutations_y)\n",
    "    print(\"fitted linear_model...\")\n",
    "\n",
    "    # predict most_mutated\n",
    "    ereg_preds = ereg.predict(most_mutated_X)\n",
    "    mlp_preds = mlp.predict(most_mutated_X)\n",
    "    rf_preds = rf.predict(most_mutated_X)\n",
    "    svr_preds = svr.predict(most_mutated_X)\n",
    "    linear_preds = linear_model.predict(most_mutated_X)\n",
    "    \n",
    "\n",
    "    protein_name = most_mutated_prot.protein_name.unique()\n",
    "    protein_results = {\n",
    "        \"ereg\" : r2_score(most_mutated_y, ereg_preds),\n",
    "        \"mlp\"  : r2_score(most_mutated_y, mlp_preds),\n",
    "        \"rf\"   : r2_score(most_mutated_y, rf_preds),\n",
    "        \"svr\"  : r2_score(most_mutated_y, svr_preds),\n",
    "        \"linear_reg\" : r2_score(most_mutated_y, linear_preds),\n",
    "    }\n",
    "    \n",
    "    # tm_preds = ereg.partial_fit(most_mutated_X)\n",
    "\n",
    "    # reg1 = RandomForestRegressor(**{'criterion': 'mse', 'max_depth': None, 'n_estimators': 200})\n",
    "    # reg2 = SVR(**{'C': 10.0, 'degree': 3, 'gamma': 'scale', 'kernel': 'poly'})\n",
    "    # reg3 = MLPRegressor(**{'activation': 'tanh', 'hidden_layer_sizes': (100, 100), 'solver': 'adam'})\n",
    "    # reg4 = Ridge(alpha=1e2)\n",
    "\n",
    "    # ereg = VotingRegressor(\n",
    "    #     estimators=\n",
    "    #         [\n",
    "    #             ('rf', reg1), \n",
    "    #             ('svr', reg2), \n",
    "    #             ('mlp', reg3),\n",
    "    #             ('ridge', reg4)\n",
    "    #         ],\n",
    "    #     weights=[0.5, 0.2, 0.2, 0.1]\n",
    "    # )\n",
    "    # ereg.fit(X_train, y_train)\n",
    "    # tm_preds = ereg.predict(X_valid)\n",
    "\n",
    "    # r2_preds = r2_score(y_valid, tm_preds)\n",
    "\n",
    "    print(most_mutated_prot.protein_name.unique(), protein_results)\n",
    "    results[most_mutated_prot.protein_name.unique()[0]] = protein_results"
   ],
   "outputs": [
    {
     "output_type": "stream",
     "name": "stdout",
     "text": [
      "fitted ensemble...\n",
      "fitted mlp...\n",
      "fitted rf...\n",
      "fitted svr...\n",
      "fitted linear_model...\n",
      "['Thermonuclease'] {'ereg': -1.3589037869271041, 'mlp': -2.8954370702535863, 'rf': -2.058781857183315, 'svr': -0.6709185206701058, 'linear_reg': -1.869168318806766}\n",
      "fitted ensemble...\n",
      "fitted mlp...\n",
      "fitted rf...\n",
      "fitted svr...\n",
      "fitted linear_model...\n",
      "['Endolysin'] {'ereg': -0.3375598084647651, 'mlp': -0.474430518054777, 'rf': -0.2973100574408185, 'svr': -1.1713593904721575, 'linear_reg': -0.2774411630857676}\n",
      "fitted ensemble...\n",
      "fitted mlp...\n",
      "fitted rf...\n",
      "fitted svr...\n",
      "fitted linear_model...\n",
      "['Aspartate aminotransferase family protein'] {'ereg': -119.97413757881671, 'mlp': -53.609283367719854, 'rf': -78.469987182137, 'svr': -213.67096301790806, 'linear_reg': -113.26537251569945}\n",
      "fitted ensemble...\n",
      "fitted mlp...\n",
      "fitted rf...\n",
      "fitted svr...\n",
      "fitted linear_model...\n",
      "['ADHA'] {'ereg': -0.5331784780405724, 'mlp': -1.9060271922431862, 'rf': -0.7336757166566863, 'svr': -2.1890743738724634, 'linear_reg': -0.09287952449334114}\n",
      "fitted ensemble...\n",
      "fitted mlp...\n",
      "fitted rf...\n",
      "fitted svr...\n",
      "fitted linear_model...\n",
      "['Ribonuclease'] {'ereg': -2.6759932246603637, 'mlp': -3.6495491474266446, 'rf': -2.7818831911397592, 'svr': -0.8475205570328568, 'linear_reg': -2.525287325309812}\n"
     ]
    }
   ],
   "metadata": {}
  },
  {
   "cell_type": "markdown",
   "source": [
    "## Predicting dTm\n",
    "\n",
    "\n",
    "$$\n",
    "dTm = Tm_{original} - Tm_{mutation}\n",
    "$$"
   ],
   "metadata": {}
  },
  {
   "cell_type": "markdown",
   "source": [
    "### Compute $Tm_{original}$"
   ],
   "metadata": {}
  },
  {
   "cell_type": "code",
   "execution_count": 185,
   "source": [
    "import numpy as np\n",
    "idx = 1\n",
    "\n",
    "inverse_delta_op = lambda value, delta : value + np.sign(delta) * delta if np.sign(delta) == -1. else value - delta\n",
    "unscaled_thermonuclease_tm = inverse_delta_op(most_mutated_df.iloc[idx][\"tm\"], most_mutated_df.iloc[idx][\"dTm\"])\n",
    "unscaled_thermonuclease_tm"
   ],
   "outputs": [
    {
     "output_type": "execute_result",
     "data": {
      "text/plain": [
       "51.4"
      ]
     },
     "metadata": {},
     "execution_count": 185
    }
   ],
   "metadata": {}
  },
  {
   "cell_type": "markdown",
   "source": [
    "### Predict $Tm_{mutation}$"
   ],
   "metadata": {}
  },
  {
   "cell_type": "code",
   "execution_count": 201,
   "source": [
    "reg1 = load(\"./models/best_MLP.joblib\")\n",
    "reg1.estimator.partial_fit(X_tm, y_tm)\n",
    "\n",
    "tm_preds = reg1.predict(X_tm)\n",
    "\n",
    "r2_score(y_tm, tm_preds)"
   ],
   "outputs": [
    {
     "output_type": "execute_result",
     "data": {
      "text/plain": [
       "-4898.574947854435"
      ]
     },
     "metadata": {},
     "execution_count": 201
    }
   ],
   "metadata": {}
  },
  {
   "cell_type": "code",
   "execution_count": 188,
   "source": [
    "from joblib import load\n",
    "ereg = load(\"./models/ensemble_tm.joblib\")\n",
    "tm_preds = ereg.partial_fit(X_tm)\n",
    "\n",
    "r2_score(y_tm, tm_preds)"
   ],
   "outputs": [
    {
     "output_type": "error",
     "ename": "AttributeError",
     "evalue": "'VotingRegressor' object has no attribute 'partial_fit'",
     "traceback": [
      "\u001b[0;31m---------------------------------------------------------------------------\u001b[0m",
      "\u001b[0;31mAttributeError\u001b[0m                            Traceback (most recent call last)",
      "\u001b[0;32m/tmp/ipykernel_3508/2056967790.py\u001b[0m in \u001b[0;36m<module>\u001b[0;34m\u001b[0m\n\u001b[1;32m      1\u001b[0m \u001b[0;32mfrom\u001b[0m \u001b[0mjoblib\u001b[0m \u001b[0;32mimport\u001b[0m \u001b[0mload\u001b[0m\u001b[0;34m\u001b[0m\u001b[0;34m\u001b[0m\u001b[0m\n\u001b[1;32m      2\u001b[0m \u001b[0mereg\u001b[0m \u001b[0;34m=\u001b[0m \u001b[0mload\u001b[0m\u001b[0;34m(\u001b[0m\u001b[0;34m\"./models/ensemble_tm.joblib\"\u001b[0m\u001b[0;34m)\u001b[0m\u001b[0;34m\u001b[0m\u001b[0;34m\u001b[0m\u001b[0m\n\u001b[0;32m----> 3\u001b[0;31m \u001b[0mtm_preds\u001b[0m \u001b[0;34m=\u001b[0m \u001b[0mereg\u001b[0m\u001b[0;34m.\u001b[0m\u001b[0mpartial_fit\u001b[0m\u001b[0;34m(\u001b[0m\u001b[0mX_tm\u001b[0m\u001b[0;34m)\u001b[0m\u001b[0;34m\u001b[0m\u001b[0;34m\u001b[0m\u001b[0m\n\u001b[0m\u001b[1;32m      4\u001b[0m \u001b[0;34m\u001b[0m\u001b[0m\n\u001b[1;32m      5\u001b[0m \u001b[0mr2_score\u001b[0m\u001b[0;34m(\u001b[0m\u001b[0my_tm\u001b[0m\u001b[0;34m,\u001b[0m \u001b[0mtm_preds\u001b[0m\u001b[0;34m)\u001b[0m\u001b[0;34m\u001b[0m\u001b[0;34m\u001b[0m\u001b[0m\n",
      "\u001b[0;31mAttributeError\u001b[0m: 'VotingRegressor' object has no attribute 'partial_fit'"
     ]
    }
   ],
   "metadata": {}
  },
  {
   "cell_type": "code",
   "execution_count": 142,
   "source": [
    "train_set = ProteinStabilityDataset(proteins_path=data_path / \"tm_fireprot.h5\")\n",
    "unscaled_preds_tm = (tm_preds * train_set.y_scaler.var_) + train_set.y_scaler.mean_\n",
    "\n",
    "unscaled_dtm = np.round(unscaled_thermonuclease_tm - unscaled_preds_tm, 2)"
   ],
   "outputs": [],
   "metadata": {}
  },
  {
   "cell_type": "code",
   "execution_count": 152,
   "source": [
    "train_set.y.shape"
   ],
   "outputs": [
    {
     "output_type": "execute_result",
     "data": {
      "text/plain": [
       "(4338,)"
      ]
     },
     "metadata": {},
     "execution_count": 152
    }
   ],
   "metadata": {}
  },
  {
   "cell_type": "code",
   "execution_count": 153,
   "source": [
    "scaled_dtm = train_set.y_scaler.transform(unscaled_dtm.reshape(-1, 1)).reshape(unscaled_dtm.shape)\n",
    "r2_score(y_train, scaled_dtm)"
   ],
   "outputs": [
    {
     "output_type": "execute_result",
     "data": {
      "text/plain": [
       "-388.44524069765606"
      ]
     },
     "metadata": {},
     "execution_count": 153
    }
   ],
   "metadata": {}
  },
  {
   "cell_type": "code",
   "execution_count": null,
   "source": [],
   "outputs": [],
   "metadata": {}
  }
 ],
 "metadata": {
  "interpreter": {
   "hash": "a78d51e19256cfce1d39a2c3cba2e8056cac1355cb83723ad6d6938cbf3c5352"
  },
  "kernelspec": {
   "name": "python3",
   "display_name": "Python 3.8.10 64-bit ('protera-stability': conda)"
  },
  "language_info": {
   "codemirror_mode": {
    "name": "ipython",
    "version": 3
   },
   "file_extension": ".py",
   "mimetype": "text/x-python",
   "name": "python",
   "nbconvert_exporter": "python",
   "pygments_lexer": "ipython3",
   "version": "3.8.10"
  }
 },
 "nbformat": 4,
 "nbformat_minor": 5
}