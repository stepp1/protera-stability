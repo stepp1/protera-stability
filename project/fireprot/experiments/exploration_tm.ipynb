{
 "cells": [
  {
   "cell_type": "code",
   "execution_count": 1,
   "source": [
    "from pathlib import Path\n",
    "\n",
    "import matplotlib.pyplot as plt\n",
    "import pandas as pd\n",
    "from tqdm import tqdm\n",
    "\n",
    "data_path = Path(\"../data\")"
   ],
   "outputs": [],
   "metadata": {}
  },
  {
   "cell_type": "markdown",
   "source": [
    "## Basic Explo"
   ],
   "metadata": {}
  },
  {
   "cell_type": "code",
   "execution_count": 2,
   "source": [
    "df = pd.read_csv(data_path / \"fireprotdb_results.csv\", low_memory=False)\n",
    "df = df.drop_duplicates()\n",
    "total_prots = len(df.sequence.unique())\n",
    "\n",
    "df = df[df.tm.isin(df.tm.dropna())]\n",
    "tm_prots = len(df.sequence.unique())\n",
    "\n",
    "mutations_per_prot = df.groupby(by=\"sequence\").mutation.unique()\n",
    "\n",
    "print(df.columns)\n",
    "print(f\"Total no of proteins: {total_prots} \\nProteins w/ tm values: {tm_prots} \\n\")\n",
    "\n",
    "ax = mutations_per_prot.apply(len).hist()\n",
    "ax.set_title(\"No of Mutations per Protein\");\n",
    "plt.show() \n",
    "\n",
    "y = [df.is_curated.sum(), len(df) - df.is_curated.sum()]\n",
    "explode = (0.1, 0)\n",
    "labels = (\"tm Curated\",\"tm Not Curated\")\n",
    "\n",
    "plt.pie(y, explode=explode, labels=labels, autopct='%1.1f%%')\n",
    "plt.show() "
   ],
   "outputs": [
    {
     "output_type": "stream",
     "name": "stdout",
     "text": [
      "Index(['experiment_id', 'protein_name', 'uniprot_id', 'pdb_id', 'chain',\n",
      "       'position', 'wild_type', 'mutation', 'ddG', 'dTm', 'is_curated', 'type',\n",
      "       'derived_type', 'interpro_families', 'conservation', 'is_essential',\n",
      "       'correlated_pairs', 'back_to_consensus', 'secondary_structure', 'asa',\n",
      "       'is_in_catalytic_pocket', 'tunnels', 'is_in_bottleneck', 'b_factor',\n",
      "       'method', 'method_details', 'technique', 'technique_details', 'pH',\n",
      "       'tm', 'notes', 'publication_doi', 'publication_pubmed', 'hsw_job_id',\n",
      "       'datasets', 'sequence'],\n",
      "      dtype='object')\n",
      "Total no of proteins: 235 \n",
      "Proteins w/ tm values: 206 \n",
      "\n"
     ]
    },
    {
     "output_type": "display_data",
     "data": {
      "image/png": "[encoded data removed]",
      "text/plain": [
       "<Figure size 432x288 with 1 Axes>"
      ]
     },
     "metadata": {
      "needs_background": "light"
     }
    },
    {
     "output_type": "display_data",
     "data": {
      "image/png": "[encoded data removed]",
      "text/plain": [
       "<Figure size 432x288 with 1 Axes>"
      ]
     },
     "metadata": {}
    }
   ],
   "metadata": {}
  },
  {
   "cell_type": "code",
   "execution_count": 3,
   "source": [
    "df.technique_details.unique()"
   ],
   "outputs": [
    {
     "output_type": "execute_result",
     "data": {
      "text/plain": [
       "array([nan, 'CD', 'DSC', 'Activity', 'Fluorescence', 'Absorbance', 'NMR',\n",
       "       'CD, Fluorescence', 'Absorbance, CD, Fluorescence',\n",
       "       'Quantitaive cysteine reactivity'], dtype=object)"
      ]
     },
     "metadata": {},
     "execution_count": 3
    }
   ],
   "metadata": {}
  },
  {
   "cell_type": "code",
   "execution_count": 4,
   "source": [
    "df.head()"
   ],
   "outputs": [
    {
     "output_type": "execute_result",
     "data": {
      "text/html": [
       "<div>\n",
       "<style scoped>\n",
       "    .dataframe tbody tr th:only-of-type {\n",
       "        vertical-align: middle;\n",
       "    }\n",
       "\n",
       "    .dataframe tbody tr th {\n",
       "        vertical-align: top;\n",
       "    }\n",
       "\n",
       "    .dataframe thead th {\n",
       "        text-align: right;\n",
       "    }\n",
       "</style>\n",
       "<table border=\"1\" class=\"dataframe\">\n",
       "  <thead>\n",
       "    <tr style=\"text-align: right;\">\n",
       "      <th></th>\n",
       "      <th>experiment_id</th>\n",
       "      <th>protein_name</th>\n",
       "      <th>uniprot_id</th>\n",
       "      <th>pdb_id</th>\n",
       "      <th>chain</th>\n",
       "      <th>position</th>\n",
       "      <th>wild_type</th>\n",
       "      <th>mutation</th>\n",
       "      <th>ddG</th>\n",
       "      <th>dTm</th>\n",
       "      <th>...</th>\n",
       "      <th>technique</th>\n",
       "      <th>technique_details</th>\n",
       "      <th>pH</th>\n",
       "      <th>tm</th>\n",
       "      <th>notes</th>\n",
       "      <th>publication_doi</th>\n",
       "      <th>publication_pubmed</th>\n",
       "      <th>hsw_job_id</th>\n",
       "      <th>datasets</th>\n",
       "      <th>sequence</th>\n",
       "    </tr>\n",
       "  </thead>\n",
       "  <tbody>\n",
       "    <tr>\n",
       "      <th>0</th>\n",
       "      <td>LL000001</td>\n",
       "      <td>Haloalkane dehalogenase</td>\n",
       "      <td>P59336</td>\n",
       "      <td>1CQW</td>\n",
       "      <td>A</td>\n",
       "      <td>245</td>\n",
       "      <td>V</td>\n",
       "      <td>L</td>\n",
       "      <td>NaN</td>\n",
       "      <td>2.1</td>\n",
       "      <td>...</td>\n",
       "      <td>NaN</td>\n",
       "      <td>NaN</td>\n",
       "      <td>NaN</td>\n",
       "      <td>52.5</td>\n",
       "      <td>NaN</td>\n",
       "      <td>NaN</td>\n",
       "      <td>NaN</td>\n",
       "      <td>xfyu58</td>\n",
       "      <td>NaN</td>\n",
       "      <td>MSEIGTGFPFDPHYVEVLGERMHYVDVGPRDGTPVLFLHGNPTSSY...</td>\n",
       "    </tr>\n",
       "    <tr>\n",
       "      <th>1</th>\n",
       "      <td>LL000002</td>\n",
       "      <td>Haloalkane dehalogenase</td>\n",
       "      <td>P59336</td>\n",
       "      <td>1CQW</td>\n",
       "      <td>A</td>\n",
       "      <td>95</td>\n",
       "      <td>L</td>\n",
       "      <td>V</td>\n",
       "      <td>NaN</td>\n",
       "      <td>-0.4</td>\n",
       "      <td>...</td>\n",
       "      <td>NaN</td>\n",
       "      <td>NaN</td>\n",
       "      <td>NaN</td>\n",
       "      <td>50.0</td>\n",
       "      <td>NaN</td>\n",
       "      <td>NaN</td>\n",
       "      <td>NaN</td>\n",
       "      <td>xfyu58</td>\n",
       "      <td>NaN</td>\n",
       "      <td>MSEIGTGFPFDPHYVEVLGERMHYVDVGPRDGTPVLFLHGNPTSSY...</td>\n",
       "    </tr>\n",
       "    <tr>\n",
       "      <th>2</th>\n",
       "      <td>LL000004</td>\n",
       "      <td>Haloalkane dehalogenase</td>\n",
       "      <td>P59336</td>\n",
       "      <td>1CQW</td>\n",
       "      <td>A</td>\n",
       "      <td>176</td>\n",
       "      <td>C</td>\n",
       "      <td>F</td>\n",
       "      <td>NaN</td>\n",
       "      <td>5.2</td>\n",
       "      <td>...</td>\n",
       "      <td>NaN</td>\n",
       "      <td>NaN</td>\n",
       "      <td>NaN</td>\n",
       "      <td>55.6</td>\n",
       "      <td>NaN</td>\n",
       "      <td>NaN</td>\n",
       "      <td>NaN</td>\n",
       "      <td>xfyu58</td>\n",
       "      <td>NaN</td>\n",
       "      <td>MSEIGTGFPFDPHYVEVLGERMHYVDVGPRDGTPVLFLHGNPTSSY...</td>\n",
       "    </tr>\n",
       "    <tr>\n",
       "      <th>3</th>\n",
       "      <td>LL000005</td>\n",
       "      <td>Haloalkane dehalogenase</td>\n",
       "      <td>P59336</td>\n",
       "      <td>1CQW</td>\n",
       "      <td>A</td>\n",
       "      <td>171</td>\n",
       "      <td>G</td>\n",
       "      <td>Q</td>\n",
       "      <td>NaN</td>\n",
       "      <td>3.1</td>\n",
       "      <td>...</td>\n",
       "      <td>NaN</td>\n",
       "      <td>NaN</td>\n",
       "      <td>NaN</td>\n",
       "      <td>53.5</td>\n",
       "      <td>NaN</td>\n",
       "      <td>NaN</td>\n",
       "      <td>NaN</td>\n",
       "      <td>xfyu58</td>\n",
       "      <td>NaN</td>\n",
       "      <td>MSEIGTGFPFDPHYVEVLGERMHYVDVGPRDGTPVLFLHGNPTSSY...</td>\n",
       "    </tr>\n",
       "    <tr>\n",
       "      <th>4</th>\n",
       "      <td>LL000006</td>\n",
       "      <td>Haloalkane dehalogenase</td>\n",
       "      <td>P59336</td>\n",
       "      <td>1CQW</td>\n",
       "      <td>A</td>\n",
       "      <td>148</td>\n",
       "      <td>T</td>\n",
       "      <td>L</td>\n",
       "      <td>NaN</td>\n",
       "      <td>1.1</td>\n",
       "      <td>...</td>\n",
       "      <td>NaN</td>\n",
       "      <td>NaN</td>\n",
       "      <td>NaN</td>\n",
       "      <td>51.5</td>\n",
       "      <td>NaN</td>\n",
       "      <td>NaN</td>\n",
       "      <td>NaN</td>\n",
       "      <td>xfyu58</td>\n",
       "      <td>NaN</td>\n",
       "      <td>MSEIGTGFPFDPHYVEVLGERMHYVDVGPRDGTPVLFLHGNPTSSY...</td>\n",
       "    </tr>\n",
       "  </tbody>\n",
       "</table>\n",
       "<p>5 rows × 36 columns</p>\n",
       "</div>"
      ],
      "text/plain": [
       "  experiment_id             protein_name uniprot_id pdb_id chain  position  \\\n",
       "0      LL000001  Haloalkane dehalogenase     P59336   1CQW     A       245   \n",
       "1      LL000002  Haloalkane dehalogenase     P59336   1CQW     A        95   \n",
       "2      LL000004  Haloalkane dehalogenase     P59336   1CQW     A       176   \n",
       "3      LL000005  Haloalkane dehalogenase     P59336   1CQW     A       171   \n",
       "4      LL000006  Haloalkane dehalogenase     P59336   1CQW     A       148   \n",
       "\n",
       "  wild_type mutation  ddG  dTm  ...  technique  technique_details  pH    tm  \\\n",
       "0         V        L  NaN  2.1  ...        NaN                NaN NaN  52.5   \n",
       "1         L        V  NaN -0.4  ...        NaN                NaN NaN  50.0   \n",
       "2         C        F  NaN  5.2  ...        NaN                NaN NaN  55.6   \n",
       "3         G        Q  NaN  3.1  ...        NaN                NaN NaN  53.5   \n",
       "4         T        L  NaN  1.1  ...        NaN                NaN NaN  51.5   \n",
       "\n",
       "   notes  publication_doi  publication_pubmed  hsw_job_id datasets  \\\n",
       "0    NaN              NaN                 NaN      xfyu58      NaN   \n",
       "1    NaN              NaN                 NaN      xfyu58      NaN   \n",
       "2    NaN              NaN                 NaN      xfyu58      NaN   \n",
       "3    NaN              NaN                 NaN      xfyu58      NaN   \n",
       "4    NaN              NaN                 NaN      xfyu58      NaN   \n",
       "\n",
       "                                            sequence  \n",
       "0  MSEIGTGFPFDPHYVEVLGERMHYVDVGPRDGTPVLFLHGNPTSSY...  \n",
       "1  MSEIGTGFPFDPHYVEVLGERMHYVDVGPRDGTPVLFLHGNPTSSY...  \n",
       "2  MSEIGTGFPFDPHYVEVLGERMHYVDVGPRDGTPVLFLHGNPTSSY...  \n",
       "3  MSEIGTGFPFDPHYVEVLGERMHYVDVGPRDGTPVLFLHGNPTSSY...  \n",
       "4  MSEIGTGFPFDPHYVEVLGERMHYVDVGPRDGTPVLFLHGNPTSSY...  \n",
       "\n",
       "[5 rows x 36 columns]"
      ]
     },
     "metadata": {},
     "execution_count": 4
    }
   ],
   "metadata": {}
  },
  {
   "cell_type": "markdown",
   "source": [
    "## Get Mutations Sequences"
   ],
   "metadata": {}
  },
  {
   "cell_type": "code",
   "execution_count": 5,
   "source": [
    "sequences = []# set()\n",
    "\n",
    "#TODO: TEST IF MUTATION IS CORRECT\n",
    "nans = 0\n",
    "for row in tqdm(df.itertuples(), total = len(df)):\n",
    "    mutation = row.mutation\n",
    "    position = row.position\n",
    "    original_seq = row.sequence\n",
    "\n",
    "    new_sequence = original_seq[:position - 1] + mutation + original_seq[position:]\n",
    "    if mutation == original_seq[position - 1] or str(new_sequence) == str(original_seq) or (new_sequence in sequences):\n",
    "        # print(row.Index)\n",
    "        new_sequence = None\n",
    "        nans += 1\n",
    "    sequences.append(new_sequence)\n",
    "\n",
    "df[\"mutated_sequences\"] = sequences"
   ],
   "outputs": [
    {
     "output_type": "stream",
     "name": "stderr",
     "text": [
      "100%|██████████| 7481/7481 [00:00<00:00, 30625.10it/s]\n"
     ]
    }
   ],
   "metadata": {}
  },
  {
   "cell_type": "code",
   "execution_count": 6,
   "source": [
    "len(sequences), len(set(sequences)) # same protein and same mutation multiple times? w/ different values? how can this be possible?? ==> see: https://loschmidt.chemi.muni.cz/fireprotdb/mutation/6154"
   ],
   "outputs": [
    {
     "output_type": "execute_result",
     "data": {
      "text/plain": [
       "(7481, 4473)"
      ]
     },
     "metadata": {},
     "execution_count": 6
    }
   ],
   "metadata": {}
  },
  {
   "cell_type": "markdown",
   "source": [
    "## Filtering to extract embeddings"
   ],
   "metadata": {}
  },
  {
   "cell_type": "code",
   "execution_count": 7,
   "source": [
    "data = df[[\"mutated_sequences\", \"tm\"]]\n",
    "data.columns = [\"sequences\", \"labels\"]\n",
    "data = data[data[\"sequences\"].str.len() < 1000]\n",
    "data = data[data.columns[::-1]]\n",
    "data = data.dropna()\n",
    "\n",
    "data, len(data)"
   ],
   "outputs": [
    {
     "output_type": "execute_result",
     "data": {
      "text/plain": [
       "(       labels                                          sequences\n",
       " 0        52.5  MSEIGTGFPFDPHYVEVLGERMHYVDVGPRDGTPVLFLHGNPTSSY...\n",
       " 1        50.0  MSEIGTGFPFDPHYVEVLGERMHYVDVGPRDGTPVLFLHGNPTSSY...\n",
       " 2        55.6  MSEIGTGFPFDPHYVEVLGERMHYVDVGPRDGTPVLFLHGNPTSSY...\n",
       " 3        53.5  MSEIGTGFPFDPHYVEVLGERMHYVDVGPRDGTPVLFLHGNPTSSY...\n",
       " 4        51.5  MSEIGTGFPFDPHYVEVLGERMHYVDVGPRDGTPVLFLHGNPTSSY...\n",
       " ...       ...                                                ...\n",
       " 16877    22.0  MAALAGAIVVTGGVGSYAADEPIDLEKLEEKRDKENVGNLPKFDNE...\n",
       " 16878    22.0  MAALAGAIVVTGGVGSYAADEPIDLEKLEEKRDKENVGNLPKFDNE...\n",
       " 16879    25.0  MEKEKKVKYFLRKSAFGLASVSAAFLVGSTVFAVDSPIEDTPIIRN...\n",
       " 16881    25.0  MPSSVSWGILLLAGLCCLVPVSLAEDPQGDAAQKTDTSHHDQDHPT...\n",
       " 16888    25.0  MKIKTGARILALSALTTMMFSASALAKIEEGKLVIWINGDKGYNGL...\n",
       " \n",
       " [4338 rows x 2 columns],\n",
       " 4338)"
      ]
     },
     "metadata": {},
     "execution_count": 7
    }
   ],
   "metadata": {}
  },
  {
   "cell_type": "code",
   "execution_count": 8,
   "source": [
    "len(data.sequences.unique())"
   ],
   "outputs": [
    {
     "output_type": "execute_result",
     "data": {
      "text/plain": [
       "4338"
      ]
     },
     "metadata": {},
     "execution_count": 8
    }
   ],
   "metadata": {}
  },
  {
   "cell_type": "markdown",
   "source": [
    "## Embedding Extraction + H5 Dataset"
   ],
   "metadata": {}
  },
  {
   "cell_type": "code",
   "execution_count": 9,
   "source": [
    "from protera_stability.data import ProteinStabilityDataset\n",
    "from protera_stability.proteins import EmbeddingExtractor1D\n",
    "\n",
    "args_dict = {\n",
    "    \"model_name\": \"esm1b_t33_650M_UR50S\",\n",
    "    \"base_path\": data_path,\n",
    "    \"gpu\": True,\n",
    "}\n",
    "emb_extractor = EmbeddingExtractor1D(**args_dict)\n",
    "# embeddings = emb_extractor.generate_embeddings(\n",
    "#     [\"\"],\n",
    "#     data=data,\n",
    "#     path_out=f\"embeddings_fireprot\",  # data_path / \"embeddings_fireprot\".pkl\n",
    "#     bs=1,\n",
    "# )\n",
    "\n",
    "dataset = emb_extractor.generate_datasets(\n",
    "    [\"\"],\n",
    "    h5_stem=\"tm_fireprot\",\n",
    "    embedding_file=f\"embeddings_tm_fireprot\",  # data_path / \"embeddings_fireprot\".pkl\n",
    "    data=data\n",
    ")\n",
    "\n",
    "# dataset = ProteinStabilityDataset(data_path / f\"stability_fireprot.h5\",  ret_dict=False)\n",
    "# len(dataset)"
   ],
   "outputs": [
    {
     "output_type": "stream",
     "name": "stderr",
     "text": [
      "Using cache found in /home/roberto/.cache/torch/hub/facebookresearch_esm_master\n"
     ]
    }
   ],
   "metadata": {}
  },
  {
   "cell_type": "code",
   "execution_count": 10,
   "source": [
    "dataset.keys(), len(dataset[\"embeddings\"])"
   ],
   "outputs": [
    {
     "output_type": "execute_result",
     "data": {
      "text/plain": [
       "(<KeysViewHDF5 ['embeddings', 'labels', 'sequences']>, 4338)"
      ]
     },
     "metadata": {},
     "execution_count": 10
    }
   ],
   "metadata": {}
  },
  {
   "cell_type": "code",
   "execution_count": 11,
   "source": [
    "dataset[\"embeddings\"][:5], dataset[\"labels\"][:5], dataset[\"sequences\"][:5]"
   ],
   "outputs": [
    {
     "output_type": "execute_result",
     "data": {
      "text/plain": [
       "(array([[ 0.2350897 , -0.25447264,  0.28473607, ..., -0.04676087,\n",
       "          0.07022724, -0.01316316],\n",
       "        [ 0.22206414, -0.25040242,  0.2857153 , ..., -0.03801018,\n",
       "          0.07393236, -0.01647799],\n",
       "        [ 0.23157649, -0.25188828,  0.284555  , ..., -0.04157856,\n",
       "          0.0643125 , -0.01581165],\n",
       "        [ 0.23130716, -0.25267693,  0.28191715, ..., -0.04323569,\n",
       "          0.07054537, -0.01639866],\n",
       "        [ 0.23388666, -0.25644046,  0.28717238, ..., -0.04394579,\n",
       "          0.06922317, -0.00828897]], dtype=float32),\n",
       " array([52.5, 50. , 55.6, 53.5, 51.5]),\n",
       " array([b'MSEIGTGFPFDPHYVEVLGERMHYVDVGPRDGTPVLFLHGNPTSSYLWRNIIPHVAPSHRCIAPDLIGMGKSDKPDLDYFFDDHVRYLDAFIEALGLEEVVLVIHDWGSALGFHWAKRNPERVKGIACMEFIRPIPTWDEWPEFARETFQAFRTADVGRELIIDQNAFIEGVLPKCVVRPLTEVEMDHYREPFLKPVDREPLWRFPNEIPIAGEPANIVALVEAYMNWLHQSPVPKLLFWGTPGLLIPPAEAARLAESLPNCKTVDIGPGLHYLQEDNPDLIGSEIARWLPGLA',\n",
       "        b'MSEIGTGFPFDPHYVEVLGERMHYVDVGPRDGTPVLFLHGNPTSSYLWRNIIPHVAPSHRCIAPDLIGMGKSDKPDLDYFFDDHVRYLDAFIEAVGLEEVVLVIHDWGSALGFHWAKRNPERVKGIACMEFIRPIPTWDEWPEFARETFQAFRTADVGRELIIDQNAFIEGVLPKCVVRPLTEVEMDHYREPFLKPVDREPLWRFPNEIPIAGEPANIVALVEAYMNWLHQSPVPKLLFWGTPGVLIPPAEAARLAESLPNCKTVDIGPGLHYLQEDNPDLIGSEIARWLPGLA',\n",
       "        b'MSEIGTGFPFDPHYVEVLGERMHYVDVGPRDGTPVLFLHGNPTSSYLWRNIIPHVAPSHRCIAPDLIGMGKSDKPDLDYFFDDHVRYLDAFIEALGLEEVVLVIHDWGSALGFHWAKRNPERVKGIACMEFIRPIPTWDEWPEFARETFQAFRTADVGRELIIDQNAFIEGVLPKFVVRPLTEVEMDHYREPFLKPVDREPLWRFPNEIPIAGEPANIVALVEAYMNWLHQSPVPKLLFWGTPGVLIPPAEAARLAESLPNCKTVDIGPGLHYLQEDNPDLIGSEIARWLPGLA',\n",
       "        b'MSEIGTGFPFDPHYVEVLGERMHYVDVGPRDGTPVLFLHGNPTSSYLWRNIIPHVAPSHRCIAPDLIGMGKSDKPDLDYFFDDHVRYLDAFIEALGLEEVVLVIHDWGSALGFHWAKRNPERVKGIACMEFIRPIPTWDEWPEFARETFQAFRTADVGRELIIDQNAFIEQVLPKCVVRPLTEVEMDHYREPFLKPVDREPLWRFPNEIPIAGEPANIVALVEAYMNWLHQSPVPKLLFWGTPGVLIPPAEAARLAESLPNCKTVDIGPGLHYLQEDNPDLIGSEIARWLPGLA',\n",
       "        b'MSEIGTGFPFDPHYVEVLGERMHYVDVGPRDGTPVLFLHGNPTSSYLWRNIIPHVAPSHRCIAPDLIGMGKSDKPDLDYFFDDHVRYLDAFIEALGLEEVVLVIHDWGSALGFHWAKRNPERVKGIACMEFIRPIPTWDEWPEFARELFQAFRTADVGRELIIDQNAFIEGVLPKCVVRPLTEVEMDHYREPFLKPVDREPLWRFPNEIPIAGEPANIVALVEAYMNWLHQSPVPKLLFWGTPGVLIPPAEAARLAESLPNCKTVDIGPGLHYLQEDNPDLIGSEIARWLPGLA'],\n",
       "       dtype=object))"
      ]
     },
     "metadata": {},
     "execution_count": 11
    }
   ],
   "metadata": {}
  }
 ],
 "metadata": {
  "orig_nbformat": 4,
  "language_info": {
   "name": "python",
   "version": "3.8.10",
   "mimetype": "text/x-python",
   "codemirror_mode": {
    "name": "ipython",
    "version": 3
   },
   "pygments_lexer": "ipython3",
   "nbconvert_exporter": "python",
   "file_extension": ".py"
  },
  "kernelspec": {
   "name": "python3",
   "display_name": "Python 3.8.10 64-bit ('protera-stability': conda)"
  },
  "interpreter": {
   "hash": "a78d51e19256cfce1d39a2c3cba2e8056cac1355cb83723ad6d6938cbf3c5352"
  }
 },
 "nbformat": 4,
 "nbformat_minor": 2
}