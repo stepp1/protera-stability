{
 "cells": [
  {
   "cell_type": "code",
   "execution_count": 1,
   "source": [
    "from pathlib import Path\n",
    "\n",
    "import matplotlib.pyplot as plt\n",
    "import pandas as pd\n",
    "from tqdm import tqdm\n",
    "\n",
    "data_path = Path(\"data\")"
   ],
   "outputs": [],
   "metadata": {}
  },
  {
   "cell_type": "markdown",
   "source": [
    "## Basic Explo"
   ],
   "metadata": {}
  },
  {
   "cell_type": "code",
   "execution_count": 2,
   "source": [
    "df = pd.read_csv(data_path / \"fireprotdb_results.csv\", low_memory=False)\n",
    "df = df.drop_duplicates()\n",
    "total_prots = len(df.sequence.unique())\n",
    "\n",
    "df = df[df.ddG.isin(df.ddG.dropna())]\n",
    "ddg_prots = len(df.sequence.unique())\n",
    "\n",
    "mutations_per_prot = df.groupby(by=\"sequence\").mutation.unique()\n",
    "\n",
    "print(df.columns)\n",
    "print(f\"Total no of proteins: {total_prots} \\nProteins w/ ddG values: {ddg_prots} \\n\")\n",
    "\n",
    "ax = mutations_per_prot.apply(len).hist()\n",
    "ax.set_title(\"No of Mutations per Protein\");\n",
    "plt.show() \n",
    "\n",
    "y = [df.is_curated.sum(), len(df) - df.is_curated.sum()]\n",
    "explode = (0.1, 0)\n",
    "labels = (\"ddG Curated\",\"ddG Not Curated\")\n",
    "\n",
    "plt.pie(y, explode=explode, labels=labels, autopct='%1.1f%%')\n",
    "plt.show() "
   ],
   "outputs": [
    {
     "output_type": "stream",
     "name": "stdout",
     "text": [
      "Index(['experiment_id', 'protein_name', 'uniprot_id', 'pdb_id', 'chain',\n",
      "       'position', 'wild_type', 'mutation', 'ddG', 'dTm', 'is_curated', 'type',\n",
      "       'derived_type', 'interpro_families', 'conservation', 'is_essential',\n",
      "       'correlated_pairs', 'back_to_consensus', 'secondary_structure', 'asa',\n",
      "       'is_in_catalytic_pocket', 'tunnels', 'is_in_bottleneck', 'b_factor',\n",
      "       'method', 'method_details', 'technique', 'technique_details', 'pH',\n",
      "       'tm', 'notes', 'publication_doi', 'publication_pubmed', 'hsw_job_id',\n",
      "       'datasets', 'sequence'],\n",
      "      dtype='object')\n",
      "Total no of proteins: 235 \n",
      "Proteins w/ ddG values: 177 \n",
      "\n"
     ]
    },
    {
     "output_type": "display_data",
     "data": {
      "image/png": "[encoded data removed]",
      "text/plain": [
       "<Figure size 432x288 with 1 Axes>"
      ]
     },
     "metadata": {
      "needs_background": "light"
     }
    },
    {
     "output_type": "display_data",
     "data": {
      "image/png": "[encoded data removed]",
      "text/plain": [
       "<Figure size 432x288 with 1 Axes>"
      ]
     },
     "metadata": {}
    }
   ],
   "metadata": {}
  },
  {
   "cell_type": "code",
   "execution_count": 3,
   "source": [
    "df.technique_details.unique()"
   ],
   "outputs": [
    {
     "output_type": "execute_result",
     "data": {
      "text/plain": [
       "array([nan, 'Fluorescence', 'CD', 'DSC', 'HPLC', 'Absorbance', 'NMR',\n",
       "       'Gel electrophoresis', 'ESR', 'CD, Fluorescence', 'CD (far-UV)',\n",
       "       'Hydrogen exchange', 'Isothermal denaturation', 'Chromatography',\n",
       "       'Absorbance, CD, Fluorescence',\n",
       "       'CD, Fluorescence, Thiol reactivity', 'Pulse protolysis'],\n",
       "      dtype=object)"
      ]
     },
     "metadata": {},
     "execution_count": 3
    }
   ],
   "metadata": {}
  },
  {
   "cell_type": "code",
   "execution_count": 4,
   "source": [
    "df.head()"
   ],
   "outputs": [
    {
     "output_type": "execute_result",
     "data": {
      "text/html": [
       "<div>\n",
       "<style scoped>\n",
       "    .dataframe tbody tr th:only-of-type {\n",
       "        vertical-align: middle;\n",
       "    }\n",
       "\n",
       "    .dataframe tbody tr th {\n",
       "        vertical-align: top;\n",
       "    }\n",
       "\n",
       "    .dataframe thead th {\n",
       "        text-align: right;\n",
       "    }\n",
       "</style>\n",
       "<table border=\"1\" class=\"dataframe\">\n",
       "  <thead>\n",
       "    <tr style=\"text-align: right;\">\n",
       "      <th></th>\n",
       "      <th>experiment_id</th>\n",
       "      <th>protein_name</th>\n",
       "      <th>uniprot_id</th>\n",
       "      <th>pdb_id</th>\n",
       "      <th>chain</th>\n",
       "      <th>position</th>\n",
       "      <th>wild_type</th>\n",
       "      <th>mutation</th>\n",
       "      <th>ddG</th>\n",
       "      <th>dTm</th>\n",
       "      <th>...</th>\n",
       "      <th>technique</th>\n",
       "      <th>technique_details</th>\n",
       "      <th>pH</th>\n",
       "      <th>tm</th>\n",
       "      <th>notes</th>\n",
       "      <th>publication_doi</th>\n",
       "      <th>publication_pubmed</th>\n",
       "      <th>hsw_job_id</th>\n",
       "      <th>datasets</th>\n",
       "      <th>sequence</th>\n",
       "    </tr>\n",
       "  </thead>\n",
       "  <tbody>\n",
       "    <tr>\n",
       "      <th>565</th>\n",
       "      <td>LL000714</td>\n",
       "      <td>Immunoglobulin G-binding protein G</td>\n",
       "      <td>P06654</td>\n",
       "      <td>1PGA</td>\n",
       "      <td>A</td>\n",
       "      <td>1</td>\n",
       "      <td>M</td>\n",
       "      <td>A</td>\n",
       "      <td>-0.14</td>\n",
       "      <td>NaN</td>\n",
       "      <td>...</td>\n",
       "      <td>NaN</td>\n",
       "      <td>NaN</td>\n",
       "      <td>6.5</td>\n",
       "      <td>NaN</td>\n",
       "      <td>NaN</td>\n",
       "      <td>10.1073/pnas.1903888116</td>\n",
       "      <td>31371509.0</td>\n",
       "      <td>2i1nqi</td>\n",
       "      <td>NaN</td>\n",
       "      <td>MEKEKKVKYFLRKSAFGLASVSAAFLVGSTVFAVDSPIEDTPIIRN...</td>\n",
       "    </tr>\n",
       "    <tr>\n",
       "      <th>567</th>\n",
       "      <td>LL000715</td>\n",
       "      <td>Immunoglobulin G-binding protein G</td>\n",
       "      <td>P06654</td>\n",
       "      <td>1PGA</td>\n",
       "      <td>A</td>\n",
       "      <td>1</td>\n",
       "      <td>M</td>\n",
       "      <td>D</td>\n",
       "      <td>-0.38</td>\n",
       "      <td>NaN</td>\n",
       "      <td>...</td>\n",
       "      <td>NaN</td>\n",
       "      <td>NaN</td>\n",
       "      <td>6.5</td>\n",
       "      <td>NaN</td>\n",
       "      <td>NaN</td>\n",
       "      <td>10.1073/pnas.1903888116</td>\n",
       "      <td>31371509.0</td>\n",
       "      <td>2i1nqi</td>\n",
       "      <td>NaN</td>\n",
       "      <td>MEKEKKVKYFLRKSAFGLASVSAAFLVGSTVFAVDSPIEDTPIIRN...</td>\n",
       "    </tr>\n",
       "    <tr>\n",
       "      <th>569</th>\n",
       "      <td>LL000716</td>\n",
       "      <td>Immunoglobulin G-binding protein G</td>\n",
       "      <td>P06654</td>\n",
       "      <td>1PGA</td>\n",
       "      <td>A</td>\n",
       "      <td>1</td>\n",
       "      <td>M</td>\n",
       "      <td>E</td>\n",
       "      <td>-0.64</td>\n",
       "      <td>NaN</td>\n",
       "      <td>...</td>\n",
       "      <td>NaN</td>\n",
       "      <td>NaN</td>\n",
       "      <td>6.5</td>\n",
       "      <td>NaN</td>\n",
       "      <td>NaN</td>\n",
       "      <td>10.1073/pnas.1903888116</td>\n",
       "      <td>31371509.0</td>\n",
       "      <td>2i1nqi</td>\n",
       "      <td>NaN</td>\n",
       "      <td>MEKEKKVKYFLRKSAFGLASVSAAFLVGSTVFAVDSPIEDTPIIRN...</td>\n",
       "    </tr>\n",
       "    <tr>\n",
       "      <th>571</th>\n",
       "      <td>LL000717</td>\n",
       "      <td>Immunoglobulin G-binding protein G</td>\n",
       "      <td>P06654</td>\n",
       "      <td>1PGA</td>\n",
       "      <td>A</td>\n",
       "      <td>1</td>\n",
       "      <td>M</td>\n",
       "      <td>F</td>\n",
       "      <td>-1.14</td>\n",
       "      <td>NaN</td>\n",
       "      <td>...</td>\n",
       "      <td>NaN</td>\n",
       "      <td>NaN</td>\n",
       "      <td>6.5</td>\n",
       "      <td>NaN</td>\n",
       "      <td>NaN</td>\n",
       "      <td>10.1073/pnas.1903888116</td>\n",
       "      <td>31371509.0</td>\n",
       "      <td>2i1nqi</td>\n",
       "      <td>NaN</td>\n",
       "      <td>MEKEKKVKYFLRKSAFGLASVSAAFLVGSTVFAVDSPIEDTPIIRN...</td>\n",
       "    </tr>\n",
       "    <tr>\n",
       "      <th>573</th>\n",
       "      <td>LL000718</td>\n",
       "      <td>Immunoglobulin G-binding protein G</td>\n",
       "      <td>P06654</td>\n",
       "      <td>1PGA</td>\n",
       "      <td>A</td>\n",
       "      <td>1</td>\n",
       "      <td>M</td>\n",
       "      <td>G</td>\n",
       "      <td>-0.30</td>\n",
       "      <td>NaN</td>\n",
       "      <td>...</td>\n",
       "      <td>NaN</td>\n",
       "      <td>NaN</td>\n",
       "      <td>6.5</td>\n",
       "      <td>NaN</td>\n",
       "      <td>NaN</td>\n",
       "      <td>10.1073/pnas.1903888116</td>\n",
       "      <td>31371509.0</td>\n",
       "      <td>2i1nqi</td>\n",
       "      <td>NaN</td>\n",
       "      <td>MEKEKKVKYFLRKSAFGLASVSAAFLVGSTVFAVDSPIEDTPIIRN...</td>\n",
       "    </tr>\n",
       "  </tbody>\n",
       "</table>\n",
       "<p>5 rows × 36 columns</p>\n",
       "</div>"
      ],
      "text/plain": [
       "    experiment_id                        protein_name uniprot_id pdb_id chain  \\\n",
       "565      LL000714  Immunoglobulin G-binding protein G     P06654   1PGA     A   \n",
       "567      LL000715  Immunoglobulin G-binding protein G     P06654   1PGA     A   \n",
       "569      LL000716  Immunoglobulin G-binding protein G     P06654   1PGA     A   \n",
       "571      LL000717  Immunoglobulin G-binding protein G     P06654   1PGA     A   \n",
       "573      LL000718  Immunoglobulin G-binding protein G     P06654   1PGA     A   \n",
       "\n",
       "     position wild_type mutation   ddG  dTm  ...  technique  \\\n",
       "565         1         M        A -0.14  NaN  ...        NaN   \n",
       "567         1         M        D -0.38  NaN  ...        NaN   \n",
       "569         1         M        E -0.64  NaN  ...        NaN   \n",
       "571         1         M        F -1.14  NaN  ...        NaN   \n",
       "573         1         M        G -0.30  NaN  ...        NaN   \n",
       "\n",
       "     technique_details   pH  tm  notes          publication_doi  \\\n",
       "565                NaN  6.5 NaN    NaN  10.1073/pnas.1903888116   \n",
       "567                NaN  6.5 NaN    NaN  10.1073/pnas.1903888116   \n",
       "569                NaN  6.5 NaN    NaN  10.1073/pnas.1903888116   \n",
       "571                NaN  6.5 NaN    NaN  10.1073/pnas.1903888116   \n",
       "573                NaN  6.5 NaN    NaN  10.1073/pnas.1903888116   \n",
       "\n",
       "     publication_pubmed  hsw_job_id datasets  \\\n",
       "565          31371509.0      2i1nqi      NaN   \n",
       "567          31371509.0      2i1nqi      NaN   \n",
       "569          31371509.0      2i1nqi      NaN   \n",
       "571          31371509.0      2i1nqi      NaN   \n",
       "573          31371509.0      2i1nqi      NaN   \n",
       "\n",
       "                                              sequence  \n",
       "565  MEKEKKVKYFLRKSAFGLASVSAAFLVGSTVFAVDSPIEDTPIIRN...  \n",
       "567  MEKEKKVKYFLRKSAFGLASVSAAFLVGSTVFAVDSPIEDTPIIRN...  \n",
       "569  MEKEKKVKYFLRKSAFGLASVSAAFLVGSTVFAVDSPIEDTPIIRN...  \n",
       "571  MEKEKKVKYFLRKSAFGLASVSAAFLVGSTVFAVDSPIEDTPIIRN...  \n",
       "573  MEKEKKVKYFLRKSAFGLASVSAAFLVGSTVFAVDSPIEDTPIIRN...  \n",
       "\n",
       "[5 rows x 36 columns]"
      ]
     },
     "metadata": {},
     "execution_count": 4
    }
   ],
   "metadata": {}
  },
  {
   "cell_type": "markdown",
   "source": [
    "## Get Mutations Sequences"
   ],
   "metadata": {}
  },
  {
   "cell_type": "code",
   "execution_count": 5,
   "source": [
    "sequences = []# set()\n",
    "\n",
    "#TODO: TEST IF MUTATION IS CORRECT\n",
    "nans = 0\n",
    "for row in tqdm(df.itertuples(), total = len(df)):\n",
    "    mutation = row.mutation\n",
    "    position = row.position\n",
    "    original_seq = row.sequence\n",
    "\n",
    "    new_sequence = original_seq[:position - 1] + mutation + original_seq[position:]\n",
    "    if mutation == original_seq[position - 1] or str(new_sequence) == str(original_seq) or (new_sequence in sequences):\n",
    "        # print(row.Index)\n",
    "        new_sequence = None\n",
    "        nans += 1\n",
    "    sequences.append(new_sequence)\n",
    "\n",
    "df[\"mutated_sequences\"] = sequences"
   ],
   "outputs": [
    {
     "output_type": "stream",
     "name": "stderr",
     "text": [
      "100%|██████████| 12133/12133 [00:00<00:00, 24679.30it/s]\n"
     ]
    }
   ],
   "metadata": {}
  },
  {
   "cell_type": "code",
   "execution_count": 6,
   "source": [
    "len(sequences), len(set(sequences)) # same protein and same mutation multiple times? w/ different values? how can this be possible?? ==> see: https://loschmidt.chemi.muni.cz/fireprotdb/mutation/6154"
   ],
   "outputs": [
    {
     "output_type": "execute_result",
     "data": {
      "text/plain": [
       "(12133, 5174)"
      ]
     },
     "metadata": {},
     "execution_count": 6
    }
   ],
   "metadata": {}
  },
  {
   "cell_type": "markdown",
   "source": [
    "## Filtering to extract embeddings"
   ],
   "metadata": {}
  },
  {
   "cell_type": "code",
   "execution_count": 7,
   "source": [
    "data = df[[\"mutated_sequences\", \"ddG\"]]\n",
    "data.columns = [\"sequences\", \"labels\"]\n",
    "data = data[data[\"sequences\"].str.len() < 1000]\n",
    "data = data[data.columns[::-1]]\n",
    "data = data.dropna()\n",
    "\n",
    "data, len(data)"
   ],
   "outputs": [
    {
     "output_type": "execute_result",
     "data": {
      "text/plain": [
       "(       labels                                          sequences\n",
       " 565     -0.14  AEKEKKVKYFLRKSAFGLASVSAAFLVGSTVFAVDSPIEDTPIIRN...\n",
       " 567     -0.38  DEKEKKVKYFLRKSAFGLASVSAAFLVGSTVFAVDSPIEDTPIIRN...\n",
       " 569     -0.64  EEKEKKVKYFLRKSAFGLASVSAAFLVGSTVFAVDSPIEDTPIIRN...\n",
       " 571     -1.14  FEKEKKVKYFLRKSAFGLASVSAAFLVGSTVFAVDSPIEDTPIIRN...\n",
       " 573     -0.30  GEKEKKVKYFLRKSAFGLASVSAAFLVGSTVFAVDSPIEDTPIIRN...\n",
       " ...       ...                                                ...\n",
       " 16966    0.10  MGSNKSKPKDASQRRRSLEPAENVHGAGGGAFPASQTPSKPASADG...\n",
       " 16968    1.20  MGSNKSKPKDASQRRRSLEPAENVHGAGGGAFPASQTPSKPASADG...\n",
       " 16969    0.50  MGSNKSKPKDASQRRRSLEPAENVHGAGGGAFPASQTPSKPASADG...\n",
       " 16970    0.10  MGSNKSKPKDASQRRRSLEPAENVHGAGGGAFPASQTPSKPASADG...\n",
       " 16971   -0.40  MGSNKSKPKDASQRRRSLEPAENVHGAGGGAFPASQTPSKPASADG...\n",
       " \n",
       " [4950 rows x 2 columns],\n",
       " 4950)"
      ]
     },
     "metadata": {},
     "execution_count": 7
    }
   ],
   "metadata": {}
  },
  {
   "cell_type": "code",
   "execution_count": 8,
   "source": [
    "len(data.sequences.unique())"
   ],
   "outputs": [
    {
     "output_type": "execute_result",
     "data": {
      "text/plain": [
       "4950"
      ]
     },
     "metadata": {},
     "execution_count": 8
    }
   ],
   "metadata": {}
  },
  {
   "cell_type": "markdown",
   "source": [
    "## Embedding Extraction + H5 Dataset"
   ],
   "metadata": {}
  },
  {
   "cell_type": "code",
   "execution_count": 9,
   "source": [
    "from protera_stability.data import ProteinStabilityDataset\n",
    "from protera_stability.proteins import EmbeddingExtractor1D\n",
    "\n",
    "args_dict = {\n",
    "    \"model_name\": \"esm1b_t33_650M_UR50S\",\n",
    "    \"base_path\": data_path,\n",
    "    \"gpu\": True,\n",
    "}\n",
    "emb_extractor = EmbeddingExtractor1D(**args_dict)\n",
    "# embeddings = emb_extractor.generate_embeddings(\n",
    "#     [\"\"],\n",
    "#     data=data,\n",
    "#     path_out=f\"embeddings_fireprot\",  # data_path / \"embeddings_fireprot\".pkl\n",
    "#     bs=1,\n",
    "# )\n",
    "\n",
    "# dataset = ProteinStabilityDataset(data_path / f\"stability_fireprot.h5\",  ret_dict=False)\n",
    "# len(dataset)"
   ],
   "outputs": [
    {
     "output_type": "stream",
     "name": "stderr",
     "text": [
      "Using cache found in /home/step/.cache/torch/hub/facebookresearch_esm_master\n"
     ]
    }
   ],
   "metadata": {}
  },
  {
   "cell_type": "code",
   "execution_count": 10,
   "source": [
    "dataset = emb_extractor.generate_datasets(\n",
    "    [\"\"],\n",
    "    h5_stem=\"stability_fireprot\",\n",
    "    embedding_file=f\"embeddings_fireprot\",  # data_path / \"embeddings_fireprot\".pkl\n",
    "    data=data\n",
    ")"
   ],
   "outputs": [
    {
     "output_type": "stream",
     "name": "stderr",
     "text": [
      "Returning existing dataset...\n"
     ]
    }
   ],
   "metadata": {}
  },
  {
   "cell_type": "code",
   "execution_count": 11,
   "source": [
    "dataset.keys(), len(dataset[\"embeddings\"])"
   ],
   "outputs": [
    {
     "output_type": "execute_result",
     "data": {
      "text/plain": [
       "(<KeysViewHDF5 ['embeddings', 'labels', 'sequences']>, 4950)"
      ]
     },
     "metadata": {},
     "execution_count": 11
    }
   ],
   "metadata": {}
  },
  {
   "cell_type": "code",
   "execution_count": 12,
   "source": [
    "dataset[\"embeddings\"][:5], dataset[\"labels\"][:5], dataset[\"sequences\"][:5]"
   ],
   "outputs": [
    {
     "output_type": "execute_result",
     "data": {
      "text/plain": [
       "(array([[ 0.33937362, -0.11183041,  0.29612333, ..., -0.10438452,\n",
       "         -0.3521848 , -0.63087213],\n",
       "        [ 0.33824635, -0.11248305,  0.30882323, ..., -0.09298764,\n",
       "         -0.31259537, -0.6617306 ],\n",
       "        [ 0.30203012, -0.13270937,  0.3241013 , ..., -0.09261125,\n",
       "         -0.3435264 , -0.6407296 ],\n",
       "        [ 0.32348624, -0.12337324,  0.34181023, ..., -0.13274644,\n",
       "         -0.36193815, -0.64091915],\n",
       "        [ 0.326059  , -0.13718121,  0.32021064, ..., -0.09727138,\n",
       "         -0.3338208 , -0.68174726]], dtype=float32),\n",
       " array([-0.14, -0.38, -0.64, -1.14, -0.3 ]),\n",
       " array([b'AEKEKKVKYFLRKSAFGLASVSAAFLVGSTVFAVDSPIEDTPIIRNGGELTNLLGNSETTLALRNEESATADLTAAAVADTVAAAAAENAGAAAWEAAAAADALAKAKADALKEFNKYGVSDYYKNLINNAKTVEGIKDLQAQVVESAKKARISEATDGLSDFLKSQTPAEDTVKSIELAEAKVLANRELDKYGVSDYHKNLINNAKTVEGVKELIDEILAALPKTDTYKLILNGKTLKGETTTEAVDAATAEKVFKQYANDNGVDGEWTYDDATKTFTVTEKPEVIDASELTPAVTTYKLVINGKTLKGETTTKAVDAETAEKAFKQYANDNGVDGVWTYDDATKTFTVTEMVTEVPGDAPTEPEKPEASIPLVPLTPATPIAKDDAKKDDTKKEDAKKPEAKKDDAKKAETLPTTGEGSNPFFTAAALAVMAGAGALAVASKRKED',\n",
       "        b'DEKEKKVKYFLRKSAFGLASVSAAFLVGSTVFAVDSPIEDTPIIRNGGELTNLLGNSETTLALRNEESATADLTAAAVADTVAAAAAENAGAAAWEAAAAADALAKAKADALKEFNKYGVSDYYKNLINNAKTVEGIKDLQAQVVESAKKARISEATDGLSDFLKSQTPAEDTVKSIELAEAKVLANRELDKYGVSDYHKNLINNAKTVEGVKELIDEILAALPKTDTYKLILNGKTLKGETTTEAVDAATAEKVFKQYANDNGVDGEWTYDDATKTFTVTEKPEVIDASELTPAVTTYKLVINGKTLKGETTTKAVDAETAEKAFKQYANDNGVDGVWTYDDATKTFTVTEMVTEVPGDAPTEPEKPEASIPLVPLTPATPIAKDDAKKDDTKKEDAKKPEAKKDDAKKAETLPTTGEGSNPFFTAAALAVMAGAGALAVASKRKED',\n",
       "        b'EEKEKKVKYFLRKSAFGLASVSAAFLVGSTVFAVDSPIEDTPIIRNGGELTNLLGNSETTLALRNEESATADLTAAAVADTVAAAAAENAGAAAWEAAAAADALAKAKADALKEFNKYGVSDYYKNLINNAKTVEGIKDLQAQVVESAKKARISEATDGLSDFLKSQTPAEDTVKSIELAEAKVLANRELDKYGVSDYHKNLINNAKTVEGVKELIDEILAALPKTDTYKLILNGKTLKGETTTEAVDAATAEKVFKQYANDNGVDGEWTYDDATKTFTVTEKPEVIDASELTPAVTTYKLVINGKTLKGETTTKAVDAETAEKAFKQYANDNGVDGVWTYDDATKTFTVTEMVTEVPGDAPTEPEKPEASIPLVPLTPATPIAKDDAKKDDTKKEDAKKPEAKKDDAKKAETLPTTGEGSNPFFTAAALAVMAGAGALAVASKRKED',\n",
       "        b'FEKEKKVKYFLRKSAFGLASVSAAFLVGSTVFAVDSPIEDTPIIRNGGELTNLLGNSETTLALRNEESATADLTAAAVADTVAAAAAENAGAAAWEAAAAADALAKAKADALKEFNKYGVSDYYKNLINNAKTVEGIKDLQAQVVESAKKARISEATDGLSDFLKSQTPAEDTVKSIELAEAKVLANRELDKYGVSDYHKNLINNAKTVEGVKELIDEILAALPKTDTYKLILNGKTLKGETTTEAVDAATAEKVFKQYANDNGVDGEWTYDDATKTFTVTEKPEVIDASELTPAVTTYKLVINGKTLKGETTTKAVDAETAEKAFKQYANDNGVDGVWTYDDATKTFTVTEMVTEVPGDAPTEPEKPEASIPLVPLTPATPIAKDDAKKDDTKKEDAKKPEAKKDDAKKAETLPTTGEGSNPFFTAAALAVMAGAGALAVASKRKED',\n",
       "        b'GEKEKKVKYFLRKSAFGLASVSAAFLVGSTVFAVDSPIEDTPIIRNGGELTNLLGNSETTLALRNEESATADLTAAAVADTVAAAAAENAGAAAWEAAAAADALAKAKADALKEFNKYGVSDYYKNLINNAKTVEGIKDLQAQVVESAKKARISEATDGLSDFLKSQTPAEDTVKSIELAEAKVLANRELDKYGVSDYHKNLINNAKTVEGVKELIDEILAALPKTDTYKLILNGKTLKGETTTEAVDAATAEKVFKQYANDNGVDGEWTYDDATKTFTVTEKPEVIDASELTPAVTTYKLVINGKTLKGETTTKAVDAETAEKAFKQYANDNGVDGVWTYDDATKTFTVTEMVTEVPGDAPTEPEKPEASIPLVPLTPATPIAKDDAKKDDTKKEDAKKPEAKKDDAKKAETLPTTGEGSNPFFTAAALAVMAGAGALAVASKRKED'],\n",
       "       dtype=object))"
      ]
     },
     "metadata": {},
     "execution_count": 12
    }
   ],
   "metadata": {}
  },
  {
   "cell_type": "code",
   "execution_count": null,
   "source": [],
   "outputs": [],
   "metadata": {}
  }
 ],
 "metadata": {
  "orig_nbformat": 4,
  "language_info": {
   "name": "python",
   "version": "3.7.10",
   "mimetype": "text/x-python",
   "codemirror_mode": {
    "name": "ipython",
    "version": 3
   },
   "pygments_lexer": "ipython3",
   "nbconvert_exporter": "python",
   "file_extension": ".py"
  },
  "kernelspec": {
   "name": "python3",
   "display_name": "Python 3.7.10 64-bit ('protera-stability': conda)"
  },
  "interpreter": {
   "hash": "1a41ca1785f6d196b4af8c1ecb9617ee299d0733195b9a1719f66cacf5f456d3"
  }
 },
 "nbformat": 4,
 "nbformat_minor": 2
}