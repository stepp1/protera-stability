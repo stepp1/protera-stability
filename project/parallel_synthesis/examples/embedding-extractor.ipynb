{
 "cells": [
  {
   "cell_type": "code",
   "execution_count": 1,
   "source": [
    "from protera_stability.proteins import EmbeddingExtractor1D"
   ],
   "outputs": [],
   "metadata": {
    "ExecuteTime": {
     "end_time": "2021-08-27T15:42:51.696196Z",
     "start_time": "2021-08-27T15:42:51.694457Z"
    },
    "scrolled": true
   }
  },
  {
   "cell_type": "code",
   "execution_count": 2,
   "source": [
    "from pathlib import Path\n",
    "import pandas as pd\n",
    "\n",
    "data_path = Path(\"../data\")\n",
    "\n",
    "!ls $data_path"
   ],
   "outputs": [
    {
     "output_type": "stream",
     "name": "stdout",
     "text": [
      "clustering\t stability.csv\t\t       stability_test.h5\n",
      "mmseq\t\t stability_diversity.csv       stability_train.csv\n",
      "mmseq_q\t\t stability_embeddings.pkl      stability_train_diversity.csv\n",
      "mmseq_t\t\t stability.h5\t\t       stability_train.h5\n",
      "raw\t\t stability_test.csv\t       tmp\n",
      "sequences.fasta  stability_test_diversity.csv\n"
     ]
    }
   ],
   "metadata": {
    "ExecuteTime": {
     "end_time": "2021-08-27T15:43:13.597091Z",
     "start_time": "2021-08-27T15:43:13.316791Z"
    }
   }
  },
  {
   "cell_type": "markdown",
   "source": [
    "> * Los `.csv` deben contener las columnas `labels` y `sequences`.\n",
    "\n",
    "> * `data_path` debe ser Path y un directorio que contenga tus `.csv`"
   ],
   "metadata": {}
  },
  {
   "cell_type": "code",
   "execution_count": 3,
   "source": [
    "pd.read_csv(data_path / \"stability_train.csv\")"
   ],
   "outputs": [
    {
     "output_type": "execute_result",
     "data": {
      "text/html": [
       "<div>\n",
       "<style scoped>\n",
       "    .dataframe tbody tr th:only-of-type {\n",
       "        vertical-align: middle;\n",
       "    }\n",
       "\n",
       "    .dataframe tbody tr th {\n",
       "        vertical-align: top;\n",
       "    }\n",
       "\n",
       "    .dataframe thead th {\n",
       "        text-align: right;\n",
       "    }\n",
       "</style>\n",
       "<table border=\"1\" class=\"dataframe\">\n",
       "  <thead>\n",
       "    <tr style=\"text-align: right;\">\n",
       "      <th></th>\n",
       "      <th>consensus_stability_score</th>\n",
       "      <th>sequence</th>\n",
       "    </tr>\n",
       "  </thead>\n",
       "  <tbody>\n",
       "    <tr>\n",
       "      <th>0</th>\n",
       "      <td>-0.03</td>\n",
       "      <td>TELKKKLEEALKKGEEVRVKFNGIEIRNTSEDAARKAVELLEK</td>\n",
       "    </tr>\n",
       "    <tr>\n",
       "      <th>1</th>\n",
       "      <td>1.41</td>\n",
       "      <td>GSSQETIEVEDEEEARRVAKELRKTGYEVKIERRGNKWHVHRT</td>\n",
       "    </tr>\n",
       "    <tr>\n",
       "      <th>2</th>\n",
       "      <td>1.11</td>\n",
       "      <td>TTIHVGDLTLKYDNPKKAYEIAKKLAKKYNLQVTIKNGKITVT</td>\n",
       "    </tr>\n",
       "    <tr>\n",
       "      <th>3</th>\n",
       "      <td>1.24</td>\n",
       "      <td>SKDEAQREAERAIRSGNKEEARRILEEVGYSPEQAERIIRKLG</td>\n",
       "    </tr>\n",
       "    <tr>\n",
       "      <th>4</th>\n",
       "      <td>0.89</td>\n",
       "      <td>FEIPDDVPLPAGWEMARTSSGQRYFKNHIDQTTTWQDPRKAMLSQM</td>\n",
       "    </tr>\n",
       "    <tr>\n",
       "      <th>...</th>\n",
       "      <td>...</td>\n",
       "      <td>...</td>\n",
       "    </tr>\n",
       "    <tr>\n",
       "      <th>8199</th>\n",
       "      <td>1.59</td>\n",
       "      <td>GSSKTQYEYDTKEEAQKAYEKFKKQGIPVTITQKNGKWFVQVE</td>\n",
       "    </tr>\n",
       "    <tr>\n",
       "      <th>8200</th>\n",
       "      <td>0.78</td>\n",
       "      <td>TELKKALEEALKKGEEVRVKFNGIEIRITSEDAARKAVELLEK</td>\n",
       "    </tr>\n",
       "    <tr>\n",
       "      <th>8201</th>\n",
       "      <td>1.26</td>\n",
       "      <td>SKDEAQREAERAIRSGNKEEARRILEEAGYSPEQAERIARKLG</td>\n",
       "    </tr>\n",
       "    <tr>\n",
       "      <th>8202</th>\n",
       "      <td>1.48</td>\n",
       "      <td>GSSKTQYEYDTKEEAQPAYEKFKKQGIPVTITQKNGKWFVQVE</td>\n",
       "    </tr>\n",
       "    <tr>\n",
       "      <th>8203</th>\n",
       "      <td>1.65</td>\n",
       "      <td>GSSTTRYRFTDEEEARRAAKEWARRGYQNHVTQNGTYWEVEVR</td>\n",
       "    </tr>\n",
       "  </tbody>\n",
       "</table>\n",
       "<p>8204 rows × 2 columns</p>\n",
       "</div>"
      ],
      "text/plain": [
       "      consensus_stability_score  \\\n",
       "0                         -0.03   \n",
       "1                          1.41   \n",
       "2                          1.11   \n",
       "3                          1.24   \n",
       "4                          0.89   \n",
       "...                         ...   \n",
       "8199                       1.59   \n",
       "8200                       0.78   \n",
       "8201                       1.26   \n",
       "8202                       1.48   \n",
       "8203                       1.65   \n",
       "\n",
       "                                            sequence  \n",
       "0        TELKKKLEEALKKGEEVRVKFNGIEIRNTSEDAARKAVELLEK  \n",
       "1        GSSQETIEVEDEEEARRVAKELRKTGYEVKIERRGNKWHVHRT  \n",
       "2        TTIHVGDLTLKYDNPKKAYEIAKKLAKKYNLQVTIKNGKITVT  \n",
       "3        SKDEAQREAERAIRSGNKEEARRILEEVGYSPEQAERIIRKLG  \n",
       "4     FEIPDDVPLPAGWEMARTSSGQRYFKNHIDQTTTWQDPRKAMLSQM  \n",
       "...                                              ...  \n",
       "8199     GSSKTQYEYDTKEEAQKAYEKFKKQGIPVTITQKNGKWFVQVE  \n",
       "8200     TELKKALEEALKKGEEVRVKFNGIEIRITSEDAARKAVELLEK  \n",
       "8201     SKDEAQREAERAIRSGNKEEARRILEEAGYSPEQAERIARKLG  \n",
       "8202     GSSKTQYEYDTKEEAQPAYEKFKKQGIPVTITQKNGKWFVQVE  \n",
       "8203     GSSTTRYRFTDEEEARRAAKEWARRGYQNHVTQNGTYWEVEVR  \n",
       "\n",
       "[8204 rows x 2 columns]"
      ]
     },
     "metadata": {},
     "execution_count": 3
    }
   ],
   "metadata": {
    "ExecuteTime": {
     "end_time": "2021-08-27T17:55:04.935890Z",
     "start_time": "2021-08-27T17:55:04.922292Z"
    }
   }
  },
  {
   "cell_type": "code",
   "execution_count": 4,
   "source": [
    "args_dict = {\n",
    "    \"model_name\": \"esm1b_t33_650M_UR50S\",\n",
    "    \"base_path\": data_path,\n",
    "    \"gpu\": True,\n",
    "}\n",
    "\n",
    "emb_stabilty = EmbeddingExtractor1D(**args_dict)"
   ],
   "outputs": [
    {
     "output_type": "stream",
     "name": "stderr",
     "text": [
      "Using cache found in /home/roberto/.cache/torch/hub/facebookresearch_esm_master\n"
     ]
    }
   ],
   "metadata": {
    "ExecuteTime": {
     "end_time": "2021-08-27T15:43:00.064583Z",
     "start_time": "2021-08-27T15:42:51.981135Z"
    }
   }
  },
  {
   "cell_type": "code",
   "execution_count": 5,
   "source": [
    "embeddings = emb_stabilty.generate_embeddings(\n",
    "    [\"stability_train.csv\"],  # esta en data_path\n",
    "    path_out=\"stability_embeddings_train\",  # guardarlo en data_path/stability_train.pkl\n",
    "    bs=256,\n",
    ")"
   ],
   "outputs": [
    {
     "output_type": "stream",
     "name": "stderr",
     "text": [
      "100%|██████████| 33/33 [00:56<00:00,  1.73s/it]"
     ]
    },
    {
     "output_type": "stream",
     "name": "stdout",
     "text": [
      "Embeddings saved to ../data/stability_embeddings_train.pkl\n"
     ]
    },
    {
     "output_type": "stream",
     "name": "stderr",
     "text": [
      "\n"
     ]
    }
   ],
   "metadata": {
    "ExecuteTime": {
     "end_time": "2021-08-27T15:43:03.448839Z",
     "start_time": "2021-08-27T15:43:03.417657Z"
    },
    "scrolled": true
   }
  },
  {
   "cell_type": "code",
   "execution_count": 6,
   "source": [
    "dset = emb_stabilty.generate_datasets(\n",
    "    [\"stability.csv\"],\n",
    "    h5_stem=\"stability\",  # data_path / \"stability\".h5\n",
    "    bs=256,\n",
    "    embedding_file=\"stability_embeddings\",  # cargar los embeddings desde donde se espera que esten\n",
    "    target_name=\"stability_scores\"\n",
    ")"
   ],
   "outputs": [
    {
     "output_type": "stream",
     "name": "stderr",
     "text": [
      "Returning existing dataset...\n"
     ]
    }
   ],
   "metadata": {
    "ExecuteTime": {
     "end_time": "2021-08-27T15:23:55.776112Z",
     "start_time": "2021-08-27T15:23:38.094Z"
    }
   }
  },
  {
   "cell_type": "code",
   "execution_count": 7,
   "source": [
    "dset[\"labels\"][:10], dset[\"sequences\"][:10]"
   ],
   "outputs": [
    {
     "output_type": "execute_result",
     "data": {
      "text/plain": [
       "(array([ 0.37,  0.62, -0.03,  1.41,  1.11,  1.24,  1.05,  0.89,  0.88,\n",
       "         1.15]),\n",
       " array([b'GSSQETIEVEDEEEARRVAKELRKKGYEVKDERRGNKWHVHRT',\n",
       "        b'TLDEARELVERAKKEGTGMDVNGQRFEDWREAERWVREQEKNK',\n",
       "        b'TELKKKLEEALKKGEEVRVKFNGIEIRNTSEDAARKAVELLEK',\n",
       "        b'GSSQETIEVEDEEEARRVAKELRKTGYEVKIERRGNKWHVHRT',\n",
       "        b'TTIHVGDLTLKYDNPKKAYEIAKKLAKKYNLQVTIKNGKITVT',\n",
       "        b'SKDEAQREAERAIRSGNKEEARRILEEVGYSPEQAERIIRKLG',\n",
       "        b'TIDEIIKALEQAVKDGKPIQVGNYTVTSADEAEKLAKKLKKEY',\n",
       "        b'FEIPDDVPLPAGWEMARTSSGQRYFKNHIDQTTTWQDPRKAMLSQM',\n",
       "        b'TTIHVGDLTLKYDNPKKAYEIAKKLDKKYNLTVTIKNGKITVT',\n",
       "        b'GSSGSLSDEDFKAVFGMTRSAFAMLPLWKQQNLKKEKGLFGSS'], dtype=object))"
      ]
     },
     "metadata": {},
     "execution_count": 7
    }
   ],
   "metadata": {
    "ExecuteTime": {
     "end_time": "2021-08-24T15:46:53.362321Z",
     "start_time": "2021-08-24T15:46:53.357619Z"
    }
   }
  },
  {
   "cell_type": "code",
   "execution_count": 8,
   "source": [
    "dset.close() # hay que cerrarlo pq es un h5py"
   ],
   "outputs": [],
   "metadata": {
    "ExecuteTime": {
     "end_time": "2021-08-24T15:46:56.724395Z",
     "start_time": "2021-08-24T15:46:56.722370Z"
    }
   }
  }
 ],
 "metadata": {
  "kernelspec": {
   "name": "python3",
   "display_name": "Python 3.9.7 64-bit ('protera-stability': conda)"
  },
  "language_info": {
   "codemirror_mode": {
    "name": "ipython",
    "version": 3
   },
   "file_extension": ".py",
   "mimetype": "text/x-python",
   "name": "python",
   "nbconvert_exporter": "python",
   "pygments_lexer": "ipython3",
   "version": "3.9.7"
  },
  "interpreter": {
   "hash": "a78d51e19256cfce1d39a2c3cba2e8056cac1355cb83723ad6d6938cbf3c5352"
  }
 },
 "nbformat": 4,
 "nbformat_minor": 2
}