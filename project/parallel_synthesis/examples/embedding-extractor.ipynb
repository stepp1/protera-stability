{
 "cells": [
  {
   "cell_type": "code",
   "execution_count": 11,
   "source": [
    "from protera_stability.proteins import EmbeddingExtractor1D"
   ],
   "outputs": [],
   "metadata": {
    "ExecuteTime": {
     "end_time": "2021-08-27T15:42:51.696196Z",
     "start_time": "2021-08-27T15:42:51.694457Z"
    },
    "scrolled": true
   }
  },
  {
   "cell_type": "code",
   "execution_count": 17,
   "source": [
    "from pathlib import Path\n",
    "import pandas as pd\n",
    "\n",
    "data_path = Path(\"../data\")\n",
    "\n",
    "!ls $data_path"
   ],
   "outputs": [
    {
     "output_type": "stream",
     "name": "stdout",
     "text": [
      "raw\t\t\t      stability_test_embeddings.pkl\r\n",
      "stability.csv\t\t      stability_test.h5\r\n",
      "stability_diversity.csv       stability_train.csv\r\n",
      "stability_embeddings.pkl      stability_train_diversity.csv\r\n",
      "stability.h5\t\t      stability_train_embeddings.pkl\r\n",
      "stability_test.csv\t      stability_train.h5\r\n",
      "stability_test_diversity.csv\r\n"
     ]
    }
   ],
   "metadata": {
    "ExecuteTime": {
     "end_time": "2021-08-27T15:43:13.597091Z",
     "start_time": "2021-08-27T15:43:13.316791Z"
    }
   }
  },
  {
   "cell_type": "markdown",
   "source": [
    "> * Los `.csv` deben contener las columnas `labels` y `sequences`.\n",
    "\n",
    "> * `data_path` debe ser Path y un directorio que contenga tus `.csv`"
   ],
   "metadata": {}
  },
  {
   "cell_type": "code",
   "execution_count": 19,
   "source": [
    "pd.read_csv(data_path / \"stability_train.csv\")"
   ],
   "outputs": [
    {
     "output_type": "execute_result",
     "data": {
      "text/html": [
       "<div>\n",
       "<style scoped>\n",
       "    .dataframe tbody tr th:only-of-type {\n",
       "        vertical-align: middle;\n",
       "    }\n",
       "\n",
       "    .dataframe tbody tr th {\n",
       "        vertical-align: top;\n",
       "    }\n",
       "\n",
       "    .dataframe thead th {\n",
       "        text-align: right;\n",
       "    }\n",
       "</style>\n",
       "<table border=\"1\" class=\"dataframe\">\n",
       "  <thead>\n",
       "    <tr style=\"text-align: right;\">\n",
       "      <th></th>\n",
       "      <th>consensus_stability_score</th>\n",
       "      <th>sequence</th>\n",
       "    </tr>\n",
       "  </thead>\n",
       "  <tbody>\n",
       "    <tr>\n",
       "      <th>0</th>\n",
       "      <td>0.37</td>\n",
       "      <td>GSSQETIEVEDEEEARRVAKELRKKGYEVKDERRGNKWHVHRT</td>\n",
       "    </tr>\n",
       "    <tr>\n",
       "      <th>1</th>\n",
       "      <td>0.62</td>\n",
       "      <td>TLDEARELVERAKKEGTGMDVNGQRFEDWREAERWVREQEKNK</td>\n",
       "    </tr>\n",
       "    <tr>\n",
       "      <th>2</th>\n",
       "      <td>-0.03</td>\n",
       "      <td>TELKKKLEEALKKGEEVRVKFNGIEIRNTSEDAARKAVELLEK</td>\n",
       "    </tr>\n",
       "    <tr>\n",
       "      <th>3</th>\n",
       "      <td>1.41</td>\n",
       "      <td>GSSQETIEVEDEEEARRVAKELRKTGYEVKIERRGNKWHVHRT</td>\n",
       "    </tr>\n",
       "    <tr>\n",
       "      <th>4</th>\n",
       "      <td>1.11</td>\n",
       "      <td>TTIHVGDLTLKYDNPKKAYEIAKKLAKKYNLQVTIKNGKITVT</td>\n",
       "    </tr>\n",
       "    <tr>\n",
       "      <th>...</th>\n",
       "      <td>...</td>\n",
       "      <td>...</td>\n",
       "    </tr>\n",
       "    <tr>\n",
       "      <th>7705</th>\n",
       "      <td>0.80</td>\n",
       "      <td>GSSKTQYEYDTKEEHQKAYEKFKKQGIPVTITQKNGKWFVQVE</td>\n",
       "    </tr>\n",
       "    <tr>\n",
       "      <th>7706</th>\n",
       "      <td>0.82</td>\n",
       "      <td>TIDEIIKALEQAVKDNKPIQVGNYTVTSADEAEKLAKKLKKPY</td>\n",
       "    </tr>\n",
       "    <tr>\n",
       "      <th>7707</th>\n",
       "      <td>0.66</td>\n",
       "      <td>TQDEIIKALEQAVKDNKPIQVGNYTVTSADEAEKLAKKLKKEY</td>\n",
       "    </tr>\n",
       "    <tr>\n",
       "      <th>7708</th>\n",
       "      <td>1.05</td>\n",
       "      <td>TTIKVNGQEYTVPLSPEQAAKAAKKRWPDYEVQIHGNTVWVTR</td>\n",
       "    </tr>\n",
       "    <tr>\n",
       "      <th>7709</th>\n",
       "      <td>1.69</td>\n",
       "      <td>GSSTTWYRFTDEEEARRAAKEWARRGYQVHVTQNGTYWEVEVR</td>\n",
       "    </tr>\n",
       "  </tbody>\n",
       "</table>\n",
       "<p>7710 rows × 2 columns</p>\n",
       "</div>"
      ],
      "text/plain": [
       "      consensus_stability_score                                     sequence\n",
       "0                          0.37  GSSQETIEVEDEEEARRVAKELRKKGYEVKDERRGNKWHVHRT\n",
       "1                          0.62  TLDEARELVERAKKEGTGMDVNGQRFEDWREAERWVREQEKNK\n",
       "2                         -0.03  TELKKKLEEALKKGEEVRVKFNGIEIRNTSEDAARKAVELLEK\n",
       "3                          1.41  GSSQETIEVEDEEEARRVAKELRKTGYEVKIERRGNKWHVHRT\n",
       "4                          1.11  TTIHVGDLTLKYDNPKKAYEIAKKLAKKYNLQVTIKNGKITVT\n",
       "...                         ...                                          ...\n",
       "7705                       0.80  GSSKTQYEYDTKEEHQKAYEKFKKQGIPVTITQKNGKWFVQVE\n",
       "7706                       0.82  TIDEIIKALEQAVKDNKPIQVGNYTVTSADEAEKLAKKLKKPY\n",
       "7707                       0.66  TQDEIIKALEQAVKDNKPIQVGNYTVTSADEAEKLAKKLKKEY\n",
       "7708                       1.05  TTIKVNGQEYTVPLSPEQAAKAAKKRWPDYEVQIHGNTVWVTR\n",
       "7709                       1.69  GSSTTWYRFTDEEEARRAAKEWARRGYQVHVTQNGTYWEVEVR\n",
       "\n",
       "[7710 rows x 2 columns]"
      ]
     },
     "metadata": {},
     "execution_count": 19
    }
   ],
   "metadata": {
    "ExecuteTime": {
     "end_time": "2021-08-27T17:55:04.935890Z",
     "start_time": "2021-08-27T17:55:04.922292Z"
    }
   }
  },
  {
   "cell_type": "code",
   "execution_count": 14,
   "source": [
    "args_dict = {\n",
    "    \"model_name\": \"esm1b_t33_650M_UR50S\",\n",
    "    \"base_path\": data_path,\n",
    "    \"gpu\": True,\n",
    "}\n",
    "\n",
    "emb_stabilty = EmbeddingExtractor1D(**args_dict)"
   ],
   "outputs": [
    {
     "output_type": "stream",
     "name": "stderr",
     "text": [
      "Using cache found in /home/roberto/.cache/torch/hub/facebookresearch_esm_master\n"
     ]
    }
   ],
   "metadata": {
    "ExecuteTime": {
     "end_time": "2021-08-27T15:43:00.064583Z",
     "start_time": "2021-08-27T15:42:51.981135Z"
    }
   }
  },
  {
   "cell_type": "code",
   "execution_count": 15,
   "source": [
    "embeddings = emb_stabilty.generate_embeddings(\n",
    "    [\"stability_train.csv\"],  # esta en data_path\n",
    "    path_out=\"stability_embeddings_train\",  # guardarlo en data_path/stability_train.pkl\n",
    "    bs=256,\n",
    ")"
   ],
   "outputs": [
    {
     "output_type": "stream",
     "name": "stderr",
     "text": [
      "  0%|          | 0/31 [00:00<?, ?it/s]"
     ]
    },
    {
     "output_type": "stream",
     "name": "stdout",
     "text": [
      "[('GSSQETIEVEDEEEARRVAKELRKKGYEVKDERRGNKWHVHRT', 0.37), ('TLDEARELVERAKKEGTGMDVNGQRFEDWREAERWVREQEKNK', 0.62), ('TELKKKLEEALKKGEEVRVKFNGIEIRNTSEDAARKAVELLEK', -0.03), ('GSSQETIEVEDEEEARRVAKELRKTGYEVKIERRGNKWHVHRT', 1.41), ('TTIHVGDLTLKYDNPKKAYEIAKKLAKKYNLQVTIKNGKITVT', 1.11), ('SKDEAQREAERAIRSGNKEEARRILEEVGYSPEQAERIIRKLG', 1.24), ('TIDEIIKALEQAVKDGKPIQVGNYTVTSADEAEKLAKKLKKEY', 1.05), ('FEIPDDVPLPAGWEMARTSSGQRYFKNHIDQTTTWQDPRKAMLSQM', 0.89), ('TTIHVGDLTLKYDNPKKAYEIAKKLDKKYNLTVTIKNGKITVT', 0.88), ('GSSGSLSDEDFKAVFGMTRSAFAMLPLWKQQNLKKEKGLFGSS', 1.15), ('SKDEAQREAERAIRSGNKEEARRILEEAGYSPEQAERIIEKLG', 1.15), ('GSSQETIEVEDEEEARRVAKELRKKGYEVKIERRGNKWHVHRI', 1.45), ('KLDEARELVERAKKEGTGVDVNGQRFEDWREAERWVREQEKNK', 0.78), ('GSSQETIEVEDEEEARRVAKILRKKGYEVKIERRGNKWHVHRT', 1.55), ('TTIHVGDLTLPYDNPKKAYEIAKKLAKKYNLTVTIKNGKITVT', 1.12), ('TWQDLVKIAEKALEKGEPITINGITVTTKEQAHQAIEYLKKAY', 1.04), ('GSSKTQYEYDMKEEAQKAYEKFKKQGIPVTITQKNGKWFVQVE', 1.54), ('GSSTTRYRFTDEEEARRAAKEWARRGYQVHVTQNGTWWEVEVR', 1.66), ('GTLHLNGVTVKVPSLEKAYKAAKKFAKKYNLEVQVHGNTVHVH', 1.05), ('TELKKKLEEALKKGEEVRVKFNGIEIRITSEDTARKAVELLEK', 0.74), ('GTLHLNGVTVKVPSLEKAMKAAKKFAKKYNLEVQVHGNTVHVH', 1.18), ('TEVHLGDIKLKYPNPEQAKKAAEKLAQKYNLTWTVIGDYRKIE', 0.66), ('GMADEEKLPPGWEKRMSRSSGRVYYTNHITNASQWERPSGGSS', 0.73), ('ERRKIEEIAKKLYQSGNPEAARRWLRKAGISEEEIERILQKAG', 1.71), ('SKDEAQREAERAIRSGNKEEASRILEEAGYSPEQAERIIRKLG', 1.22), ('TLDEARELVERAKKEGTGVDVNGQRFEYWREAERWVREQEKNK', 0.54), ('GSSSTRYRFTDEEEARRAAKEWARRGYQVHVTQNGTYWEVEVR', 1.69), ('SEIPDDVPLPAGWEMAKTSSGQRYFKNHIDQTTTWQDPRKAMLSQM', 0.73), ('TWQDLVKIAEKALEKGEPITINGITVTTKEQAKNAIEYLKKAY', 1.05), ('TEVHLGDIKLKYPNPEQAKKAAPKLAQKYNLTWTVIGDYVKIE', 0.2), ('TTIYVNGQEYTVPLSPEQAAKAAKKRWPDYEVQIHGNTVKVTR', 0.95), ('TIDEIIKALEQAVKDNKPIQVGNYTVTSADELEKLAKKLKKEY', 0.97), ('TIDEIIKALEQAVKDNKPIQVGNYTVTSADEAEKLAQKLKKEY', 0.91), ('GTLHLNGVTVKVPWLEKAIKAAKKFAKKYNLEVQVHGNTVHVH', 0.71), ('GSSQETIEVEDEEEARRVAKELRKKVYEVKIERRGNKWHVHRT', 0.44), ('TLDEARELVERAKKDGTGVDVNGQRFEDWREAERWVREQEKNK', 1.08), ('FEIPDDVPPPAGWEMAKTSSGQRYFKNHIDQTTTWQDPRKAMLSQM', 0.5), ('TEVHLGDIKLKYPNPEQAKKAAEKLAQKYNLTWSVIGDYVKIE', 1.04), ('TTTHVGDLTLKYDNPKKAYEIAKKLAKKYNLTVTIKNGKITVT', 1.14), ('GSSTTRYRFTDEEEARRAAKEWARRGYQVHVTQNGHYWEVEVR', 1.71), ('GSSTTRYRFTDEEEARRAAKEWARRGYQVHVTQNGTVWEVEVR', 1.71), ('TRDEIIKALEQAVKDNKPIQVGNYTVTSADEAEKLAKKLKKEY', 0.93), ('TLDEARELVERAFKEGTGVDVNGQRFEDWREAERWVREQEKNK', 0.3), ('TWQDLVKIAEKALEKGEPITINGITVTTKEQPKQAIEYLKKAY', 0.52), ('FEIPDDVPLPAGWEMAKTSSGQRYFKNHIDQTTTWQDPRKAMHSQM', 0.57), ('TEVHLGDIKLKYPNPAQAKKAAEKLAQKYNLTWTVIGDYVKIE', 1.01), ('GMADEEKLPPGWEKRMSYSSGRVYYFNHITNASQWERPSGGSS', 1.35), ('TEVHLGDIKLKYPNHEQAKKAAEKLAQKYNLTWTVIGDYVKIE', 1.12), ('GSSTTRYRFTDEEEARRAAKEWARTGYQVHVTQNGTYWEVEVR', 1.42), ('GSSTTRYRFTDEEEARRAAKEWARRGYQVHVTQNPTYWEVEVR', 1.68), ('GSSTTRYRFTDEEEARRAAKEWARRGYGVHVTQNGTYWEVEVR', 1.7), ('GSSTTRYRFTDEEEARRAAKEWARRGYQVHVGQNGTYWEVEVR', 1.7), ('ERRKIEEIAKKLYQSWNPEAARRFLRKAGISEEEIERILQKAG', 1.51), ('GSSKTQYEYDTKEEAQKAYEKFKKQGIAVTITQKNGKWFVQVE', 1.72), ('TWQDLVKIAEKALEKGEPFTINGITVTTKEQAKQAIEYLKKAY', 1.06), ('GSSGSLSDEDFKAVKGMTRSAFANLPLWKQQNLKKEKGLFGSS', -0.07), ('TEVHTGDIKLKYPNPEQAKKAAEKLAQKYNLTWTVIGDYVKIE', 0.64), ('ERRKIEEIAKKLYQSGNPEAARRFLRKAGISEEEIERILNKAG', 1.75), ('TEVHLADIKLKYPNPEQAKKAAEKLAQKYNLTWTVIGDYVKIE', 0.95), ('TWQDLVKIAEKALEKGEIITINGITVTTKEQAKQAIEYLKKAY', 1.19), ('TTIHVGDLTLKYDNPKKAYEIAKKLAKKYILTVTIKNGKITVT', 1.21), ('TTIHVGDLTLKYDNPKKAYEIAKKLAKKYNLGVTIKNGKITVT', 1.19), ('GSSTTRYRFTDEEEARRAAKEWARRGYQVHVTLNGTYWEVEVR', 1.71), ('TWQDLVKIAEKALEKGEPITINGITVTAKEQAKQAIEYLKKAY', 0.88), ('SKDEAQREAERAIRSGNKEEARRILEEAGYSPEQAERIIRVLG', 1.23), ('GSSQETIEVEDEEEARRVAKELRKKGYEVKIERRGNKMHVHRT', 1.07), ('GTLHHNGVTVKVPSLEKAIKAAKKFAKKYNLEVQVHGNTVHVH', 0.56), ('GSSTTRIRFTDEEEARRAAKEWARRGYQVHVTQNGTYWEVEVR', 1.61), ('GSSQETIEVEDEEEARRVAKELSKKGYEVKIERRGNKWHVHRT', 1.34), ('FEIPDDVPLPAGWEMAKTSSGQRYFKVHIDQTTTWQDPRKAMLSQM', 0.74), ('FEIPDDVPLPAGWEMAKSSSGQRYFKNHIDQTTTWQDPRKAMLSQM', 0.55), ('GTLHLNGVTVKVYSLEKAIKAAKKFAKKYNLEVQVHGNTVHVH', 1.1), ('GSSKTQYEYDTKEEAQKAYEKFKKQGIPVTIFQKNGKWFVQVE', 1.63), ('FEIPDDVPLPAGWEMAKTSSGQRYFKNHIDQTTTWQDPRGAMLSQM', 0.82), ('TLDEAHELVERAKKEGTGVDVNGQRFEDWREAERWVREQEKNK', 0.78), ('ERRKIEEIANKLYQSGNPEAARRFLRKAGISEEEIERILQKAG', 1.74), ('GTLHLNKVTVKVPSLEKAIKAAKKFAKKYNLEVQVHGNTVHVH', 1.1), ('TEVHLGDIKLKYPNPEEAKKAAEKLAQKYNLTWTVIGDYVKIE', 1.02), ('GMADEEKLPPGWEKRISRSSGRVYYFNHITNASQWERPSGGSS', 1.38), ('GSSTTRYRFTDEEEARRAAKEWARRGEQVHVTQNGTYWEVEVR', 1.57), ('GSSGSLSDEDFKAVFGMTRSAFANLPLWKFQNLKKEKGLFGSS', 0.25), ('TTIHVGDLTLKYDNPKKAYEIAKKLAKKYNLTVTIKNPKITVT', 1.13), ('TTIHVGDLTLKYDNPKKAYEIAKKLAKKYNLTVTIKNGKYTVT', 1.16), ('TIDEIIKALEQAVKDNAPIQVGNYTVTSADEAEKLAKKLKKEY', 1.04), ('TIDEIIKALEQAVKDNKPIQVGNYTVTSASEAEKLAKKLKKEY', 1.16), ('GSSQETIEVEDEEEARRVAKELRKKGYEVQIERRGNKWHVHRT', 1.42), ('FEIPDDVPLPAGWEMAKTSSGQRYFKNHIDQTTTIQDPRKAMLSQM', 0.56), ('TTIKVNGQEYTVPLSEEQAAKAAKKRWPDYEVQIHGNTVKVTR', 0.49), ('TWQDLVKIAEKALEKGEPITIAGITVTTKEQAKQAIEYLKKAY', 1.15), ('TTIHVGDLTLKYDNPKKAYEIAKKKAKKYNLTVTIKNGKITVT', 0.9), ('TWQDLVKIAEKALEKGEPITINGITVRTKEQAKQAIEYLKKAY', 1.07), ('TWQDLVKWAEKALEKGEPITINGITVTTKEQAKQAIEYLKKAY', 1.17), ('ERRKDEEIAKKLYQSGNPEAARRFLRKAGISEEEIERILQKAG', 1.42), ('TEVKKKLEEALKKGEEVRVKFNGIEIRITSEDAARKAVELLEK', 0.73), ('GSSGSLSDEDFKAVFGMTRSAFANLPLFKQQNLKKEKGLFGSS', 0.66), ('GSSGSLSDEDFKAVFGMTRSAFANLPLWKQQNLKKEKGLQGSS', 0.94), ('GMADEEKLPPGWEKRMSRSSGRVYYFNHITNASPWERPSGGSS', 0.72), ('TIDEIIKALEQAVKDNKPIQVGNYTVTSADEAEKLAKKLKREY', 0.92), ('GSSTTRYRFTDEEEARRAAKEWASRGYQVHVTQNGTYWEVEVR', 1.32), ('RKWEEIAERLRELFNINPEEAREAVEKAGGNEEEARRIVKKRL', 1.28), ('ERRKIEEIAKKLYQSGNPEAARRFDRKAGISEEEIERILQKAG', 0.19), ('GTLHLNGVTVKVPSLEKAIKAAKKFAKKYNLEVQVHFNTVHVH', 0.86), ('TIDEIIKALEQAVKDNKPIQVGNYTVTSADHAEKLAKKLKKEY', 0.82), ('TIDEIIKALEQAVKDNKPIQVGNYTRTSADEAEKLAKKLKKEY', 0.54), ('GTLHLNGVTVKVPSLEKAIKAAKKFAKKYNLEVQVHGQTVHVH', 1.15), ('TIDEIIEALEQAVKDNKPIQVGNYTVTSADEAEKLAKKLKKEY', 1.13), ('TLDEARELVERAKKEGTGVDVEGQRFEDWREAERWVREQEKNK', 0.65), ('TLDEARELVERAKKEGTGVDVNGQWFEDWREAERWVREQEKNK', 1.11), ('TIDEIIKALTQAVKDNKPIQVGNYTVTSADEAEKLAKKLKKEY', 1.04), ('ERRKIEEIAKKLYQSGNPEAARRFLRKAGISEEEIERILGKAG', 1.73), ('GTLHLNGVTVKVPSLEKAIKAAKKFAKKYNLEVQVMGNTVHVH', 1.09), ('GSSTWRYRFTDEEEARRAAKEWARRGYQVHVTQNGTYWEVEVR', 1.66), ('TIDEIIAALEQAVKDNKPIQVGNYTVTSADEAEKLAKKLKKEY', 1.1), ('GTLHLNGVTLKVPSLEKAIKAAKKFAKKYNLEVQVHGNTVHVH', 1.23), ('ERRKIEEIAKKLYQSGNPEAARRFLRKAGISEQEIERILQKAG', 1.73), ('TIDEIIKALEQAVKDNKPIQVGQYTVTSADEAEKLAKKLKKEY', 0.97), ('GSSQETIEVNDEEEARRVAKELRKKGYEVKIERRGNKWHVHRT', 1.61), ('SKDEAQREAERAIRSGNKEEARRGLEEAGYSPEQAERIIRKLG', 1.22), ('TLDEARELVERAKKEGTGVDVNGIRFEDWREAERWVREQEKNK', 1.17), ('TELKKKLEEALKKGEEVRVKFNGIEIRWTSEDAARKAVELLEK', 0.77), ('QIDEIIKALEQAVKDNKPIQVGNYTVTSADEAEKLAKKLKKEY', 1.06), ('TTIHVGDLTLKYDNPKKAYEIAKKLAKKYNLTVTIKNGKLTVT', 1.13), ('TTIKVNGQEYTVPLSPEQAAKAAKKRWPDYEVQIHGNTYKVTR', -0.13), ('TLDEARELVERAKKEGTGADVNGQRFEDWREAERWVREQEKNK', 0.52), ('TWQDLVYIAEKALEKGEPITINGITVTTKEQAKQAIEYLKKAY', 1.05), ('GSSQETIEVEDEEEARRPAKELRKKGYEVKIERRGNKWHVHRT', 0.54), ('GSSQETISVEDEEEARRVAKELRKKGYEVKIERRGNKWHVHRT', 1.43), ('TEVHLGDIKLKYPNPEQAKKAAEPLAQKYNLTWTVIGDYVKIE', 0.31), ('GSSKTQYEYDTKEEAQKAYEKFKKQGIPVTITQKNGKWTVQVE', 1.38), ('TELKKKLEEALKKGEEARVKFNGIEIRITSEDAARKAVELLEK', 0.67), ('FEIPDDVPLPAGWEMAKESSGQRYFKNHIDQTTTWQDPRKAMLSQM', 0.51), ('TLDEARELVEAAKKEGTGVDVNGQRFEDWREAERWVREQEKNK', 0.81), ('SKDEAQREAEEAIRSGNKEEARRILEEAGYSPEQAERIIRKLG', 1.24), ('TIDEIILALEQAVKDNKPIQVGNYTVTSADEAEKLAKKLKKEY', 1.1), ('ERRKIEEIGKKLYQSGNPEAARRFLRKAGISEEEIERILQKAG', 1.72), ('FEIPDDVPLPAGWEMAKTSSGQQYFKNHIDQTTTWQDPRKAMLSQM', 0.51), ('RKWEEIAERLRWEFNINPEEAREAVEKAGGNEEEARRIVKKRL', 1.58), ('SKDEAQREAERAIRSGNKEMARRILEEAGYSPEQAERIIRKLG', 1.32), ('SIDEAQREAERAIRSGNKEEARRILEEAGYSPEQAERIIRKLG', 1.25), ('TIDEIIKALEQAVKDNKPIQVTNYTVTSADEAEKLAKKLKKEY', 0.78), ('GTLHLNGVTVKVPSLEKAIKAAKKFAKKYNLEVQVHGNTVHAH', 1.05), ('TTIHVGDLTLKYDNPKIAYEIAKKLAKKYNLTVTIKNGKITVT', 1.12), ('GSSTTRYRFTDEEEARRAAKEWARRGYQIHVTQNGTYWEVEVR', 1.71), ('SKQEAQREAERAIRSGNKEEARRILEEAGYSPEQAERIIRKLG', 1.25), ('RKWEERAERLREEFNINPEEAREAVEKAGGNEEEARRIVKKRL', 0.97), ('TELEKKLEEALKKGEEVRVKFNGIEIRITSEDAARKAVELLEK', 0.87), ('TIDEIIKALEQAVKDNKPIQVGNYTVTSADWAEKLAKKLKKEY', 0.85), ('GSSGSLSDEDFKAVFGMDRSAFANLPLWKQQNLKKEKGLFGSS', 1.07), ('TELKKKLEEALKKGEEVRVKFNGIEIRITSEDAARKIVELLEK', 0.78), ('TEVHLGDIKLKYDNPEQAKKAAEKLAQKYNLTWTVIGDYVKIE', 1.27), ('GSSTTRYRKTDEEEARRAAKEWARRGYQVHVTQNGTYWEVEVR', 1.37), ('SKDEAQREAARAIRSGNKEEARRILEEAGYSPEQAERIIRKLG', 1.29), ('TTIKVNGQEYTVPLSPEQAAKNAKKRWPDYEVQIHGNTVKVTR', 0.79), ('TIDEIIKALEQAVKDNKPIQVDNYTVTSADEAEKLAKKLKKEY', 0.92), ('GSSKTQYEYDTKEEAQKAYEKFKKQGIPVTHTQKNGKWFVQVE', 1.38), ('TTIKINGQEYTVPLSPEQAAKAAKKRWPDYEVQIHGNTVKVTR', 0.9), ('TELKKKLEEALKKGEEVRVKFNGIEIRITSHDAARKAVELLEK', 0.8), ('STDEAQREAERAIRSGNKEEARRILEEAGYSPEQAERIIRKLG', 1.25), ('GMADEEKLPPGWEKRMSRSSGRVYYFNHITNASQWPRPSGGSS', 0.84), ('GSSGSLSDEDFYAVFGMTRSAFANLPLWKQQNLKKEKGLFGSS', 1.18), ('TLDEARELVERAKKEGTGVDGNGQRFEDWREAERWVREQEKNK', 0.37), ('TEEHLGDIKLKYPNPEQAKKAAEKLAQKYNLTWTVIGDYVKIE', 0.61), ('GSSQTRYRFTDEEEARRAAKEWARRGYQVHVTQNGTYWEVEVR', 1.77), ('GSSTTRYRFTDEEEARRAAKWWARRGYQVHVTQNGTYWEVEVR', 1.7), ('TWQDLVKIAEKALEKGEPITIDGITVTTKEQAKQAIEYLKKAY', 1.03), ('GSSTTRYRFTDEEEARRAAKEWARRGYQVHVTQNSTYWEVEVR', 1.7), ('RKWEEIAERLREEFNINPEEAREAVEKAGGNEEEARRIAKKRL', 1.25), ('TTIKVNGQEYTVQLSPEQAAKAAKKRWPDYEVQIHGNTVKVTR', 0.84), ('GSSTTRYRFTDEEEARRAAKEWARRGYQVHVTQNGTYWEVNVR', 1.72), ('TEVHLGDIKLKYPNPEQAKKAAEKLAQKYNSTWTVIGDYVKIE', 0.89), ('ERRKIEEIAKKLYQSGNYEAARRFLRKAGISEEEIERILQKAG', 1.67), ('TWQDLVKIAEKALEKGEPITINGITVTTKEQAKQAIEYGKKAY', 0.66), ('TIDEIIKALEQAVKDNKPIQVGNYTVTMADEAEKLAKKLKKEY', 0.83), ('TWLKKKLEEALKKGEEVRVKFNGIEIRITSEDAARKAVELLEK', 1.1), ('TIDEIIKALEQAVKDNKPIQVGNYTVTSADEAEKLEKKLKKEY', 0.71), ('ERRKIEEIAKKLYHSGNPEAARRFLRKAGISEEEIERILQKAG', 1.75), ('FEIPDDVPLPAGWEMAKTSHGQRYFKNHIDQTTTWQDPRKAMLSQM', 0.67), ('GSSQETIEVEDREEARRVAKELRKKGYEVKIERRGNKWHVHRT', 1.39), ('SKDEAQREAERAIRSGNKEEARRILEEAGYSPEQAARIIRKLG', 1.3), ('FEISDDVPLPAGWEMAKTSSGQRYFKNHIDQTTTWQDPRKAMLSQM', 0.6), ('RKWEEIAERLREEMNINPEEAREAVEKAGGNEEEARRIVKKRL', 1.11), ('TFVHLGDIKLKYPNPEQAKKAAEKLAQKYNLTWTVIGDYVKIE', 0.96), ('TIDEIIKALEQAVKDNKPIQVGNYTVTSADEAEKLAKKAKKEY', 0.66), ('FEIPDDVPLPAGWEMVKTSSGQRYFKNHIDQTTTWQDPRKAMLSQM', 1.09), ('TIDEQIKALEQAVKDNKPIQVGNYTVTSADEAEKLAKKLKKEY', 0.89), ('FEIPDDVPLPAGWEMAKTSSGQRYFKNHIDQTTTWQDPRAAMLSQM', 0.81), ('GSSKLQYEYDTKEEAQKAYEKFKKQGIPVTITQKNGKWFVQVE', 1.58), ('TTIKTNGQEYTVPLSPEQAAKAAKKRWPDYEVQIHGNTVKVTR', 0.6), ('TELKKKLEEALKKGEEVRVKFNGIEIRITSEDAARHAVELLEK', 0.77), ('GTLHLNGVTVKVPSLEKAIKAAKKFAKKYNLEVQVHGNTVVVH', 1.11), ('TEVHLGDIKLKAPNPEQAKKAAEKLAQKYNLTWTVIGDYVKIE', 0.59), ('RKWEEIAERLREEFNINPEEAREAVEKAGGNSEEARRIVKKRL', 1.28), ('RKWPEIAERLREEFNINPEEAREAVEKAGGNEEEARRIVKKRL', 1.26), ('TTIHVGDLTLKYDNPKKAYEIAKKLAKKYNLTVTIKKGKITVT', 1.14), ('TTIKVNGQEYTVPRSPEQAAKAAKKRWPDYEVQIHGNTVKVTR', 0.53), ('TELKKKLEEALKKGEEVRVKFNGIEIRITSPDAARKAVELLEK', 0.81), ('SKDEAQREAERAIYSGNKEEARRILEEAGYSPEQAERIIRKLG', 1.3), ('TIDEIIKALFQAVKDNKPIQVGNYTVTSADEAEKLAKKLKKEY', 1.07), ('TELKKKLEEALKKGEEVRVKFNDIEIRITSEDAARKAVELLEK', 0.72), ('TEVHLGDIKLKYPNPEQAKKAAEKLAQKYNLTWTVIGDYVKGE', 0.53), ('TIDEIINALEQAVKDNKPIQVGNYTVTSADEAEKLAKKLKKEY', 0.98), ('FEIPDDVPLPAGWEMAKTSSGQRYFKNHLDQTTTWQDPRKAMLSQM', 0.75), ('TLDEARELVERAKKEGTGVDVNGQRFEDWREAERWVREVEKNK', 0.77), ('GSSGSLSDEDFKAVFGMIRSAFANLPLWKQQNLKKEKGLFGSS', 0.64), ('GMADEEKLPPGWEKRMSRSSGRVYYFNHITNASQWERASGGSS', 0.66), ('TWQDLVKIAEKALEKGEPITINGITVTTKEQAKQAHEYLKKAY', 0.74), ('GSSKTQYEYDTKEEAQKAYEKFKKQGLPVTITQKNGKWFVQVE', 1.79), ('GSSQETIEVEDEEEARRVAKELRKKGYEVYIERRGNKWHVHRT', 1.62), ('TLDEARELVERAKKEGTGVDVNGQRFEDWREAERWVREQMKNK', 1.0), ('TWQDLVKRAEKALEKGEPITINGITVTTKEQAKQAIEYLKKAY', 0.88), ('ERRKIEEIAKKSYQSGNPEAARRFLRKAGISEEEIERILQKAG', 1.41), ('GSSTTRYRFTDEEEARRAAKEWARRGYQVHVTQNGTYWAVEVR', 1.78), ('GSSKTQYEYDTKEEKQKAYEKFKKQGIPVTITQKNGKWFVQVE', 0.9), ('TELKKKLEKALKKGEEVRVKFNGIEIRITSEDAARKAVELLEK', 0.83), ('TIDEIIHALEQAVKDNKPIQVGNYTVTSADEAEKLAKKLKKEY', 1.05), ('TTIHVGDLTLKYDNPKKAYEIAKKLAKKYNLTVTIKEGKITVT', 1.16), ('TWQDLVKIAEKALEKGEPITINGITVTTKEQAKQTIEYLKKAY', 0.97), ('GMADEEKLPPGWEKWMSRSSGRVYYFNHITNASQWERPSGGSS', 0.6), ('GSSKTQYEYDTKEEAQDAYEKFKKQGIPVTITQKNGKWFVQVE', 1.69), ('RKWEGIAERLREEFNINPEEAREAVEKAGGNEEEARRIVKKRL', 1.26), ('TTIHVGDLTVKYDNPKKAYEIAKKLAKKYNLTVTIKNGKITVT', 1.09), ('GSSTTRYRFTDEEEARRAAKEWARRGYQVHVTQNGTYFEVEVR', 1.7), ('FEIPDMVPLPAGWEMAKTSSGQRYFKNHIDQTTTWQDPRKAMLSQM', 0.56), ('ERRKIEEIAKKLYQSDNPEAARRFLRKAGISEEEIERILQKAG', 1.73), ('FEIPDDVPLPAGWEMAKTSSGQRYFKNSIDQTTTWQDPRKAMLSQM', 0.62), ('TWQDLVRIAEKALEKGEPITINGITVTTKEQAKQAIEYLKKAY', 1.08), ('GSSQETIEVEDEEEARRVAKELRKKGYEVKIERVGNKWHVHRT', 1.26), ('FEIPDDVPLPAGWEMAKTSSGQRYFKNHIDQTYTWQDPRKAMLSQM', 0.7), ('TLDEARELVERAKKEGTFVDVNGQRFEDWREAERWVREQEKNK', 0.95), ('GSSTTRYRFTDEEEARRAAKEWARRGIQVHVTQNGTYWEVEVR', 1.62), ('TWQDLVKIAEKALEKGEPITINGITVTLKEQAKQAIEYLKKAY', 1.03), ('RKWEEIAERLREEQNINPEEAREAVEKAGGNEEEARRIVKKRL', 0.84), ('ERRKIEEIAKRLYQSGNPEAARRFLRKAGISEEEIERILQKAG', 1.72), ('GSSQETIEVEDEEEAARVAKELRKKGYEVKIERRGNKWHVHRT', 1.41), ('GSSQETIEVEDEEEARQVAKELRKKGYEVKIERRGNKWHVHRT', 1.38), ('TTIHVGDLTLKYDNPKKNYEIAKKLAKKYNLTVTIKNGKITVT', 0.88), ('FEIPDDVPLPAGWEMAKTSSGQRYFMNHIDQTTTWQDPRKAMLSQM', 0.79), ('GSSKTQYEYDTKEEAQKAYEKFKKFGIPVTITQKNGKWFVQVE', 1.74), ('GSSKTQYEYDTKEEAQKTYEKFKKQGIPVTITQKNGKWFVQVE', 1.45), ('FEIPDDVPLPAGWEMAKTSSGQRYFINHIDQTTTWQDPRKAMLSQM', 1.11), ('TIDEIIKALEQAVKDNKPIQVGNYTVTIADEAEKLAKKLKKEY', 0.8), ('GSSQETIEVEDEEEARRVAKELRKKGYEVKIERRGNHWHVHRT', 1.57), ('TTIKVNGQEYTVPLSPEQAPKAAKKRWPDYEVQIHGNTVKVTR', 0.34), ('GSSKTQYEYDTKEEAQKAYEKFKKQGIPVTITQWNGKWFVQVE', 1.7), ('TWQDLVGIAEKALEKGEPITINGITVTTKEQAKQAIEYLKKAY', 1.03), ('TYIKVNGQEYTVPLSPEQAAKAAKKRWPDYEVQIHGNTVKVTR', 0.86), ('RKWEEIAERLREEFNKNPEEAREAVEKAGGNEEEARRIVKKRL', 0.61), ('ERRKIEEIAKKLYQSGNPEAASRFLRKAGISEEEIERILQKAG', 1.56), ('GMADEEKLPPGWEKRMSRSSPRVYYFNHITNASQWERPSGGSS', 0.84), ('GSSGSLSDEDFKAVFGMTTSAFANLPLWKQQNLKKEKGLFGSS', 0.65), ('TWQDLVKIAEKALEKGEPIGINGITVTTKEQAKQAIEYLKKAY', 0.8), ('TTIKVNGQEYTAPLSPEQAAKAAKKRWPDYEVQIHGNTVKVTR', 0.63), ('TTIKVNGVEYTVPLSPEQAAKAAKKRWPDYEVQIHGNTVKVTR', 0.86), ('TIDEIIKALEQAVKKNKPIQVGNYTVTSADEAEKLAKKLKKEY', 0.88), ('RKWEEIAERLREEFNINPEEAREAVEKAGGNEEEARRIVEKRL', 1.21), ('SKDEAQREAERAIRSGNKEEARRILEESGYSPEQAERIIRKLG', 1.25)]\n"
     ]
    },
    {
     "output_type": "stream",
     "name": "stderr",
     "text": [
      "\n"
     ]
    },
    {
     "output_type": "error",
     "ename": "AttributeError",
     "evalue": "'float' object has no attribute 'strip'",
     "traceback": [
      "\u001b[0;31m---------------------------------------------------------------------------\u001b[0m",
      "\u001b[0;31mAttributeError\u001b[0m                            Traceback (most recent call last)",
      "\u001b[0;32m<ipython-input-15-93cc7be530cd>\u001b[0m in \u001b[0;36m<module>\u001b[0;34m\u001b[0m\n\u001b[1;32m      2\u001b[0m     \u001b[0;34m[\u001b[0m\u001b[0;34m\"stability_train.csv\"\u001b[0m\u001b[0;34m]\u001b[0m\u001b[0;34m,\u001b[0m  \u001b[0;31m# esta en data_path\u001b[0m\u001b[0;34m\u001b[0m\u001b[0;34m\u001b[0m\u001b[0m\n\u001b[1;32m      3\u001b[0m     \u001b[0mpath_out\u001b[0m\u001b[0;34m=\u001b[0m\u001b[0;34m\"stability_embeddings_train\"\u001b[0m\u001b[0;34m,\u001b[0m  \u001b[0;31m# guardarlo en data_path/stability_train.pkl\u001b[0m\u001b[0;34m\u001b[0m\u001b[0;34m\u001b[0m\u001b[0m\n\u001b[0;32m----> 4\u001b[0;31m     \u001b[0mbs\u001b[0m\u001b[0;34m=\u001b[0m\u001b[0;36m256\u001b[0m\u001b[0;34m,\u001b[0m\u001b[0;34m\u001b[0m\u001b[0;34m\u001b[0m\u001b[0m\n\u001b[0m\u001b[1;32m      5\u001b[0m )\n",
      "\u001b[0;32m~/anaconda3/envs/protera-stability/lib/python3.7/site-packages/protera_stability/embeddings.py\u001b[0m in \u001b[0;36mgenerate_embeddings\u001b[0;34m(self, files, path_out, bs, subset, data)\u001b[0m\n\u001b[1;32m    168\u001b[0m             \u001b[0mbatch_embeddings\u001b[0m \u001b[0;34m=\u001b[0m \u001b[0mself\u001b[0m\u001b[0;34m.\u001b[0m\u001b[0mget_embedding\u001b[0m\u001b[0;34m(\u001b[0m\u001b[0mbatch\u001b[0m\u001b[0;34m)\u001b[0m\u001b[0;34m\u001b[0m\u001b[0;34m\u001b[0m\u001b[0m\n\u001b[1;32m    169\u001b[0m             \u001b[0mi\u001b[0m \u001b[0;34m=\u001b[0m \u001b[0;36m0\u001b[0m\u001b[0;34m\u001b[0m\u001b[0;34m\u001b[0m\u001b[0m\n\u001b[0;32m--> 170\u001b[0;31m             \u001b[0;32mif\u001b[0m \u001b[0mlen\u001b[0m\u001b[0;34m(\u001b[0m\u001b[0mbatch_embeddings\u001b[0m\u001b[0;34m.\u001b[0m\u001b[0mshape\u001b[0m\u001b[0;34m)\u001b[0m \u001b[0;34m==\u001b[0m \u001b[0;36m2\u001b[0m\u001b[0;34m:\u001b[0m\u001b[0;34m\u001b[0m\u001b[0;34m\u001b[0m\u001b[0m\n\u001b[0m\u001b[1;32m    171\u001b[0m                 \u001b[0;32mfor\u001b[0m \u001b[0;34m(\u001b[0m\u001b[0mlabel\u001b[0m\u001b[0;34m,\u001b[0m \u001b[0mseq\u001b[0m\u001b[0;34m)\u001b[0m\u001b[0;34m,\u001b[0m \u001b[0memb\u001b[0m \u001b[0;32min\u001b[0m \u001b[0mzip\u001b[0m\u001b[0;34m(\u001b[0m\u001b[0mbatch\u001b[0m\u001b[0;34m,\u001b[0m \u001b[0mbatch_embeddings\u001b[0m\u001b[0;34m)\u001b[0m\u001b[0;34m:\u001b[0m\u001b[0;34m\u001b[0m\u001b[0;34m\u001b[0m\u001b[0m\n\u001b[1;32m    172\u001b[0m                     \u001b[0mi\u001b[0m \u001b[0;34m+=\u001b[0m \u001b[0;36m1\u001b[0m\u001b[0;34m\u001b[0m\u001b[0;34m\u001b[0m\u001b[0m\n",
      "\u001b[0;32m~/anaconda3/envs/protera-stability/lib/python3.7/site-packages/protera_stability/embeddings.py\u001b[0m in \u001b[0;36mget_embedding\u001b[0;34m(self, sequence, sequence_emb)\u001b[0m\n\u001b[1;32m     92\u001b[0m         \"\"\"\n\u001b[1;32m     93\u001b[0m         \u001b[0mresults\u001b[0m \u001b[0;34m=\u001b[0m \u001b[0mself\u001b[0m\u001b[0;34m.\u001b[0m\u001b[0mpredict\u001b[0m\u001b[0;34m(\u001b[0m\u001b[0msequence\u001b[0m\u001b[0;34m)\u001b[0m\u001b[0;34m\u001b[0m\u001b[0;34m\u001b[0m\u001b[0m\n\u001b[0;32m---> 94\u001b[0;31m \u001b[0;34m\u001b[0m\u001b[0m\n\u001b[0m\u001b[1;32m     95\u001b[0m         token_embeddings = results[\"representations\"][\n\u001b[1;32m     96\u001b[0m             \u001b[0;36m33\u001b[0m\u001b[0;34m\u001b[0m\u001b[0;34m\u001b[0m\u001b[0m\n",
      "\u001b[0;32m~/anaconda3/envs/protera-stability/lib/python3.7/site-packages/protera_stability/embeddings.py\u001b[0m in \u001b[0;36mpredict\u001b[0;34m(self, sequence)\u001b[0m\n\u001b[1;32m     69\u001b[0m             \u001b[0mdata\u001b[0m \u001b[0;34m=\u001b[0m \u001b[0msequence\u001b[0m\u001b[0;34m\u001b[0m\u001b[0;34m\u001b[0m\u001b[0m\n\u001b[1;32m     70\u001b[0m         \u001b[0mbatch_labels\u001b[0m\u001b[0;34m,\u001b[0m \u001b[0mbatch_strs\u001b[0m\u001b[0;34m,\u001b[0m \u001b[0mbatch_tokens\u001b[0m \u001b[0;34m=\u001b[0m \u001b[0mself\u001b[0m\u001b[0;34m.\u001b[0m\u001b[0mbatch_converter\u001b[0m\u001b[0;34m(\u001b[0m\u001b[0mdata\u001b[0m\u001b[0;34m)\u001b[0m\u001b[0;34m\u001b[0m\u001b[0;34m\u001b[0m\u001b[0m\n\u001b[0;32m---> 71\u001b[0;31m         \u001b[0;32mwith\u001b[0m \u001b[0mtorch\u001b[0m\u001b[0;34m.\u001b[0m\u001b[0mno_grad\u001b[0m\u001b[0;34m(\u001b[0m\u001b[0;34m)\u001b[0m\u001b[0;34m:\u001b[0m\u001b[0;34m\u001b[0m\u001b[0;34m\u001b[0m\u001b[0m\n\u001b[0m\u001b[1;32m     72\u001b[0m             \u001b[0;32mif\u001b[0m \u001b[0mself\u001b[0m\u001b[0;34m.\u001b[0m\u001b[0mgpu\u001b[0m\u001b[0;34m:\u001b[0m\u001b[0;34m\u001b[0m\u001b[0;34m\u001b[0m\u001b[0m\n\u001b[1;32m     73\u001b[0m                 \u001b[0mbatch_tokens\u001b[0m \u001b[0;34m=\u001b[0m \u001b[0mbatch_tokens\u001b[0m\u001b[0;34m.\u001b[0m\u001b[0mcuda\u001b[0m\u001b[0;34m(\u001b[0m\u001b[0;34m)\u001b[0m\u001b[0;34m\u001b[0m\u001b[0;34m\u001b[0m\u001b[0m\n",
      "\u001b[0;32m~/.cache/torch/hub/facebookresearch_esm_master/esm/data.py\u001b[0m in \u001b[0;36m__call__\u001b[0;34m(self, raw_batch)\u001b[0m\n\u001b[1;32m    256\u001b[0m         \u001b[0mbatch_size\u001b[0m \u001b[0;34m=\u001b[0m \u001b[0mlen\u001b[0m\u001b[0;34m(\u001b[0m\u001b[0mraw_batch\u001b[0m\u001b[0;34m)\u001b[0m\u001b[0;34m\u001b[0m\u001b[0;34m\u001b[0m\u001b[0m\n\u001b[1;32m    257\u001b[0m         \u001b[0mbatch_labels\u001b[0m\u001b[0;34m,\u001b[0m \u001b[0mseq_str_list\u001b[0m \u001b[0;34m=\u001b[0m \u001b[0mzip\u001b[0m\u001b[0;34m(\u001b[0m\u001b[0;34m*\u001b[0m\u001b[0mraw_batch\u001b[0m\u001b[0;34m)\u001b[0m\u001b[0;34m\u001b[0m\u001b[0;34m\u001b[0m\u001b[0m\n\u001b[0;32m--> 258\u001b[0;31m         \u001b[0mseq_encoded_list\u001b[0m \u001b[0;34m=\u001b[0m \u001b[0;34m[\u001b[0m\u001b[0mself\u001b[0m\u001b[0;34m.\u001b[0m\u001b[0malphabet\u001b[0m\u001b[0;34m.\u001b[0m\u001b[0mencode\u001b[0m\u001b[0;34m(\u001b[0m\u001b[0mseq_str\u001b[0m\u001b[0;34m)\u001b[0m \u001b[0;32mfor\u001b[0m \u001b[0mseq_str\u001b[0m \u001b[0;32min\u001b[0m \u001b[0mseq_str_list\u001b[0m\u001b[0;34m]\u001b[0m\u001b[0;34m\u001b[0m\u001b[0;34m\u001b[0m\u001b[0m\n\u001b[0m\u001b[1;32m    259\u001b[0m         \u001b[0mmax_len\u001b[0m \u001b[0;34m=\u001b[0m \u001b[0mmax\u001b[0m\u001b[0;34m(\u001b[0m\u001b[0mlen\u001b[0m\u001b[0;34m(\u001b[0m\u001b[0mseq_encoded\u001b[0m\u001b[0;34m)\u001b[0m \u001b[0;32mfor\u001b[0m \u001b[0mseq_encoded\u001b[0m \u001b[0;32min\u001b[0m \u001b[0mseq_encoded_list\u001b[0m\u001b[0;34m)\u001b[0m\u001b[0;34m\u001b[0m\u001b[0;34m\u001b[0m\u001b[0m\n\u001b[1;32m    260\u001b[0m         tokens = torch.empty(\n",
      "\u001b[0;32m~/.cache/torch/hub/facebookresearch_esm_master/esm/data.py\u001b[0m in \u001b[0;36m<listcomp>\u001b[0;34m(.0)\u001b[0m\n\u001b[1;32m    256\u001b[0m         \u001b[0mbatch_size\u001b[0m \u001b[0;34m=\u001b[0m \u001b[0mlen\u001b[0m\u001b[0;34m(\u001b[0m\u001b[0mraw_batch\u001b[0m\u001b[0;34m)\u001b[0m\u001b[0;34m\u001b[0m\u001b[0;34m\u001b[0m\u001b[0m\n\u001b[1;32m    257\u001b[0m         \u001b[0mbatch_labels\u001b[0m\u001b[0;34m,\u001b[0m \u001b[0mseq_str_list\u001b[0m \u001b[0;34m=\u001b[0m \u001b[0mzip\u001b[0m\u001b[0;34m(\u001b[0m\u001b[0;34m*\u001b[0m\u001b[0mraw_batch\u001b[0m\u001b[0;34m)\u001b[0m\u001b[0;34m\u001b[0m\u001b[0;34m\u001b[0m\u001b[0m\n\u001b[0;32m--> 258\u001b[0;31m         \u001b[0mseq_encoded_list\u001b[0m \u001b[0;34m=\u001b[0m \u001b[0;34m[\u001b[0m\u001b[0mself\u001b[0m\u001b[0;34m.\u001b[0m\u001b[0malphabet\u001b[0m\u001b[0;34m.\u001b[0m\u001b[0mencode\u001b[0m\u001b[0;34m(\u001b[0m\u001b[0mseq_str\u001b[0m\u001b[0;34m)\u001b[0m \u001b[0;32mfor\u001b[0m \u001b[0mseq_str\u001b[0m \u001b[0;32min\u001b[0m \u001b[0mseq_str_list\u001b[0m\u001b[0;34m]\u001b[0m\u001b[0;34m\u001b[0m\u001b[0;34m\u001b[0m\u001b[0m\n\u001b[0m\u001b[1;32m    259\u001b[0m         \u001b[0mmax_len\u001b[0m \u001b[0;34m=\u001b[0m \u001b[0mmax\u001b[0m\u001b[0;34m(\u001b[0m\u001b[0mlen\u001b[0m\u001b[0;34m(\u001b[0m\u001b[0mseq_encoded\u001b[0m\u001b[0;34m)\u001b[0m \u001b[0;32mfor\u001b[0m \u001b[0mseq_encoded\u001b[0m \u001b[0;32min\u001b[0m \u001b[0mseq_encoded_list\u001b[0m\u001b[0;34m)\u001b[0m\u001b[0;34m\u001b[0m\u001b[0;34m\u001b[0m\u001b[0m\n\u001b[1;32m    260\u001b[0m         tokens = torch.empty(\n",
      "\u001b[0;32m~/.cache/torch/hub/facebookresearch_esm_master/esm/data.py\u001b[0m in \u001b[0;36mencode\u001b[0;34m(self, text)\u001b[0m\n\u001b[1;32m    241\u001b[0m \u001b[0;34m\u001b[0m\u001b[0m\n\u001b[1;32m    242\u001b[0m     \u001b[0;32mdef\u001b[0m \u001b[0mencode\u001b[0m\u001b[0;34m(\u001b[0m\u001b[0mself\u001b[0m\u001b[0;34m,\u001b[0m \u001b[0mtext\u001b[0m\u001b[0;34m)\u001b[0m\u001b[0;34m:\u001b[0m\u001b[0;34m\u001b[0m\u001b[0;34m\u001b[0m\u001b[0m\n\u001b[0;32m--> 243\u001b[0;31m         \u001b[0;32mreturn\u001b[0m \u001b[0;34m[\u001b[0m\u001b[0mself\u001b[0m\u001b[0;34m.\u001b[0m\u001b[0mtok_to_idx\u001b[0m\u001b[0;34m[\u001b[0m\u001b[0mtok\u001b[0m\u001b[0;34m]\u001b[0m \u001b[0;32mfor\u001b[0m \u001b[0mtok\u001b[0m \u001b[0;32min\u001b[0m \u001b[0mself\u001b[0m\u001b[0;34m.\u001b[0m\u001b[0mtokenize\u001b[0m\u001b[0;34m(\u001b[0m\u001b[0mtext\u001b[0m\u001b[0;34m)\u001b[0m\u001b[0;34m]\u001b[0m\u001b[0;34m\u001b[0m\u001b[0;34m\u001b[0m\u001b[0m\n\u001b[0m\u001b[1;32m    244\u001b[0m \u001b[0;34m\u001b[0m\u001b[0m\n\u001b[1;32m    245\u001b[0m \u001b[0;34m\u001b[0m\u001b[0m\n",
      "\u001b[0;32m~/.cache/torch/hub/facebookresearch_esm_master/esm/data.py\u001b[0m in \u001b[0;36mtokenize\u001b[0;34m(self, text, **kwargs)\u001b[0m\n\u001b[1;32m    237\u001b[0m \u001b[0;34m\u001b[0m\u001b[0m\n\u001b[1;32m    238\u001b[0m         \u001b[0mno_split_token\u001b[0m \u001b[0;34m=\u001b[0m \u001b[0mself\u001b[0m\u001b[0;34m.\u001b[0m\u001b[0munique_no_split_tokens\u001b[0m\u001b[0;34m\u001b[0m\u001b[0;34m\u001b[0m\u001b[0m\n\u001b[0;32m--> 239\u001b[0;31m         \u001b[0mtokenized_text\u001b[0m \u001b[0;34m=\u001b[0m \u001b[0msplit_on_tokens\u001b[0m\u001b[0;34m(\u001b[0m\u001b[0mno_split_token\u001b[0m\u001b[0;34m,\u001b[0m \u001b[0mtext\u001b[0m\u001b[0;34m)\u001b[0m\u001b[0;34m\u001b[0m\u001b[0;34m\u001b[0m\u001b[0m\n\u001b[0m\u001b[1;32m    240\u001b[0m         \u001b[0;32mreturn\u001b[0m \u001b[0mtokenized_text\u001b[0m\u001b[0;34m\u001b[0m\u001b[0;34m\u001b[0m\u001b[0m\n\u001b[1;32m    241\u001b[0m \u001b[0;34m\u001b[0m\u001b[0m\n",
      "\u001b[0;32m~/.cache/torch/hub/facebookresearch_esm_master/esm/data.py\u001b[0m in \u001b[0;36msplit_on_tokens\u001b[0;34m(tok_list, text)\u001b[0m\n\u001b[1;32m    211\u001b[0m \u001b[0;34m\u001b[0m\u001b[0m\n\u001b[1;32m    212\u001b[0m         \u001b[0;32mdef\u001b[0m \u001b[0msplit_on_tokens\u001b[0m\u001b[0;34m(\u001b[0m\u001b[0mtok_list\u001b[0m\u001b[0;34m,\u001b[0m \u001b[0mtext\u001b[0m\u001b[0;34m)\u001b[0m\u001b[0;34m:\u001b[0m\u001b[0;34m\u001b[0m\u001b[0;34m\u001b[0m\u001b[0m\n\u001b[0;32m--> 213\u001b[0;31m             \u001b[0;32mif\u001b[0m \u001b[0;32mnot\u001b[0m \u001b[0mtext\u001b[0m\u001b[0;34m.\u001b[0m\u001b[0mstrip\u001b[0m\u001b[0;34m(\u001b[0m\u001b[0;34m)\u001b[0m\u001b[0;34m:\u001b[0m\u001b[0;34m\u001b[0m\u001b[0;34m\u001b[0m\u001b[0m\n\u001b[0m\u001b[1;32m    214\u001b[0m                 \u001b[0;32mreturn\u001b[0m \u001b[0;34m[\u001b[0m\u001b[0;34m]\u001b[0m\u001b[0;34m\u001b[0m\u001b[0;34m\u001b[0m\u001b[0m\n\u001b[1;32m    215\u001b[0m \u001b[0;34m\u001b[0m\u001b[0m\n",
      "\u001b[0;31mAttributeError\u001b[0m: 'float' object has no attribute 'strip'"
     ]
    }
   ],
   "metadata": {
    "ExecuteTime": {
     "end_time": "2021-08-27T15:43:03.448839Z",
     "start_time": "2021-08-27T15:43:03.417657Z"
    },
    "scrolled": true
   }
  },
  {
   "cell_type": "code",
   "execution_count": null,
   "source": [
    "dset = emb_stabilty.generate_datasets(\n",
    "    [\"stability.csv\"],\n",
    "    h5_stem=\"stability\",  # data_path / \"stability\".h5\n",
    "    bs=256,\n",
    "    embedding_file=\"stability_embeddings\",  # cargar los embeddings desde donde se espera que esten\n",
    "    target_name=\"stability_scores\"\n",
    ")"
   ],
   "outputs": [],
   "metadata": {
    "ExecuteTime": {
     "end_time": "2021-08-27T15:23:55.776112Z",
     "start_time": "2021-08-27T15:23:38.094Z"
    }
   }
  },
  {
   "cell_type": "code",
   "execution_count": 7,
   "source": [
    "dset[\"labels\"][:10], dset[\"sequences\"][:10]"
   ],
   "outputs": [
    {
     "output_type": "execute_result",
     "data": {
      "text/plain": [
       "(array([ 0.37,  0.62, -0.03,  1.41,  1.11,  1.24,  1.05,  0.89,  0.88,\n",
       "         1.15]),\n",
       " array([b'GSSQETIEVEDEEEARRVAKELRKKGYEVKDERRGNKWHVHRT',\n",
       "        b'TLDEARELVERAKKEGTGMDVNGQRFEDWREAERWVREQEKNK',\n",
       "        b'TELKKKLEEALKKGEEVRVKFNGIEIRNTSEDAARKAVELLEK',\n",
       "        b'GSSQETIEVEDEEEARRVAKELRKTGYEVKIERRGNKWHVHRT',\n",
       "        b'TTIHVGDLTLKYDNPKKAYEIAKKLAKKYNLQVTIKNGKITVT',\n",
       "        b'SKDEAQREAERAIRSGNKEEARRILEEVGYSPEQAERIIRKLG',\n",
       "        b'TIDEIIKALEQAVKDGKPIQVGNYTVTSADEAEKLAKKLKKEY',\n",
       "        b'FEIPDDVPLPAGWEMARTSSGQRYFKNHIDQTTTWQDPRKAMLSQM',\n",
       "        b'TTIHVGDLTLKYDNPKKAYEIAKKLDKKYNLTVTIKNGKITVT',\n",
       "        b'GSSGSLSDEDFKAVFGMTRSAFAMLPLWKQQNLKKEKGLFGSS'], dtype=object))"
      ]
     },
     "metadata": {},
     "execution_count": 7
    }
   ],
   "metadata": {
    "ExecuteTime": {
     "end_time": "2021-08-24T15:46:53.362321Z",
     "start_time": "2021-08-24T15:46:53.357619Z"
    }
   }
  },
  {
   "cell_type": "code",
   "execution_count": 8,
   "source": [
    "dset.close() # hay que cerrarlo pq es un h5py"
   ],
   "outputs": [],
   "metadata": {
    "ExecuteTime": {
     "end_time": "2021-08-24T15:46:56.724395Z",
     "start_time": "2021-08-24T15:46:56.722370Z"
    }
   }
  }
 ],
 "metadata": {
  "kernelspec": {
   "name": "python3",
   "display_name": "Python 3.9.7 64-bit ('protera-stability': conda)"
  },
  "language_info": {
   "codemirror_mode": {
    "name": "ipython",
    "version": 3
   },
   "file_extension": ".py",
   "mimetype": "text/x-python",
   "name": "python",
   "nbconvert_exporter": "python",
   "pygments_lexer": "ipython3",
   "version": "3.9.7"
  },
  "interpreter": {
   "hash": "a78d51e19256cfce1d39a2c3cba2e8056cac1355cb83723ad6d6938cbf3c5352"
  }
 },
 "nbformat": 4,
 "nbformat_minor": 2
}