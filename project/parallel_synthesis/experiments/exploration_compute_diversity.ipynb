{
 "cells": [
  {
   "cell_type": "code",
   "execution_count": 55,
   "source": [
    "from collections import OrderedDict\n",
    "from pathlib import Path\n",
    "import multiprocessing\n",
    "import contextlib\n",
    "\n",
    "from tqdm.autonotebook import tqdm\n",
    "import matplotlib.pyplot as plt\n",
    "import pandas as pd\n",
    "import numpy as np\n",
    "\n",
    "from scipy.spatial.distance import hamming\n",
    "from Bio import SeqIO, pairwise2\n",
    "from Bio.Seq import Seq\n",
    "from Bio.SeqRecord import SeqRecord\n",
    "\n",
    "def print_alignment(seq1, seq2):\n",
    "    alignment = pairwise2.align.globalxx(seq1, seq2)\n",
    "    print(pairwise2.format_alignment(*alignment[0]))\n",
    "    \n",
    "\n",
    "data_path = Path('../data')\n",
    "!ls $data_path"
   ],
   "outputs": [
    {
     "output_type": "stream",
     "name": "stdout",
     "text": [
      "clustering\t stability_diversity.csv\tstability_train.csv\n",
      "mmseq\t\t stability_embeddings.pkl\tstability_train_diversity.csv\n",
      "mmseq_q\t\t stability.h5\t\t\tstability_train_embeddings.pkl\n",
      "mmseq_t\t\t stability_test.csv\t\tstability_train.h5\n",
      "raw\t\t stability_test_diversity.csv\ttmp\n",
      "sequences.fasta  stability_test_embeddings.pkl\n",
      "stability.csv\t stability_test.h5\n"
     ]
    }
   ],
   "metadata": {
    "ExecuteTime": {
     "end_time": "2021-09-06T21:27:42.786212Z",
     "start_time": "2021-09-06T21:27:42.783156Z"
    }
   }
  },
  {
   "cell_type": "code",
   "execution_count": 56,
   "source": [
    "data = pd.read_csv(data_path / \"stability.csv\")\n",
    "data.columns = [\"consensus_stability_score\", \"sequences\"]\n",
    "data"
   ],
   "outputs": [
    {
     "output_type": "execute_result",
     "data": {
      "text/html": [
       "<div>\n",
       "<style scoped>\n",
       "    .dataframe tbody tr th:only-of-type {\n",
       "        vertical-align: middle;\n",
       "    }\n",
       "\n",
       "    .dataframe tbody tr th {\n",
       "        vertical-align: top;\n",
       "    }\n",
       "\n",
       "    .dataframe thead th {\n",
       "        text-align: right;\n",
       "    }\n",
       "</style>\n",
       "<table border=\"1\" class=\"dataframe\">\n",
       "  <thead>\n",
       "    <tr style=\"text-align: right;\">\n",
       "      <th></th>\n",
       "      <th>consensus_stability_score</th>\n",
       "      <th>sequences</th>\n",
       "    </tr>\n",
       "  </thead>\n",
       "  <tbody>\n",
       "    <tr>\n",
       "      <th>0</th>\n",
       "      <td>0.37</td>\n",
       "      <td>GSSQETIEVEDEEEARRVAKELRKKGYEVKDERRGNKWHVHRT</td>\n",
       "    </tr>\n",
       "    <tr>\n",
       "      <th>1</th>\n",
       "      <td>0.62</td>\n",
       "      <td>TLDEARELVERAKKEGTGMDVNGQRFEDWREAERWVREQEKNK</td>\n",
       "    </tr>\n",
       "    <tr>\n",
       "      <th>2</th>\n",
       "      <td>-0.03</td>\n",
       "      <td>TELKKKLEEALKKGEEVRVKFNGIEIRNTSEDAARKAVELLEK</td>\n",
       "    </tr>\n",
       "    <tr>\n",
       "      <th>3</th>\n",
       "      <td>1.41</td>\n",
       "      <td>GSSQETIEVEDEEEARRVAKELRKTGYEVKIERRGNKWHVHRT</td>\n",
       "    </tr>\n",
       "    <tr>\n",
       "      <th>4</th>\n",
       "      <td>1.11</td>\n",
       "      <td>TTIHVGDLTLKYDNPKKAYEIAKKLAKKYNLQVTIKNGKITVT</td>\n",
       "    </tr>\n",
       "    <tr>\n",
       "      <th>...</th>\n",
       "      <td>...</td>\n",
       "      <td>...</td>\n",
       "    </tr>\n",
       "    <tr>\n",
       "      <th>10276</th>\n",
       "      <td>1.59</td>\n",
       "      <td>GSSKTQYEYDTKEEAQKAYEKFKKQGIPVTITQKNGKWFVQVE</td>\n",
       "    </tr>\n",
       "    <tr>\n",
       "      <th>10277</th>\n",
       "      <td>0.78</td>\n",
       "      <td>TELKKALEEALKKGEEVRVKFNGIEIRITSEDAARKAVELLEK</td>\n",
       "    </tr>\n",
       "    <tr>\n",
       "      <th>10278</th>\n",
       "      <td>1.26</td>\n",
       "      <td>SKDEAQREAERAIRSGNKEEARRILEEAGYSPEQAERIARKLG</td>\n",
       "    </tr>\n",
       "    <tr>\n",
       "      <th>10279</th>\n",
       "      <td>1.48</td>\n",
       "      <td>GSSKTQYEYDTKEEAQPAYEKFKKQGIPVTITQKNGKWFVQVE</td>\n",
       "    </tr>\n",
       "    <tr>\n",
       "      <th>10280</th>\n",
       "      <td>1.65</td>\n",
       "      <td>GSSTTRYRFTDEEEARRAAKEWARRGYQNHVTQNGTYWEVEVR</td>\n",
       "    </tr>\n",
       "  </tbody>\n",
       "</table>\n",
       "<p>10281 rows × 2 columns</p>\n",
       "</div>"
      ],
      "text/plain": [
       "       consensus_stability_score                                    sequences\n",
       "0                           0.37  GSSQETIEVEDEEEARRVAKELRKKGYEVKDERRGNKWHVHRT\n",
       "1                           0.62  TLDEARELVERAKKEGTGMDVNGQRFEDWREAERWVREQEKNK\n",
       "2                          -0.03  TELKKKLEEALKKGEEVRVKFNGIEIRNTSEDAARKAVELLEK\n",
       "3                           1.41  GSSQETIEVEDEEEARRVAKELRKTGYEVKIERRGNKWHVHRT\n",
       "4                           1.11  TTIHVGDLTLKYDNPKKAYEIAKKLAKKYNLQVTIKNGKITVT\n",
       "...                          ...                                          ...\n",
       "10276                       1.59  GSSKTQYEYDTKEEAQKAYEKFKKQGIPVTITQKNGKWFVQVE\n",
       "10277                       0.78  TELKKALEEALKKGEEVRVKFNGIEIRITSEDAARKAVELLEK\n",
       "10278                       1.26  SKDEAQREAERAIRSGNKEEARRILEEAGYSPEQAERIARKLG\n",
       "10279                       1.48  GSSKTQYEYDTKEEAQPAYEKFKKQGIPVTITQKNGKWFVQVE\n",
       "10280                       1.65  GSSTTRYRFTDEEEARRAAKEWARRGYQNHVTQNGTYWEVEVR\n",
       "\n",
       "[10281 rows x 2 columns]"
      ]
     },
     "metadata": {},
     "execution_count": 56
    }
   ],
   "metadata": {
    "ExecuteTime": {
     "end_time": "2021-09-06T21:27:43.288844Z",
     "start_time": "2021-09-06T21:27:42.984657Z"
    }
   }
  },
  {
   "cell_type": "markdown",
   "source": [
    "## Data Duplication"
   ],
   "metadata": {}
  },
  {
   "cell_type": "code",
   "execution_count": 57,
   "source": [
    "len(data['sequences'].unique()) == len(data), data['sequences'].unique().shape, len(data)"
   ],
   "outputs": [
    {
     "output_type": "execute_result",
     "data": {
      "text/plain": [
       "(True, (10281,), 10281)"
      ]
     },
     "metadata": {},
     "execution_count": 57
    }
   ],
   "metadata": {
    "ExecuteTime": {
     "end_time": "2021-09-06T21:27:51.220698Z",
     "start_time": "2021-09-06T21:27:48.547843Z"
    }
   }
  },
  {
   "cell_type": "code",
   "execution_count": 58,
   "source": [
    "data = data.drop_duplicates()\n",
    "data"
   ],
   "outputs": [
    {
     "output_type": "execute_result",
     "data": {
      "text/html": [
       "<div>\n",
       "<style scoped>\n",
       "    .dataframe tbody tr th:only-of-type {\n",
       "        vertical-align: middle;\n",
       "    }\n",
       "\n",
       "    .dataframe tbody tr th {\n",
       "        vertical-align: top;\n",
       "    }\n",
       "\n",
       "    .dataframe thead th {\n",
       "        text-align: right;\n",
       "    }\n",
       "</style>\n",
       "<table border=\"1\" class=\"dataframe\">\n",
       "  <thead>\n",
       "    <tr style=\"text-align: right;\">\n",
       "      <th></th>\n",
       "      <th>consensus_stability_score</th>\n",
       "      <th>sequences</th>\n",
       "    </tr>\n",
       "  </thead>\n",
       "  <tbody>\n",
       "    <tr>\n",
       "      <th>0</th>\n",
       "      <td>0.37</td>\n",
       "      <td>GSSQETIEVEDEEEARRVAKELRKKGYEVKDERRGNKWHVHRT</td>\n",
       "    </tr>\n",
       "    <tr>\n",
       "      <th>1</th>\n",
       "      <td>0.62</td>\n",
       "      <td>TLDEARELVERAKKEGTGMDVNGQRFEDWREAERWVREQEKNK</td>\n",
       "    </tr>\n",
       "    <tr>\n",
       "      <th>2</th>\n",
       "      <td>-0.03</td>\n",
       "      <td>TELKKKLEEALKKGEEVRVKFNGIEIRNTSEDAARKAVELLEK</td>\n",
       "    </tr>\n",
       "    <tr>\n",
       "      <th>3</th>\n",
       "      <td>1.41</td>\n",
       "      <td>GSSQETIEVEDEEEARRVAKELRKTGYEVKIERRGNKWHVHRT</td>\n",
       "    </tr>\n",
       "    <tr>\n",
       "      <th>4</th>\n",
       "      <td>1.11</td>\n",
       "      <td>TTIHVGDLTLKYDNPKKAYEIAKKLAKKYNLQVTIKNGKITVT</td>\n",
       "    </tr>\n",
       "    <tr>\n",
       "      <th>...</th>\n",
       "      <td>...</td>\n",
       "      <td>...</td>\n",
       "    </tr>\n",
       "    <tr>\n",
       "      <th>10276</th>\n",
       "      <td>1.59</td>\n",
       "      <td>GSSKTQYEYDTKEEAQKAYEKFKKQGIPVTITQKNGKWFVQVE</td>\n",
       "    </tr>\n",
       "    <tr>\n",
       "      <th>10277</th>\n",
       "      <td>0.78</td>\n",
       "      <td>TELKKALEEALKKGEEVRVKFNGIEIRITSEDAARKAVELLEK</td>\n",
       "    </tr>\n",
       "    <tr>\n",
       "      <th>10278</th>\n",
       "      <td>1.26</td>\n",
       "      <td>SKDEAQREAERAIRSGNKEEARRILEEAGYSPEQAERIARKLG</td>\n",
       "    </tr>\n",
       "    <tr>\n",
       "      <th>10279</th>\n",
       "      <td>1.48</td>\n",
       "      <td>GSSKTQYEYDTKEEAQPAYEKFKKQGIPVTITQKNGKWFVQVE</td>\n",
       "    </tr>\n",
       "    <tr>\n",
       "      <th>10280</th>\n",
       "      <td>1.65</td>\n",
       "      <td>GSSTTRYRFTDEEEARRAAKEWARRGYQNHVTQNGTYWEVEVR</td>\n",
       "    </tr>\n",
       "  </tbody>\n",
       "</table>\n",
       "<p>10281 rows × 2 columns</p>\n",
       "</div>"
      ],
      "text/plain": [
       "       consensus_stability_score                                    sequences\n",
       "0                           0.37  GSSQETIEVEDEEEARRVAKELRKKGYEVKDERRGNKWHVHRT\n",
       "1                           0.62  TLDEARELVERAKKEGTGMDVNGQRFEDWREAERWVREQEKNK\n",
       "2                          -0.03  TELKKKLEEALKKGEEVRVKFNGIEIRNTSEDAARKAVELLEK\n",
       "3                           1.41  GSSQETIEVEDEEEARRVAKELRKTGYEVKIERRGNKWHVHRT\n",
       "4                           1.11  TTIHVGDLTLKYDNPKKAYEIAKKLAKKYNLQVTIKNGKITVT\n",
       "...                          ...                                          ...\n",
       "10276                       1.59  GSSKTQYEYDTKEEAQKAYEKFKKQGIPVTITQKNGKWFVQVE\n",
       "10277                       0.78  TELKKALEEALKKGEEVRVKFNGIEIRITSEDAARKAVELLEK\n",
       "10278                       1.26  SKDEAQREAERAIRSGNKEEARRILEEAGYSPEQAERIARKLG\n",
       "10279                       1.48  GSSKTQYEYDTKEEAQPAYEKFKKQGIPVTITQKNGKWFVQVE\n",
       "10280                       1.65  GSSTTRYRFTDEEEARRAAKEWARRGYQNHVTQNGTYWEVEVR\n",
       "\n",
       "[10281 rows x 2 columns]"
      ]
     },
     "metadata": {},
     "execution_count": 58
    }
   ],
   "metadata": {
    "ExecuteTime": {
     "end_time": "2021-09-06T21:27:53.433576Z",
     "start_time": "2021-09-06T21:27:51.223634Z"
    }
   }
  },
  {
   "cell_type": "markdown",
   "source": [
    "## Alignments"
   ],
   "metadata": {}
  },
  {
   "cell_type": "code",
   "execution_count": 59,
   "source": [
    "# %timeit pairwise2.align.localmx(data['sequences'][0], data['sequences'][1], 1, 0)"
   ],
   "outputs": [],
   "metadata": {
    "ExecuteTime": {
     "end_time": "2021-09-06T21:29:12.056513Z",
     "start_time": "2021-09-06T21:29:09.097385Z"
    }
   }
  },
  {
   "cell_type": "code",
   "execution_count": 60,
   "source": [
    "# %timeit pairwise2.align.globalxx(data['sequences'][0], data['sequences'][1])"
   ],
   "outputs": [],
   "metadata": {
    "ExecuteTime": {
     "end_time": "2021-09-06T21:29:25.644761Z",
     "start_time": "2021-09-06T21:29:19.414075Z"
    }
   }
  },
  {
   "cell_type": "markdown",
   "source": [
    "## Score per metrics\n",
    "\n",
    "* More unique values => more stability?\n",
    "* Does sequence length matter?\n"
   ],
   "metadata": {}
  },
  {
   "cell_type": "code",
   "execution_count": 61,
   "source": [
    "def append_to_key(d, k, v):\n",
    "    if k in d:\n",
    "        values = d[k]\n",
    "        values.append(v)\n",
    "        d[k] = values\n",
    "        \n",
    "    else:\n",
    "        d[k] = [v]\n",
    "        \n",
    "def compute_mean_scores(d):\n",
    "    new_d = dict()\n",
    "    for k in d:\n",
    "        mean_score = np.mean(d[k])\n",
    "        new_d[k] = (mean_score, len(d[k]))\n",
    "        \n",
    "    return  OrderedDict(sorted(new_d.items()))\n",
    "\n",
    "score_per_length = dict()\n",
    "score_per_uniqueness = dict()\n",
    "\n",
    "for idx, (score, seq) in data.iterrows():\n",
    "    # score_per_length\n",
    "    size = len(seq)\n",
    "    append_to_key(score_per_length, size, score)\n",
    "    \n",
    "    \n",
    "    # score_per_uniqueness => score per number of unique aminoacids in each seq\n",
    "    uniques = set(seq)\n",
    "    unique_size = len(uniques)\n",
    "    \n",
    "    append_to_key(score_per_uniqueness, unique_size, score)\n",
    "    \n",
    "    # count unique aminoacids\n",
    "    for amino in uniques:\n",
    "        uniques.add(amino)"
   ],
   "outputs": [],
   "metadata": {
    "ExecuteTime": {
     "end_time": "2021-09-06T20:43:24.617454Z",
     "start_time": "2021-09-06T20:43:24.614726Z"
    }
   }
  },
  {
   "cell_type": "code",
   "execution_count": 62,
   "source": [
    "compute_mean_scores(score_per_length)"
   ],
   "outputs": [
    {
     "output_type": "execute_result",
     "data": {
      "text/plain": [
       "OrderedDict([(43, (1.0895151578073088, 9632)),\n",
       "             (46, (0.5599999999999999, 649))])"
      ]
     },
     "metadata": {},
     "execution_count": 62
    }
   ],
   "metadata": {
    "ExecuteTime": {
     "end_time": "2021-09-06T20:43:29.330800Z",
     "start_time": "2021-09-06T20:43:29.321031Z"
    }
   }
  },
  {
   "cell_type": "code",
   "execution_count": 63,
   "source": [
    "compute_mean_scores(score_per_uniqueness)"
   ],
   "outputs": [
    {
     "output_type": "execute_result",
     "data": {
      "text/plain": [
       "OrderedDict([(11, (1.1446428571428573, 28)),\n",
       "             (12, (1.1679087452471484, 526)),\n",
       "             (13, (1.0954285714285716, 2275)),\n",
       "             (14, (1.0452967140755274, 2039)),\n",
       "             (15, (1.1669070735090152, 2163)),\n",
       "             (16, (1.1413855421686747, 1328)),\n",
       "             (17, (0.777331240188383, 637)),\n",
       "             (18, (0.8991928251121075, 223)),\n",
       "             (19, (0.8025988700564971, 1062))])"
      ]
     },
     "metadata": {},
     "execution_count": 63
    }
   ],
   "metadata": {
    "ExecuteTime": {
     "end_time": "2021-09-06T20:43:29.345862Z",
     "start_time": "2021-09-06T20:43:29.332279Z"
    }
   }
  },
  {
   "cell_type": "markdown",
   "source": [
    "## By Score"
   ],
   "metadata": {}
  },
  {
   "cell_type": "code",
   "execution_count": 64,
   "source": [
    "sorted_train = data.sort_values(by='consensus_stability_score')\n",
    "sorted_train = sorted_train.reset_index(drop = True)"
   ],
   "outputs": [],
   "metadata": {
    "ExecuteTime": {
     "end_time": "2021-09-06T20:43:29.374395Z",
     "start_time": "2021-09-06T20:43:29.346596Z"
    }
   }
  },
  {
   "cell_type": "code",
   "execution_count": 65,
   "source": [
    "print_alignment(sorted_train['sequences'][0], sorted_train['sequences'][1])\n",
    "sorted_train.head(5)"
   ],
   "outputs": [
    {
     "output_type": "stream",
     "name": "stdout",
     "text": [
      "RKWEE--IA-----ER----LREEFNIN-PEE-AREAVEKAGGNEEEAR--R-P---VK-------K--RL\n",
      "       |      |     |        | | |  |  ||      |   | |   |        |  | \n",
      "-----TTI-KVNGQE-YTVPL-------SP-EQA--A--KA------A-KKRWPDYEV-QIHGNTYKVTR-\n",
      "  Score=15\n",
      "\n"
     ]
    },
    {
     "output_type": "execute_result",
     "data": {
      "text/html": [
       "<div>\n",
       "<style scoped>\n",
       "    .dataframe tbody tr th:only-of-type {\n",
       "        vertical-align: middle;\n",
       "    }\n",
       "\n",
       "    .dataframe tbody tr th {\n",
       "        vertical-align: top;\n",
       "    }\n",
       "\n",
       "    .dataframe thead th {\n",
       "        text-align: right;\n",
       "    }\n",
       "</style>\n",
       "<table border=\"1\" class=\"dataframe\">\n",
       "  <thead>\n",
       "    <tr style=\"text-align: right;\">\n",
       "      <th></th>\n",
       "      <th>consensus_stability_score</th>\n",
       "      <th>sequences</th>\n",
       "    </tr>\n",
       "  </thead>\n",
       "  <tbody>\n",
       "    <tr>\n",
       "      <th>0</th>\n",
       "      <td>-0.26</td>\n",
       "      <td>RKWEEIAERLREEFNINPEEAREAVEKAGGNEEEARRPVKKRL</td>\n",
       "    </tr>\n",
       "    <tr>\n",
       "      <th>1</th>\n",
       "      <td>-0.13</td>\n",
       "      <td>TTIKVNGQEYTVPLSPEQAAKAAKKRWPDYEVQIHGNTYKVTR</td>\n",
       "    </tr>\n",
       "    <tr>\n",
       "      <th>2</th>\n",
       "      <td>-0.12</td>\n",
       "      <td>TELKKKREEALKKGEEVRVKFNGIEIRITSEDAARKAVELLEK</td>\n",
       "    </tr>\n",
       "    <tr>\n",
       "      <th>3</th>\n",
       "      <td>-0.11</td>\n",
       "      <td>GMADEEKLPPGWESRMSRSSGRVYYFNHITNASQWERPSGGSS</td>\n",
       "    </tr>\n",
       "    <tr>\n",
       "      <th>4</th>\n",
       "      <td>-0.10</td>\n",
       "      <td>GSSGSLSDEDFKAVFGMTRSAFANLPLWKQQNPKKEKGLFGSS</td>\n",
       "    </tr>\n",
       "  </tbody>\n",
       "</table>\n",
       "</div>"
      ],
      "text/plain": [
       "   consensus_stability_score                                    sequences\n",
       "0                      -0.26  RKWEEIAERLREEFNINPEEAREAVEKAGGNEEEARRPVKKRL\n",
       "1                      -0.13  TTIKVNGQEYTVPLSPEQAAKAAKKRWPDYEVQIHGNTYKVTR\n",
       "2                      -0.12  TELKKKREEALKKGEEVRVKFNGIEIRITSEDAARKAVELLEK\n",
       "3                      -0.11  GMADEEKLPPGWESRMSRSSGRVYYFNHITNASQWERPSGGSS\n",
       "4                      -0.10  GSSGSLSDEDFKAVFGMTRSAFANLPLWKQQNPKKEKGLFGSS"
      ]
     },
     "metadata": {},
     "execution_count": 65
    }
   ],
   "metadata": {
    "ExecuteTime": {
     "end_time": "2021-09-06T20:43:29.391120Z",
     "start_time": "2021-09-06T20:43:29.375180Z"
    }
   }
  },
  {
   "cell_type": "code",
   "execution_count": 66,
   "source": [
    "print_alignment(sorted_train['sequences'][len(sorted_train)-1], sorted_train['sequences'][len(sorted_train)-2])\n",
    "sorted_train.tail(5)"
   ],
   "outputs": [
    {
     "output_type": "stream",
     "name": "stdout",
     "text": [
      "GSSET-RYRFTDEEE-ARRAAKEWARRGYQVHVTQNGTYWEVEVR\n",
      "||| | |||||| || |||||||||||||||||||||||||||||\n",
      "GSS-TTRYRFTD-EEKARRAAKEWARRGYQVHVTQNGTYWEVEVR\n",
      "  Score=41\n",
      "\n"
     ]
    },
    {
     "output_type": "execute_result",
     "data": {
      "text/html": [
       "<div>\n",
       "<style scoped>\n",
       "    .dataframe tbody tr th:only-of-type {\n",
       "        vertical-align: middle;\n",
       "    }\n",
       "\n",
       "    .dataframe tbody tr th {\n",
       "        vertical-align: top;\n",
       "    }\n",
       "\n",
       "    .dataframe thead th {\n",
       "        text-align: right;\n",
       "    }\n",
       "</style>\n",
       "<table border=\"1\" class=\"dataframe\">\n",
       "  <thead>\n",
       "    <tr style=\"text-align: right;\">\n",
       "      <th></th>\n",
       "      <th>consensus_stability_score</th>\n",
       "      <th>sequences</th>\n",
       "    </tr>\n",
       "  </thead>\n",
       "  <tbody>\n",
       "    <tr>\n",
       "      <th>10276</th>\n",
       "      <td>2.20</td>\n",
       "      <td>ERRKIEEIAKKLYQSGNPEAARKFLRKAGISEEEIERILQKAG</td>\n",
       "    </tr>\n",
       "    <tr>\n",
       "      <th>10277</th>\n",
       "      <td>2.20</td>\n",
       "      <td>GSSKTQYEYDTKEEAQKAYEKFKKQGIRVTITQKNGKWFVQVE</td>\n",
       "    </tr>\n",
       "    <tr>\n",
       "      <th>10278</th>\n",
       "      <td>2.28</td>\n",
       "      <td>GSSKTQYEYDTKEEAQKAYEKFKRQGIPVTITQKNGKWFVQVE</td>\n",
       "    </tr>\n",
       "    <tr>\n",
       "      <th>10279</th>\n",
       "      <td>2.47</td>\n",
       "      <td>GSSTTRYRFTDEEKARRAAKEWARRGYQVHVTQNGTYWEVEVR</td>\n",
       "    </tr>\n",
       "    <tr>\n",
       "      <th>10280</th>\n",
       "      <td>2.49</td>\n",
       "      <td>GSSETRYRFTDEEEARRAAKEWARRGYQVHVTQNGTYWEVEVR</td>\n",
       "    </tr>\n",
       "  </tbody>\n",
       "</table>\n",
       "</div>"
      ],
      "text/plain": [
       "       consensus_stability_score                                    sequences\n",
       "10276                       2.20  ERRKIEEIAKKLYQSGNPEAARKFLRKAGISEEEIERILQKAG\n",
       "10277                       2.20  GSSKTQYEYDTKEEAQKAYEKFKKQGIRVTITQKNGKWFVQVE\n",
       "10278                       2.28  GSSKTQYEYDTKEEAQKAYEKFKRQGIPVTITQKNGKWFVQVE\n",
       "10279                       2.47  GSSTTRYRFTDEEKARRAAKEWARRGYQVHVTQNGTYWEVEVR\n",
       "10280                       2.49  GSSETRYRFTDEEEARRAAKEWARRGYQVHVTQNGTYWEVEVR"
      ]
     },
     "metadata": {},
     "execution_count": 66
    }
   ],
   "metadata": {
    "ExecuteTime": {
     "end_time": "2021-09-06T20:43:29.415997Z",
     "start_time": "2021-09-06T20:43:29.391871Z"
    }
   }
  },
  {
   "cell_type": "markdown",
   "source": [
    "## Subsampling techniques"
   ],
   "metadata": {}
  },
  {
   "cell_type": "markdown",
   "source": [
    "* Diversity Maximizing: This is a greedy strategy which starts from the reference and adds the sequence with highest average hamming distance to current set of sequences.\n",
    "\n",
    "* Diversity Minimizing: This strategy is equivalent to the Diversity Maximizing strategy, but adds the se- quence with lowest average hamming distance. It is used to explore the effects of diversity on model per- formance.\n",
    "\n",
    "* HHFilter: This strategy applies hhfilter (Steinegger etal.,2019)withthe-diff Mparameter,whichre- turns M or more sequences that maximize diversity (the result is usually close to M). If more than M sequences are returned we apply the Diversity Maxi- mizing strategy on top of the output."
   ],
   "metadata": {}
  },
  {
   "cell_type": "code",
   "execution_count": 67,
   "source": [
    "def compute_diversity(seq1, seq2, method=\"hamming\"):\n",
    "    if method == \"alignment\":\n",
    "        method = pairwise2.align.globalxx\n",
    "        diversity = method(seq1, seq2)\n",
    "        diversity = diversity[0].score / max(len(seq1), len(seq2))\n",
    "\n",
    "    elif method == \"hamming\":\n",
    "        if len(seq1) != len(seq2):\n",
    "            size = min(len(seq1), len(seq2))\n",
    "            seq1 = seq1[:size]\n",
    "            seq2 = seq2[:size]\n",
    "\n",
    "        method = hamming\n",
    "        # print(list(seq1), \"\\n\" ,list(seq2))\n",
    "        diversity = method(list(seq1), list(seq2))\n",
    "\n",
    "    return diversity\n",
    "\n",
    "\n",
    "def div_vs_all(sequence, other_sequences, method=\"hamming\", reducer=np.nanmean):\n",
    "    v_diversity = np.vectorize(lambda x: compute_diversity(sequence, x, method=method))\n",
    "    if len(other_sequences) > 1:\n",
    "        div_vs_all = v_diversity(other_sequences)\n",
    "    else:\n",
    "        print(f\"Skipping {sequence}\")\n",
    "        return np.nan\n",
    "\n",
    "    reduced_div_vs_all = reducer(div_vs_all) if len(div_vs_all) >= 1 else np.nan\n",
    "    return reduced_div_vs_all\n",
    "\n",
    "\n",
    "def dataset_diversity(sequences, method=\"hamming\", reduce=\"mean\", verbose=True):\n",
    "    if reduce != \"mean\":\n",
    "        raise NotImplementedError\n",
    "    else:\n",
    "        # nan results are due to different lengths\n",
    "        reducer = np.nanmean\n",
    "\n",
    "    reduced_divs = []\n",
    "    if verbose:\n",
    "        pbar = tqdm(total=len(sequences), miniters=1, smoothing=1)\n",
    "\n",
    "    all_other_sequences = [\n",
    "        np.concatenate((sequences[:idx], sequences[idx + 1 :]))\n",
    "        for idx in range(len(sequences))\n",
    "    ]\n",
    "\n",
    "    with contextlib.closing(multiprocessing.Pool(4)) as pool:\n",
    "        for sequence_idx, sequence in enumerate(sequences):\n",
    "            other_sequences = all_other_sequences[sequence_idx]\n",
    "            reduced_divs.append(\n",
    "                pool.apply_async(div_vs_all, args=(sequence, other_sequences, method))\n",
    "            )\n",
    "\n",
    "    for idx, result in enumerate(reduced_divs):\n",
    "        reduced_divs[idx] = result.get()\n",
    "        if verbose:\n",
    "            pbar.update(1)\n",
    "            pbar.refresh()\n",
    "\n",
    "    pool.join()\n",
    "\n",
    "    if verbose:\n",
    "        pbar.close()\n",
    "\n",
    "    return reduced_divs\n",
    "\n",
    "\n",
    "def get_cluster_diversity():\n",
    "    rep_seqs = dict()\n",
    "    rep_seq_glob = list((data_path / \"clustering\").glob(\"cluster_*_rep_seq.fasta\"))\n",
    "    print(rep_seq_glob)\n",
    "\n",
    "    for rep_seqs_pth in rep_seq_glob:\n",
    "        df_name = rep_seqs_pth.stem.split(\"_\")[1]\n",
    "\n",
    "        df = pd.DataFrame()\n",
    "\n",
    "        sequences = [str(record.seq) for record in SeqIO.parse(rep_seqs_pth, \"fasta\")]\n",
    "        sequences = np.random.choice(sequences, 3000)\n",
    "        alignment = dataset_diversity(sequences, \"alignment\")\n",
    "        hamming = dataset_diversity(sequences, \"hamming\")\n",
    "\n",
    "        df[\"sequences\"] = sequences\n",
    "        df[\"alignment\"] = alignment\n",
    "        df[\"hamming\"] = hamming\n",
    "\n",
    "        rep_seqs[df_name] = df\n",
    "\n",
    "    return rep_seqs"
   ],
   "outputs": [],
   "metadata": {
    "ExecuteTime": {
     "end_time": "2021-09-06T20:43:29.565486Z",
     "start_time": "2021-09-06T20:43:29.424872Z"
    },
    "code_folding": []
   }
  },
  {
   "cell_type": "code",
   "execution_count": 68,
   "source": [
    "diversity_alignment = compute_diversity(\n",
    "    data[\"sequences\"].values[0],\n",
    "    data[\"sequences\"].values[11],\n",
    "    \"alignment\",\n",
    ")\n",
    "\n",
    "diversity_hamming = compute_diversity(\n",
    "    data[\"sequences\"].values[0],\n",
    "    data[\"sequences\"].values[11],\n",
    "    \"hamming\"\n",
    ")\n",
    "\n",
    "diversity_alignment, diversity_hamming,  data[\"sequences\"].values[0],  data[\"sequences\"].values[11]"
   ],
   "outputs": [
    {
     "output_type": "execute_result",
     "data": {
      "text/plain": [
       "(0.9534883720930233,\n",
       " 0.046511627906976744,\n",
       " 'GSSQETIEVEDEEEARRVAKELRKKGYEVKDERRGNKWHVHRT',\n",
       " 'GSSQETIEVEDEEEARRVAKELRKKGYEVKIERRGNKWHVHRI')"
      ]
     },
     "metadata": {},
     "execution_count": 68
    }
   ],
   "metadata": {
    "ExecuteTime": {
     "end_time": "2021-09-06T20:43:29.569378Z",
     "start_time": "2021-09-06T20:43:29.566271Z"
    }
   }
  },
  {
   "cell_type": "code",
   "execution_count": 69,
   "source": [
    "#diversities = dataset_diversity(np.random.choice(data[\"sequences\"].values, 14245))"
   ],
   "outputs": [],
   "metadata": {
    "ExecuteTime": {
     "end_time": "2021-09-06T20:43:29.602450Z",
     "start_time": "2021-09-06T20:43:29.595475Z"
    },
    "scrolled": false
   }
  },
  {
   "cell_type": "code",
   "execution_count": 70,
   "source": [
    "records = []\n",
    "for row_idx, row in tqdm(data.iterrows(), total=len(data)):\n",
    "    record = SeqRecord(\n",
    "        Seq(row.sequences),\n",
    "        id=str(row[0]),\n",
    "        name=f\"mutagenesis_{row_idx}\",\n",
    "        description=\"\",\n",
    "        annotations={\"labels\": row.consensus_stability_score}\n",
    "    )\n",
    "    records.append(record)\n",
    "    if len(row.sequences) > 6000: print(row_idx)\n",
    "    \n",
    "SeqIO.write(records, data_path / \"sequences.fasta\", \"fasta\")"
   ],
   "outputs": [
    {
     "output_type": "stream",
     "name": "stderr",
     "text": [
      "100%|██████████| 10281/10281 [00:00<00:00, 17919.42it/s]\n"
     ]
    },
    {
     "output_type": "execute_result",
     "data": {
      "text/plain": [
       "10281"
      ]
     },
     "metadata": {},
     "execution_count": 70
    }
   ],
   "metadata": {
    "ExecuteTime": {
     "end_time": "2021-09-06T21:06:51.382843Z",
     "start_time": "2021-09-06T21:06:43.583542Z"
    }
   }
  },
  {
   "cell_type": "code",
   "execution_count": 83,
   "source": [
    "rep_seqs_diversity = dict()\n",
    "\n",
    "rep_seqs_diversity_pths = list((data_path / \"clustering\").glob(\"diversity_*.csv\"))\n",
    "\n",
    "for pth in sorted(rep_seqs_diversity_pths):\n",
    "    df_name = pth.stem.split(\"_\")[1]\n",
    "    rep_seqs_diversity[df_name] = pd.read_csv(pth)\n",
    "\n",
    "f, axs = plt.subplots(ncols=1, figsize=(8,5))\n",
    "\n",
    "for min_id, df in rep_seqs_diversity.items():\n",
    "    df[\"hamming\"].plot.hist(by=\"hamming\", ax=axs, alpha=0.7)\n",
    "\n",
    "axs.legend([f\"min-seq-id={min_idty}\" for min_idty, df in rep_seqs_diversity.items()]);"
   ],
   "outputs": [
    {
     "output_type": "display_data",
     "data": {
      "image/png": "[encoded data removed]",
      "text/plain": [
       "<Figure size 576x360 with 1 Axes>"
      ]
     },
     "metadata": {
      "needs_background": "light"
     }
    }
   ],
   "metadata": {}
  },
  {
   "cell_type": "code",
   "execution_count": 73,
   "source": [
    "# ds_div_train = dataset_diversity(sets[\"train\"][\"sequence\"])\n",
    "# sets[\"train\"][\"diversity\"] = np.nanmean(np.array(ds_div_train), 1)\n",
    "# np.nanmean(np.array(ds_div_train))\n",
    "# 0.8xxx"
   ],
   "outputs": [],
   "metadata": {
    "ExecuteTime": {
     "start_time": "2021-09-06T18:04:38.037Z"
    }
   }
  },
  {
   "cell_type": "code",
   "execution_count": 74,
   "source": [
    "# ds_div_test = dataset_diversity(sets[\"test\"][\"sequence\"])\n",
    "# sets[\"test\"][\"diversity\"] = np.nanmean(np.array(ds_div_test), 1)\n",
    "# np.nanmean(np.array(ds_div_test))"
   ],
   "outputs": [],
   "metadata": {
    "ExecuteTime": {
     "start_time": "2021-09-06T18:04:38.038Z"
    }
   }
  },
  {
   "cell_type": "code",
   "execution_count": 75,
   "source": [
    "# sets[\"train\"].to_csv(f\"{data_path}/stability_diversity_train.csv\")\n",
    "# sets[\"test\"].to_csv(f\"{data_path}/stability_diversity_test.csv\")"
   ],
   "outputs": [],
   "metadata": {
    "ExecuteTime": {
     "start_time": "2021-09-06T18:04:38.039Z"
    }
   }
  }
 ],
 "metadata": {
  "kernelspec": {
   "name": "python3",
   "display_name": "Python 3.9.7 64-bit ('protera-stability': conda)"
  },
  "language_info": {
   "codemirror_mode": {
    "name": "ipython",
    "version": 3
   },
   "file_extension": ".py",
   "mimetype": "text/x-python",
   "name": "python",
   "nbconvert_exporter": "python",
   "pygments_lexer": "ipython3",
   "version": "3.9.7"
  },
  "interpreter": {
   "hash": "a78d51e19256cfce1d39a2c3cba2e8056cac1355cb83723ad6d6938cbf3c5352"
  }
 },
 "nbformat": 4,
 "nbformat_minor": 5
}