{
 "cells": [
  {
   "cell_type": "code",
   "execution_count": 9,
   "id": "b58ea772",
   "metadata": {
    "ExecuteTime": {
     "end_time": "2021-08-24T18:19:41.261307Z",
     "start_time": "2021-08-24T18:19:41.002817Z"
    }
   },
   "outputs": [],
   "source": [
    "from pathlib import Path\n",
    "\n",
    "import pandas as pd\n",
    "import numpy as np\n",
    "\n",
    "import matplotlib.pyplot as plt\n",
    "from collections import OrderedDict"
   ]
  },
  {
   "cell_type": "code",
   "execution_count": 10,
   "id": "e3a02502",
   "metadata": {
    "ExecuteTime": {
     "end_time": "2021-08-24T18:19:41.377394Z",
     "start_time": "2021-08-24T18:19:41.262203Z"
    }
   },
   "outputs": [
    {
     "name": "stdout",
     "output_type": "stream",
     "text": [
      "raw\t\t\t       stability_embeddings_train.pkl\r\n",
      "stability.csv\t\t       stability_embeddings_val.pkl\r\n",
      "stability_diversity_full.csv   stability.h5\r\n",
      "stability_diversity_test.csv   stability_test.csv\r\n",
      "stability_diversity_train.csv  stability_test.h5\r\n",
      "stability_embeddings.pkl       stability_train.csv\r\n",
      "stability_embeddings_test.pkl  stability_train.h5\r\n"
     ]
    }
   ],
   "source": [
    "data_path = Path('../data')\n",
    "\n",
    "!ls $data_path"
   ]
  },
  {
   "cell_type": "code",
   "execution_count": 11,
   "id": "15d38d5c",
   "metadata": {
    "ExecuteTime": {
     "end_time": "2021-08-24T18:19:41.411935Z",
     "start_time": "2021-08-24T18:19:41.378818Z"
    }
   },
   "outputs": [
    {
     "data": {
      "text/html": [
       "<div>\n",
       "<style scoped>\n",
       "    .dataframe tbody tr th:only-of-type {\n",
       "        vertical-align: middle;\n",
       "    }\n",
       "\n",
       "    .dataframe tbody tr th {\n",
       "        vertical-align: top;\n",
       "    }\n",
       "\n",
       "    .dataframe thead th {\n",
       "        text-align: right;\n",
       "    }\n",
       "</style>\n",
       "<table border=\"1\" class=\"dataframe\">\n",
       "  <thead>\n",
       "    <tr style=\"text-align: right;\">\n",
       "      <th></th>\n",
       "      <th>sequence</th>\n",
       "      <th>consensus_stability_score</th>\n",
       "    </tr>\n",
       "  </thead>\n",
       "  <tbody>\n",
       "    <tr>\n",
       "      <th>0</th>\n",
       "      <td>GSSQETIEVEDEEEARRVAKELRKKGYEVKDERRGNKWHVHRT</td>\n",
       "      <td>0.37</td>\n",
       "    </tr>\n",
       "    <tr>\n",
       "      <th>1</th>\n",
       "      <td>TLDEARELVERAKKEGTGMDVNGQRFEDWREAERWVREQEKNK</td>\n",
       "      <td>0.62</td>\n",
       "    </tr>\n",
       "    <tr>\n",
       "      <th>2</th>\n",
       "      <td>TELKKKLEEALKKGEEVRVKFNGIEIRNTSEDAARKAVELLEK</td>\n",
       "      <td>-0.03</td>\n",
       "    </tr>\n",
       "    <tr>\n",
       "      <th>3</th>\n",
       "      <td>GSSQETIEVEDEEEARRVAKELRKTGYEVKIERRGNKWHVHRT</td>\n",
       "      <td>1.41</td>\n",
       "    </tr>\n",
       "    <tr>\n",
       "      <th>4</th>\n",
       "      <td>TTIHVGDLTLKYDNPKKAYEIAKKLAKKYNLQVTIKNGKITVT</td>\n",
       "      <td>1.11</td>\n",
       "    </tr>\n",
       "    <tr>\n",
       "      <th>...</th>\n",
       "      <td>...</td>\n",
       "      <td>...</td>\n",
       "    </tr>\n",
       "    <tr>\n",
       "      <th>7705</th>\n",
       "      <td>GSSKTQYEYDTKEEHQKAYEKFKKQGIPVTITQKNGKWFVQVE</td>\n",
       "      <td>0.80</td>\n",
       "    </tr>\n",
       "    <tr>\n",
       "      <th>7706</th>\n",
       "      <td>TIDEIIKALEQAVKDNKPIQVGNYTVTSADEAEKLAKKLKKPY</td>\n",
       "      <td>0.82</td>\n",
       "    </tr>\n",
       "    <tr>\n",
       "      <th>7707</th>\n",
       "      <td>TQDEIIKALEQAVKDNKPIQVGNYTVTSADEAEKLAKKLKKEY</td>\n",
       "      <td>0.66</td>\n",
       "    </tr>\n",
       "    <tr>\n",
       "      <th>7708</th>\n",
       "      <td>TTIKVNGQEYTVPLSPEQAAKAAKKRWPDYEVQIHGNTVWVTR</td>\n",
       "      <td>1.05</td>\n",
       "    </tr>\n",
       "    <tr>\n",
       "      <th>7709</th>\n",
       "      <td>GSSTTWYRFTDEEEARRAAKEWARRGYQVHVTQNGTYWEVEVR</td>\n",
       "      <td>1.69</td>\n",
       "    </tr>\n",
       "  </tbody>\n",
       "</table>\n",
       "<p>7710 rows × 2 columns</p>\n",
       "</div>"
      ],
      "text/plain": [
       "                                         sequence  consensus_stability_score\n",
       "0     GSSQETIEVEDEEEARRVAKELRKKGYEVKDERRGNKWHVHRT                       0.37\n",
       "1     TLDEARELVERAKKEGTGMDVNGQRFEDWREAERWVREQEKNK                       0.62\n",
       "2     TELKKKLEEALKKGEEVRVKFNGIEIRNTSEDAARKAVELLEK                      -0.03\n",
       "3     GSSQETIEVEDEEEARRVAKELRKTGYEVKIERRGNKWHVHRT                       1.41\n",
       "4     TTIHVGDLTLKYDNPKKAYEIAKKLAKKYNLQVTIKNGKITVT                       1.11\n",
       "...                                           ...                        ...\n",
       "7705  GSSKTQYEYDTKEEHQKAYEKFKKQGIPVTITQKNGKWFVQVE                       0.80\n",
       "7706  TIDEIIKALEQAVKDNKPIQVGNYTVTSADEAEKLAKKLKKPY                       0.82\n",
       "7707  TQDEIIKALEQAVKDNKPIQVGNYTVTSADEAEKLAKKLKKEY                       0.66\n",
       "7708  TTIKVNGQEYTVPLSPEQAAKAAKKRWPDYEVQIHGNTVWVTR                       1.05\n",
       "7709  GSSTTWYRFTDEEEARRAAKEWARRGYQVHVTQNGTYWEVEVR                       1.69\n",
       "\n",
       "[7710 rows x 2 columns]"
      ]
     },
     "execution_count": 11,
     "metadata": {},
     "output_type": "execute_result"
    }
   ],
   "source": [
    "def open_sets(base_path):\n",
    "    sets = {}\n",
    "\n",
    "    for path in base_path.glob('stability_*.csv'):\n",
    "        fname = path.stem\n",
    "        kind = fname.split('_')[1]\n",
    "\n",
    "        df = pd.read_csv(path)\n",
    "        sets[kind] = df\n",
    "        \n",
    "    return sets\n",
    "\n",
    "sets = open_sets(data_path)\n",
    "sets['train']"
   ]
  },
  {
   "cell_type": "markdown",
   "id": "0278b366",
   "metadata": {},
   "source": [
    "## Data Duplication"
   ]
  },
  {
   "cell_type": "code",
   "execution_count": 12,
   "id": "47ede143",
   "metadata": {
    "ExecuteTime": {
     "end_time": "2021-08-24T18:19:41.415967Z",
     "start_time": "2021-08-24T18:19:41.412866Z"
    }
   },
   "outputs": [
    {
     "data": {
      "text/plain": [
       "False"
      ]
     },
     "execution_count": 12,
     "metadata": {},
     "output_type": "execute_result"
    }
   ],
   "source": [
    "len(sets['train']['sequence'].unique()) != len(sets['train'])"
   ]
  },
  {
   "cell_type": "markdown",
   "id": "a7bb1a2e",
   "metadata": {},
   "source": [
    "## Alignments"
   ]
  },
  {
   "cell_type": "code",
   "execution_count": 13,
   "id": "69742aab",
   "metadata": {
    "ExecuteTime": {
     "end_time": "2021-08-24T18:19:41.427711Z",
     "start_time": "2021-08-24T18:19:41.416976Z"
    },
    "scrolled": true
   },
   "outputs": [
    {
     "name": "stdout",
     "output_type": "stream",
     "text": [
      "GSSQETIEVE-DEEEARRVAKEL--R-KKGYEVK----D------E--R---RGNKWHVHRT------\n",
      "     |     |  || |   ||  | ||  |      |      |  |   |   | | |       \n",
      "-----T----LD--EA-R---ELVERAKK--E--GTGMDVNGQRFEDWREAER---W-V-R-EQEKNK\n",
      "  Score=18\n",
      "\n"
     ]
    }
   ],
   "source": [
    "from Bio import pairwise2\n",
    "\n",
    "alignment = pairwise2.align.globalxx(sets['train']['sequence'][0], sets['train']['sequence'][1])\n",
    "print(pairwise2.format_alignment(*alignment[0]))"
   ]
  },
  {
   "cell_type": "markdown",
   "id": "de69fb8a",
   "metadata": {},
   "source": [
    "## Score per metrics\n",
    "\n",
    "* More unique values => more stability?\n",
    "* Does sequence length matter?\n"
   ]
  },
  {
   "cell_type": "code",
   "execution_count": 14,
   "id": "2bb54d4d",
   "metadata": {
    "ExecuteTime": {
     "end_time": "2021-08-24T18:19:41.430899Z",
     "start_time": "2021-08-24T18:19:41.428493Z"
    }
   },
   "outputs": [],
   "source": [
    "def append_to_key(d, k, v):\n",
    "    if k in d:\n",
    "        values = d[k]\n",
    "        values.append(v)\n",
    "        d[k] = values\n",
    "        \n",
    "    else:\n",
    "        d[k] = [v]\n",
    "        \n",
    "def compute_mean_scores(d):\n",
    "    new_d = dict()\n",
    "    for k in d:\n",
    "        mean_score = np.mean(d[k])\n",
    "        new_d[k] = (mean_score, len(d[k]))\n",
    "        \n",
    "    return  OrderedDict(sorted(new_d.items()))"
   ]
  },
  {
   "cell_type": "code",
   "execution_count": 15,
   "id": "f87b51f5",
   "metadata": {
    "ExecuteTime": {
     "end_time": "2021-08-24T18:19:41.676042Z",
     "start_time": "2021-08-24T18:19:41.431700Z"
    },
    "scrolled": false
   },
   "outputs": [],
   "source": [
    "score_per_length = dict()\n",
    "score_per_uniqueness = dict()\n",
    "\n",
    "for idx, (seq, score) in sets['train'].iterrows():\n",
    "    # score_per_length\n",
    "    size = len(seq)\n",
    "    append_to_key(score_per_length, size, score)\n",
    "    \n",
    "    \n",
    "    # score_per_uniqueness => score per number of unique aminoacids in each seq\n",
    "    uniques = set(seq)\n",
    "    unique_size = len(uniques)\n",
    "    \n",
    "    append_to_key(score_per_uniqueness, unique_size, score)\n",
    "    \n",
    "    # count unique aminoacids\n",
    "    for amino in uniques:\n",
    "        uniques.add(amino)\n"
   ]
  },
  {
   "cell_type": "code",
   "execution_count": 16,
   "id": "9a8a1380",
   "metadata": {
    "ExecuteTime": {
     "end_time": "2021-08-24T18:19:41.679891Z",
     "start_time": "2021-08-24T18:19:41.677277Z"
    }
   },
   "outputs": [
    {
     "data": {
      "text/plain": [
       "OrderedDict([(43, (1.0939332224993072, 7218)),\n",
       "             (46, (0.5659959349593496, 492))])"
      ]
     },
     "execution_count": 16,
     "metadata": {},
     "output_type": "execute_result"
    }
   ],
   "source": [
    "compute_mean_scores(score_per_length)"
   ]
  },
  {
   "cell_type": "code",
   "execution_count": 17,
   "id": "5051498f",
   "metadata": {
    "ExecuteTime": {
     "end_time": "2021-08-24T18:19:41.683630Z",
     "start_time": "2021-08-24T18:19:41.680749Z"
    }
   },
   "outputs": [
    {
     "data": {
      "text/plain": [
       "OrderedDict([(11, (1.1877272727272727, 22)),\n",
       "             (12, (1.1719895287958115, 382)),\n",
       "             (13, (1.1024068598462446, 1691)),\n",
       "             (14, (1.04685173089484, 1531)),\n",
       "             (15, (1.1661388550548113, 1642)),\n",
       "             (16, (1.1496199999999999, 1000)),\n",
       "             (17, (0.7856092436974791, 476)),\n",
       "             (18, (0.8948214285714284, 168)),\n",
       "             (19, (0.8083333333333332, 798))])"
      ]
     },
     "execution_count": 17,
     "metadata": {},
     "output_type": "execute_result"
    }
   ],
   "source": [
    "compute_mean_scores(score_per_uniqueness)"
   ]
  },
  {
   "cell_type": "markdown",
   "id": "1ba8fbee",
   "metadata": {},
   "source": [
    "## By Score"
   ]
  },
  {
   "cell_type": "code",
   "execution_count": 18,
   "id": "798e3b61",
   "metadata": {
    "ExecuteTime": {
     "end_time": "2021-08-24T18:19:41.687377Z",
     "start_time": "2021-08-24T18:19:41.684383Z"
    }
   },
   "outputs": [],
   "source": [
    "sorted_train = sets['train'].sort_values(by='consensus_stability_score').reset_index()"
   ]
  },
  {
   "cell_type": "code",
   "execution_count": 19,
   "id": "75a4272d",
   "metadata": {
    "ExecuteTime": {
     "end_time": "2021-08-24T18:19:41.698878Z",
     "start_time": "2021-08-24T18:19:41.688068Z"
    }
   },
   "outputs": [
    {
     "name": "stdout",
     "output_type": "stream",
     "text": [
      "RKWEE--IA-----ER----LREEFNIN-PEE-AREAVEKAGGNEEEAR--R-P---VK-------K--RL\n",
      "       |      |     |        | | |  |  ||      |   | |   |        |  | \n",
      "-----TTI-KVNGQE-YTVPL-------SP-EQA--A--KA------A-KKRWPDYEV-QIHGNTYKVTR-\n",
      "  Score=15\n",
      "\n"
     ]
    },
    {
     "data": {
      "text/html": [
       "<div>\n",
       "<style scoped>\n",
       "    .dataframe tbody tr th:only-of-type {\n",
       "        vertical-align: middle;\n",
       "    }\n",
       "\n",
       "    .dataframe tbody tr th {\n",
       "        vertical-align: top;\n",
       "    }\n",
       "\n",
       "    .dataframe thead th {\n",
       "        text-align: right;\n",
       "    }\n",
       "</style>\n",
       "<table border=\"1\" class=\"dataframe\">\n",
       "  <thead>\n",
       "    <tr style=\"text-align: right;\">\n",
       "      <th></th>\n",
       "      <th>index</th>\n",
       "      <th>sequence</th>\n",
       "      <th>consensus_stability_score</th>\n",
       "    </tr>\n",
       "  </thead>\n",
       "  <tbody>\n",
       "    <tr>\n",
       "      <th>0</th>\n",
       "      <td>5537</td>\n",
       "      <td>RKWEEIAERLREEFNINPEEAREAVEKAGGNEEEARRPVKKRL</td>\n",
       "      <td>-0.26</td>\n",
       "    </tr>\n",
       "    <tr>\n",
       "      <th>1</th>\n",
       "      <td>122</td>\n",
       "      <td>TTIKVNGQEYTVPLSPEQAAKAAKKRWPDYEVQIHGNTYKVTR</td>\n",
       "      <td>-0.13</td>\n",
       "    </tr>\n",
       "    <tr>\n",
       "      <th>2</th>\n",
       "      <td>7529</td>\n",
       "      <td>TELKKKREEALKKGEEVRVKFNGIEIRITSEDAARKAVELLEK</td>\n",
       "      <td>-0.12</td>\n",
       "    </tr>\n",
       "    <tr>\n",
       "      <th>3</th>\n",
       "      <td>2520</td>\n",
       "      <td>GMADEEKLPPGWESRMSRSSGRVYYFNHITNASQWERPSGGSS</td>\n",
       "      <td>-0.11</td>\n",
       "    </tr>\n",
       "    <tr>\n",
       "      <th>4</th>\n",
       "      <td>2471</td>\n",
       "      <td>GSSGSLSDEDFKAVFGMTRSAFANLPLWKQQNPKKEKGLFGSS</td>\n",
       "      <td>-0.10</td>\n",
       "    </tr>\n",
       "  </tbody>\n",
       "</table>\n",
       "</div>"
      ],
      "text/plain": [
       "   index                                     sequence  \\\n",
       "0   5537  RKWEEIAERLREEFNINPEEAREAVEKAGGNEEEARRPVKKRL   \n",
       "1    122  TTIKVNGQEYTVPLSPEQAAKAAKKRWPDYEVQIHGNTYKVTR   \n",
       "2   7529  TELKKKREEALKKGEEVRVKFNGIEIRITSEDAARKAVELLEK   \n",
       "3   2520  GMADEEKLPPGWESRMSRSSGRVYYFNHITNASQWERPSGGSS   \n",
       "4   2471  GSSGSLSDEDFKAVFGMTRSAFANLPLWKQQNPKKEKGLFGSS   \n",
       "\n",
       "   consensus_stability_score  \n",
       "0                      -0.26  \n",
       "1                      -0.13  \n",
       "2                      -0.12  \n",
       "3                      -0.11  \n",
       "4                      -0.10  "
      ]
     },
     "execution_count": 19,
     "metadata": {},
     "output_type": "execute_result"
    }
   ],
   "source": [
    "alignment = pairwise2.align.globalxx(sorted_train['sequence'][0], sorted_train['sequence'][1])\n",
    "print(pairwise2.format_alignment(*alignment[0]))\n",
    "\n",
    "sorted_train.head(5)"
   ]
  },
  {
   "cell_type": "code",
   "execution_count": 20,
   "id": "df11b5de",
   "metadata": {
    "ExecuteTime": {
     "end_time": "2021-08-24T18:19:41.705367Z",
     "start_time": "2021-08-24T18:19:41.699701Z"
    }
   },
   "outputs": [
    {
     "name": "stdout",
     "output_type": "stream",
     "text": [
      "GSSET-RYRFTDEEE-ARRAAKEWARRGYQVHVTQNGTYWEVEVR\n",
      "||| | |||||| || |||||||||||||||||||||||||||||\n",
      "GSS-TTRYRFTD-EEKARRAAKEWARRGYQVHVTQNGTYWEVEVR\n",
      "  Score=41\n",
      "\n"
     ]
    },
    {
     "data": {
      "text/html": [
       "<div>\n",
       "<style scoped>\n",
       "    .dataframe tbody tr th:only-of-type {\n",
       "        vertical-align: middle;\n",
       "    }\n",
       "\n",
       "    .dataframe tbody tr th {\n",
       "        vertical-align: top;\n",
       "    }\n",
       "\n",
       "    .dataframe thead th {\n",
       "        text-align: right;\n",
       "    }\n",
       "</style>\n",
       "<table border=\"1\" class=\"dataframe\">\n",
       "  <thead>\n",
       "    <tr style=\"text-align: right;\">\n",
       "      <th></th>\n",
       "      <th>index</th>\n",
       "      <th>sequence</th>\n",
       "      <th>consensus_stability_score</th>\n",
       "    </tr>\n",
       "  </thead>\n",
       "  <tbody>\n",
       "    <tr>\n",
       "      <th>7705</th>\n",
       "      <td>5218</td>\n",
       "      <td>ERRKIEEIAKKLYQSGNPEAARWFLRKAGISEEEIERILQKAG</td>\n",
       "      <td>2.13</td>\n",
       "    </tr>\n",
       "    <tr>\n",
       "      <th>7706</th>\n",
       "      <td>7132</td>\n",
       "      <td>ERRKIEEIAKKLYQSGNPEAARKFLRKAGISEEEIERILQKAG</td>\n",
       "      <td>2.20</td>\n",
       "    </tr>\n",
       "    <tr>\n",
       "      <th>7707</th>\n",
       "      <td>1541</td>\n",
       "      <td>GSSKTQYEYDTKEEAQKAYEKFKRQGIPVTITQKNGKWFVQVE</td>\n",
       "      <td>2.28</td>\n",
       "    </tr>\n",
       "    <tr>\n",
       "      <th>7708</th>\n",
       "      <td>575</td>\n",
       "      <td>GSSTTRYRFTDEEKARRAAKEWARRGYQVHVTQNGTYWEVEVR</td>\n",
       "      <td>2.47</td>\n",
       "    </tr>\n",
       "    <tr>\n",
       "      <th>7709</th>\n",
       "      <td>3655</td>\n",
       "      <td>GSSETRYRFTDEEEARRAAKEWARRGYQVHVTQNGTYWEVEVR</td>\n",
       "      <td>2.49</td>\n",
       "    </tr>\n",
       "  </tbody>\n",
       "</table>\n",
       "</div>"
      ],
      "text/plain": [
       "      index                                     sequence  \\\n",
       "7705   5218  ERRKIEEIAKKLYQSGNPEAARWFLRKAGISEEEIERILQKAG   \n",
       "7706   7132  ERRKIEEIAKKLYQSGNPEAARKFLRKAGISEEEIERILQKAG   \n",
       "7707   1541  GSSKTQYEYDTKEEAQKAYEKFKRQGIPVTITQKNGKWFVQVE   \n",
       "7708    575  GSSTTRYRFTDEEKARRAAKEWARRGYQVHVTQNGTYWEVEVR   \n",
       "7709   3655  GSSETRYRFTDEEEARRAAKEWARRGYQVHVTQNGTYWEVEVR   \n",
       "\n",
       "      consensus_stability_score  \n",
       "7705                       2.13  \n",
       "7706                       2.20  \n",
       "7707                       2.28  \n",
       "7708                       2.47  \n",
       "7709                       2.49  "
      ]
     },
     "execution_count": 20,
     "metadata": {},
     "output_type": "execute_result"
    }
   ],
   "source": [
    "alignment = pairwise2.align.globalxx(\n",
    "    sorted_train['sequence'][len(sorted_train)-1], \n",
    "    sorted_train['sequence'][len(sorted_train)-2]\n",
    ")\n",
    "\n",
    "print(pairwise2.format_alignment(*alignment[0]))\n",
    "\n",
    "sorted_train.tail(5)"
   ]
  },
  {
   "cell_type": "markdown",
   "id": "92c2c911",
   "metadata": {},
   "source": [
    "## Subsampling techniques"
   ]
  },
  {
   "cell_type": "markdown",
   "id": "884a1530",
   "metadata": {},
   "source": [
    "* Diversity Maximizing: This is a greedy strategy which starts from the reference and adds the sequence with highest average hamming distance to current set of sequences.\n",
    "\n",
    "* Diversity Minimizing: This strategy is equivalent to the Diversity Maximizing strategy, but adds the se- quence with lowest average hamming distance. It is used to explore the effects of diversity on model per- formance.\n",
    "\n",
    "* HHFilter: This strategy applies hhfilter (Steinegger etal.,2019)withthe-diff Mparameter,whichre- turns M or more sequences that maximize diversity (the result is usually close to M). If more than M sequences are returned we apply the Diversity Maxi- mizing strategy on top of the output."
   ]
  },
  {
   "cell_type": "code",
   "execution_count": 299,
   "id": "da84f8a5",
   "metadata": {
    "ExecuteTime": {
     "end_time": "2021-08-24T21:55:22.665731Z",
     "start_time": "2021-08-24T21:55:22.658666Z"
    }
   },
   "outputs": [],
   "source": [
    "import jax.numpy as jnp\n",
    "import numpy as np\n",
    "\n",
    "def onehot_pair(u, v):\n",
    "    vocab = set(u).union(set(v))\n",
    "    mapping = {k: v for v, k in enumerate(vocab)}\n",
    "    \n",
    "    for idx, val in enumerate(u):\n",
    "        u[idx] = mapping[val]\n",
    "    \n",
    "    for idx, val in enumerate(v):\n",
    "        v[idx] = mapping[val]\n",
    "        \n",
    "    return u, v\n",
    "\n",
    "def onehot_arrays(arrays):\n",
    "    vocab = set()\n",
    "    for array in arrays[1:]:\n",
    "        vocab = vocab.union(set([char for char in array]))\n",
    "    \n",
    "    mapping = {k: v for v, k in enumerate(vocab)}\n",
    "    \n",
    "    array_final = np.empty_like(arrays)\n",
    "    for idx, string in enumerate(arrays):\n",
    "        array = np.array([char for char in string])\n",
    "        for arr_idx, val in enumerate(array):\n",
    "            array[arr_idx] = mapping[val]\n",
    "        array_final[idx] = array\n",
    "        \n",
    "    return array_final\n",
    "\n",
    "def _validate_vector(u, dtype=None):\n",
    "    u = jnp.asarray(u, dtype=dtype)\n",
    "    if u.ndim == 1:\n",
    "        return u\n",
    "\n",
    "    # Ensure values such as u=1 and u=[1] still return 1-D arrays.\n",
    "    u = jnp.atleast_1d(u.squeeze())\n",
    "    if u.ndim > 1:\n",
    "        raise ValueError(\"Input vector should be 1-D.\")\n",
    "    warnings.warn(\n",
    "        \"scipy.spatial.distance metrics ignoring length-1 dimensions is \"\n",
    "        \"deprecated in SciPy 1.7 and will raise an error in SciPy 1.9.\",\n",
    "        DeprecationWarning)\n",
    "    return u\n",
    "\n",
    "def hamming(u, v):\n",
    "    if np.array(u).dtype == \"<U1\" and np.array(v).dtype == \"<U1\":\n",
    "        u, v = onehot_pair(u, v)\n",
    "    u = _validate_vector(u)\n",
    "    v = _validate_vector(v)\n",
    "    \n",
    "    u_ne_v = u != v\n",
    "    return np.average(u_ne_v)"
   ]
  },
  {
   "cell_type": "code",
   "execution_count": 300,
   "id": "b27f20fb",
   "metadata": {
    "ExecuteTime": {
     "end_time": "2021-08-24T21:55:22.834445Z",
     "start_time": "2021-08-24T21:55:22.826264Z"
    },
    "code_folding": [
     23,
     61,
     87
    ]
   },
   "outputs": [],
   "source": [
    "import random\n",
    "\n",
    "from numba import jit\n",
    "\n",
    "from tqdm import tqdm\n",
    "import jax\n",
    "\n",
    "def compute_diversity(seq1, seq2, method=\"hamming\"):\n",
    "    if method == \"alignment\":\n",
    "        method = pairwise2.align.globalxx\n",
    "        diversity = method(seq1, seq2)\n",
    "        diversity = diversity[0].score / max(len(seq1), len(seq2))\n",
    "\n",
    "    elif method == \"hamming\":\n",
    "        if len(seq1) != len(seq2):\n",
    "            return np.nan\n",
    "\n",
    "        method = hamming\n",
    "        diversity = method(list(seq1), list(seq2))\n",
    "\n",
    "    return diversity\n",
    "\n",
    "def dataset_diversity(sequences, method=\"hamming\", reduce=\"mean\", verbose=True):\n",
    "    if reduce != \"mean\":\n",
    "        raise NotImplementedError\n",
    "    else:\n",
    "        # nan results are due to different lengths\n",
    "        reducer = np.nanmean\n",
    "\n",
    "    reduced_divs = []\n",
    "    if verbose:\n",
    "        pbar = tqdm(total=len(sequences), miniters=1, smoothing=1)\n",
    "\n",
    "    all_other_sequences = [\n",
    "        np.concatenate((sequences[:idx], sequences[idx + 1 :]))\n",
    "        for idx in range(len(sequences))\n",
    "    ]\n",
    "    \n",
    "    for seq_idx, seq in enumerate(sequences):\n",
    "        other_sequences = onehot_arrays(all_other_sequences[seq_idx])\n",
    "        print(other_sequences)\n",
    "        if seq in other_sequences:\n",
    "            raise IndexError(\n",
    "                f\"{seq_idx} is in other_sequences, e.g. it is not correctly indexed\"\n",
    "            )\n",
    "\n",
    "        v_diversity = jax.vmap(lambda x: compute_diversity(seq, x))\n",
    "        if len(other_sequences) > 1:\n",
    "            \n",
    "            div_vs_all = v_diversity()\n",
    "        else:\n",
    "            print(f\"Skipping sequence {seq_idx}\")\n",
    "            continue\n",
    "\n",
    "        reduced_div_vs_all = reducer(div_vs_all) if len(div_vs_all) >= 1 else np.nan\n",
    "        reduced_divs.append(reduced_div_vs_all)\n",
    "\n",
    "        if verbose:\n",
    "            pbar.update(1)\n",
    "            pbar.refresh()\n",
    "\n",
    "    if verbose:\n",
    "        pbar.close()\n",
    "\n",
    "    return reduced_divs"
   ]
  },
  {
   "cell_type": "code",
   "execution_count": 301,
   "id": "d014fb36",
   "metadata": {
    "ExecuteTime": {
     "end_time": "2021-08-24T21:55:22.997937Z",
     "start_time": "2021-08-24T21:55:22.994198Z"
    }
   },
   "outputs": [
    {
     "data": {
      "text/plain": [
       "0.9534883720930233"
      ]
     },
     "execution_count": 301,
     "metadata": {},
     "output_type": "execute_result"
    }
   ],
   "source": [
    "compute_diversity(\n",
    "    sets[\"train\"][\"sequence\"].values[0],\n",
    "    sets[\"train\"][\"sequence\"].values[11],\n",
    "    \"alignment\",\n",
    ")"
   ]
  },
  {
   "cell_type": "code",
   "execution_count": 302,
   "id": "11dc7d0a",
   "metadata": {
    "ExecuteTime": {
     "end_time": "2021-08-24T21:55:23.704521Z",
     "start_time": "2021-08-24T21:55:23.691206Z"
    }
   },
   "outputs": [
    {
     "data": {
      "text/plain": [
       "0.046511627906976744"
      ]
     },
     "execution_count": 302,
     "metadata": {},
     "output_type": "execute_result"
    }
   ],
   "source": [
    "compute_diversity(sets[\"train\"][\"sequence\"].values[0], sets[\"train\"][\"sequence\"].values[11])"
   ]
  },
  {
   "cell_type": "code",
   "execution_count": 303,
   "id": "4c3a65b8",
   "metadata": {
    "ExecuteTime": {
     "end_time": "2021-08-24T21:55:24.521327Z",
     "start_time": "2021-08-24T21:55:24.235656Z"
    },
    "scrolled": false
   },
   "outputs": [
    {
     "name": "stderr",
     "output_type": "stream",
     "text": [
      "\n",
      "\n",
      "  0%|          | 0/7710 [00:00<?, ?it/s]\u001b[A\u001b[A"
     ]
    },
    {
     "name": "stdout",
     "output_type": "stream",
     "text": [
      "[array(['5', '9', '1', '8', '1', '1', '8', '9', '1', '8', '1', '1', '7',\n",
      "       '7', '8', '1', '5', '1', '0', '1', '1', '2', '1', '1', '1', '1',\n",
      "       '8', '1', '6', '1', '8', '1', '8', '1', '6', '1', '1', '8', '1',\n",
      "       '8', '7', '2', '7'], dtype='<U1')\n",
      " array(['5', '8', '9', '7', '7', '7', '9', '8', '8', '1', '9', '7', '7',\n",
      "       '1', '8', '8', '1', '1', '1', '7', '1', '2', '1', '4', '8', '4',\n",
      "       '1', '2', '5', '3', '8', '1', '1', '1', '1', '7', '1', '1', '8',\n",
      "       '9', '9', '8', '7'], dtype='<U1')\n",
      " array(['1', '3', '3', '1', '8', '5', '4', '8', '1', '8', '1', '8', '8',\n",
      "       '8', '1', '1', '1', '1', '1', '7', '8', '9', '1', '7', '5', '1',\n",
      "       '1', '8', '1', '7', '4', '8', '1', '1', '1', '2', '7', '6', '1',\n",
      "       '1', '1', '1', '5'], dtype='<U1')\n",
      " ...\n",
      " array(['5', '1', '1', '8', '4', '4', '7', '1', '9', '8', '1', '1', '1',\n",
      "       '7', '1', '2', '7', '1', '4', '1', '1', '1', '2', '1', '5', '1',\n",
      "       '5', '3', '1', '1', '8', '1', '8', '7', '9', '1', '7', '7', '9',\n",
      "       '7', '7', '8', '1'], dtype='<U1')\n",
      " array(['5', '5', '4', '7', '1', '2', '1', '1', '8', '1', '5', '1', '1',\n",
      "       '9', '3', '1', '8', '1', '1', '1', '7', '1', '1', '7', '7', '1',\n",
      "       '6', '1', '1', '1', '8', '1', '1', '4', '1', '1', '2', '5', '1',\n",
      "       '6', '1', '5', '1'], dtype='<U1')\n",
      " array(['1', '3', '3', '5', '5', '6', '1', '1', '1', '5', '1', '8', '8',\n",
      "       '8', '1', '1', '1', '1', '1', '7', '8', '6', '1', '1', '1', '1',\n",
      "       '1', '1', '1', '1', '1', '5', '1', '2', '1', '5', '1', '6', '8',\n",
      "       '1', '8', '1', '1'], dtype='<U1')]\n"
     ]
    },
    {
     "name": "stderr",
     "output_type": "stream",
     "text": [
      "/home/roberto/anaconda3/envs/protera-stability/lib/python3.7/site-packages/ipykernel_launcher.py:42: FutureWarning: elementwise comparison failed; returning scalar instead, but in the future will perform elementwise comparison\n"
     ]
    },
    {
     "ename": "ValueError",
     "evalue": "vmap must have at least one non-None value in in_axes",
     "output_type": "error",
     "traceback": [
      "\u001b[0;31m---------------------------------------------------------------------------\u001b[0m",
      "\u001b[0;31mValueError\u001b[0m                                Traceback (most recent call last)",
      "\u001b[0;32m~/anaconda3/envs/protera-stability/lib/python3.7/site-packages/jax/_src/api.py\u001b[0m in \u001b[0;36m_mapped_axis_size\u001b[0;34m(tree, vals, dims, name, kws)\u001b[0m\n\u001b[1;32m   1305\u001b[0m   \u001b[0;32mtry\u001b[0m\u001b[0;34m:\u001b[0m\u001b[0;34m\u001b[0m\u001b[0;34m\u001b[0m\u001b[0m\n\u001b[0;32m-> 1306\u001b[0;31m     \u001b[0msize\u001b[0m\u001b[0;34m,\u001b[0m \u001b[0;34m=\u001b[0m \u001b[0mmapped_axis_sizes\u001b[0m\u001b[0;34m\u001b[0m\u001b[0;34m\u001b[0m\u001b[0m\n\u001b[0m\u001b[1;32m   1307\u001b[0m     \u001b[0;32mreturn\u001b[0m \u001b[0msize\u001b[0m\u001b[0;34m\u001b[0m\u001b[0;34m\u001b[0m\u001b[0m\n",
      "\u001b[0;31mValueError\u001b[0m: not enough values to unpack (expected 1, got 0)",
      "\nThe above exception was the direct cause of the following exception:\n",
      "\u001b[0;31mValueError\u001b[0m                                Traceback (most recent call last)",
      "\u001b[0;32m<ipython-input-303-da40faaf5102>\u001b[0m in \u001b[0;36m<module>\u001b[0;34m\u001b[0m\n\u001b[0;32m----> 1\u001b[0;31m \u001b[0mdiversities_train\u001b[0m \u001b[0;34m=\u001b[0m \u001b[0mdataset_diversity\u001b[0m\u001b[0;34m(\u001b[0m\u001b[0msets\u001b[0m\u001b[0;34m[\u001b[0m\u001b[0;34m\"train\"\u001b[0m\u001b[0;34m]\u001b[0m\u001b[0;34m[\u001b[0m\u001b[0;34m\"sequence\"\u001b[0m\u001b[0;34m]\u001b[0m\u001b[0;34m.\u001b[0m\u001b[0mvalues\u001b[0m\u001b[0;34m)\u001b[0m\u001b[0;34m\u001b[0m\u001b[0;34m\u001b[0m\u001b[0m\n\u001b[0m",
      "\u001b[0;32m<ipython-input-300-e8ec4ac85bf6>\u001b[0m in \u001b[0;36mdataset_diversity\u001b[0;34m(sequences, method, reduce, verbose)\u001b[0m\n\u001b[1;32m     48\u001b[0m         \u001b[0;32mif\u001b[0m \u001b[0mlen\u001b[0m\u001b[0;34m(\u001b[0m\u001b[0mother_sequences\u001b[0m\u001b[0;34m)\u001b[0m \u001b[0;34m>\u001b[0m \u001b[0;36m1\u001b[0m\u001b[0;34m:\u001b[0m\u001b[0;34m\u001b[0m\u001b[0;34m\u001b[0m\u001b[0m\n\u001b[1;32m     49\u001b[0m \u001b[0;34m\u001b[0m\u001b[0m\n\u001b[0;32m---> 50\u001b[0;31m             \u001b[0mdiv_vs_all\u001b[0m \u001b[0;34m=\u001b[0m \u001b[0mv_diversity\u001b[0m\u001b[0;34m(\u001b[0m\u001b[0;34m)\u001b[0m\u001b[0;34m\u001b[0m\u001b[0;34m\u001b[0m\u001b[0m\n\u001b[0m\u001b[1;32m     51\u001b[0m         \u001b[0;32melse\u001b[0m\u001b[0;34m:\u001b[0m\u001b[0;34m\u001b[0m\u001b[0;34m\u001b[0m\u001b[0m\n\u001b[1;32m     52\u001b[0m             \u001b[0mprint\u001b[0m\u001b[0;34m(\u001b[0m\u001b[0;34mf\"Skipping sequence {seq_idx}\"\u001b[0m\u001b[0;34m)\u001b[0m\u001b[0;34m\u001b[0m\u001b[0;34m\u001b[0m\u001b[0m\n",
      "    \u001b[0;31m[... skipping hidden 2 frame]\u001b[0m\n",
      "\u001b[0;32m~/anaconda3/envs/protera-stability/lib/python3.7/site-packages/jax/_src/api.py\u001b[0m in \u001b[0;36m_mapped_axis_size\u001b[0;34m(tree, vals, dims, name, kws)\u001b[0m\n\u001b[1;32m   1308\u001b[0m   \u001b[0;32mexcept\u001b[0m \u001b[0mValueError\u001b[0m \u001b[0;32mas\u001b[0m \u001b[0me\u001b[0m\u001b[0;34m:\u001b[0m\u001b[0;34m\u001b[0m\u001b[0;34m\u001b[0m\u001b[0m\n\u001b[1;32m   1309\u001b[0m     \u001b[0;32mif\u001b[0m \u001b[0;32mnot\u001b[0m \u001b[0mmapped_axis_sizes\u001b[0m\u001b[0;34m:\u001b[0m\u001b[0;34m\u001b[0m\u001b[0;34m\u001b[0m\u001b[0m\n\u001b[0;32m-> 1310\u001b[0;31m       \u001b[0;32mraise\u001b[0m \u001b[0mValueError\u001b[0m\u001b[0;34m(\u001b[0m\u001b[0;34mf\"{name} must have at least one non-None value in in_axes\"\u001b[0m\u001b[0;34m)\u001b[0m \u001b[0;32mfrom\u001b[0m \u001b[0me\u001b[0m\u001b[0;34m\u001b[0m\u001b[0;34m\u001b[0m\u001b[0m\n\u001b[0m\u001b[1;32m   1311\u001b[0m     \u001b[0mmsg\u001b[0m \u001b[0;34m=\u001b[0m \u001b[0;34mf\"{name} got inconsistent sizes for array axes to be mapped:\\n\"\u001b[0m \u001b[0;34m+\u001b[0m \u001b[0;34m\"{}\"\u001b[0m\u001b[0;34m\u001b[0m\u001b[0;34m\u001b[0m\u001b[0m\n\u001b[1;32m   1312\u001b[0m     \u001b[0;31m# we switch the error message based on whether args is a tuple of arrays,\u001b[0m\u001b[0;34m\u001b[0m\u001b[0;34m\u001b[0m\u001b[0;34m\u001b[0m\u001b[0m\n",
      "\u001b[0;31mValueError\u001b[0m: vmap must have at least one non-None value in in_axes"
     ]
    }
   ],
   "source": [
    "diversities_train = dataset_diversity(sets[\"train\"][\"sequence\"].values)"
   ]
  },
  {
   "cell_type": "code",
   "execution_count": 83,
   "id": "e9d54f1d",
   "metadata": {
    "ExecuteTime": {
     "end_time": "2021-08-23T17:19:34.394711Z",
     "start_time": "2021-08-23T17:19:34.392025Z"
    }
   },
   "outputs": [
    {
     "data": {
      "text/plain": [
       "[0.8394134005304014,\n",
       " 0.8469666259574454,\n",
       " 0.8795092981365058,\n",
       " 0.83650682658194,\n",
       " 0.8295142928034904,\n",
       " 0.8158611289236332,\n",
       " 0.836996626183011,\n",
       " 0.043124059151686885,\n",
       " 0.8282833490692195,\n",
       " 0.87912583660672]"
      ]
     },
     "execution_count": 83,
     "metadata": {},
     "output_type": "execute_result"
    }
   ],
   "source": [
    "diversities_train[:10]"
   ]
  },
  {
   "cell_type": "code",
   "execution_count": 84,
   "id": "ad92c790",
   "metadata": {
    "ExecuteTime": {
     "end_time": "2021-08-23T17:19:39.244504Z",
     "start_time": "2021-08-23T17:19:39.232208Z"
    }
   },
   "outputs": [
    {
     "data": {
      "text/html": [
       "<div>\n",
       "<style scoped>\n",
       "    .dataframe tbody tr th:only-of-type {\n",
       "        vertical-align: middle;\n",
       "    }\n",
       "\n",
       "    .dataframe tbody tr th {\n",
       "        vertical-align: top;\n",
       "    }\n",
       "\n",
       "    .dataframe thead th {\n",
       "        text-align: right;\n",
       "    }\n",
       "</style>\n",
       "<table border=\"1\" class=\"dataframe\">\n",
       "  <thead>\n",
       "    <tr style=\"text-align: right;\">\n",
       "      <th></th>\n",
       "      <th>sequence</th>\n",
       "      <th>consensus_stability_score</th>\n",
       "      <th>diversity</th>\n",
       "    </tr>\n",
       "  </thead>\n",
       "  <tbody>\n",
       "    <tr>\n",
       "      <th>0</th>\n",
       "      <td>GSSQETIEVEDEEEARRVAKELRKKGYEVKDERRGNKWHVHRT</td>\n",
       "      <td>0.37</td>\n",
       "      <td>0.839413</td>\n",
       "    </tr>\n",
       "    <tr>\n",
       "      <th>1</th>\n",
       "      <td>TLDEARELVERAKKEGTGMDVNGQRFEDWREAERWVREQEKNK</td>\n",
       "      <td>0.62</td>\n",
       "      <td>0.846967</td>\n",
       "    </tr>\n",
       "    <tr>\n",
       "      <th>2</th>\n",
       "      <td>TELKKKLEEALKKGEEVRVKFNGIEIRNTSEDAARKAVELLEK</td>\n",
       "      <td>-0.03</td>\n",
       "      <td>0.879509</td>\n",
       "    </tr>\n",
       "    <tr>\n",
       "      <th>3</th>\n",
       "      <td>GSSQETIEVEDEEEARRVAKELRKTGYEVKIERRGNKWHVHRT</td>\n",
       "      <td>1.41</td>\n",
       "      <td>0.836507</td>\n",
       "    </tr>\n",
       "    <tr>\n",
       "      <th>4</th>\n",
       "      <td>TTIHVGDLTLKYDNPKKAYEIAKKLAKKYNLQVTIKNGKITVT</td>\n",
       "      <td>1.11</td>\n",
       "      <td>0.829514</td>\n",
       "    </tr>\n",
       "    <tr>\n",
       "      <th>5</th>\n",
       "      <td>SKDEAQREAERAIRSGNKEEARRILEEVGYSPEQAERIIRKLG</td>\n",
       "      <td>1.24</td>\n",
       "      <td>0.815861</td>\n",
       "    </tr>\n",
       "    <tr>\n",
       "      <th>6</th>\n",
       "      <td>TIDEIIKALEQAVKDGKPIQVGNYTVTSADEAEKLAKKLKKEY</td>\n",
       "      <td>1.05</td>\n",
       "      <td>0.836997</td>\n",
       "    </tr>\n",
       "    <tr>\n",
       "      <th>7</th>\n",
       "      <td>FEIPDDVPLPAGWEMARTSSGQRYFKNHIDQTTTWQDPRKAMLSQM</td>\n",
       "      <td>0.89</td>\n",
       "      <td>0.043124</td>\n",
       "    </tr>\n",
       "    <tr>\n",
       "      <th>8</th>\n",
       "      <td>TTIHVGDLTLKYDNPKKAYEIAKKLDKKYNLTVTIKNGKITVT</td>\n",
       "      <td>0.88</td>\n",
       "      <td>0.828283</td>\n",
       "    </tr>\n",
       "    <tr>\n",
       "      <th>9</th>\n",
       "      <td>GSSGSLSDEDFKAVFGMTRSAFAMLPLWKQQNLKKEKGLFGSS</td>\n",
       "      <td>1.15</td>\n",
       "      <td>0.879126</td>\n",
       "    </tr>\n",
       "  </tbody>\n",
       "</table>\n",
       "</div>"
      ],
      "text/plain": [
       "                                         sequence  consensus_stability_score  \\\n",
       "0     GSSQETIEVEDEEEARRVAKELRKKGYEVKDERRGNKWHVHRT                       0.37   \n",
       "1     TLDEARELVERAKKEGTGMDVNGQRFEDWREAERWVREQEKNK                       0.62   \n",
       "2     TELKKKLEEALKKGEEVRVKFNGIEIRNTSEDAARKAVELLEK                      -0.03   \n",
       "3     GSSQETIEVEDEEEARRVAKELRKTGYEVKIERRGNKWHVHRT                       1.41   \n",
       "4     TTIHVGDLTLKYDNPKKAYEIAKKLAKKYNLQVTIKNGKITVT                       1.11   \n",
       "5     SKDEAQREAERAIRSGNKEEARRILEEVGYSPEQAERIIRKLG                       1.24   \n",
       "6     TIDEIIKALEQAVKDGKPIQVGNYTVTSADEAEKLAKKLKKEY                       1.05   \n",
       "7  FEIPDDVPLPAGWEMARTSSGQRYFKNHIDQTTTWQDPRKAMLSQM                       0.89   \n",
       "8     TTIHVGDLTLKYDNPKKAYEIAKKLDKKYNLTVTIKNGKITVT                       0.88   \n",
       "9     GSSGSLSDEDFKAVFGMTRSAFAMLPLWKQQNLKKEKGLFGSS                       1.15   \n",
       "\n",
       "   diversity  \n",
       "0   0.839413  \n",
       "1   0.846967  \n",
       "2   0.879509  \n",
       "3   0.836507  \n",
       "4   0.829514  \n",
       "5   0.815861  \n",
       "6   0.836997  \n",
       "7   0.043124  \n",
       "8   0.828283  \n",
       "9   0.879126  "
      ]
     },
     "execution_count": 84,
     "metadata": {},
     "output_type": "execute_result"
    }
   ],
   "source": [
    "pd.read_csv(\"data/stability_diversity_train.csv\", index_col=0)[:10]"
   ]
  },
  {
   "cell_type": "code",
   "execution_count": 48,
   "id": "eaca7c59",
   "metadata": {
    "ExecuteTime": {
     "end_time": "2021-08-02T21:30:51.057222Z",
     "start_time": "2021-08-02T21:30:51.055760Z"
    },
    "collapsed": true
   },
   "outputs": [],
   "source": [
    "# ds_div_train = dataset_diversity(sets[\"train\"][\"sequence\"])\n",
    "# sets[\"train\"][\"diversity\"] = np.nanmean(np.array(ds_div_train), 1)\n",
    "# np.nanmean(np.array(ds_div_train))\n",
    "# 0.8xxx"
   ]
  },
  {
   "cell_type": "code",
   "execution_count": 49,
   "id": "69af6abe",
   "metadata": {
    "ExecuteTime": {
     "end_time": "2021-08-02T21:30:51.466948Z",
     "start_time": "2021-08-02T21:30:51.465766Z"
    },
    "collapsed": true
   },
   "outputs": [],
   "source": [
    "# ds_div_test = dataset_diversity(sets[\"test\"][\"sequence\"])\n",
    "# sets[\"test\"][\"diversity\"] = np.nanmean(np.array(ds_div_test), 1)\n",
    "# np.nanmean(np.array(ds_div_test))"
   ]
  },
  {
   "cell_type": "code",
   "execution_count": 50,
   "id": "af359447",
   "metadata": {
    "ExecuteTime": {
     "end_time": "2021-08-02T21:30:51.878164Z",
     "start_time": "2021-08-02T21:30:51.876794Z"
    },
    "collapsed": true
   },
   "outputs": [],
   "source": [
    "# sets[\"train\"].to_csv(f\"{data_path}/stability_diversity_train.csv\")\n",
    "# sets[\"test\"].to_csv(f\"{data_path}/stability_diversity_test.csv\")"
   ]
  },
  {
   "cell_type": "code",
   "execution_count": 51,
   "id": "f5a36a50",
   "metadata": {
    "ExecuteTime": {
     "end_time": "2021-08-02T21:30:52.500119Z",
     "start_time": "2021-08-02T21:30:52.489687Z"
    },
    "collapsed": true
   },
   "outputs": [],
   "source": [
    "sets = {\n",
    "    'train' : pd.read_csv(f\"{data_path}/stability_diversity_train.csv\"),\n",
    "    'test'  : pd.read_csv(f\"{data_path}/stability_diversity_test.csv\") \n",
    "}\n",
    "\n",
    "sorted_div = {\n",
    "    \"train\" : sets[\"train\"].sort_values(by=\"diversity\", axis=0, ascending=False),\n",
    "    \"test\"  : sets[\"test\"].sort_values(by=\"diversity\", axis=0, ascending=False),\n",
    "}"
   ]
  },
  {
   "cell_type": "code",
   "execution_count": 226,
   "id": "377eb5ba",
   "metadata": {
    "ExecuteTime": {
     "end_time": "2021-08-16T17:49:13.157977Z",
     "start_time": "2021-08-16T17:49:13.154484Z"
    },
    "collapsed": true
   },
   "outputs": [],
   "source": [
    "import torch\n",
    "from torch.utils.data import Dataset\n",
    "\n",
    "class ProteinStabilityDataset(Dataset):\n",
    "    \"\"\"Protein1D Stability dataset.\"\"\"\n",
    "\n",
    "    def __init__(self, proteins_path, ret_dict = True):\n",
    "        \"\"\"\n",
    "        Args:\n",
    "            proteins_path (string): Path to the H5Py file that contains sequences and embeddings.\n",
    "        \"\"\"\n",
    "        self.stability_path = proteins_path\n",
    "        self.ret_dict = ret_dict\n",
    "\n",
    "    def __len__(self):\n",
    "        return len(h5py.File(self.stability_path, \"r\")['sequences'])\n",
    "    \n",
    "    def __getitem__(self, idx):\n",
    "        if torch.is_tensor(idx):\n",
    "            idx = idx.tolist()\n",
    "        \n",
    "        with h5py.File(self.stability_path, \"r\") as dset:\n",
    "            sequences = dset['sequences'][idx]\n",
    "            embeddings = dset['embeddings'][idx]\n",
    "            labels = dset['labels'][idx]\n",
    "            \n",
    "            sample = {\n",
    "                'sequences': sequences, \n",
    "                'embeddings': torch.from_numpy(embeddings), \n",
    "                'labels': torch.Tensor([labels])\n",
    "            }\n",
    "\n",
    "        return sample if self.ret_dict else (sample['embeddings'], sample['labels'])"
   ]
  },
  {
   "cell_type": "code",
   "execution_count": 227,
   "id": "ac5e97bc",
   "metadata": {
    "ExecuteTime": {
     "end_time": "2021-08-16T17:49:13.507131Z",
     "start_time": "2021-08-16T17:49:13.501302Z"
    },
    "collapsed": true
   },
   "outputs": [],
   "source": [
    "from torch.utils.data import Sampler, DataLoader, SubsetRandomSampler\n",
    "from typing import List, Sized, Iterator\n",
    "\n",
    "import numpy as np\n",
    "\n",
    "class SubsetDiversitySampler(Sampler):\n",
    "    \"\"\"Samples elements given their diversity w.r.t. the rest of the dataset\"\"\"\n",
    "    \n",
    "    def __init__(self, dataset: Sized, diversity_path : str, diversity_cutoff : float, strategy : str = \"maximize\", seed : int = 123) -> None:\n",
    "        \"\"\"\n",
    "        Args:\n",
    "          diversity_path (string): Path to the csv with sequences and diversity.\n",
    "        \"\"\"\n",
    "        self.diversity_path = diversity_path\n",
    "        self.diversity_data = pd.read_csv(self.diversity_path, index_col=0)\n",
    "        \n",
    "        if strategy == \"maximize\":\n",
    "            sorting_order = False\n",
    "        elif strategy == \"minimize\":\n",
    "            sorting_order = True\n",
    "        else: \n",
    "            raise ValueError(f\"Strategy {strategy} is not supported\")\n",
    "        \n",
    "        self.diversity_data = self.diversity_data.sort_values(\n",
    "            by='diversity', \n",
    "            ascending=sorting_order\n",
    "        )\n",
    "        \n",
    "        self.cutoff = diversity_cutoff\n",
    "        self.indices = []\n",
    "        self.strategy = strategy\n",
    "        self.seed = seed\n",
    "        \n",
    "        if strategy == 'maximize':\n",
    "            self.cutoff_lambda = lambda x, cutoff : x < cutoff\n",
    "        elif strategy == 'minimize':\n",
    "            self.cutoff_lambda = lambda x, cutoff : x > cutoff\n",
    "            \n",
    "        self.subset_by_cutoff(self.cutoff, self.cutoff_lambda)\n",
    "            \n",
    "    def subset_by_cutoff(self, cutoff, cutoff_func) -> None:\n",
    "        for row in self.diversity_data.itertuples():\n",
    "            is_cutoff = cutoff_func(row.diversity, cutoff)\n",
    "            if is_cutoff:\n",
    "                break\n",
    "            else:\n",
    "                self.indices.append(row.Index)\n",
    "        \n",
    "    def __iter__(self) -> Iterator[int]:\n",
    "        rng = np.random.default_rng(self.seed)\n",
    "        return iter(rng.permutation(self.indices))\n",
    "\n",
    "    def __len__(self) -> int:\n",
    "        return len(self.indices)"
   ]
  },
  {
   "cell_type": "code",
   "execution_count": 238,
   "id": "788266df",
   "metadata": {
    "ExecuteTime": {
     "end_time": "2021-08-16T17:50:56.320721Z",
     "start_time": "2021-08-16T17:50:53.033183Z"
    },
    "collapsed": true
   },
   "outputs": [],
   "source": [
    "dataset = ProteinStabilityDataset(\"data/stability.h5\", ret_dict=True)\n",
    "sampler = SubsetDiversitySampler(dataset, \"data/stability_diversity_full.csv\", 0.85)\n",
    "dl = DataLoader(dataset, batch_size=128, sampler=sampler)\n",
    "\n",
    "# check diversity sampler\n",
    "df = pd.read_csv(\"data/stability_diversity_full.csv\", index_col=0)\n",
    "for batch in dl:\n",
    "    for seq in batch[\"sequences\"]:\n",
    "        row = df[df.sequence == str(seq, 'utf-8')]\n",
    "        if float(row.diversity.values) < 0.85:\n",
    "            raise AssertionError"
   ]
  },
  {
   "cell_type": "code",
   "execution_count": 218,
   "id": "9b46c060",
   "metadata": {
    "ExecuteTime": {
     "end_time": "2021-08-16T17:47:49.121409Z",
     "start_time": "2021-08-16T17:47:49.119786Z"
    },
    "collapsed": true
   },
   "outputs": [],
   "source": [
    "# for s in [1000, 1500, 2000, 3000, 4000, 5000, 6000]:\n",
    "#     for kind in [\"train\"]:\n",
    "#         chosen_by_diversity = select_by_diversity(\n",
    "#             sequences=sorted_div[kind][\"sequence\"].values, \n",
    "#             diversities=sorted_div[kind][\"diversity\"].values,\n",
    "#             min_size=s, \n",
    "#             min_score=0.78\n",
    "#         )\n",
    "    \n",
    "#     subset = sets[\"train\"][sets[\"train\"][\"sequence\"].isin(chosen_by_diversity)]\n",
    "#     subset.to_csv(f\"{data_path}/stability_diversity_train_{s}.csv\", index=False)"
   ]
  },
  {
   "cell_type": "code",
   "execution_count": null,
   "id": "3872fb89",
   "metadata": {
    "collapsed": true
   },
   "outputs": [],
   "source": []
  }
 ],
 "metadata": {
  "kernelspec": {
   "display_name": "Stability",
   "language": "python",
   "name": "stability"
  },
  "language_info": {
   "codemirror_mode": {
    "name": "ipython",
    "version": 3
   },
   "file_extension": ".py",
   "mimetype": "text/x-python",
   "name": "python",
   "nbconvert_exporter": "python",
   "pygments_lexer": "ipython3",
   "version": "3.7.11"
  }
 },
 "nbformat": 4,
 "nbformat_minor": 5
}
