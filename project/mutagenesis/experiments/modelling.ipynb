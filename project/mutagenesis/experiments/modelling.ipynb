{
 "cells": [
  {
   "cell_type": "markdown",
   "source": [
    "## Protein Embeddings Manipulation"
   ],
   "metadata": {}
  },
  {
   "cell_type": "code",
   "execution_count": null,
   "source": [
    "from pathlib import Path\n",
    "\n",
    "data_path = Path(\"../data/Protera\") \n",
    "\n",
    "!ls $data_path"
   ],
   "outputs": [],
   "metadata": {
    "ExecuteTime": {
     "end_time": "2021-09-10T20:10:51.213053Z",
     "start_time": "2021-09-10T20:10:51.102567Z"
    }
   }
  },
  {
   "cell_type": "code",
   "execution_count": null,
   "source": [
    "from pathlib import Path\n",
    "import matplotlib.pyplot as plt\n",
    "\n",
    "from protera_stability.data import ProteinStabilityDataset"
   ],
   "outputs": [],
   "metadata": {
    "ExecuteTime": {
     "end_time": "2021-09-10T20:10:52.444694Z",
     "start_time": "2021-09-10T20:10:51.284681Z"
    },
    "code_folding": []
   }
  },
  {
   "cell_type": "markdown",
   "source": [
    "### Get Dataset"
   ],
   "metadata": {}
  },
  {
   "cell_type": "code",
   "execution_count": null,
   "source": [
    "train_set = ProteinStabilityDataset(proteins_path=data_path / \"stability_train.h5\")\n",
    "len(train_set)"
   ],
   "outputs": [],
   "metadata": {
    "ExecuteTime": {
     "end_time": "2021-09-10T20:10:52.581821Z",
     "start_time": "2021-09-10T20:10:52.445748Z"
    },
    "scrolled": true
   }
  },
  {
   "cell_type": "code",
   "execution_count": null,
   "source": [
    "train_set.X.mean(), train_set.X.var(), train_set.X.shape"
   ],
   "outputs": [],
   "metadata": {
    "ExecuteTime": {
     "end_time": "2021-09-10T20:10:52.606264Z",
     "start_time": "2021-09-10T20:10:52.582838Z"
    }
   }
  },
  {
   "cell_type": "code",
   "execution_count": null,
   "source": [
    "train_set.y.mean(), train_set.y.var(), train_set.y.shape"
   ],
   "outputs": [],
   "metadata": {
    "ExecuteTime": {
     "end_time": "2021-09-10T20:10:53.223680Z",
     "start_time": "2021-09-10T20:10:53.220638Z"
    },
    "scrolled": true
   }
  },
  {
   "cell_type": "code",
   "execution_count": null,
   "source": [
    "plt.hist(train_set.y, bins=50)\n",
    "plt.show()"
   ],
   "outputs": [],
   "metadata": {
    "ExecuteTime": {
     "end_time": "2021-09-10T20:10:53.904641Z",
     "start_time": "2021-09-10T20:10:53.724736Z"
    }
   }
  },
  {
   "cell_type": "markdown",
   "source": [
    "## Dimensionality Reduction"
   ],
   "metadata": {}
  },
  {
   "cell_type": "code",
   "execution_count": null,
   "source": [
    "from protera_stability.utils.decomposition import dim_reduction\n",
    "\n",
    "X = dim_reduction(train_set.X, train_set.y, n_components=32, plot_viz=True, prefix=\"stability\")"
   ],
   "outputs": [],
   "metadata": {
    "ExecuteTime": {
     "end_time": "2021-09-10T20:10:55.633725Z",
     "start_time": "2021-09-10T20:10:55.253060Z"
    }
   }
  },
  {
   "cell_type": "code",
   "execution_count": null,
   "source": [
    "from sklearn.ensemble import RandomForestRegressor, GradientBoostingRegressor\n",
    "from sklearn.neural_network import MLPRegressor\n",
    "from sklearn.svm import SVR\n",
    "from sklearn.model_selection import train_test_split\n",
    "from sklearn.metrics import r2_score\n",
    "\n",
    "from protera_stability.utils.decomposition import dim_reduction\n",
    "X_train, X_valid, y_train, y_valid = train_test_split(X, train_set.y, random_state=123)\n",
    "\n",
    "scoring = \"r2\"\n",
    "score = r2_score\n",
    "models = {\n",
    "    \"RandomForest\": {\n",
    "        \"model\": RandomForestRegressor(),\n",
    "        \"params\": {\n",
    "            \"n_estimators\": [30, 50, 100],\n",
    "            \"max_depth\": [None, 100],\n",
    "            \"criterion\": [\"mse\", \"mae\"]\n",
    "        },\n",
    "    },\n",
    "    \"SVR\": {\n",
    "        \"model\": SVR(),\n",
    "        \"params\": {\n",
    "            \"C\": [0.1, 1.0, 10.0],\n",
    "            \"kernel\": [\"linear\", \"poly\", \"rbf\", \"sigmoid\"],\n",
    "            \"degree\": [3],\n",
    "            \"gamma\": [\"scale\"],\n",
    "        },\n",
    "    },\n",
    "    \"MLP\": {\n",
    "        \"model\": MLPRegressor(),\n",
    "        \"params\": {\n",
    "            \"hidden_layer_sizes\": [(100,), (100, 100), (1024, 1024)],\n",
    "            \"activation\": [\"tanh\", \"relu\"],\n",
    "            \"solver\": [\"sgd\", \"adam\"],\n",
    "        },\n",
    "    },\n",
    "}"
   ],
   "outputs": [],
   "metadata": {
    "ExecuteTime": {
     "start_time": "2021-09-10T20:10:56.051Z"
    }
   }
  },
  {
   "cell_type": "code",
   "execution_count": null,
   "source": [
    "from protera_stability.utils import perform_search\n",
    "\n",
    "for name, model in models.items():\n",
    "    perform_search(\n",
    "        X_train,\n",
    "        y_train,\n",
    "        model[\"model\"],\n",
    "        model[\"params\"],\n",
    "        name,\n",
    "        X_test=X_valid,\n",
    "        y_test=y_valid,\n",
    "        save_dir=\"../models\",\n",
    "        n_jobs=8,\n",
    "    )"
   ],
   "outputs": [],
   "metadata": {}
  },
  {
   "cell_type": "code",
   "execution_count": null,
   "source": [
    "model = SVR(**{'C': 10.0, 'degree': 3, 'gamma': 'scale', 'kernel': 'rbf'})\n",
    "\n",
    "# model.fit(X_train, y_train)\n",
    "# model.score(X_test, test_set.y)"
   ],
   "outputs": [],
   "metadata": {
    "ExecuteTime": {
     "end_time": "2021-08-27T18:34:23.376442Z",
     "start_time": "2021-08-27T18:34:21.684004Z"
    }
   }
  },
  {
   "cell_type": "code",
   "execution_count": null,
   "source": [
    "model = MLPRegressor(**{'activation': 'relu', 'hidden_layer_sizes': (1024, 1024), 'solver': 'adam'})\n",
    "\n",
    "# model.fit(X_train, y_train)\n",
    "# model.score(X_test, test_set.y)"
   ],
   "outputs": [],
   "metadata": {
    "ExecuteTime": {
     "end_time": "2021-08-27T18:35:20.426681Z",
     "start_time": "2021-08-27T18:34:25.833175Z"
    }
   }
  },
  {
   "cell_type": "code",
   "execution_count": null,
   "source": [],
   "outputs": [],
   "metadata": {}
  }
 ],
 "metadata": {
  "interpreter": {
   "hash": "a78d51e19256cfce1d39a2c3cba2e8056cac1355cb83723ad6d6938cbf3c5352"
  },
  "kernelspec": {
   "name": "python3",
   "display_name": "Python 3.8.10 64-bit ('protera-stability': conda)"
  },
  "language_info": {
   "codemirror_mode": {
    "name": "ipython",
    "version": 3
   },
   "file_extension": ".py",
   "mimetype": "text/x-python",
   "name": "python",
   "nbconvert_exporter": "python",
   "pygments_lexer": "ipython3",
   "version": "3.8.10"
  }
 },
 "nbformat": 4,
 "nbformat_minor": 5
}