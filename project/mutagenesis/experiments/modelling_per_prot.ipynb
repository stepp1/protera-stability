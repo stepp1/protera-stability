{
 "cells": [
  {
   "cell_type": "code",
   "execution_count": 10,
   "source": [
    "from pathlib import Path\n",
    "data_path = Path(\"../data\") / \"Protera\"\n",
    "per_protein_csv = [pth for pth in (data_path / \"prism\").iterdir()]\n",
    "\n",
    "print(per_protein_csv[:10])"
   ],
   "outputs": [
    {
     "output_type": "stream",
     "name": "stdout",
     "text": [
      "[PosixPath('../data/Protera/prism/prism_merged_037_UBI4_E1_binding_limiting_E1.csv'), PosixPath('../data/Protera/prism/prism_merged_999_IF-1_DMS.csv'), PosixPath('../data/Protera/prism/prism_merged_021_PAB1_doxycyclin_sensitivity.csv'), PosixPath('../data/Protera/prism/prism_merged_006_CBS_high_B6_activity.csv'), PosixPath('../data/Protera/prism/prism_merged_003_PTEN_abundance.csv'), PosixPath('../data/Protera/prism/prism_merged_999_GmR_DMS.csv'), PosixPath('../data/Protera/prism/prism_merged_027_Src_kinase_activity_catalytic_domain_reversed.csv'), PosixPath('../data/Protera/prism/prism_merged_999_ccdB_DMS.csv'), PosixPath('../data/Protera/prism/prism_merged_026_BRCA1_E3_ubiquitination_activity.csv'), PosixPath('../data/Protera/prism/prism_merged_999_HAh1n1_DMS.csv')]\n"
     ]
    }
   ],
   "metadata": {}
  },
  {
   "cell_type": "markdown",
   "source": [
    "## Choose a Protein"
   ],
   "metadata": {}
  },
  {
   "cell_type": "code",
   "execution_count": 11,
   "source": [
    "import pandas as pd\n",
    "\n",
    "max_ = 0\n",
    "for path in per_protein_csv:\n",
    "    df = pd.read_csv(path)\n",
    "    df = df[df[\"variant\"].str.len() < 1000]\n",
    "    size = len(df)\n",
    "    if size > max_:\n",
    "        max_ = size\n",
    "        path_ = path\n",
    "\n",
    "path_, max_"
   ],
   "outputs": [
    {
     "output_type": "execute_result",
     "data": {
      "text/plain": [
       "(PosixPath('../data/Protera/prism/prism_merged_030_HMGCR_yeast_complementation_control_medium.csv'),\n",
       " 16872)"
      ]
     },
     "metadata": {},
     "execution_count": 11
    }
   ],
   "metadata": {}
  },
  {
   "cell_type": "markdown",
   "source": [
    "## Preprocessing Input"
   ],
   "metadata": {}
  },
  {
   "cell_type": "code",
   "execution_count": 12,
   "source": [
    "from protera_stability.data import ProteinStabilityDataset, EmbeddingGetter\n",
    "from protera_stability.proteins import EmbeddingExtractor1D\n",
    "\n",
    "# from torch.multiprocessing import set_start_method\n",
    "# try:\n",
    "#      set_start_method('spawn')\n",
    "# except RuntimeError:\n",
    "#     pass\n",
    "\n",
    "\n",
    "df = pd.read_csv(path_)\n",
    "df = df.drop_duplicates().dropna()\n",
    "df.head()"
   ],
   "outputs": [
    {
     "output_type": "execute_result",
     "data": {
      "text/html": [
       "<div>\n",
       "<style scoped>\n",
       "    .dataframe tbody tr th:only-of-type {\n",
       "        vertical-align: middle;\n",
       "    }\n",
       "\n",
       "    .dataframe tbody tr th {\n",
       "        vertical-align: top;\n",
       "    }\n",
       "\n",
       "    .dataframe thead th {\n",
       "        text-align: right;\n",
       "    }\n",
       "</style>\n",
       "<table border=\"1\" class=\"dataframe\">\n",
       "  <thead>\n",
       "    <tr style=\"text-align: right;\">\n",
       "      <th></th>\n",
       "      <th>variant</th>\n",
       "      <th>score_00</th>\n",
       "      <th>se_00</th>\n",
       "      <th>gemme_score_01</th>\n",
       "      <th>Rosetta_ddg_score_02</th>\n",
       "      <th>ss_03</th>\n",
       "      <th>rsa_03</th>\n",
       "    </tr>\n",
       "  </thead>\n",
       "  <tbody>\n",
       "    <tr>\n",
       "      <th>8322</th>\n",
       "      <td>PREPRPNEECLQILGNAEKGAKFLSDAEIIQLVNAKHIPAYKLETL...</td>\n",
       "      <td>0.7673</td>\n",
       "      <td>0.0258</td>\n",
       "      <td>0.861834</td>\n",
       "      <td>1.154483</td>\n",
       "      <td>E</td>\n",
       "      <td>0.117647</td>\n",
       "    </tr>\n",
       "    <tr>\n",
       "      <th>8323</th>\n",
       "      <td>PREPRPNEECLQILGNAEKGAKFLSDAEIIQLVNAKHIPAYKLETL...</td>\n",
       "      <td>0.7867</td>\n",
       "      <td>0.0074</td>\n",
       "      <td>0.866576</td>\n",
       "      <td>2.237931</td>\n",
       "      <td>E</td>\n",
       "      <td>0.117647</td>\n",
       "    </tr>\n",
       "    <tr>\n",
       "      <th>8324</th>\n",
       "      <td>PREPRPNEECLQILGNAEKGAKFLSDAEIIQLVNAKHIPAYKLETL...</td>\n",
       "      <td>0.3132</td>\n",
       "      <td>0.1360</td>\n",
       "      <td>0.860471</td>\n",
       "      <td>1.295517</td>\n",
       "      <td>E</td>\n",
       "      <td>0.117647</td>\n",
       "    </tr>\n",
       "    <tr>\n",
       "      <th>8325</th>\n",
       "      <td>PREPRPNEECLQILGNAEKGAKFLSDAEIIQLVNAKHIPAYKLETL...</td>\n",
       "      <td>0.6847</td>\n",
       "      <td>0.0076</td>\n",
       "      <td>0.878845</td>\n",
       "      <td>1.792069</td>\n",
       "      <td>E</td>\n",
       "      <td>0.117647</td>\n",
       "    </tr>\n",
       "    <tr>\n",
       "      <th>8326</th>\n",
       "      <td>PREPRPNEECLQILGNAEKGAKFLSDAEIIQLVNAKHIPAYKLETL...</td>\n",
       "      <td>0.8478</td>\n",
       "      <td>0.0029</td>\n",
       "      <td>0.607551</td>\n",
       "      <td>2.431034</td>\n",
       "      <td>E</td>\n",
       "      <td>0.117647</td>\n",
       "    </tr>\n",
       "  </tbody>\n",
       "</table>\n",
       "</div>"
      ],
      "text/plain": [
       "                                                variant  score_00   se_00  \\\n",
       "8322  PREPRPNEECLQILGNAEKGAKFLSDAEIIQLVNAKHIPAYKLETL...    0.7673  0.0258   \n",
       "8323  PREPRPNEECLQILGNAEKGAKFLSDAEIIQLVNAKHIPAYKLETL...    0.7867  0.0074   \n",
       "8324  PREPRPNEECLQILGNAEKGAKFLSDAEIIQLVNAKHIPAYKLETL...    0.3132  0.1360   \n",
       "8325  PREPRPNEECLQILGNAEKGAKFLSDAEIIQLVNAKHIPAYKLETL...    0.6847  0.0076   \n",
       "8326  PREPRPNEECLQILGNAEKGAKFLSDAEIIQLVNAKHIPAYKLETL...    0.8478  0.0029   \n",
       "\n",
       "      gemme_score_01  Rosetta_ddg_score_02 ss_03    rsa_03  \n",
       "8322        0.861834              1.154483     E  0.117647  \n",
       "8323        0.866576              2.237931     E  0.117647  \n",
       "8324        0.860471              1.295517     E  0.117647  \n",
       "8325        0.878845              1.792069     E  0.117647  \n",
       "8326        0.607551              2.431034     E  0.117647  "
      ]
     },
     "metadata": {},
     "execution_count": 12
    }
   ],
   "metadata": {}
  },
  {
   "cell_type": "code",
   "execution_count": 13,
   "source": [
    "data = df[[\"variant\", \"Rosetta_ddg_score_02\"]]\n",
    "data.columns = [\"sequences\", \"labels\"]\n",
    "data = data[data[\"sequences\"].str.len() < 1000]\n",
    "data = data[data.columns[::-1]]\n",
    "data.head()"
   ],
   "outputs": [
    {
     "output_type": "execute_result",
     "data": {
      "text/html": [
       "<div>\n",
       "<style scoped>\n",
       "    .dataframe tbody tr th:only-of-type {\n",
       "        vertical-align: middle;\n",
       "    }\n",
       "\n",
       "    .dataframe tbody tr th {\n",
       "        vertical-align: top;\n",
       "    }\n",
       "\n",
       "    .dataframe thead th {\n",
       "        text-align: right;\n",
       "    }\n",
       "</style>\n",
       "<table border=\"1\" class=\"dataframe\">\n",
       "  <thead>\n",
       "    <tr style=\"text-align: right;\">\n",
       "      <th></th>\n",
       "      <th>labels</th>\n",
       "      <th>sequences</th>\n",
       "    </tr>\n",
       "  </thead>\n",
       "  <tbody>\n",
       "    <tr>\n",
       "      <th>8322</th>\n",
       "      <td>1.154483</td>\n",
       "      <td>PREPRPNEECLQILGNAEKGAKFLSDAEIIQLVNAKHIPAYKLETL...</td>\n",
       "    </tr>\n",
       "    <tr>\n",
       "      <th>8323</th>\n",
       "      <td>2.237931</td>\n",
       "      <td>PREPRPNEECLQILGNAEKGAKFLSDAEIIQLVNAKHIPAYKLETL...</td>\n",
       "    </tr>\n",
       "    <tr>\n",
       "      <th>8324</th>\n",
       "      <td>1.295517</td>\n",
       "      <td>PREPRPNEECLQILGNAEKGAKFLSDAEIIQLVNAKHIPAYKLETL...</td>\n",
       "    </tr>\n",
       "    <tr>\n",
       "      <th>8325</th>\n",
       "      <td>1.792069</td>\n",
       "      <td>PREPRPNEECLQILGNAEKGAKFLSDAEIIQLVNAKHIPAYKLETL...</td>\n",
       "    </tr>\n",
       "    <tr>\n",
       "      <th>8326</th>\n",
       "      <td>2.431034</td>\n",
       "      <td>PREPRPNEECLQILGNAEKGAKFLSDAEIIQLVNAKHIPAYKLETL...</td>\n",
       "    </tr>\n",
       "  </tbody>\n",
       "</table>\n",
       "</div>"
      ],
      "text/plain": [
       "        labels                                          sequences\n",
       "8322  1.154483  PREPRPNEECLQILGNAEKGAKFLSDAEIIQLVNAKHIPAYKLETL...\n",
       "8323  2.237931  PREPRPNEECLQILGNAEKGAKFLSDAEIIQLVNAKHIPAYKLETL...\n",
       "8324  1.295517  PREPRPNEECLQILGNAEKGAKFLSDAEIIQLVNAKHIPAYKLETL...\n",
       "8325  1.792069  PREPRPNEECLQILGNAEKGAKFLSDAEIIQLVNAKHIPAYKLETL...\n",
       "8326  2.431034  PREPRPNEECLQILGNAEKGAKFLSDAEIIQLVNAKHIPAYKLETL..."
      ]
     },
     "metadata": {},
     "execution_count": 13
    }
   ],
   "metadata": {}
  },
  {
   "cell_type": "markdown",
   "source": [
    "## Extract Embeddings"
   ],
   "metadata": {}
  },
  {
   "cell_type": "code",
   "execution_count": null,
   "source": [
    "args_dict = {\n",
    "    \"model_name\": \"esm1b_t33_650M_UR50S\",\n",
    "    \"base_path\": data_path,\n",
    "    \"gpu\": True,\n",
    "}\n",
    "emb_extractor = EmbeddingExtractor1D(**args_dict)\n",
    "dset = emb_extractor.generate_datasets(\n",
    "    [\"\"],\n",
    "    data=data,\n",
    "    h5_stem=f\"stability_{path_.stem}\",  # data_path / \"stability_train\".h5\n",
    "    bs=1,\n",
    "    target_name=\"stability_scores\"\n",
    ")\n",
    "\n",
    "dataset = ProteinStabilityDataset(data_path / f\"stability_{path_.stem}.h5\",  ret_dict=False)\n",
    "len(dataset)"
   ],
   "outputs": [],
   "metadata": {}
  },
  {
   "cell_type": "markdown",
   "source": [
    "## Sklearn approach"
   ],
   "metadata": {}
  },
  {
   "cell_type": "code",
   "execution_count": null,
   "source": [
    "from sklearn.ensemble import RandomForestRegressor, GradientBoostingRegressor\n",
    "from sklearn.neural_network import MLPRegressor\n",
    "from sklearn.svm import SVR\n",
    "from sklearn.model_selection import train_test_split\n",
    "from sklearn.metrics import r2_score\n",
    "\n",
    "from protera_stability.utils.decomposition import dim_reduction"
   ],
   "outputs": [],
   "metadata": {}
  },
  {
   "cell_type": "code",
   "execution_count": null,
   "source": [
    "X = dim_reduction(dataset.X, dataset.y, n_components=16, plot_viz=False)\n",
    "y = dataset.y\n",
    "\n",
    "X_train, X_test, y_train, y_test = train_test_split(X, y, test_size=0.33, random_state=43)\n",
    "X_valid, X_test, y_valid, y_test = train_test_split(X_test, y_test, test_size=0.33, random_state=43)"
   ],
   "outputs": [],
   "metadata": {}
  },
  {
   "cell_type": "code",
   "execution_count": null,
   "source": [
    "scoring = \"r2\"\n",
    "score = r2_score\n",
    "models = {\n",
    "    \"RandomForest\": {\n",
    "        \"model\": RandomForestRegressor(),\n",
    "        \"params\": {\n",
    "            \"n_estimators\": [50, 100, 200],\n",
    "            \"max_depth\": [None, 100],\n",
    "            \"criterion\": [\"mse\", \"mae\"]\n",
    "        },\n",
    "    },\n",
    "    \"SVR\": {\n",
    "        \"model\": SVR(),\n",
    "        \"params\": {\n",
    "            \"C\": [0.1, 1.0, 10.0],\n",
    "            \"kernel\": [\"linear\", \"poly\", \"rbf\", \"sigmoid\"],\n",
    "            \"degree\": [3],\n",
    "            \"gamma\": [\"scale\"],\n",
    "        },\n",
    "    },\n",
    "    \"MLP\": {\n",
    "        \"model\": MLPRegressor(),\n",
    "        \"params\": {\n",
    "            \"hidden_layer_sizes\": [(100,), (100, 100), (1024, 1024)],\n",
    "            \"activation\": [\"tanh\", \"relu\"],\n",
    "            \"solver\": [\"sgd\", \"adam\"],\n",
    "        },\n",
    "    },\n",
    "}"
   ],
   "outputs": [],
   "metadata": {}
  },
  {
   "cell_type": "code",
   "execution_count": null,
   "source": [
    "from protera_stability.utils import perform_search\n",
    "\n",
    "for name, model in models.items():\n",
    "    perform_search(\n",
    "        X_train,\n",
    "        y_train,\n",
    "        model[\"model\"],\n",
    "        model[\"params\"],\n",
    "        name,\n",
    "        X_test=X_valid,\n",
    "        y_test=y_valid,\n",
    "        save_dir=\"../models\",\n",
    "        n_jobs=8,\n",
    "    )"
   ],
   "outputs": [],
   "metadata": {}
  },
  {
   "cell_type": "markdown",
   "source": [
    "## NN-based approach"
   ],
   "metadata": {}
  },
  {
   "cell_type": "code",
   "execution_count": null,
   "source": [
    "import torch\n",
    "from protera_stability.config.lazy import LazyCall as L\n",
    "from protera_stability.config.common.mlp import mlp_esm\n",
    "from protera_stability.train import get_cfg, setup_diversity, setup_data\n",
    "\n",
    "exp_params = {\n",
    "    \"diversity_cutoff\": 0.,\n",
    "    \"random_percent\": 1.,\n",
    "    \"sampling_method\": \"\",\n",
    "    \"experiment_name\": \"per_prot\",\n",
    "}\n",
    "\n",
    "def create_cfg(exp_params):\n",
    "    cfg = get_cfg(args={})\n",
    "    cfg = setup_diversity(cfg, **exp_params)\n",
    "    mlp_esm.n_units = 1024\n",
    "    mlp_esm.n_layers = 1\n",
    "    mlp_esm.act = L(torch.nn.GELU)()\n",
    "    cfg.model = mlp_esm\n",
    "\n",
    "    cfg = setup_data(cfg, dataset=dataset)\n",
    "    return cfg"
   ],
   "outputs": [],
   "metadata": {}
  },
  {
   "cell_type": "code",
   "execution_count": null,
   "source": [
    "cfg = create_cfg(exp_params)\n",
    "cfg.trainer_params.gpus = 1\n",
    "cfg.keys()"
   ],
   "outputs": [],
   "metadata": {}
  },
  {
   "cell_type": "code",
   "execution_count": null,
   "source": [
    "from protera_stability.engine.default import DefaultTrainer\n",
    "\n",
    "cfg.dataloader.train.dataset = dataset\n",
    "# cfg.dataloader.test.dataset = dataset\n",
    "\n",
    "trainer = DefaultTrainer(cfg)"
   ],
   "outputs": [],
   "metadata": {}
  },
  {
   "cell_type": "code",
   "execution_count": null,
   "source": [
    "trainer.fit()"
   ],
   "outputs": [],
   "metadata": {}
  },
  {
   "cell_type": "code",
   "execution_count": null,
   "source": [
    "#TODO: prediction on a test set\n",
    "trainer.model()"
   ],
   "outputs": [],
   "metadata": {}
  },
  {
   "cell_type": "code",
   "execution_count": null,
   "source": [],
   "outputs": [],
   "metadata": {}
  }
 ],
 "metadata": {
  "orig_nbformat": 4,
  "language_info": {
   "name": "python",
   "version": "3.8.10",
   "mimetype": "text/x-python",
   "codemirror_mode": {
    "name": "ipython",
    "version": 3
   },
   "pygments_lexer": "ipython3",
   "nbconvert_exporter": "python",
   "file_extension": ".py"
  },
  "kernelspec": {
   "name": "python3",
   "display_name": "Python 3.8.10 64-bit ('protera-stability': conda)"
  },
  "interpreter": {
   "hash": "a78d51e19256cfce1d39a2c3cba2e8056cac1355cb83723ad6d6938cbf3c5352"
  }
 },
 "nbformat": 4,
 "nbformat_minor": 2
}