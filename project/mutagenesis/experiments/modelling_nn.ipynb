{
 "cells": [
  {
   "cell_type": "markdown",
   "source": [
    "## Protein Embeddings Manipulation"
   ],
   "metadata": {}
  },
  {
   "cell_type": "code",
   "execution_count": 1,
   "source": [
    "from pathlib import Path\n",
    "\n",
    "data_path = Path(\"../data/Protera\") \n",
    "\n",
    "!ls $data_path"
   ],
   "outputs": [
    {
     "output_type": "stream",
     "name": "stdout",
     "text": [
      "clustering\n",
      "cluster.out\n",
      "data.csv\n",
      "mmseq\n",
      "mmseq_q\n",
      "mmseq_t\n",
      "prefilter.out\n",
      "prism\n",
      "search.out\n",
      "sequences.fasta\n",
      "stability.csv\n",
      "stability_embeddings_test.pkl\n",
      "stability_embeddings_train.pkl\n",
      "stability_prism_merged_030_HMGCR_yeast_complementation_control_medium.h5\n",
      "stability_prism_merged_037_UBI4_E1_binding_limiting_E1.h5\n",
      "stability_test.csv\n",
      "stability_test_diversity.csv\n",
      "stability_test.h5\n",
      "stability_train.csv\n",
      "stability_train_diversity.csv\n",
      "stability_train.h5\n",
      "stability_with_dups.csv\n",
      "tmp\n"
     ]
    }
   ],
   "metadata": {
    "ExecuteTime": {
     "end_time": "2021-09-10T20:10:51.213053Z",
     "start_time": "2021-09-10T20:10:51.102567Z"
    }
   }
  },
  {
   "cell_type": "code",
   "execution_count": 2,
   "source": [
    "from pathlib import Path\n",
    "import matplotlib.pyplot as plt\n",
    "\n",
    "from protera_stability.data import ProteinStabilityDataset"
   ],
   "outputs": [],
   "metadata": {
    "ExecuteTime": {
     "end_time": "2021-09-10T20:10:52.444694Z",
     "start_time": "2021-09-10T20:10:51.284681Z"
    },
    "code_folding": []
   }
  },
  {
   "cell_type": "markdown",
   "source": [
    "### Get Dataset"
   ],
   "metadata": {}
  },
  {
   "cell_type": "code",
   "execution_count": 3,
   "source": [
    "train_set = ProteinStabilityDataset(proteins_path=data_path / \"stability_train.h5\")\n",
    "test_set =  ProteinStabilityDataset(proteins_path=data_path / \"stability_test.h5\")\n",
    "len(train_set), len(test_set)"
   ],
   "outputs": [
    {
     "output_type": "execute_result",
     "data": {
      "text/plain": [
       "(32001, 7999)"
      ]
     },
     "metadata": {},
     "execution_count": 3
    }
   ],
   "metadata": {
    "ExecuteTime": {
     "end_time": "2021-09-10T20:10:52.581821Z",
     "start_time": "2021-09-10T20:10:52.445748Z"
    },
    "scrolled": true
   }
  },
  {
   "cell_type": "code",
   "execution_count": 4,
   "source": [
    "train_set.X.mean(), train_set.X.var(), train_set.X.shape"
   ],
   "outputs": [
    {
     "output_type": "execute_result",
     "data": {
      "text/plain": [
       "(-1.5524662e-10, 0.9999989, (32001, 1280))"
      ]
     },
     "metadata": {},
     "execution_count": 4
    }
   ],
   "metadata": {
    "ExecuteTime": {
     "end_time": "2021-09-10T20:10:52.606264Z",
     "start_time": "2021-09-10T20:10:52.582838Z"
    }
   }
  },
  {
   "cell_type": "code",
   "execution_count": 5,
   "source": [
    "train_set.y.mean(), train_set.y.var(), train_set.y.shape"
   ],
   "outputs": [
    {
     "output_type": "execute_result",
     "data": {
      "text/plain": [
       "(7.629156e-09, 0.99999994, (32001,))"
      ]
     },
     "metadata": {},
     "execution_count": 5
    }
   ],
   "metadata": {
    "ExecuteTime": {
     "end_time": "2021-09-10T20:10:53.223680Z",
     "start_time": "2021-09-10T20:10:53.220638Z"
    },
    "scrolled": true
   }
  },
  {
   "cell_type": "code",
   "execution_count": 6,
   "source": [
    "plt.hist(train_set.y, bins=50)\n",
    "plt.show()"
   ],
   "outputs": [
    {
     "output_type": "display_data",
     "data": {
      "image/png": "[encoded data removed]",
      "text/plain": [
       "<Figure size 432x288 with 1 Axes>"
      ]
     },
     "metadata": {
      "needs_background": "light"
     }
    }
   ],
   "metadata": {
    "ExecuteTime": {
     "end_time": "2021-09-10T20:10:53.904641Z",
     "start_time": "2021-09-10T20:10:53.724736Z"
    }
   }
  },
  {
   "cell_type": "markdown",
   "source": [
    "## Can a FeedForward Net do better?\n"
   ],
   "metadata": {}
  },
  {
   "cell_type": "code",
   "execution_count": 7,
   "source": [
    "from torch import nn\n",
    "import torch\n",
    "\n",
    "class ProteinMLP(nn.Module):\n",
    "    def __init__(self, n_in = 1280, n_units = 2048, emb_dim = 1024, act = None, drop_p = 0.7, last_drop = True):\n",
    "        super(ProteinMLP, self).__init__()\n",
    "        self.fc1 = nn.Linear(n_in, n_units)\n",
    "        self.fc2 = nn.Linear(n_units, n_units)\n",
    "        self.new_emb = nn.Linear(n_units, emb_dim)\n",
    "        self.fc3 = nn.Linear(emb_dim, 1)\n",
    "        \n",
    "        self.drop = nn.Dropout(p=drop_p)\n",
    "        self.bn1 = nn.BatchNorm1d(n_units)\n",
    "        self.bn2 = nn.BatchNorm1d(n_units)\n",
    "\n",
    "\n",
    "        self.last_drop = last_drop\n",
    "        self.act = act\n",
    "        if act is None:\n",
    "            self.act = nn.ReLU6()\n",
    "            \n",
    "    def forward(self, x):\n",
    "        out = self.drop(self.act(self.fc1(x)))\n",
    "        out = self.drop(self.act(self.fc2(out)))\n",
    "        out = self.act(self.new_emb(out))\n",
    "        \n",
    "        if self.last_drop: \n",
    "            out = self.drop(out)\n",
    "        return self.fc3(out)"
   ],
   "outputs": [],
   "metadata": {
    "ExecuteTime": {
     "end_time": "2021-08-27T18:49:01.042594Z",
     "start_time": "2021-08-27T18:49:01.038634Z"
    }
   }
  },
  {
   "cell_type": "code",
   "execution_count": 8,
   "source": [
    "from skorch.callbacks import Checkpoint, LRScheduler, EarlyStopping\n",
    "from skorch import NeuralNetRegressor\n",
    "\n",
    "cb = Checkpoint(dirname='models')\n",
    "sched = LRScheduler(step_every=\"epoch\")\n",
    "stopper = EarlyStopping(patience=15)\n",
    "\n",
    "net = NeuralNetRegressor(\n",
    "    ProteinMLP,\n",
    "    criterion=nn.MSELoss,\n",
    "    # optimizer=torch.optim.Adam,\n",
    "    # optimizer__momentum=0.05,\n",
    "    optimizer__weight_decay=1e-2,\n",
    "    max_epochs=int(1e4),\n",
    "    lr=3e-3,\n",
    "    iterator_train__shuffle=True,\n",
    "    device='cuda:1',\n",
    "    callbacks=[cb, sched, stopper],\n",
    ")\n",
    "\n",
    "net.fit(train_set.X, train_set.y.reshape(-1,1))\n",
    "\n",
    "net.score(test_set.X, test_set.y)"
   ],
   "outputs": [
    {
     "output_type": "stream",
     "name": "stdout",
     "text": [
      "  epoch    train_loss    valid_loss    cp      lr     dur\n",
      "-------  ------------  ------------  ----  ------  ------\n",
      "      1        \u001b[36m1.0053\u001b[0m        \u001b[32m0.9510\u001b[0m     +  0.0500  1.1828\n",
      "      2        \u001b[36m0.8869\u001b[0m        \u001b[32m0.8831\u001b[0m     +  0.0488  0.9344\n",
      "      3        \u001b[36m0.8410\u001b[0m        \u001b[32m0.8521\u001b[0m     +  0.0452  0.9265\n",
      "      4        \u001b[36m0.8073\u001b[0m        \u001b[32m0.8326\u001b[0m     +  0.0397  0.9392\n",
      "      5        \u001b[36m0.7902\u001b[0m        \u001b[32m0.8149\u001b[0m     +  0.0327  0.9513\n",
      "      6        \u001b[36m0.7633\u001b[0m        \u001b[32m0.7984\u001b[0m     +  0.0250  0.9676\n",
      "      7        \u001b[36m0.7558\u001b[0m        \u001b[32m0.7941\u001b[0m     +  0.0173  0.9904\n",
      "      8        \u001b[36m0.7425\u001b[0m        \u001b[32m0.7762\u001b[0m     +  0.0103  0.9669\n",
      "      9        \u001b[36m0.7360\u001b[0m        \u001b[32m0.7716\u001b[0m     +  0.0048  0.9654\n",
      "     10        \u001b[36m0.7255\u001b[0m        \u001b[32m0.7674\u001b[0m     +  0.0012  0.9482\n",
      "     11        \u001b[36m0.7188\u001b[0m        \u001b[32m0.7674\u001b[0m     +  0.0000  0.9341\n",
      "     12        0.7669        0.7888        0.0500  0.9213\n",
      "     13        0.7627        0.7972        0.0497  0.9311\n",
      "     14        0.7569        0.7863        0.0488  0.9463\n",
      "     15        0.7526        \u001b[32m0.7667\u001b[0m     +  0.0473  0.9566\n",
      "     16        0.7399        \u001b[32m0.7645\u001b[0m     +  0.0452  0.9503\n",
      "     17        0.7347        \u001b[32m0.7585\u001b[0m     +  0.0427  0.9264\n",
      "     18        0.7272        0.7603        0.0397  0.9387\n",
      "     19        0.7196        \u001b[32m0.7450\u001b[0m     +  0.0364  0.9580\n",
      "     20        \u001b[36m0.7109\u001b[0m        0.7650        0.0327  0.9770\n",
      "     21        \u001b[36m0.7012\u001b[0m        \u001b[32m0.7324\u001b[0m     +  0.0289  0.9581\n",
      "     22        \u001b[36m0.6931\u001b[0m        \u001b[32m0.7299\u001b[0m     +  0.0250  0.9586\n",
      "     23        \u001b[36m0.6835\u001b[0m        \u001b[32m0.7245\u001b[0m     +  0.0211  0.9428\n",
      "     24        \u001b[36m0.6755\u001b[0m        \u001b[32m0.7184\u001b[0m     +  0.0173  0.9295\n",
      "     25        \u001b[36m0.6606\u001b[0m        \u001b[32m0.7039\u001b[0m     +  0.0137  0.9712\n",
      "     26        \u001b[36m0.6514\u001b[0m        \u001b[32m0.6982\u001b[0m     +  0.0103  0.9467\n",
      "     27        \u001b[36m0.6334\u001b[0m        \u001b[32m0.6898\u001b[0m     +  0.0073  0.9404\n",
      "     28        \u001b[36m0.6312\u001b[0m        \u001b[32m0.6873\u001b[0m     +  0.0048  0.9508\n",
      "     29        \u001b[36m0.6264\u001b[0m        \u001b[32m0.6851\u001b[0m     +  0.0027  0.9563\n",
      "     30        \u001b[36m0.6162\u001b[0m        \u001b[32m0.6829\u001b[0m     +  0.0012  0.9576\n",
      "     31        \u001b[36m0.6140\u001b[0m        \u001b[32m0.6826\u001b[0m     +  0.0003  0.9262\n",
      "     32        0.6157        \u001b[32m0.6826\u001b[0m     +  0.0000  0.9327\n",
      "     33        0.7233        0.7576        0.0500  0.9165\n",
      "     34        0.7284        0.7504        0.0499  0.9569\n",
      "     35        0.7194        0.7448        0.0497  0.9171\n",
      "     36        0.7186        0.7508        0.0493  0.9257\n",
      "     37        0.7168        0.7532        0.0488  0.9357\n",
      "     38        0.7141        0.7320        0.0481  0.9208\n",
      "     39        0.7113        0.7395        0.0473  0.9730\n",
      "     40        0.7158        0.7428        0.0463  1.0024\n",
      "     41        0.7077        0.7642        0.0452  0.8554\n",
      "     42        0.7043        0.7448        0.0440  0.9378\n",
      "     43        0.6995        0.7465        0.0427  0.9464\n",
      "     44        0.7095        0.7403        0.0412  0.9352\n",
      "     45        0.6997        0.7330        0.0397  0.9480\n",
      "Stopping since valid_loss has not improved in the last 15 epochs.\n"
     ]
    },
    {
     "output_type": "execute_result",
     "data": {
      "text/plain": [
       "0.2988250051834447"
      ]
     },
     "metadata": {},
     "execution_count": 8
    }
   ],
   "metadata": {
    "ExecuteTime": {
     "end_time": "2021-08-27T18:49:31.379296Z",
     "start_time": "2021-08-27T18:49:31.365191Z"
    },
    "scrolled": true
   }
  }
 ],
 "metadata": {
  "interpreter": {
   "hash": "a78d51e19256cfce1d39a2c3cba2e8056cac1355cb83723ad6d6938cbf3c5352"
  },
  "kernelspec": {
   "name": "python3",
   "display_name": "Python 3.8.10 64-bit ('protera-stability': conda)"
  },
  "language_info": {
   "codemirror_mode": {
    "name": "ipython",
    "version": 3
   },
   "file_extension": ".py",
   "mimetype": "text/x-python",
   "name": "python",
   "nbconvert_exporter": "python",
   "pygments_lexer": "ipython3",
   "version": "3.8.10"
  }
 },
 "nbformat": 4,
 "nbformat_minor": 5
}