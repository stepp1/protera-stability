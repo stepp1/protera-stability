{
 "cells": [
  {
   "cell_type": "code",
   "execution_count": 2,
   "source": [
    "from protera_stability.proteins import EmbeddingExtractor1D\n",
    "\n",
    "from pathlib import Path\n",
    "import pandas as pd\n",
    "\n",
    "data_path = Path(\"../data/Protera\")\n",
    "\n",
    "!ls $data_path"
   ],
   "outputs": [
    {
     "output_type": "stream",
     "name": "stdout",
     "text": [
      "clustering   prefilter.out\t\t    stability_embeddings_train.pkl\n",
      "cluster.out  prism\t\t\t    stability_test.csv\n",
      "data.csv     search.out\t\t\t    stability_test.h5\n",
      "mmseq\t     sequences.fasta\t\t    stability_train.csv\n",
      "mmseq_q      stability.csv\t\t    stability_with_dups.csv\n",
      "mmseq_t      stability_embeddings_test.pkl  tmp\n"
     ]
    }
   ],
   "metadata": {}
  },
  {
   "cell_type": "markdown",
   "source": [
    "# Extracting Embeddings"
   ],
   "metadata": {}
  },
  {
   "cell_type": "markdown",
   "source": [
    "## Train"
   ],
   "metadata": {}
  },
  {
   "cell_type": "code",
   "execution_count": 4,
   "source": [
    "args_dict = {\n",
    "    \"model_name\": \"esm1b_t33_650M_UR50S\",\n",
    "    \"base_path\": data_path,\n",
    "    \"gpu\": True,\n",
    "}\n",
    "\n",
    "emb_extractor = EmbeddingExtractor1D(**args_dict)\n",
    "embeddings = emb_extractor.generate_embeddings(\n",
    "    [\"stability_train.csv\"],  # esta en data_path\n",
    "    path_out=\"stability_embeddings_train\",  # guardarlo en data_path/stability_train.pkl\n",
    "    bs=1,\n",
    ")\n",
    "dset = emb_extractor.generate_datasets(\n",
    "    [\"stability_train.csv\"],\n",
    "    h5_stem=\"stability_train\",  # data_path / \"stability_train\".h5\n",
    "    bs=256,\n",
    "    embedding_file=\"stability_embeddings_train\",  # cargar los embeddings desde donde se espera que esten\n",
    "    target_name=\"stability_scores\"\n",
    ")"
   ],
   "outputs": [
    {
     "output_type": "stream",
     "name": "stderr",
     "text": [
      "Using cache found in /home/roberto/.cache/torch/hub/facebookresearch_esm_master\n",
      "100%|██████████| 7201/7201 [10:04<00:00, 11.91it/s]\n"
     ]
    },
    {
     "output_type": "stream",
     "name": "stdout",
     "text": [
      "7201 7201\n",
      "Embeddings saved to ../data/Protera/stability_embeddings_train.pkl\n"
     ]
    }
   ],
   "metadata": {}
  },
  {
   "cell_type": "code",
   "execution_count": 6,
   "source": [
    "import pickle\n",
    "\n",
    "len(pd.read_csv(data_path/\"stability_train.csv\")), \\\n",
    "    len(pickle.load(open(data_path/\"stability_embeddings_train.pkl\", \"rb\"))), \\\n",
    "    len(dset[\"sequences\"][:])"
   ],
   "outputs": [
    {
     "output_type": "execute_result",
     "data": {
      "text/plain": [
       "(7201, 7201, 7201)"
      ]
     },
     "metadata": {},
     "execution_count": 6
    }
   ],
   "metadata": {}
  },
  {
   "cell_type": "markdown",
   "source": [
    "## Test"
   ],
   "metadata": {}
  },
  {
   "cell_type": "code",
   "execution_count": 23,
   "source": [
    "args_dict = {\n",
    "    \"model_name\": \"esm1b_t33_650M_UR50S\",\n",
    "    \"base_path\": data_path,\n",
    "    \"gpu\": True,\n",
    "}\n",
    "\n",
    "emb_extractor = EmbeddingExtractor1D(**args_dict)\n",
    "# embeddings = emb_extractor.generate_embeddings(\n",
    "#     [\"stability_test.csv\"],  # esta en data_path\n",
    "#     path_out=\"stability_embeddings_test\",  # guardarlo en data_path/stability_train.pkl\n",
    "#     bs=1,\n",
    "# )"
   ],
   "outputs": [
    {
     "output_type": "stream",
     "name": "stderr",
     "text": [
      "Using cache found in /home/roberto/.cache/torch/hub/facebookresearch_esm_master\n"
     ]
    }
   ],
   "metadata": {}
  },
  {
   "cell_type": "code",
   "execution_count": 24,
   "source": [
    "dset = emb_extractor.generate_datasets(\n",
    "    [\"stability_test.csv\"],\n",
    "    h5_stem=\"stability_test\",  # data_path / \"stability_train\".h5\n",
    "    bs=256,\n",
    "    embedding_file=\"stability_embeddings_test\",  # cargar los embeddings desde donde se espera que esten\n",
    "    target_name=\"stability_scores\"\n",
    ")"
   ],
   "outputs": [],
   "metadata": {}
  },
  {
   "cell_type": "code",
   "execution_count": 26,
   "source": [
    "import pickle\n",
    "len(pd.read_csv(data_path/\"stability_test.csv\")), \\\n",
    "    len(pickle.load(open(data_path/\"stability_embeddings_test.pkl\", \"rb\"))), \\\n",
    "    len(dset[\"sequences\"][:])"
   ],
   "outputs": [
    {
     "output_type": "execute_result",
     "data": {
      "text/plain": [
       "(1799, 1799, 1799)"
      ]
     },
     "metadata": {},
     "execution_count": 26
    }
   ],
   "metadata": {}
  },
  {
   "cell_type": "code",
   "execution_count": null,
   "source": [],
   "outputs": [],
   "metadata": {}
  }
 ],
 "metadata": {
  "orig_nbformat": 4,
  "language_info": {
   "name": "python",
   "version": "3.9.7",
   "mimetype": "text/x-python",
   "codemirror_mode": {
    "name": "ipython",
    "version": 3
   },
   "pygments_lexer": "ipython3",
   "nbconvert_exporter": "python",
   "file_extension": ".py"
  },
  "kernelspec": {
   "name": "python3",
   "display_name": "Python 3.9.7 64-bit ('protera-stability': conda)"
  },
  "interpreter": {
   "hash": "a78d51e19256cfce1d39a2c3cba2e8056cac1355cb83723ad6d6938cbf3c5352"
  }
 },
 "nbformat": 4,
 "nbformat_minor": 2
}