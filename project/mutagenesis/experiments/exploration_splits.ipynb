{
 "cells": [
  {
   "cell_type": "code",
   "execution_count": 37,
   "source": [
    "from pathlib import Path\n",
    "\n",
    "base_path = Path(\"../data/Protera\") \n",
    "\n",
    "!ls $base_path"
   ],
   "outputs": [
    {
     "output_type": "stream",
     "name": "stdout",
     "text": [
      "clustering     prism\t\t\t       stability_test.h5\n",
      "cluster.out    search.out\t\t       stability_train.csv\n",
      "data.csv       sequences.fasta\t\t       stability_train.h5\n",
      "mmseq\t       stability.csv\t\t       stability_with_dups.csv\n",
      "mmseq_q        stability_embeddings_test.pkl   tmp\n",
      "mmseq_t        stability_embeddings_train.pkl\n",
      "prefilter.out  stability_test.csv\n"
     ]
    }
   ],
   "metadata": {
    "ExecuteTime": {
     "end_time": "2021-08-30T15:12:13.531495Z",
     "start_time": "2021-08-30T15:12:13.529070Z"
    }
   }
  },
  {
   "cell_type": "markdown",
   "source": [
    "\n",
    "## Original set and new train/test split"
   ],
   "metadata": {}
  },
  {
   "cell_type": "code",
   "execution_count": 40,
   "source": [
    "import pandas as pd\n",
    "import numpy as np\n",
    "\n",
    "def train_test_split(dataset, test_size=None):\n",
    "    dataset_size = len(dataset)\n",
    "    dataset_indices = list(range(dataset_size))\n",
    "\n",
    "    np.random.shuffle(dataset_indices)\n",
    "\n",
    "    if test_size is not None:\n",
    "        test_split_index = int(test_size)\n",
    "    else:\n",
    "        test_split_index = int(np.floor((1 - 0.8) * dataset_size))\n",
    "\n",
    "    train_idx, test_idx = (\n",
    "        dataset_indices[test_split_index:],\n",
    "        dataset_indices[:test_split_index],\n",
    "    )\n",
    "\n",
    "    dataset_train = dataset.iloc[train_idx, :]\n",
    "    dataset_test = dataset.iloc[test_idx, :]\n",
    "\n",
    "    return dataset_train, dataset_test\n",
    "\n",
    "dataset = pd.read_csv(base_path / \"stability.csv\")\n",
    "dataset = dataset.drop_duplicates()\n",
    "dataset[\"sequences\"] = dataset[\"sequences\"].astype(\"str\")\n",
    "dataset = dataset[dataset[\"sequences\"].str.len() < 1000]\n",
    "\n",
    "dataset_train = pd.read_csv(base_path / \"stability_train.csv\")\n",
    "dataset_test = pd.read_csv(base_path / \"stability_test.csv\")"
   ],
   "outputs": [],
   "metadata": {
    "ExecuteTime": {
     "end_time": "2021-08-30T15:12:14.318301Z",
     "start_time": "2021-08-30T15:12:14.162096Z"
    }
   }
  },
  {
   "cell_type": "markdown",
   "source": [
    "## Subset\n",
    "\n",
    "> We will use only 9k random samples because of space and GPU constraints."
   ],
   "metadata": {}
  },
  {
   "cell_type": "code",
   "execution_count": 29,
   "source": [
    "# THIS WAS ALREADY DONE\n",
    "# _, subset = train_test_split(dataset, 9e3)\n",
    "# dataset_train, dataset_test = train_test_split(subset)\n",
    "# dataset_train, dataset_test = dataset_train[dataset_train.columns[::-1]], dataset_test[dataset_test.columns[::-1]]\n",
    "# dataset_train.to_csv(base_path / \"stability_train.csv\", index=False)\n",
    "# dataset_test.to_csv(base_path / \"stability_test.csv\", index=False)"
   ],
   "outputs": [],
   "metadata": {}
  },
  {
   "cell_type": "code",
   "execution_count": 34,
   "source": [
    "from protera_stability.data import ProteinStabilityDataset\n",
    "from protera_stability.utils import dim_reduction\n",
    "from pathlib import Path\n",
    "import matplotlib.pyplot as plt"
   ],
   "outputs": [],
   "metadata": {
    "ExecuteTime": {
     "end_time": "2021-08-30T15:12:15.720199Z",
     "start_time": "2021-08-30T15:12:14.855042Z"
    }
   }
  },
  {
   "cell_type": "code",
   "execution_count": 47,
   "source": [
    "f, axs = plt.subplots(figsize=(7,3))\n",
    "\n",
    "y = dataset.labels\n",
    "y_train = dataset_train.labels\n",
    "y_test = dataset_test.labels\n",
    "\n",
    "axs.hist(y, bins=50, label=\"Dataset\", density=True)\n",
    "axs.hist(y_train, bins=50, label=\"Train\", density=True)\n",
    "axs.hist(y_test, bins=50, label=\"Test\", density=True)\n",
    "axs.set_title(\"Stability\")\n",
    "axs.legend()\n",
    "plt.xlim([-4, 10])\n",
    "plt.show()"
   ],
   "outputs": [
    {
     "output_type": "display_data",
     "data": {
      "image/png": "[encoded data removed]",
      "text/plain": [
       "<Figure size 504x216 with 1 Axes>"
      ]
     },
     "metadata": {
      "needs_background": "light"
     }
    }
   ],
   "metadata": {
    "ExecuteTime": {
     "end_time": "2021-08-30T15:12:17.408059Z",
     "start_time": "2021-08-30T15:12:17.105151Z"
    }
   }
  },
  {
   "cell_type": "markdown",
   "source": [
    "## Check diversity"
   ],
   "metadata": {}
  },
  {
   "cell_type": "code",
   "execution_count": 49,
   "source": [
    "diversity_train = pd.read_csv(base_path / \"stability_train_diversity.csv\")\n",
    "diversity_test = pd.read_csv(base_path / \"stability_test_diversity.csv\")"
   ],
   "outputs": [],
   "metadata": {
    "ExecuteTime": {
     "end_time": "2021-08-30T15:12:18.448773Z",
     "start_time": "2021-08-30T15:12:18.433543Z"
    }
   }
  },
  {
   "cell_type": "code",
   "execution_count": 51,
   "source": [
    "# diversity_dset_sorted = diversity_dset.sort_values(by=\"diversity\", ascending=True)\n",
    "diversity_train_sorted = diversity_train.sort_values(by=\"diversity\", ascending=True)\n",
    "diversity_test_sorted = diversity_test.sort_values(by=\"diversity\", ascending=True)\n",
    "\n",
    "f, axs = plt.subplots(ncols=2, figsize=(13,3))\n",
    "\n",
    "# axs[0].hist(diversity_dset_sorted.diversity, bins=50, label=\"Dataset\")\n",
    "axs[0].hist(diversity_train_sorted.diversity, bins=50, label=\"Train\")\n",
    "axs[0].hist(diversity_test_sorted.diversity, bins=50, label=\"Test\")\n",
    "axs[0].set_title(\"Diversity\")\n",
    "# axs[0].legend()\n",
    "\n",
    "# axs[1].hist(diversity_dset_sorted.diversity[1000:], bins=50, label=\"Dataset\")\n",
    "axs[1].hist(diversity_train_sorted.diversity[700:], bins=50, label=\"Train\")\n",
    "axs[1].hist(diversity_test_sorted.diversity[150:], bins=50, label=\"Test\")\n",
    "axs[1].vlines([0.82, 0.83, 0.85, 0.86, 0.87, 0.875, 0.878], 5, 500, linestyles=\"dashed\")\n",
    "axs[1].set_title(\"Diversity\")\n",
    "axs[1].legend(loc=1)\n",
    "plt.show()\n",
    "\n"
   ],
   "outputs": [
    {
     "output_type": "display_data",
     "data": {
      "image/png": "[encoded data removed]",
      "text/plain": [
       "<Figure size 936x216 with 2 Axes>"
      ]
     },
     "metadata": {
      "needs_background": "light"
     }
    }
   ],
   "metadata": {
    "ExecuteTime": {
     "end_time": "2021-08-30T20:07:35.500979Z",
     "start_time": "2021-08-30T20:07:35.056939Z"
    }
   }
  },
  {
   "cell_type": "markdown",
   "source": [
    "## Check if embeddings have duplication"
   ],
   "metadata": {}
  },
  {
   "cell_type": "code",
   "execution_count": 55,
   "source": [
    "train_set = ProteinStabilityDataset(base_path / \"stability_train.h5\")\n",
    "test_set = ProteinStabilityDataset(base_path / \"stability_test.h5\")"
   ],
   "outputs": [],
   "metadata": {}
  },
  {
   "cell_type": "code",
   "execution_count": 56,
   "source": [
    "_, train_idxs, test_idxs = np.intersect1d(train_set.X, test_set.X, return_indices=True)\n",
    "(train_idxs == test_idxs).sum()"
   ],
   "outputs": [
    {
     "output_type": "execute_result",
     "data": {
      "text/plain": [
       "0"
      ]
     },
     "metadata": {},
     "execution_count": 56
    }
   ],
   "metadata": {
    "ExecuteTime": {
     "end_time": "2021-08-30T15:19:43.035661Z",
     "start_time": "2021-08-30T15:19:41.373917Z"
    },
    "scrolled": true
   }
  },
  {
   "cell_type": "markdown",
   "source": [
    "## Check how does train/val split distributes stability and diversity"
   ],
   "metadata": {}
  },
  {
   "cell_type": "code",
   "execution_count": 62,
   "source": [
    "from sklearn import preprocessing\n",
    "scaler = preprocessing.StandardScaler()\n",
    "\n",
    "bytes_to_str = lambda x : x.decode(\"utf8\")\n",
    "v_bytes_to_str = lambda x: list(np.vectorize(bytes_to_str)(x))\n",
    "\n",
    "check_dups = lambda x, y: sum(x == y)\n",
    "check_close = lambda x, y, *kw: sum(np.isclose(x, y, *kw))\n",
    "\n",
    "scale_1d = lambda x: scaler.fit_transform(x.reshape(-1, 1)).reshape(-1)"
   ],
   "outputs": [],
   "metadata": {}
  },
  {
   "cell_type": "markdown",
   "source": [
    "### Stability"
   ],
   "metadata": {}
  },
  {
   "cell_type": "code",
   "execution_count": 61,
   "source": [
    "import torch\n",
    "\n",
    "f, axs = plt.subplots(ncols=5, figsize=(13,3))\n",
    "\n",
    "for ax in axs.flatten():\n",
    "    # dataset = ProteinStabilityDataset(base_path / \"stability.h5\" ,)\n",
    "    train_set = ProteinStabilityDataset(base_path / \"stability_train.h5\")\n",
    "\n",
    "    # X, y = dataset.X, dataset.y\n",
    "\n",
    "    train_set, val_set = torch.utils.data.random_split(\n",
    "        train_set,\n",
    "        lengths=[int(len(train_set) * 0.8), len(train_set) - int(len(train_set) * 0.8)],\n",
    "    )\n",
    "\n",
    "    _, y_train = train_set.dataset[train_set.indices] \n",
    "    _, y_val = val_set.dataset[val_set.indices]\n",
    "    \n",
    "    # ax.hist(y, bins=50, label=\"Dataset\")\n",
    "    ax.hist(y_train, bins=50, label=\"Train\")\n",
    "    ax.hist(y_val, bins=50, label=\"Val\")\n",
    "    \n",
    "    mean_train = torch.mean(y_train)\n",
    "    mean_val = torch.mean(y_val)\n",
    "    ax.set_title(f\"Mean \\ntrain={round(mean_train.item(), 2)}, val={round(mean_val.item(), 2)}\")\n",
    "    ax.set_xlim([-4, 6])\n",
    "\n",
    "f.suptitle(\"Stability\")\n",
    "f.tight_layout(rect=[0, 0.03, 1, 0.95])\n",
    "ax.legend()\n",
    "plt.show()"
   ],
   "outputs": [
    {
     "output_type": "display_data",
     "data": {
      "image/png": "[encoded data removed]",
      "text/plain": [
       "<Figure size 936x216 with 5 Axes>"
      ]
     },
     "metadata": {
      "needs_background": "light"
     }
    }
   ],
   "metadata": {
    "ExecuteTime": {
     "end_time": "2021-08-30T15:38:54.809885Z",
     "start_time": "2021-08-30T15:38:52.283664Z"
    }
   }
  },
  {
   "cell_type": "markdown",
   "source": [
    "### Diversity"
   ],
   "metadata": {}
  },
  {
   "cell_type": "code",
   "execution_count": 65,
   "source": [
    "import torch\n",
    "\n",
    "f, axs = plt.subplots(ncols=5, figsize=(13,3))\n",
    "\n",
    "for ax in axs.flatten():\n",
    "    # dataset = ProteinStabilityDataset(base_path / \"stability.h5\", ret_dict=True)\n",
    "    train_set = ProteinStabilityDataset(base_path / \"stability_train.h5\", ret_dict=True)\n",
    "\n",
    "    # X, y = dataset.X, dataset.y\n",
    "\n",
    "    train_set, val_set = torch.utils.data.random_split(\n",
    "        train_set,\n",
    "        lengths=[int(len(train_set) * 0.8), len(train_set) - int(len(train_set) * 0.8)],\n",
    "    )\n",
    "\n",
    "    diversity_dset = pd.read_csv(base_path / \"stability_train_diversity.csv\")\n",
    "    diversity_dset_sorted = diversity_dset.sort_values(by=\"diversity\", ascending=True)\n",
    "    data_train = train_set.dataset[train_set.indices] \n",
    "    data_val = val_set.dataset[val_set.indices]\n",
    "    \n",
    "    seqs_train = v_bytes_to_str(data_train[\"sequences\"])\n",
    "    seqs_val = v_bytes_to_str(data_val[\"sequences\"])\n",
    "    subset_diversity_train = diversity_dset[diversity_dset.sequences.isin(seqs_train)]\n",
    "    subset_diversity_val = diversity_dset[diversity_dset.sequences.isin(seqs_val)]\n",
    "    subset_diversity_train = subset_diversity_train.sort_values(by=\"diversity\", ascending=True)\n",
    "    subset_diversity_val = subset_diversity_val.sort_values(by=\"diversity\", ascending=True)\n",
    "    \n",
    "    ax.hist(diversity_dset_sorted.diversity[1000:], bins=50, label=\"Dataset\")\n",
    "    ax.hist(subset_diversity_train.diversity[900:], bins=50, label=\"Train\")\n",
    "    ax.hist(subset_diversity_val.diversity[150:], bins=50, label=\"Val\")\n",
    "    \n",
    "    mean_train = subset_diversity_train.diversity.mean()\n",
    "    mean_val = subset_diversity_val.diversity.mean()\n",
    "    ax.set_title(f\"Mean \\ntrain={round(mean_train, 2)}, val={round(mean_val, 2)}\")\n",
    "\n",
    "f.suptitle(\"Diversity\")\n",
    "f.tight_layout(rect=[0, 0.03, 1, 0.95])\n",
    "ax.legend()\n",
    "plt.show()"
   ],
   "outputs": [
    {
     "output_type": "display_data",
     "data": {
      "image/png": "[encoded data removed]",
      "text/plain": [
       "<Figure size 936x216 with 5 Axes>"
      ]
     },
     "metadata": {
      "needs_background": "light"
     }
    }
   ],
   "metadata": {
    "ExecuteTime": {
     "end_time": "2021-08-30T15:38:58.885156Z",
     "start_time": "2021-08-30T15:38:56.002667Z"
    }
   }
  }
 ],
 "metadata": {
  "kernelspec": {
   "name": "python3",
   "display_name": "Python 3.9.7 64-bit ('protera-stability': conda)"
  },
  "language_info": {
   "codemirror_mode": {
    "name": "ipython",
    "version": 3
   },
   "file_extension": ".py",
   "mimetype": "text/x-python",
   "name": "python",
   "nbconvert_exporter": "python",
   "pygments_lexer": "ipython3",
   "version": "3.9.7"
  },
  "interpreter": {
   "hash": "a78d51e19256cfce1d39a2c3cba2e8056cac1355cb83723ad6d6938cbf3c5352"
  }
 },
 "nbformat": 4,
 "nbformat_minor": 5
}