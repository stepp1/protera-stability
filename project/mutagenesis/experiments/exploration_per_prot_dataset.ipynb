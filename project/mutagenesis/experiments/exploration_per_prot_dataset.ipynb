{
 "cells": [
  {
   "cell_type": "code",
   "execution_count": 4,
   "source": [
    "from pathlib import Path\n",
    "data_path = Path(\"../data\") / \"Protera\"\n",
    "per_protein_csv = [pth for pth in (data_path / \"prism\").iterdir()]\n",
    "\n",
    "print(per_protein_csv[:10])"
   ],
   "outputs": [
    {
     "output_type": "stream",
     "name": "stdout",
     "text": [
      "[PosixPath('../data/Protera/prism/prism_merged_037_UBI4_E1_binding_limiting_E1.csv'), PosixPath('../data/Protera/prism/prism_merged_999_IF-1_DMS.csv'), PosixPath('../data/Protera/prism/prism_merged_021_PAB1_doxycyclin_sensitivity.csv'), PosixPath('../data/Protera/prism/prism_merged_006_CBS_high_B6_activity.csv'), PosixPath('../data/Protera/prism/prism_merged_003_PTEN_abundance.csv'), PosixPath('../data/Protera/prism/prism_merged_999_GmR_DMS.csv'), PosixPath('../data/Protera/prism/prism_merged_027_Src_kinase_activity_catalytic_domain_reversed.csv'), PosixPath('../data/Protera/prism/prism_merged_999_ccdB_DMS.csv'), PosixPath('../data/Protera/prism/prism_merged_026_BRCA1_E3_ubiquitination_activity.csv'), PosixPath('../data/Protera/prism/prism_merged_999_HAh1n1_DMS.csv')]\n"
     ]
    }
   ],
   "metadata": {}
  },
  {
   "cell_type": "code",
   "execution_count": 5,
   "source": [
    "import pandas as pd\n",
    "\n",
    "max_ = 0\n",
    "for path in per_protein_csv:\n",
    "    df = pd.read_csv(path)\n",
    "    df = df[df[\"variant\"].str.len() < 1000]\n",
    "    size = len(df)\n",
    "    if size > max_:\n",
    "        max_ = size\n",
    "        path_ = path\n",
    "\n",
    "path_, max_"
   ],
   "outputs": [
    {
     "output_type": "execute_result",
     "data": {
      "text/plain": [
       "(PosixPath('../data/Protera/prism/prism_merged_030_HMGCR_yeast_complementation_control_medium.csv'),\n",
       " 16872)"
      ]
     },
     "metadata": {},
     "execution_count": 5
    }
   ],
   "metadata": {}
  },
  {
   "cell_type": "code",
   "execution_count": 6,
   "source": [
    "from protera_stability.data import ProteinStabilityDataset, EmbeddingGetter\n",
    "from protera_stability.proteins import EmbeddingExtractor1D\n",
    "\n",
    "# from torch.multiprocessing import set_start_method\n",
    "# try:\n",
    "#      set_start_method('spawn')\n",
    "# except RuntimeError:\n",
    "#     pass\n",
    "\n",
    "\n",
    "df = pd.read_csv(path_)\n",
    "df = df.drop_duplicates().dropna()\n",
    "df = df[[\"variant\", \"Rosetta_ddg_score_02\"]]\n",
    "df.columns = [\"sequences\", \"labels\"]\n",
    "df = df[df[\"sequences\"].str.len() < 1000]\n",
    "df = df[df.columns[::-1]]\n",
    "\n",
    "args_dict = {\n",
    "    \"model_name\": \"esm1b_t33_650M_UR50S\",\n",
    "    \"base_path\": data_path,\n",
    "    \"gpu\": True,\n",
    "}\n",
    "emb_extractor = EmbeddingExtractor1D(**args_dict)\n",
    "dset = emb_extractor.generate_datasets(\n",
    "    [\"\"],\n",
    "    data=df,\n",
    "    h5_stem=f\"stability_{path_.stem}\",  # data_path / \"stability_train\".h5\n",
    "    bs=1,\n",
    "    target_name=\"stability_scores\"\n",
    ")\n",
    "\n",
    "dataset = ProteinStabilityDataset(data_path / f\"stability_{path_.stem}.h5\",  ret_dict=False)\n",
    "len(dataset)"
   ],
   "outputs": [
    {
     "output_type": "stream",
     "name": "stderr",
     "text": [
      "Using cache found in /home/roberto/.cache/torch/hub/facebookresearch_esm_master\n",
      "Returning existing dataset...\n"
     ]
    },
    {
     "output_type": "execute_result",
     "data": {
      "text/plain": [
       "7771"
      ]
     },
     "metadata": {},
     "execution_count": 6
    }
   ],
   "metadata": {}
  },
  {
   "cell_type": "markdown",
   "source": [
    "## Sklearn approach"
   ],
   "metadata": {}
  },
  {
   "cell_type": "code",
   "execution_count": 9,
   "source": [
    "from sklearn.ensemble import RandomForestRegressor, GradientBoostingRegressor\n",
    "from sklearn.neural_network import MLPRegressor\n",
    "from sklearn.svm import SVR\n",
    "from sklearn.model_selection import train_test_split\n",
    "from sklearn.metrics import r2_score\n",
    "\n",
    "from protera_stability.utils.decomposition import dim_reduction"
   ],
   "outputs": [],
   "metadata": {}
  },
  {
   "cell_type": "code",
   "execution_count": 10,
   "source": [
    "X = dim_reduction(dataset.X, dataset.y, n_components=16, plot_viz=False)\n",
    "y = dataset.y\n",
    "\n",
    "X_train, X_test, y_train, y_test = train_test_split(X, y, test_size=0.33, random_state=43)\n",
    "X_valid, X_test, y_valid, y_test = train_test_split(X_test, y_test, test_size=0.33, random_state=43)"
   ],
   "outputs": [],
   "metadata": {}
  },
  {
   "cell_type": "code",
   "execution_count": 11,
   "source": [
    "scoring = \"r2\"\n",
    "score = r2_score\n",
    "models = {\n",
    "    \"RandomForest\": {\n",
    "        \"model\": RandomForestRegressor(),\n",
    "        \"params\": {\n",
    "            \"n_estimators\": [50, 100, 200],\n",
    "            \"max_depth\": [None, 100],\n",
    "            \"criterion\": [\"mse\", \"mae\"]\n",
    "        },\n",
    "    },\n",
    "    \"SVR\": {\n",
    "        \"model\": SVR(),\n",
    "        \"params\": {\n",
    "            \"C\": [0.1, 1.0, 10.0],\n",
    "            \"kernel\": [\"linear\", \"poly\", \"rbf\", \"sigmoid\"],\n",
    "            \"degree\": [3],\n",
    "            \"gamma\": [\"scale\"],\n",
    "        },\n",
    "    },\n",
    "    \"MLP\": {\n",
    "        \"model\": MLPRegressor(),\n",
    "        \"params\": {\n",
    "            \"hidden_layer_sizes\": [(100,), (100, 100), (1024, 1024)],\n",
    "            \"activation\": [\"tanh\", \"relu\"],\n",
    "            \"solver\": [\"sgd\", \"adam\"],\n",
    "        },\n",
    "    },\n",
    "}"
   ],
   "outputs": [],
   "metadata": {}
  },
  {
   "cell_type": "code",
   "execution_count": 12,
   "source": [
    "from protera_stability.utils import perform_search\n",
    "\n",
    "for name, model in models.items():\n",
    "    perform_search(\n",
    "        X_train,\n",
    "        y_train,\n",
    "        model[\"model\"],\n",
    "        model[\"params\"],\n",
    "        name,\n",
    "        X_test=X_valid,\n",
    "        y_test=y_valid,\n",
    "        save_dir=\"../models\",\n",
    "        n_jobs=8,\n",
    "    )"
   ],
   "outputs": [
    {
     "output_type": "stream",
     "name": "stdout",
     "text": [
      "============\n",
      "Fitting model RandomForest...\n",
      "Fitting 5 folds for each of 12 candidates, totalling 60 fits\n",
      "RandomForest best R2: 0.509007163999039\n",
      "Best params: {'criterion': 'mse', 'max_depth': 100, 'n_estimators': 200}\n",
      "Test R2: 0.4943190868741618\n",
      "============\n",
      "============\n",
      "Fitting model SVR...\n",
      "Fitting 5 folds for each of 12 candidates, totalling 60 fits\n",
      "SVR best R2: 0.3499447777543461\n",
      "Best params: {'C': 10.0, 'degree': 3, 'gamma': 'scale', 'kernel': 'rbf'}\n",
      "Test R2: 0.3754357331424272\n",
      "============\n",
      "============\n",
      "Fitting model MLP...\n",
      "Fitting 5 folds for each of 12 candidates, totalling 60 fits\n"
     ]
    },
    {
     "output_type": "stream",
     "name": "stderr",
     "text": [
      "/home/roberto/anaconda3/envs/protera-stability/lib/python3.8/site-packages/sklearn/neural_network/_multilayer_perceptron.py:614: ConvergenceWarning: Stochastic Optimizer: Maximum iterations (200) reached and the optimization hasn't converged yet.\n",
      "  warnings.warn(\n",
      "/home/roberto/anaconda3/envs/protera-stability/lib/python3.8/site-packages/sklearn/neural_network/_multilayer_perceptron.py:614: ConvergenceWarning: Stochastic Optimizer: Maximum iterations (200) reached and the optimization hasn't converged yet.\n",
      "  warnings.warn(\n",
      "/home/roberto/anaconda3/envs/protera-stability/lib/python3.8/site-packages/sklearn/neural_network/_multilayer_perceptron.py:614: ConvergenceWarning: Stochastic Optimizer: Maximum iterations (200) reached and the optimization hasn't converged yet.\n",
      "  warnings.warn(\n",
      "/home/roberto/anaconda3/envs/protera-stability/lib/python3.8/site-packages/sklearn/neural_network/_multilayer_perceptron.py:614: ConvergenceWarning: Stochastic Optimizer: Maximum iterations (200) reached and the optimization hasn't converged yet.\n",
      "  warnings.warn(\n",
      "/home/roberto/anaconda3/envs/protera-stability/lib/python3.8/site-packages/sklearn/neural_network/_multilayer_perceptron.py:614: ConvergenceWarning: Stochastic Optimizer: Maximum iterations (200) reached and the optimization hasn't converged yet.\n",
      "  warnings.warn(\n",
      "/home/roberto/anaconda3/envs/protera-stability/lib/python3.8/site-packages/sklearn/neural_network/_multilayer_perceptron.py:614: ConvergenceWarning: Stochastic Optimizer: Maximum iterations (200) reached and the optimization hasn't converged yet.\n",
      "  warnings.warn(\n",
      "/home/roberto/anaconda3/envs/protera-stability/lib/python3.8/site-packages/sklearn/neural_network/_multilayer_perceptron.py:614: ConvergenceWarning: Stochastic Optimizer: Maximum iterations (200) reached and the optimization hasn't converged yet.\n",
      "  warnings.warn(\n",
      "/home/roberto/anaconda3/envs/protera-stability/lib/python3.8/site-packages/sklearn/neural_network/_multilayer_perceptron.py:614: ConvergenceWarning: Stochastic Optimizer: Maximum iterations (200) reached and the optimization hasn't converged yet.\n",
      "  warnings.warn(\n",
      "/home/roberto/anaconda3/envs/protera-stability/lib/python3.8/site-packages/sklearn/neural_network/_multilayer_perceptron.py:614: ConvergenceWarning: Stochastic Optimizer: Maximum iterations (200) reached and the optimization hasn't converged yet.\n",
      "  warnings.warn(\n",
      "/home/roberto/anaconda3/envs/protera-stability/lib/python3.8/site-packages/sklearn/neural_network/_multilayer_perceptron.py:614: ConvergenceWarning: Stochastic Optimizer: Maximum iterations (200) reached and the optimization hasn't converged yet.\n",
      "  warnings.warn(\n",
      "/home/roberto/anaconda3/envs/protera-stability/lib/python3.8/site-packages/sklearn/neural_network/_multilayer_perceptron.py:614: ConvergenceWarning: Stochastic Optimizer: Maximum iterations (200) reached and the optimization hasn't converged yet.\n",
      "  warnings.warn(\n",
      "/home/roberto/anaconda3/envs/protera-stability/lib/python3.8/site-packages/sklearn/neural_network/_multilayer_perceptron.py:614: ConvergenceWarning: Stochastic Optimizer: Maximum iterations (200) reached and the optimization hasn't converged yet.\n",
      "  warnings.warn(\n",
      "/home/roberto/anaconda3/envs/protera-stability/lib/python3.8/site-packages/sklearn/neural_network/_multilayer_perceptron.py:614: ConvergenceWarning: Stochastic Optimizer: Maximum iterations (200) reached and the optimization hasn't converged yet.\n",
      "  warnings.warn(\n",
      "/home/roberto/anaconda3/envs/protera-stability/lib/python3.8/site-packages/sklearn/neural_network/_multilayer_perceptron.py:614: ConvergenceWarning: Stochastic Optimizer: Maximum iterations (200) reached and the optimization hasn't converged yet.\n",
      "  warnings.warn(\n"
     ]
    },
    {
     "output_type": "stream",
     "name": "stdout",
     "text": [
      "MLP best R2: 0.4611450406497564\n",
      "Best params: {'activation': 'tanh', 'hidden_layer_sizes': (100,), 'solver': 'adam'}\n",
      "Test R2: 0.4193734869332113\n",
      "============\n"
     ]
    }
   ],
   "metadata": {}
  },
  {
   "cell_type": "code",
   "execution_count": null,
   "source": [],
   "outputs": [],
   "metadata": {}
  },
  {
   "cell_type": "markdown",
   "source": [
    "## NN-based approach"
   ],
   "metadata": {}
  },
  {
   "cell_type": "code",
   "execution_count": 7,
   "source": [
    "import torch\n",
    "from protera_stability.config.lazy import LazyCall as L\n",
    "from protera_stability.config.common.mlp import mlp_esm\n",
    "from protera_stability.train import get_cfg, setup_diversity, setup_data\n",
    "\n",
    "exp_params = {\n",
    "    \"diversity_cutoff\": 0.,\n",
    "    \"random_percent\": 1.,\n",
    "    \"sampling_method\": \"\",\n",
    "    \"experiment_name\": \"per_prot\",\n",
    "}\n",
    "\n",
    "def create_cfg(exp_params):\n",
    "    cfg = get_cfg(args={})\n",
    "    cfg = setup_diversity(cfg, **exp_params)\n",
    "    mlp_esm.n_units = 1024\n",
    "    mlp_esm.n_layers = 1\n",
    "    mlp_esm.act = L(torch.nn.GELU)()\n",
    "    cfg.model = mlp_esm\n",
    "\n",
    "    cfg = setup_data(cfg, dataset=dataset)\n",
    "    return cfg"
   ],
   "outputs": [],
   "metadata": {}
  },
  {
   "cell_type": "code",
   "execution_count": 8,
   "source": [
    "cfg = create_cfg(exp_params)\n",
    "cfg.trainer_params.gpus = 1\n",
    "cfg.keys()"
   ],
   "outputs": [
    {
     "output_type": "execute_result",
     "data": {
      "text/plain": [
       "dict_keys(['trainer_params', 'output_dir', 'random_split', 'experiment', 'model', 'dataloader'])"
      ]
     },
     "metadata": {},
     "execution_count": 8
    }
   ],
   "metadata": {}
  },
  {
   "cell_type": "code",
   "execution_count": 9,
   "source": [
    "from protera_stability.engine.default import DefaultTrainer\n",
    "\n",
    "cfg.dataloader.train.dataset = dataset\n",
    "# cfg.dataloader.test.dataset = dataset\n",
    "\n",
    "trainer = DefaultTrainer(cfg)"
   ],
   "outputs": [
    {
     "output_type": "stream",
     "name": "stderr",
     "text": [
      "/home/roberto/anaconda3/envs/protera-stability/lib/python3.8/site-packages/pytorch_lightning/callbacks/model_checkpoint.py:446: UserWarning: Checkpoint directory logs/per_prot_all-data/models exists and is not empty.\n",
      "  rank_zero_warn(f\"Checkpoint directory {dirpath} exists and is not empty.\")\n",
      "GPU available: True, used: True\n",
      "TPU available: False, using: 0 TPU cores\n",
      "IPU available: False, using: 0 IPUs\n"
     ]
    }
   ],
   "metadata": {}
  },
  {
   "cell_type": "code",
   "execution_count": 10,
   "source": [
    "trainer.fit()"
   ],
   "outputs": [
    {
     "output_type": "stream",
     "name": "stderr",
     "text": [
      "LOCAL_RANK: 0 - CUDA_VISIBLE_DEVICES: [0,1]\n",
      "\n",
      "  | Name     | Type       | Params\n",
      "----------------------------------------\n",
      "0 | model    | ProteinMLP | 1.3 K \n",
      "1 | train_r2 | R2Score    | 0     \n",
      "2 | valid_r2 | R2Score    | 0     \n",
      "3 | test_r2  | R2Score    | 0     \n",
      "----------------------------------------\n",
      "1.3 K     Trainable params\n",
      "0         Non-trainable params\n",
      "1.3 K     Total params\n",
      "0.005     Total estimated model params size (MB)\n"
     ]
    },
    {
     "output_type": "stream",
     "name": "stdout",
     "text": [
      "Epoch 81: 100%|██████████| 25/25 [00:00<00:00, 41.41it/s, loss=0.578, v_num=27, train/r2=0.438, train/loss=0.573, valid/r2=0.413, valid/loss=0.493]"
     ]
    },
    {
     "output_type": "stream",
     "name": "stderr",
     "text": [
      "/home/roberto/anaconda3/envs/protera-stability/lib/python3.8/site-packages/pytorch_lightning/trainer/trainer.py:1046: UserWarning: Detected KeyboardInterrupt, attempting graceful shutdown...\n",
      "  rank_zero_warn(\"Detected KeyboardInterrupt, attempting graceful shutdown...\")\n"
     ]
    },
    {
     "output_type": "execute_result",
     "data": {
      "text/plain": [
       "<protera_stability.engine.default.DefaultTrainer at 0x7fd9259b69d0>"
      ]
     },
     "metadata": {},
     "execution_count": 10
    }
   ],
   "metadata": {}
  },
  {
   "cell_type": "code",
   "execution_count": 11,
   "source": [
    "#TODO: prediction on a test set\n",
    "trainer.model()"
   ],
   "outputs": [
    {
     "output_type": "execute_result",
     "data": {
      "text/plain": [
       "ProteinMLP(\n",
       "  (layers): ModuleList(\n",
       "    (0): Linear(in_features=1280, out_features=1, bias=True)\n",
       "  )\n",
       "  (drop): Dropout(p=0.7, inplace=False)\n",
       "  (act): GELU()\n",
       ")"
      ]
     },
     "metadata": {},
     "execution_count": 11
    }
   ],
   "metadata": {}
  },
  {
   "cell_type": "code",
   "execution_count": null,
   "source": [],
   "outputs": [],
   "metadata": {}
  }
 ],
 "metadata": {
  "orig_nbformat": 4,
  "language_info": {
   "name": "python",
   "version": "3.8.10",
   "mimetype": "text/x-python",
   "codemirror_mode": {
    "name": "ipython",
    "version": 3
   },
   "pygments_lexer": "ipython3",
   "nbconvert_exporter": "python",
   "file_extension": ".py"
  },
  "kernelspec": {
   "name": "python3",
   "display_name": "Python 3.8.10 64-bit ('protera-stability': conda)"
  },
  "interpreter": {
   "hash": "a78d51e19256cfce1d39a2c3cba2e8056cac1355cb83723ad6d6938cbf3c5352"
  }
 },
 "nbformat": 4,
 "nbformat_minor": 2
}