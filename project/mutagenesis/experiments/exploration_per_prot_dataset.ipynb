{
 "cells": [
  {
   "cell_type": "code",
   "execution_count": 5,
   "source": [],
   "outputs": [
    {
     "output_type": "stream",
     "name": "stdout",
     "text": [
      "[PosixPath('../data/Protera/prism/prism_merged_037_UBI4_E1_binding_limiting_E1.csv'), PosixPath('../data/Protera/prism/prism_merged_999_IF-1_DMS.csv'), PosixPath('../data/Protera/prism/prism_merged_021_PAB1_doxycyclin_sensitivity.csv'), PosixPath('../data/Protera/prism/prism_merged_006_CBS_high_B6_activity.csv'), PosixPath('../data/Protera/prism/prism_merged_003_PTEN_abundance.csv'), PosixPath('../data/Protera/prism/prism_merged_999_GmR_DMS.csv'), PosixPath('../data/Protera/prism/prism_merged_027_Src_kinase_activity_catalytic_domain_reversed.csv'), PosixPath('../data/Protera/prism/prism_merged_999_ccdB_DMS.csv'), PosixPath('../data/Protera/prism/prism_merged_026_BRCA1_E3_ubiquitination_activity.csv'), PosixPath('../data/Protera/prism/prism_merged_999_HAh1n1_DMS.csv')]\n"
     ]
    }
   ],
   "metadata": {}
  },
  {
   "cell_type": "code",
   "execution_count": 7,
   "source": [
    "from protera_stability.proteins import EmbeddingExtractor1D\n",
    "\n",
    "from sklearn.preprocessing import StandardScaler\n",
    "import pandas as pd\n",
    "import numpy as np\n",
    "from tqdm import tqdm\n",
    "\n",
    "from pathlib import Path\n",
    "\n",
    "data_path = Path(\"../data\") / \"Protera\"\n",
    "per_protein_csv = [pth for pth in (data_path / \"prism\").iterdir()]\n",
    "\n",
    "print(per_protein_csv[:10])\n",
    "\n",
    "class AsSubscriptable:\n",
    "    def __init__(self, values, get_func):\n",
    "        self.values = values\n",
    "        self.get_func = get_func\n",
    "\n",
    "    def __getitem__(self, idx):\n",
    "        return self.get_func(self.values, idx)\n",
    "\n",
    "\n",
    "class EmbeddingGetter:\n",
    "    def __init__(self, protein_csv_path, cuda, data_path):\n",
    "        self.extractor_kwargs = {\n",
    "            \"model_name\": \"esm1b_t33_650M_UR50S\",\n",
    "            \"base_path\": data_path,\n",
    "            \"gpu\": cuda,\n",
    "        }\n",
    "        self.extractor = EmbeddingExtractor1D(**self.extractor_kwargs)\n",
    "        self.df = self.process_csv(protein_csv_path)\n",
    "        self.sequences = self.df.sequences.values\n",
    "        self.labels = self.df.labels.values\n",
    "\n",
    "        self.initialize()\n",
    "\n",
    "    def initialize(self):\n",
    "        print(\"Initializing on the fly scalers...\")\n",
    "        self.x_scaler = StandardScaler()\n",
    "        self.y_scaler = StandardScaler()\n",
    "\n",
    "        # use 10% of the data to fit scaler\n",
    "        seqs = np.random.choice(self.sequences, size=min(int(len(self.sequences) * 0.1), 500), replace=False)\n",
    "        embeddings = []\n",
    "        for seq in tqdm(seqs):\n",
    "            embeddings.append(self.extractor.get_embedding(seq))\n",
    "\n",
    "        y = self.labels\n",
    "\n",
    "        self.x_scaler.fit(embeddings)\n",
    "        self.y_scaler.fit(y.reshape(-1, 1))        \n",
    "\n",
    "    def process_csv(self, path):\n",
    "        df = pd.read_csv(path)\n",
    "        df = df.drop_duplicates().dropna()\n",
    "        df = df[[\"variant\", \"Rosetta_ddg_score_02\"]]\n",
    "        df.columns = [\"sequences\", \"labels\"]\n",
    "        df = df[df.columns[::-1]]\n",
    "\n",
    "        return df\n",
    "\n",
    "    def X(self):\n",
    "        return AsSubscriptable(\n",
    "            self.sequences, \n",
    "            lambda x, idx: self.x_scaler.transform(self.extractor.get_embedding(x[idx]).reshape(1, -1))[0]\n",
    "        )\n",
    "    \n",
    "    def y(self):\n",
    "        return AsSubscriptable(\n",
    "            self.labels, \n",
    "            lambda x, idx: self.y_scaler.transform(x[idx].reshape(1, -1))[0]\n",
    "        )"
   ],
   "outputs": [
    {
     "output_type": "stream",
     "name": "stdout",
     "text": [
      "[PosixPath('../data/Protera/prism/prism_merged_037_UBI4_E1_binding_limiting_E1.csv'), PosixPath('../data/Protera/prism/prism_merged_999_IF-1_DMS.csv'), PosixPath('../data/Protera/prism/prism_merged_021_PAB1_doxycyclin_sensitivity.csv'), PosixPath('../data/Protera/prism/prism_merged_006_CBS_high_B6_activity.csv'), PosixPath('../data/Protera/prism/prism_merged_003_PTEN_abundance.csv'), PosixPath('../data/Protera/prism/prism_merged_999_GmR_DMS.csv'), PosixPath('../data/Protera/prism/prism_merged_027_Src_kinase_activity_catalytic_domain_reversed.csv'), PosixPath('../data/Protera/prism/prism_merged_999_ccdB_DMS.csv'), PosixPath('../data/Protera/prism/prism_merged_026_BRCA1_E3_ubiquitination_activity.csv'), PosixPath('../data/Protera/prism/prism_merged_999_HAh1n1_DMS.csv')]\n"
     ]
    }
   ],
   "metadata": {}
  },
  {
   "cell_type": "code",
   "execution_count": 8,
   "source": [
    "getter = EmbeddingGetter(protein_csv_path=data_path / \"prism/prism_merged_999_ADRB2_DMS.csv\", cuda=\"cuda:1\", data_path=data_path)"
   ],
   "outputs": [
    {
     "output_type": "stream",
     "name": "stderr",
     "text": [
      "Using cache found in /home/roberto/.cache/torch/hub/facebookresearch_esm_master\n"
     ]
    },
    {
     "output_type": "stream",
     "name": "stdout",
     "text": [
      "Initializing on the fly scalers...\n"
     ]
    },
    {
     "output_type": "stream",
     "name": "stderr",
     "text": [
      "100%|██████████| 409/409 [00:31<00:00, 12.86it/s]\n"
     ]
    }
   ],
   "metadata": {}
  },
  {
   "cell_type": "code",
   "execution_count": 9,
   "source": [
    "getter.X()[1], getter.y()[1]"
   ],
   "outputs": [
    {
     "output_type": "execute_result",
     "data": {
      "text/plain": [
       "(array([-0.02848428,  2.1652691 , -0.02952591, ..., -2.1547403 ,\n",
       "        -1.4675167 ,  1.2362475 ], dtype=float32),\n",
       " array([0.05850698]))"
      ]
     },
     "metadata": {},
     "execution_count": 9
    }
   ],
   "metadata": {}
  },
  {
   "cell_type": "code",
   "execution_count": 14,
   "source": [
    "import torch\n",
    "from protera_stability.config.lazy import LazyCall as L\n",
    "from protera_stability.config.common.mlp import mlp_esm\n",
    "from protera_stability.train import get_cfg, setup_diversity, setup_data\n",
    "\n",
    "exp_params = {\n",
    "    \"diversity_cutoff\": 0.866,\n",
    "    \"random_percent\": 0.15,\n",
    "    \"sampling_method\": \"diversity\",\n",
    "    \"experiment_name\": \"base\",\n",
    "}\n",
    "\n",
    "def setup_data(cfg):\n",
    "    raise NotImplementedError\n",
    "\n",
    "def create_cfg(exp_params):\n",
    "    cfg = get_cfg(args={})\n",
    "    cfg = setup_diversity(cfg, **exp_params)\n",
    "    mlp_esm.n_units = 2048\n",
    "    mlp_esm.act = L(torch.nn.GELU)()\n",
    "    cfg.model = mlp_esm\n",
    "\n",
    "    cfg = setup_data(cfg)\n",
    "    return cfg\n",
    "\n",
    "cfg = create_cfg(exp_params)\n",
    "cfg.keys()"
   ],
   "outputs": [
    {
     "output_type": "error",
     "ename": "NotImplementedError",
     "evalue": "",
     "traceback": [
      "\u001b[0;31m---------------------------------------------------------------------------\u001b[0m",
      "\u001b[0;31mNotImplementedError\u001b[0m                       Traceback (most recent call last)",
      "\u001b[0;32m/tmp/ipykernel_4675/72817017.py\u001b[0m in \u001b[0;36m<module>\u001b[0;34m\u001b[0m\n\u001b[1;32m     24\u001b[0m     \u001b[0;32mreturn\u001b[0m \u001b[0mcfg\u001b[0m\u001b[0;34m\u001b[0m\u001b[0;34m\u001b[0m\u001b[0m\n\u001b[1;32m     25\u001b[0m \u001b[0;34m\u001b[0m\u001b[0m\n\u001b[0;32m---> 26\u001b[0;31m \u001b[0mcfg\u001b[0m \u001b[0;34m=\u001b[0m \u001b[0mcreate_cfg\u001b[0m\u001b[0;34m(\u001b[0m\u001b[0mexp_params\u001b[0m\u001b[0;34m)\u001b[0m\u001b[0;34m\u001b[0m\u001b[0;34m\u001b[0m\u001b[0m\n\u001b[0m\u001b[1;32m     27\u001b[0m \u001b[0mcfg\u001b[0m\u001b[0;34m.\u001b[0m\u001b[0mkeys\u001b[0m\u001b[0;34m(\u001b[0m\u001b[0;34m)\u001b[0m\u001b[0;34m\u001b[0m\u001b[0;34m\u001b[0m\u001b[0m\n",
      "\u001b[0;32m/tmp/ipykernel_4675/72817017.py\u001b[0m in \u001b[0;36mcreate_cfg\u001b[0;34m(exp_params)\u001b[0m\n\u001b[1;32m     21\u001b[0m     \u001b[0mcfg\u001b[0m\u001b[0;34m.\u001b[0m\u001b[0mmodel\u001b[0m \u001b[0;34m=\u001b[0m \u001b[0mmlp_esm\u001b[0m\u001b[0;34m\u001b[0m\u001b[0;34m\u001b[0m\u001b[0m\n\u001b[1;32m     22\u001b[0m \u001b[0;34m\u001b[0m\u001b[0m\n\u001b[0;32m---> 23\u001b[0;31m     \u001b[0mcfg\u001b[0m \u001b[0;34m=\u001b[0m \u001b[0msetup_data\u001b[0m\u001b[0;34m(\u001b[0m\u001b[0mcfg\u001b[0m\u001b[0;34m)\u001b[0m\u001b[0;34m\u001b[0m\u001b[0;34m\u001b[0m\u001b[0m\n\u001b[0m\u001b[1;32m     24\u001b[0m     \u001b[0;32mreturn\u001b[0m \u001b[0mcfg\u001b[0m\u001b[0;34m\u001b[0m\u001b[0;34m\u001b[0m\u001b[0m\n\u001b[1;32m     25\u001b[0m \u001b[0;34m\u001b[0m\u001b[0m\n",
      "\u001b[0;32m/tmp/ipykernel_4675/72817017.py\u001b[0m in \u001b[0;36msetup_data\u001b[0;34m(cfg)\u001b[0m\n\u001b[1;32m     12\u001b[0m \u001b[0;34m\u001b[0m\u001b[0m\n\u001b[1;32m     13\u001b[0m \u001b[0;32mdef\u001b[0m \u001b[0msetup_data\u001b[0m\u001b[0;34m(\u001b[0m\u001b[0mcfg\u001b[0m\u001b[0;34m)\u001b[0m\u001b[0;34m:\u001b[0m\u001b[0;34m\u001b[0m\u001b[0;34m\u001b[0m\u001b[0m\n\u001b[0;32m---> 14\u001b[0;31m     \u001b[0;32mraise\u001b[0m \u001b[0mNotImplementedError\u001b[0m\u001b[0;34m\u001b[0m\u001b[0;34m\u001b[0m\u001b[0m\n\u001b[0m\u001b[1;32m     15\u001b[0m \u001b[0;34m\u001b[0m\u001b[0m\n\u001b[1;32m     16\u001b[0m \u001b[0;32mdef\u001b[0m \u001b[0mcreate_cfg\u001b[0m\u001b[0;34m(\u001b[0m\u001b[0mexp_params\u001b[0m\u001b[0;34m)\u001b[0m\u001b[0;34m:\u001b[0m\u001b[0;34m\u001b[0m\u001b[0;34m\u001b[0m\u001b[0m\n",
      "\u001b[0;31mNotImplementedError\u001b[0m: "
     ]
    }
   ],
   "metadata": {}
  },
  {
   "cell_type": "code",
   "execution_count": null,
   "source": [],
   "outputs": [],
   "metadata": {}
  }
 ],
 "metadata": {
  "orig_nbformat": 4,
  "language_info": {
   "name": "python",
   "version": "3.8.10",
   "mimetype": "text/x-python",
   "codemirror_mode": {
    "name": "ipython",
    "version": 3
   },
   "pygments_lexer": "ipython3",
   "nbconvert_exporter": "python",
   "file_extension": ".py"
  },
  "kernelspec": {
   "name": "python3",
   "display_name": "Python 3.9.7 64-bit ('protera-stability': conda)"
  },
  "interpreter": {
   "hash": "a78d51e19256cfce1d39a2c3cba2e8056cac1355cb83723ad6d6938cbf3c5352"
  }
 },
 "nbformat": 4,
 "nbformat_minor": 2
}