{
 "cells": [
  {
   "cell_type": "code",
   "execution_count": 54,
   "id": "b58ea772",
   "metadata": {
    "ExecuteTime": {
     "end_time": "2021-09-06T21:27:42.786212Z",
     "start_time": "2021-09-06T21:27:42.783156Z"
    }
   },
   "outputs": [],
   "source": [
    "from pathlib import Path\n",
    "\n",
    "import pandas as pd\n",
    "import numpy as np\n",
    "\n",
    "import matplotlib.pyplot as plt\n",
    "from collections import OrderedDict"
   ]
  },
  {
   "cell_type": "code",
   "execution_count": 55,
   "id": "e3a02502",
   "metadata": {
    "ExecuteTime": {
     "end_time": "2021-09-06T21:27:43.288844Z",
     "start_time": "2021-09-06T21:27:42.984657Z"
    }
   },
   "outputs": [
    {
     "name": "stdout",
     "output_type": "stream",
     "text": [
      "clustering   data.csv  mmseq_q\tprefilter.out  search.out\tstability.csv\r\n",
      "cluster.out  mmseq     mmseq_t\tprism\t       sequences.fasta\ttmp\r\n"
     ]
    }
   ],
   "source": [
    "data_path = Path('../data/Protera')\n",
    "\n",
    "!ls $data_path"
   ]
  },
  {
   "cell_type": "code",
   "execution_count": 56,
   "id": "15d38d5c",
   "metadata": {
    "ExecuteTime": {
     "end_time": "2021-09-06T21:27:48.544686Z",
     "start_time": "2021-09-06T21:27:44.136073Z"
    }
   },
   "outputs": [],
   "source": [
    "data = pd.read_csv(data_path / \"stability.csv\")"
   ]
  },
  {
   "cell_type": "markdown",
   "id": "0278b366",
   "metadata": {},
   "source": [
    "## Data Duplication"
   ]
  },
  {
   "cell_type": "code",
   "execution_count": 57,
   "id": "47ede143",
   "metadata": {
    "ExecuteTime": {
     "end_time": "2021-09-06T21:27:51.220698Z",
     "start_time": "2021-09-06T21:27:48.547843Z"
    }
   },
   "outputs": [
    {
     "data": {
      "text/plain": [
       "(False, (142443,), 583851)"
      ]
     },
     "execution_count": 57,
     "metadata": {},
     "output_type": "execute_result"
    }
   ],
   "source": [
    "len(data['sequences'].unique()) == len(data), data['sequences'].unique().shape, len(data)"
   ]
  },
  {
   "cell_type": "code",
   "execution_count": 58,
   "id": "93e85e6d",
   "metadata": {
    "ExecuteTime": {
     "end_time": "2021-09-06T21:27:53.433576Z",
     "start_time": "2021-09-06T21:27:51.223634Z"
    }
   },
   "outputs": [
    {
     "data": {
      "text/html": [
       "<div>\n",
       "<style scoped>\n",
       "    .dataframe tbody tr th:only-of-type {\n",
       "        vertical-align: middle;\n",
       "    }\n",
       "\n",
       "    .dataframe tbody tr th {\n",
       "        vertical-align: top;\n",
       "    }\n",
       "\n",
       "    .dataframe thead th {\n",
       "        text-align: right;\n",
       "    }\n",
       "</style>\n",
       "<table border=\"1\" class=\"dataframe\">\n",
       "  <thead>\n",
       "    <tr style=\"text-align: right;\">\n",
       "      <th></th>\n",
       "      <th>sequences</th>\n",
       "      <th>labels</th>\n",
       "    </tr>\n",
       "  </thead>\n",
       "  <tbody>\n",
       "    <tr>\n",
       "      <th>0</th>\n",
       "      <td>QIFVKTLTGKTITLEVESSDTIDNVKSKIQDKEGIPPDQQRLIFAG...</td>\n",
       "      <td>0.226782</td>\n",
       "    </tr>\n",
       "    <tr>\n",
       "      <th>1</th>\n",
       "      <td>QIFVKTLTGKTITLEVESSDTIDNVKSKIQDKEGIPPDQQRLIFAG...</td>\n",
       "      <td>0.782184</td>\n",
       "    </tr>\n",
       "    <tr>\n",
       "      <th>2</th>\n",
       "      <td>QIFVKTLTGKTITLEVESSDTIDNVKSKIQDKEGIPPDQQRLIFAG...</td>\n",
       "      <td>1.151609</td>\n",
       "    </tr>\n",
       "    <tr>\n",
       "      <th>3</th>\n",
       "      <td>QIFVKTLTGKTITLEVESSDTIDNVKSKIQDKEGIPPDQQRLIFAG...</td>\n",
       "      <td>0.292759</td>\n",
       "    </tr>\n",
       "    <tr>\n",
       "      <th>4</th>\n",
       "      <td>QIFVKTLTGKTITLEVESSDTIDNVKSKIQDKEGIPPDQQRLIFAG...</td>\n",
       "      <td>-0.880000</td>\n",
       "    </tr>\n",
       "    <tr>\n",
       "      <th>...</th>\n",
       "      <td>...</td>\n",
       "      <td>...</td>\n",
       "    </tr>\n",
       "    <tr>\n",
       "      <th>202934</th>\n",
       "      <td>HKLRKLNPPDESGPGCMSCKCVLSSMTEYKLVVVGAGGVGKSALTI...</td>\n",
       "      <td>0.405517</td>\n",
       "    </tr>\n",
       "    <tr>\n",
       "      <th>202935</th>\n",
       "      <td>HKLRKLNPPDESGPGCMSCKCVLSTMTEYKLVVVGAGGVGKSALTI...</td>\n",
       "      <td>0.173793</td>\n",
       "    </tr>\n",
       "    <tr>\n",
       "      <th>202936</th>\n",
       "      <td>HKLRKLNPPDESGPGCMSCKCVLSVMTEYKLVVVGAGGVGKSALTI...</td>\n",
       "      <td>2.447356</td>\n",
       "    </tr>\n",
       "    <tr>\n",
       "      <th>202937</th>\n",
       "      <td>HKLRKLNPPDESGPGCMSCKCVLSWMTEYKLVVVGAGGVGKSALTI...</td>\n",
       "      <td>1.032299</td>\n",
       "    </tr>\n",
       "    <tr>\n",
       "      <th>202938</th>\n",
       "      <td>HKLRKLNPPDESGPGCMSCKCVLSYMTEYKLVVVGAGGVGKSALTI...</td>\n",
       "      <td>1.462989</td>\n",
       "    </tr>\n",
       "  </tbody>\n",
       "</table>\n",
       "<p>142443 rows × 2 columns</p>\n",
       "</div>"
      ],
      "text/plain": [
       "                                                sequences    labels\n",
       "0       QIFVKTLTGKTITLEVESSDTIDNVKSKIQDKEGIPPDQQRLIFAG...  0.226782\n",
       "1       QIFVKTLTGKTITLEVESSDTIDNVKSKIQDKEGIPPDQQRLIFAG...  0.782184\n",
       "2       QIFVKTLTGKTITLEVESSDTIDNVKSKIQDKEGIPPDQQRLIFAG...  1.151609\n",
       "3       QIFVKTLTGKTITLEVESSDTIDNVKSKIQDKEGIPPDQQRLIFAG...  0.292759\n",
       "4       QIFVKTLTGKTITLEVESSDTIDNVKSKIQDKEGIPPDQQRLIFAG... -0.880000\n",
       "...                                                   ...       ...\n",
       "202934  HKLRKLNPPDESGPGCMSCKCVLSSMTEYKLVVVGAGGVGKSALTI...  0.405517\n",
       "202935  HKLRKLNPPDESGPGCMSCKCVLSTMTEYKLVVVGAGGVGKSALTI...  0.173793\n",
       "202936  HKLRKLNPPDESGPGCMSCKCVLSVMTEYKLVVVGAGGVGKSALTI...  2.447356\n",
       "202937  HKLRKLNPPDESGPGCMSCKCVLSWMTEYKLVVVGAGGVGKSALTI...  1.032299\n",
       "202938  HKLRKLNPPDESGPGCMSCKCVLSYMTEYKLVVVGAGGVGKSALTI...  1.462989\n",
       "\n",
       "[142443 rows x 2 columns]"
      ]
     },
     "execution_count": 58,
     "metadata": {},
     "output_type": "execute_result"
    }
   ],
   "source": [
    "data = data.drop_duplicates()\n",
    "data"
   ]
  },
  {
   "cell_type": "markdown",
   "id": "a7bb1a2e",
   "metadata": {},
   "source": [
    "## Alignments"
   ]
  },
  {
   "cell_type": "code",
   "execution_count": 65,
   "id": "3bc67c25",
   "metadata": {
    "ExecuteTime": {
     "end_time": "2021-09-06T21:29:12.056513Z",
     "start_time": "2021-09-06T21:29:09.097385Z"
    }
   },
   "outputs": [
    {
     "name": "stdout",
     "output_type": "stream",
     "text": [
      "3.46 ms ± 732 µs per loop (mean ± std. dev. of 7 runs, 100 loops each)\n"
     ]
    }
   ],
   "source": [
    "%timeit pairwise2.align.localmx(data['sequences'][0], data['sequences'][1], 1, 0)"
   ]
  },
  {
   "cell_type": "code",
   "execution_count": 66,
   "id": "557a4c1e",
   "metadata": {
    "ExecuteTime": {
     "end_time": "2021-09-06T21:29:25.644761Z",
     "start_time": "2021-09-06T21:29:19.414075Z"
    }
   },
   "outputs": [
    {
     "name": "stdout",
     "output_type": "stream",
     "text": [
      "694 µs ± 58.3 µs per loop (mean ± std. dev. of 7 runs, 1000 loops each)\n"
     ]
    }
   ],
   "source": [
    "%timeit pairwise2.align.globalxx(data['sequences'][0], data['sequences'][1])"
   ]
  },
  {
   "cell_type": "code",
   "execution_count": 60,
   "id": "69742aab",
   "metadata": {
    "ExecuteTime": {
     "end_time": "2021-09-06T21:28:00.633472Z",
     "start_time": "2021-09-06T21:28:00.597718Z"
    },
    "scrolled": true
   },
   "outputs": [
    {
     "name": "stdout",
     "output_type": "stream",
     "text": [
      "QIFVKTLTGKTITLEVESSDTIDNVKSKIQDKEGIPPDQQRLIFAGKQLEDGRTLSDYNIQKESTLHLVLRLRGGA-Q\n",
      "|||||||||||||||||||||||||||||||||||||||||||||||||||||||||||||||||||||||||||  |\n",
      "QIFVKTLTGKTITLEVESSDTIDNVKSKIQDKEGIPPDQQRLIFAGKQLEDGRTLSDYNIQKESTLHLVLRLRGG-CQ\n",
      "  Score=76\n",
      "\n"
     ]
    }
   ],
   "source": [
    "from Bio import pairwise2\n",
    "\n",
    "alignment = pairwise2.align.globalxx(data['sequences'][0], data['sequences'][1])\n",
    "print(pairwise2.format_alignment(*alignment[0]))"
   ]
  },
  {
   "cell_type": "markdown",
   "id": "de69fb8a",
   "metadata": {},
   "source": [
    "## Score per metrics\n",
    "\n",
    "* More unique values => more stability?\n",
    "* Does sequence length matter?\n"
   ]
  },
  {
   "cell_type": "code",
   "execution_count": 8,
   "id": "2bb54d4d",
   "metadata": {
    "ExecuteTime": {
     "end_time": "2021-09-06T20:43:24.617454Z",
     "start_time": "2021-09-06T20:43:24.614726Z"
    }
   },
   "outputs": [],
   "source": [
    "def append_to_key(d, k, v):\n",
    "    if k in d:\n",
    "        values = d[k]\n",
    "        values.append(v)\n",
    "        d[k] = values\n",
    "        \n",
    "    else:\n",
    "        d[k] = [v]\n",
    "        \n",
    "def compute_mean_scores(d):\n",
    "    new_d = dict()\n",
    "    for k in d:\n",
    "        mean_score = np.mean(d[k])\n",
    "        new_d[k] = (mean_score, len(d[k]))\n",
    "        \n",
    "    return  OrderedDict(sorted(new_d.items()))"
   ]
  },
  {
   "cell_type": "code",
   "execution_count": 9,
   "id": "f87b51f5",
   "metadata": {
    "ExecuteTime": {
     "end_time": "2021-09-06T20:43:29.320201Z",
     "start_time": "2021-09-06T20:43:24.618088Z"
    },
    "scrolled": false
   },
   "outputs": [],
   "source": [
    "score_per_length = dict()\n",
    "score_per_uniqueness = dict()\n",
    "\n",
    "for idx, (seq, score) in data.iterrows():\n",
    "    # score_per_length\n",
    "    size = len(seq)\n",
    "    append_to_key(score_per_length, size, score)\n",
    "    \n",
    "    \n",
    "    # score_per_uniqueness => score per number of unique aminoacids in each seq\n",
    "    uniques = set(seq)\n",
    "    unique_size = len(uniques)\n",
    "    \n",
    "    append_to_key(score_per_uniqueness, unique_size, score)\n",
    "    \n",
    "    # count unique aminoacids\n",
    "    for amino in uniques:\n",
    "        uniques.add(amino)\n"
   ]
  },
  {
   "cell_type": "code",
   "execution_count": 10,
   "id": "9a8a1380",
   "metadata": {
    "ExecuteTime": {
     "end_time": "2021-09-06T20:43:29.330800Z",
     "start_time": "2021-09-06T20:43:29.321031Z"
    }
   },
   "outputs": [
    {
     "data": {
      "text/plain": [
       "OrderedDict([(67, (0.9057751840957926, 1102)),\n",
       "             (74, (1.4451812751889404, 1349)),\n",
       "             (77, (1.1445754647569504, 2812)),\n",
       "             (103, (1.286925200436685, 3306)),\n",
       "             (151, (1.1443029242667568, 2641)),\n",
       "             (161, (1.634530384824353, 2983)),\n",
       "             (166, (1.5775506460669793, 2964)),\n",
       "             (179, (1.4971539885887808, 2907)),\n",
       "             (191, (1.7890972966275298, 3154)),\n",
       "             (233, (1.3742664851784707, 4332)),\n",
       "             (245, (1.9083088648345037, 4256)),\n",
       "             (247, (1.7661625151570426, 4351)),\n",
       "             (252, (1.80805768275468, 4674)),\n",
       "             (288, (1.9360205176701843, 4959)),\n",
       "             (305, (0.9972862768821978, 1938)),\n",
       "             (310, (1.4987711794857383, 2451)),\n",
       "             (332, (2.2146651533399533, 6213)),\n",
       "             (362, (1.7637988821771322, 6365)),\n",
       "             (395, (1.6426984590222728, 3781)),\n",
       "             (405, (1.758458296139091, 5833)),\n",
       "             (415, (1.2377106719544715, 4104)),\n",
       "             (553, (1.8463374109891733, 9367)),\n",
       "             (567, (1.827159208737458, 8835)),\n",
       "             (568, (1.7181647496895907, 9063)),\n",
       "             (863, (1.3381459089534227, 9120)),\n",
       "             (890, (1.7712891624784783, 7904)),\n",
       "             (1370, (1.7016312942287903, 21679))])"
      ]
     },
     "execution_count": 10,
     "metadata": {},
     "output_type": "execute_result"
    }
   ],
   "source": [
    "compute_mean_scores(score_per_length)"
   ]
  },
  {
   "cell_type": "code",
   "execution_count": 11,
   "id": "5051498f",
   "metadata": {
    "ExecuteTime": {
     "end_time": "2021-09-06T20:43:29.345862Z",
     "start_time": "2021-09-06T20:43:29.332279Z"
    }
   },
   "outputs": [
    {
     "data": {
      "text/plain": [
       "OrderedDict([(17, (1.2191776852283291, 2368)),\n",
       "             (18, (1.1524984137931022, 5000)),\n",
       "             (19, (1.4371670347157923, 11246)),\n",
       "             (20, (1.7104500806976233, 118927)),\n",
       "             (21, (1.79797436654989, 4902))])"
      ]
     },
     "execution_count": 11,
     "metadata": {},
     "output_type": "execute_result"
    }
   ],
   "source": [
    "compute_mean_scores(score_per_uniqueness)"
   ]
  },
  {
   "cell_type": "markdown",
   "id": "1ba8fbee",
   "metadata": {},
   "source": [
    "## By Score"
   ]
  },
  {
   "cell_type": "code",
   "execution_count": 12,
   "id": "798e3b61",
   "metadata": {
    "ExecuteTime": {
     "end_time": "2021-09-06T20:43:29.374395Z",
     "start_time": "2021-09-06T20:43:29.346596Z"
    }
   },
   "outputs": [],
   "source": [
    "sorted_train = data.sort_values(by='labels')\n",
    "sorted_train = sorted_train.reset_index(drop = True)"
   ]
  },
  {
   "cell_type": "code",
   "execution_count": 68,
   "id": "c578ae95",
   "metadata": {
    "ExecuteTime": {
     "end_time": "2021-09-06T21:51:07.590336Z",
     "start_time": "2021-09-06T21:51:07.583927Z"
    }
   },
   "outputs": [
    {
     "data": {
      "text/plain": [
       "'PDFRIAFQELLCLRRSSLKAYGNGYSSNGNTGEQSGYHVEQEKENKLLCEDLPGTEDFVGHQGTVPSDNIDSQGRNCSTNDSLLWMGQPGNGSAFLLAPNGSHAPDHDVTQERDEVWVVGMGIVMSLIVLAIVFGNVLVITAIAKFERLQTVTNYFITSLACADLVMGLAVVPFGAAHILMKMWTFGNFWCEFWTSIDVLCVTASIETLCVIAVDRYFAITSPFKYQSLLTKNKARVIILMVWIVSGLTSFLPIQMHWYRATHQEAINCYANETCCDFFTNQAYAIASSIVSFYVPLVIMVFVYSRVFQEAKRQLQKIDKSEGRFHVQNLSQVEQDGRTGHGLRRSSKFCLKEHKALKTLGIIMGTFTLCWLPFFIVNIVHVIQDNLIRKEVYILLNWIGYVNSGFNPLIYCRSP'"
      ]
     },
     "execution_count": 68,
     "metadata": {},
     "output_type": "execute_result"
    }
   ],
   "source": [
    "sorted_train['sequences'][0]"
   ]
  },
  {
   "cell_type": "code",
   "execution_count": 67,
   "id": "04493dc4",
   "metadata": {
    "ExecuteTime": {
     "end_time": "2021-09-06T21:51:01.790744Z",
     "start_time": "2021-09-06T21:51:01.786422Z"
    }
   },
   "outputs": [
    {
     "data": {
      "text/plain": [
       "'PAVALYTKLGIREEVMHFDIDPSTATWMLRSSNDVTQQGSRPKTKLGGSSMGIIRTCRLGPDQVKSMRAALDLFGREFGDVATYSQHQPDSDYLGNLLRSKTFIALAAFDQEAVVGALAAYVLPKFEQPRSEIYIYDLAVSGEHRRQGIATALINLLKHEANALGAYVIYVQADYGDDP'"
      ]
     },
     "execution_count": 67,
     "metadata": {},
     "output_type": "execute_result"
    }
   ],
   "source": [
    "sorted_train['sequences'][1]"
   ]
  },
  {
   "cell_type": "code",
   "execution_count": 13,
   "id": "75a4272d",
   "metadata": {
    "ExecuteTime": {
     "end_time": "2021-09-06T20:43:29.391120Z",
     "start_time": "2021-09-06T20:43:29.375180Z"
    }
   },
   "outputs": [
    {
     "name": "stdout",
     "output_type": "stream",
     "text": [
      "PDFRIAFQELLCLRRSSLK-AYGNG-YSSNGNTGEQSGYHVEQEKENKLLCEDLPGT--EDF-VG-HQGTVPS-DNIDSQGRNC-STNDSLL--WMGQPGNGSAFLLAPNG-SHAPDH--DVTQE---RDEVWVV-----GMGIVMSLIVLAIVF--GNVLVITAIAKFERLQTVTNYFITSLACAD-LVMGLAVVPFG-------AAHILMKMWT--FGNFWC-EFWTSI-DVLCVTASIETLCVIAVDRYFAITSPFKYQ----SL--LTK-NKARVIILMVWIVSGLT-S--FLPIQMHWYRATHQE-AINCYANETCCDFFTN-QAYAI-ASSIVSFYVP--LVIMVFV--YSRVFQEAKRQLQKID-KSEGRFHV-QNL--SQVEQ----DGRTGHGLRRS--SKFCLK-EHKALKTL---GIIMGTF-TLCW-LPFFIVNIVHVIQDNLIR-K-EVYILL-NWI--G-YVNSGFNPLIYCRS--------P\n",
      "|    |              |     |     |              |     | |   |   |  |       | ||       ||       ||          |     |       ||||    |           | |   |          |    |  |    |         |   |   |  |    |         ||  |       ||     ||     |   | |   |        |    |    |    |   |   |      |       |  |  |  |      |     |    |       |   |     |   |   |   |        |  |       |     |    |   |    |  |     |      |     |      ||         | |     |    |          |  ||   | |      |    | ||       ||           |\n",
      "P----A-------------VA----LY-----T--------------K-----L-G-IRE--EV-MH------FD-ID------PST-----ATWM----------L----RS-----SNDVTQ-QGSR------PKTKLG-G---S--------SMG----I--I----R---------T---C--RL--G----P--DQVKSMRAA--L-----DLFG----REF----GD---V-A---T--------Y----S----QHQPDS-DYL--GN------L-------L-RSKTF--I------A----LA----A-------F--DQ----EA---V---V-GAL------AAY--V-------L----PK----F--EQ--PRS--E-IYIYD------L---AVS-----GEH------RRQG-I----AT---AL----------I--NL--LKHE-----AN--ALGAYV-------IY---VQADYGDDP\n",
      "  Score=97\n",
      "\n"
     ]
    },
    {
     "data": {
      "text/html": [
       "<div>\n",
       "<style scoped>\n",
       "    .dataframe tbody tr th:only-of-type {\n",
       "        vertical-align: middle;\n",
       "    }\n",
       "\n",
       "    .dataframe tbody tr th {\n",
       "        vertical-align: top;\n",
       "    }\n",
       "\n",
       "    .dataframe thead th {\n",
       "        text-align: right;\n",
       "    }\n",
       "</style>\n",
       "<table border=\"1\" class=\"dataframe\">\n",
       "  <thead>\n",
       "    <tr style=\"text-align: right;\">\n",
       "      <th></th>\n",
       "      <th>sequences</th>\n",
       "      <th>labels</th>\n",
       "    </tr>\n",
       "  </thead>\n",
       "  <tbody>\n",
       "    <tr>\n",
       "      <th>0</th>\n",
       "      <td>PDFRIAFQELLCLRRSSLKAYGNGYSSNGNTGEQSGYHVEQEKENK...</td>\n",
       "      <td>-6.076782</td>\n",
       "    </tr>\n",
       "    <tr>\n",
       "      <th>1</th>\n",
       "      <td>PAVALYTKLGIREEVMHFDIDPSTATWMLRSSNDVTQQGSRPKTKL...</td>\n",
       "      <td>-5.827586</td>\n",
       "    </tr>\n",
       "    <tr>\n",
       "      <th>2</th>\n",
       "      <td>TELTTKGRVPYPGMVNREXLDQVERGYRMPCPPECPEXLHDLMCQC...</td>\n",
       "      <td>-5.286897</td>\n",
       "    </tr>\n",
       "    <tr>\n",
       "      <th>3</th>\n",
       "      <td>PLAHYDTTADEILQQCDGKLDMLVASVGTGGTITGIARKLKEKCPG...</td>\n",
       "      <td>-5.237471</td>\n",
       "    </tr>\n",
       "    <tr>\n",
       "      <th>4</th>\n",
       "      <td>PDFRIAFQELLCLRRSSLKAYGNGYSSNGNTGEQSGYHVEQEKENK...</td>\n",
       "      <td>-4.742644</td>\n",
       "    </tr>\n",
       "  </tbody>\n",
       "</table>\n",
       "</div>"
      ],
      "text/plain": [
       "                                           sequences    labels\n",
       "0  PDFRIAFQELLCLRRSSLKAYGNGYSSNGNTGEQSGYHVEQEKENK... -6.076782\n",
       "1  PAVALYTKLGIREEVMHFDIDPSTATWMLRSSNDVTQQGSRPKTKL... -5.827586\n",
       "2  TELTTKGRVPYPGMVNREXLDQVERGYRMPCPPECPEXLHDLMCQC... -5.286897\n",
       "3  PLAHYDTTADEILQQCDGKLDMLVASVGTGGTITGIARKLKEKCPG... -5.237471\n",
       "4  PDFRIAFQELLCLRRSSLKAYGNGYSSNGNTGEQSGYHVEQEKENK... -4.742644"
      ]
     },
     "execution_count": 13,
     "metadata": {},
     "output_type": "execute_result"
    }
   ],
   "source": [
    "alignment = pairwise2.align.globalxx(sorted_train['sequences'][0], sorted_train['sequences'][1])\n",
    "print(pairwise2.format_alignment(*alignment[0]))\n",
    "\n",
    "sorted_train.head(5)"
   ]
  },
  {
   "cell_type": "code",
   "execution_count": 14,
   "id": "df11b5de",
   "metadata": {
    "ExecuteTime": {
     "end_time": "2021-09-06T20:43:29.415997Z",
     "start_time": "2021-09-06T20:43:29.391871Z"
    }
   },
   "outputs": [
    {
     "name": "stdout",
     "output_type": "stream",
     "text": [
      "GSTVAVAVKAAQELQEGQRCVVILPDSVRNYMTKFLSDRWMLQKGFLKEEDLTEKKPWWWHLRVQELGLSAPLTVLPTITCGHTIEILREKGFDQAPVVDEAGVILGMVTLGNMLSSLLAGKVQPSDQVGKVIYKQFKQIRLTDTLGRLSHILEMDHFALVVHEQIQYHSTGKSSQRQMVFGVVTAIDLLNFVAAQERDQKW-MPSETPQAEVGPTGCPHRSGPHSAKGSLEKGSPEDKEAKEPLWIRPDAPSRCTWQLGRPASESPHHHTAPAKSPKILPDILKKIGDTPMVRINKIGKKFGLKCELLAKCEFFNAGGSVKDRISLRMIEDAERDGTLKPGDTIIEPTSGNTGIGLALAAAVRGYRCIIVMPEKMSSEKVDVLRALGAEIVRTPTNARFDSPESHVGVAWRLKNEIPNSHILDQYRNASNPLAHYDTTADEILQQCDGKLDMLVASVGTGGTITGIARKLKEKCPGCRIIGVDPEGSILAEPEELNQTEQTTYEVEGIGYDFIPTVLDRTVVDKWFKSNDEEAFTFARMLIAQEGLLCGGSAG\n",
      "|||||||||||||||||||||||||||||||||||||||||||||||||||||||||||||||||||||||||||||||||||||||||||||||||||||||||||||||||||||||||||||||||||||||||||||||||||||||||||||||||||||||||||||||||||||||||||||||||||||||||  |||||||||||||||||||||||||||||||||||||||||||||||||||||||||||||||||||||||||||||||||||||||||||||||||||||||||||||||||||||||||||||||||||||||||||||||||||||||||||||||||||||||||||||||||||||||||||||||||||||||||||||||||||||||||||||||||||||||||||||||||||||||||||||||||||||||||||||||||||||||||||||||||||||||||||||||||||||||||||||||||||||||||||||||||||||||||||||||\n",
      "GSTVAVAVKAAQELQEGQRCVVILPDSVRNYMTKFLSDRWMLQKGFLKEEDLTEKKPWWWHLRVQELGLSAPLTVLPTITCGHTIEILREKGFDQAPVVDEAGVILGMVTLGNMLSSLLAGKVQPSDQVGKVIYKQFKQIRLTDTLGRLSHILEMDHFALVVHEQIQYHSTGKSSQRQMVFGVVTAIDLLNFVAAQERDQK-KMPSETPQAEVGPTGCPHRSGPHSAKGSLEKGSPEDKEAKEPLWIRPDAPSRCTWQLGRPASESPHHHTAPAKSPKILPDILKKIGDTPMVRINKIGKKFGLKCELLAKCEFFNAGGSVKDRISLRMIEDAERDGTLKPGDTIIEPTSGNTGIGLALAAAVRGYRCIIVMPEKMSSEKVDVLRALGAEIVRTPTNARFDSPESHVGVAWRLKNEIPNSHILDQYRNASNPLAHYDTTADEILQQCDGKLDMLVASVGTGGTITGIARKLKEKCPGCRIIGVDPEGSILAEPEELNQTEQTTYEVEGIGYDFIPTVLDRTVVDKWFKSNDEEAFTFARMLIAQEGLLCGGSAG\n",
      "  Score=552\n",
      " False\n"
     ]
    },
    {
     "data": {
      "text/html": [
       "<div>\n",
       "<style scoped>\n",
       "    .dataframe tbody tr th:only-of-type {\n",
       "        vertical-align: middle;\n",
       "    }\n",
       "\n",
       "    .dataframe tbody tr th {\n",
       "        vertical-align: top;\n",
       "    }\n",
       "\n",
       "    .dataframe thead th {\n",
       "        text-align: right;\n",
       "    }\n",
       "</style>\n",
       "<table border=\"1\" class=\"dataframe\">\n",
       "  <thead>\n",
       "    <tr style=\"text-align: right;\">\n",
       "      <th></th>\n",
       "      <th>sequences</th>\n",
       "      <th>labels</th>\n",
       "    </tr>\n",
       "  </thead>\n",
       "  <tbody>\n",
       "    <tr>\n",
       "      <th>142438</th>\n",
       "      <td>GCRAIGLGGGASSRVLADGMTRGPVVRLPRACDSAEVKAWLETSEG...</td>\n",
       "      <td>45.396552</td>\n",
       "    </tr>\n",
       "    <tr>\n",
       "      <th>142439</th>\n",
       "      <td>GSTVAVAVKAAQELQEGQRCVVILPDSVRNYMTKFLSDRWMLQKGF...</td>\n",
       "      <td>46.291724</td>\n",
       "    </tr>\n",
       "    <tr>\n",
       "      <th>142440</th>\n",
       "      <td>GSTVAVAVKAAQELQEGQRCVVILPDSVRNYMTKFLSDRWMLQKGF...</td>\n",
       "      <td>52.328276</td>\n",
       "    </tr>\n",
       "    <tr>\n",
       "      <th>142441</th>\n",
       "      <td>GSTVAVAVKAAQELQEGQRCVVILPDSVRNYMTKFLSDRWMLQKGF...</td>\n",
       "      <td>54.201034</td>\n",
       "    </tr>\n",
       "    <tr>\n",
       "      <th>142442</th>\n",
       "      <td>GSTVAVAVKAAQELQEGQRCVVILPDSVRNYMTKFLSDRWMLQKGF...</td>\n",
       "      <td>82.530115</td>\n",
       "    </tr>\n",
       "  </tbody>\n",
       "</table>\n",
       "</div>"
      ],
      "text/plain": [
       "                                                sequences     labels\n",
       "142438  GCRAIGLGGGASSRVLADGMTRGPVVRLPRACDSAEVKAWLETSEG...  45.396552\n",
       "142439  GSTVAVAVKAAQELQEGQRCVVILPDSVRNYMTKFLSDRWMLQKGF...  46.291724\n",
       "142440  GSTVAVAVKAAQELQEGQRCVVILPDSVRNYMTKFLSDRWMLQKGF...  52.328276\n",
       "142441  GSTVAVAVKAAQELQEGQRCVVILPDSVRNYMTKFLSDRWMLQKGF...  54.201034\n",
       "142442  GSTVAVAVKAAQELQEGQRCVVILPDSVRNYMTKFLSDRWMLQKGF...  82.530115"
      ]
     },
     "execution_count": 14,
     "metadata": {},
     "output_type": "execute_result"
    }
   ],
   "source": [
    "alignment = pairwise2.align.globalxx(\n",
    "    sorted_train['sequences'][len(sorted_train)-1], \n",
    "    sorted_train['sequences'][len(sorted_train)-2]\n",
    ")\n",
    "\n",
    "print(pairwise2.format_alignment(*alignment[0]), \\\n",
    "      sorted_train['sequences'][len(sorted_train)-1] == sorted_train['sequences'][len(sorted_train)-2])\n",
    "\n",
    "sorted_train.tail(5)"
   ]
  },
  {
   "cell_type": "markdown",
   "id": "92c2c911",
   "metadata": {},
   "source": [
    "## Subsampling techniques"
   ]
  },
  {
   "cell_type": "markdown",
   "id": "884a1530",
   "metadata": {},
   "source": [
    "* Diversity Maximizing: This is a greedy strategy which starts from the reference and adds the sequence with highest average hamming distance to current set of sequences.\n",
    "\n",
    "* Diversity Minimizing: This strategy is equivalent to the Diversity Maximizing strategy, but adds the se- quence with lowest average hamming distance. It is used to explore the effects of diversity on model per- formance.\n",
    "\n",
    "* HHFilter: This strategy applies hhfilter (Steinegger etal.,2019)withthe-diff Mparameter,whichre- turns M or more sequences that maximize diversity (the result is usually close to M). If more than M sequences are returned we apply the Diversity Maxi- mizing strategy on top of the output."
   ]
  },
  {
   "cell_type": "code",
   "execution_count": 15,
   "id": "da84f8a5",
   "metadata": {
    "ExecuteTime": {
     "end_time": "2021-09-06T20:43:29.424169Z",
     "start_time": "2021-09-06T20:43:29.416778Z"
    }
   },
   "outputs": [],
   "source": [
    "import numpy as np\n",
    "\n",
    "def onehot_pair(u, v):\n",
    "    vocab = set(u).union(set(v))\n",
    "    mapping = {k: v for v, k in enumerate(vocab)}\n",
    "    \n",
    "    for idx, val in enumerate(u):\n",
    "        u[idx] = mapping[val]\n",
    "    \n",
    "    for idx, val in enumerate(v):\n",
    "        v[idx] = mapping[val]\n",
    "        \n",
    "    return u, v\n",
    "\n",
    "def onehot_arrays(arrays):\n",
    "    vocab = set()\n",
    "    for array in arrays[1:]:\n",
    "        vocab = vocab.union(set([char for char in array]))\n",
    "    \n",
    "    mapping = {k: v for v, k in enumerate(vocab)}\n",
    "    \n",
    "    array_final = np.empty_like(arrays)\n",
    "    for idx, string in enumerate(arrays):\n",
    "        array = np.array([char for char in string])\n",
    "        for arr_idx, val in enumerate(array):\n",
    "            array[arr_idx] = mapping[val]\n",
    "        array_final[idx] = array\n",
    "        \n",
    "    return array_final\n",
    "\n",
    "def _validate_vector(u, dtype=None):\n",
    "    u = np.asarray(u, dtype=dtype)\n",
    "    if u.ndim == 1:\n",
    "        return u\n",
    "\n",
    "    # Ensure values such as u=1 and u=[1] still return 1-D arrays.\n",
    "    u = np.atleast_1d(u.squeeze())\n",
    "    if u.ndim > 1:\n",
    "        raise ValueError(\"Input vector should be 1-D.\")\n",
    "    warnings.warn(\n",
    "        \"scipy.spatial.distance metrics ignoring length-1 dimensions is \"\n",
    "        \"deprecated in SciPy 1.7 and will raise an error in SciPy 1.9.\",\n",
    "        DeprecationWarning)\n",
    "    return u\n",
    "\n",
    "def hamming(u, v):\n",
    "    if np.array(u).dtype == \"<U1\" and np.array(v).dtype == \"<U1\":\n",
    "        u, v = onehot_pair(u, v)\n",
    "    u = _validate_vector(u)\n",
    "    v = _validate_vector(v)\n",
    "        \n",
    "    u_ne_v = u != v\n",
    "    \n",
    "    return np.average(u_ne_v)"
   ]
  },
  {
   "cell_type": "code",
   "execution_count": 16,
   "id": "b27f20fb",
   "metadata": {
    "ExecuteTime": {
     "end_time": "2021-09-06T20:43:29.565486Z",
     "start_time": "2021-09-06T20:43:29.424872Z"
    },
    "code_folding": []
   },
   "outputs": [
    {
     "name": "stderr",
     "output_type": "stream",
     "text": [
      "/tmp/ipykernel_31220/753373872.py:3: TqdmExperimentalWarning: Using `tqdm.autonotebook.tqdm` in notebook mode. Use `tqdm.tqdm` instead to force console mode (e.g. in jupyter console)\n",
      "  from tqdm.autonotebook import tqdm\n"
     ]
    }
   ],
   "source": [
    "import random\n",
    "from scipy.spatial.distance import hamming\n",
    "from tqdm.autonotebook import tqdm\n",
    "\n",
    "import multiprocessing\n",
    "import contextlib\n",
    "\n",
    "def compute_diversity(seq1, seq2, method=\"hamming\"):\n",
    "    if method == \"alignment\":\n",
    "        method = pairwise2.align.globalxx\n",
    "        diversity = method(seq1, seq2)\n",
    "        diversity = diversity[0].score / max(len(seq1), len(seq2))\n",
    "\n",
    "    elif method == \"hamming\":\n",
    "        if len(seq1) != len(seq2):\n",
    "            size = min(len(seq1), len(seq2))\n",
    "            seq1 = seq1[:size]\n",
    "            seq2 = seq2[:size]\n",
    "            \n",
    "        method = hamming\n",
    "        #print(list(seq1), \"\\n\" ,list(seq2))\n",
    "        diversity = method(list(seq1), list(seq2))\n",
    "    \n",
    "    return diversity\n",
    "\n",
    "\n",
    "def div_vs_all(sequence, other_sequences, reducer = np.nanmean):\n",
    "        if seq in other_sequences:\n",
    "            raise IndexError(\n",
    "                f\"{seq_idx} is in other_sequences, e.g. it is not correctly indexed\"\n",
    "            )\n",
    "        v_diversity = np.vectorize(lambda x: compute_diversity(seq, x))\n",
    "        if len(other_sequences) > 1:\n",
    "            div_vs_all = v_diversity(other_sequences)\n",
    "        else:\n",
    "            print(f\"Skipping sequence {seq_idx}\")\n",
    "            return np.nan\n",
    "\n",
    "        reduced_div_vs_all = reducer(div_vs_all) if len(div_vs_all) >= 1 else np.nan\n",
    "        return reduced_div_vs_all\n",
    "    \n",
    "def dataset_diversity(sequences, method=\"hamming\", reduce=\"mean\", verbose=True):\n",
    "    if reduce != \"mean\":\n",
    "        raise NotImplementedError\n",
    "    else:\n",
    "        # nan results are due to different lengths\n",
    "        reducer = np.nanmean\n",
    "\n",
    "    reduced_divs = []\n",
    "    if verbose:\n",
    "        pbar = tqdm(total=len(sequences), miniters=1, smoothing=1)\n",
    "\n",
    "    all_other_sequences = [\n",
    "        np.concatenate((sequences[:idx], sequences[idx + 1 :]))\n",
    "        for idx in range(len(sequences))\n",
    "    ]\n",
    "    \n",
    "    \n",
    "    with contextlib.closing(multiprocessing.Pool(8)) as pool:\n",
    "        for seq_idx, seq in enumerate(sequences):\n",
    "            other_sequences = all_other_sequences[seq_idx]\n",
    "            reduced_divs.append(pool.apply_async(div_vs_all, args=(seq, other_sequences)))\n",
    "            \n",
    "            \n",
    "    for idx, result in enumerate(reduced_divs):\n",
    "        reduced_divs[idx] = result.get()\n",
    "        if verbose:\n",
    "            pbar.update(1)\n",
    "            pbar.refresh()\n",
    "        \n",
    "    pool.join()\n",
    "\n",
    "    if verbose:\n",
    "        pbar.close()\n",
    "\n",
    "    return reduced_divs"
   ]
  },
  {
   "cell_type": "code",
   "execution_count": 17,
   "id": "d014fb36",
   "metadata": {
    "ExecuteTime": {
     "end_time": "2021-09-06T20:43:29.569378Z",
     "start_time": "2021-09-06T20:43:29.566271Z"
    }
   },
   "outputs": [
    {
     "data": {
      "text/plain": [
       "0.987012987012987"
      ]
     },
     "execution_count": 17,
     "metadata": {},
     "output_type": "execute_result"
    }
   ],
   "source": [
    "compute_diversity(\n",
    "    data[\"sequences\"].values[0],\n",
    "    data[\"sequences\"].values[11],\n",
    "    \"alignment\",\n",
    ")"
   ]
  },
  {
   "cell_type": "code",
   "execution_count": 18,
   "id": "11dc7d0a",
   "metadata": {
    "ExecuteTime": {
     "end_time": "2021-09-06T20:43:29.577341Z",
     "start_time": "2021-09-06T20:43:29.570166Z"
    }
   },
   "outputs": [
    {
     "data": {
      "text/plain": [
       "0.012987012987012988"
      ]
     },
     "execution_count": 18,
     "metadata": {},
     "output_type": "execute_result"
    }
   ],
   "source": [
    "compute_diversity(\n",
    "    data[\"sequences\"].values[0],\n",
    "    data[\"sequences\"].values[11],\n",
    "    \"hamming\"\n",
    ")"
   ]
  },
  {
   "cell_type": "code",
   "execution_count": 19,
   "id": "d3561e35",
   "metadata": {
    "ExecuteTime": {
     "end_time": "2021-09-06T20:43:29.585385Z",
     "start_time": "2021-09-06T20:43:29.578011Z"
    }
   },
   "outputs": [
    {
     "data": {
      "text/plain": [
       "14244.300000000001"
      ]
     },
     "execution_count": 19,
     "metadata": {},
     "output_type": "execute_result"
    }
   ],
   "source": [
    "len(data[\"sequences\"].values) * 0.1"
   ]
  },
  {
   "cell_type": "code",
   "execution_count": 20,
   "id": "42b58025",
   "metadata": {
    "ExecuteTime": {
     "end_time": "2021-09-06T20:43:29.594837Z",
     "start_time": "2021-09-06T20:43:29.586045Z"
    }
   },
   "outputs": [
    {
     "data": {
      "text/plain": [
       "(14245,)"
      ]
     },
     "execution_count": 20,
     "metadata": {},
     "output_type": "execute_result"
    }
   ],
   "source": [
    "data[\"sequences\"].values[::10].shape"
   ]
  },
  {
   "cell_type": "code",
   "execution_count": 21,
   "id": "4c3a65b8",
   "metadata": {
    "ExecuteTime": {
     "end_time": "2021-09-06T20:43:29.602450Z",
     "start_time": "2021-09-06T20:43:29.595475Z"
    },
    "scrolled": false
   },
   "outputs": [],
   "source": [
    "#diversities = dataset_diversity(np.random.choice(data[\"sequences\"].values, 14245))"
   ]
  },
  {
   "cell_type": "code",
   "execution_count": 52,
   "id": "b6db7f7b",
   "metadata": {
    "ExecuteTime": {
     "end_time": "2021-09-06T21:06:51.382843Z",
     "start_time": "2021-09-06T21:06:43.583542Z"
    }
   },
   "outputs": [
    {
     "data": {
      "application/vnd.jupyter.widget-view+json": {
       "model_id": "a34bb55c313047cbbf98fd7be53d9c20",
       "version_major": 2,
       "version_minor": 0
      },
      "text/plain": [
       "  0%|          | 0/142443 [00:00<?, ?it/s]"
      ]
     },
     "metadata": {},
     "output_type": "display_data"
    }
   ],
   "source": [
    "from Bio import SeqIO\n",
    "from Bio.Seq import Seq\n",
    "from Bio.SeqRecord import SeqRecord\n",
    "\n",
    "records = []\n",
    "for row_idx, row in tqdm(data.iterrows(), total=len(data)):\n",
    "    record = SeqRecord(\n",
    "        Seq(row.sequences),\n",
    "        id=str(row[0]),\n",
    "        name=f\"mutagenesis_{row_idx}\",\n",
    "        description=\"\",\n",
    "        annotations={\"labels\": row.labels}\n",
    "    )\n",
    "    records.append(record)\n",
    "    if len(row.sequences) > 6000: print(row_idx)\n",
    "    \n",
    "# SeqIO.write(records, data_path / \"sequences.fasta\", \"fasta\")"
   ]
  },
  {
   "cell_type": "code",
   "execution_count": 34,
   "id": "00bb64a1",
   "metadata": {
    "ExecuteTime": {
     "end_time": "2021-09-06T20:59:48.069484Z",
     "start_time": "2021-09-06T20:59:47.993713Z"
    }
   },
   "outputs": [
    {
     "data": {
      "application/vnd.jupyter.widget-view+json": {
       "model_id": "ea1b7c6293e644ee90977dc97fed076b",
       "version_major": 2,
       "version_minor": 0
      },
      "text/plain": [
       "0it [00:00, ?it/s]"
      ]
     },
     "metadata": {},
     "output_type": "display_data"
    }
   ],
   "source": [
    "rep_records = []\n",
    "for record in tqdm(SeqIO.parse(data_path / \"clustering\" / \"clusterRes_rep_seq.fasta\", \"fasta\")):\n",
    "    rep_records.append(str(record.seq))\n",
    "    \n",
    "#rep_diversities = dataset_diversity(rep_records, \"alignment\")"
   ]
  },
  {
   "cell_type": "code",
   "execution_count": 49,
   "id": "9c5024e8",
   "metadata": {
    "ExecuteTime": {
     "end_time": "2021-09-06T21:03:26.179595Z",
     "start_time": "2021-09-06T21:03:26.073513Z"
    }
   },
   "outputs": [
    {
     "data": {
      "image/png": "[encoded data removed]",
      "text/plain": [
       "<Figure size 432x288 with 1 Axes>"
      ]
     },
     "metadata": {
      "needs_background": "light"
     },
     "output_type": "display_data"
    }
   ],
   "source": [
    "from sklearn.preprocessing import StandardScaler\n",
    "\n",
    "scaler = StandardScaler()\n",
    "y = scaler.fit_transform(data[data[\"sequences\"].isin(rep_records)][\"labels\"].values.reshape(-1, 1))\n",
    "\n",
    "plt.hist(y, bins=20, range=(-1.2,1.2))\n",
    "plt.show()"
   ]
  },
  {
   "cell_type": "code",
   "execution_count": null,
   "id": "eaca7c59",
   "metadata": {
    "ExecuteTime": {
     "start_time": "2021-09-06T18:04:38.037Z"
    }
   },
   "outputs": [],
   "source": [
    "# ds_div_train = dataset_diversity(sets[\"train\"][\"sequence\"])\n",
    "# sets[\"train\"][\"diversity\"] = np.nanmean(np.array(ds_div_train), 1)\n",
    "# np.nanmean(np.array(ds_div_train))\n",
    "# 0.8xxx"
   ]
  },
  {
   "cell_type": "code",
   "execution_count": null,
   "id": "69af6abe",
   "metadata": {
    "ExecuteTime": {
     "start_time": "2021-09-06T18:04:38.038Z"
    }
   },
   "outputs": [],
   "source": [
    "# ds_div_test = dataset_diversity(sets[\"test\"][\"sequence\"])\n",
    "# sets[\"test\"][\"diversity\"] = np.nanmean(np.array(ds_div_test), 1)\n",
    "# np.nanmean(np.array(ds_div_test))"
   ]
  },
  {
   "cell_type": "code",
   "execution_count": null,
   "id": "af359447",
   "metadata": {
    "ExecuteTime": {
     "start_time": "2021-09-06T18:04:38.039Z"
    }
   },
   "outputs": [],
   "source": [
    "# sets[\"train\"].to_csv(f\"{data_path}/stability_diversity_train.csv\")\n",
    "# sets[\"test\"].to_csv(f\"{data_path}/stability_diversity_test.csv\")"
   ]
  },
  {
   "cell_type": "code",
   "execution_count": null,
   "id": "3872fb89",
   "metadata": {},
   "outputs": [],
   "source": []
  }
 ],
 "metadata": {
  "kernelspec": {
   "display_name": "Stability",
   "language": "python",
   "name": "stability"
  },
  "language_info": {
   "codemirror_mode": {
    "name": "ipython",
    "version": 3
   },
   "file_extension": ".py",
   "mimetype": "text/x-python",
   "name": "python",
   "nbconvert_exporter": "python",
   "pygments_lexer": "ipython3",
   "version": "3.9.7"
  }
 },
 "nbformat": 4,
 "nbformat_minor": 5
}
