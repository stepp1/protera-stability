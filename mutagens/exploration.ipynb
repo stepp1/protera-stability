{
 "cells": [
  {
   "cell_type": "code",
   "execution_count": 1,
   "id": "1b27a053",
   "metadata": {
    "ExecuteTime": {
     "end_time": "2021-07-28T22:38:53.067503Z",
     "start_time": "2021-07-28T22:38:52.906682Z"
    }
   },
   "outputs": [],
   "source": [
    "import pandas as pd\n",
    "\n",
    "from pathlib import Path\n",
    "\n",
    "data_path = Path('data')"
   ]
  },
  {
   "cell_type": "code",
   "execution_count": 2,
   "id": "0398c86d",
   "metadata": {
    "ExecuteTime": {
     "end_time": "2021-07-28T22:38:54.647217Z",
     "start_time": "2021-07-28T22:38:54.536984Z"
    }
   },
   "outputs": [
    {
     "name": "stdout",
     "output_type": "stream",
     "text": [
      "cat: data/preprocessed/prism_merged_002_PTEN_phosphatase_activity.txt: No such file or directory\r\n"
     ]
    }
   ],
   "source": [
    "!cat $data_path/preprocessed/prism_merged_002_PTEN_phosphatase_activity.txt"
   ]
  },
  {
   "cell_type": "code",
   "execution_count": null,
   "id": "ffc3be9b",
   "metadata": {},
   "outputs": [],
   "source": [
    "pd.read_csv(data_path/'preprocessed'/'prism_merged_002_PTEN_phosphatase_activity.txt', skiprows=10)"
   ]
  }
 ],
 "metadata": {
  "kernelspec": {
   "display_name": "Python [conda env:protera-rapids]",
   "language": "python",
   "name": "conda-env-protera-rapids-py"
  },
  "language_info": {
   "codemirror_mode": {
    "name": "ipython",
    "version": 3
   },
   "file_extension": ".py",
   "mimetype": "text/x-python",
   "name": "python",
   "nbconvert_exporter": "python",
   "pygments_lexer": "ipython3",
   "version": "3.7.10"
  }
 },
 "nbformat": 4,
 "nbformat_minor": 5
}
