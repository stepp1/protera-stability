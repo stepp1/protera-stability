{
 "cells": [
  {
   "cell_type": "code",
   "execution_count": 1,
   "id": "1b27a053",
   "metadata": {
    "ExecuteTime": {
     "end_time": "2021-07-31T19:52:23.840253Z",
     "start_time": "2021-07-31T19:52:23.636203Z"
    }
   },
   "outputs": [],
   "source": [
    "from tqdm import tqdm\n",
    "import pandas as pd\n",
    "import numpy as np\n",
    "\n",
    "from pathlib import Path\n",
    "import csv\n",
    "\n",
    "data_path = Path('data')\n",
    "\n",
    "valid_aminoacids = {\n",
    "    \"A\", \n",
    "    \"R\",\n",
    "    \"N\",\n",
    "    \"D\",\n",
    "    \"C\",\n",
    "    \"Q\",\n",
    "    \"E\",\n",
    "    \"G\",\n",
    "    \"H\",\n",
    "    \"I\",\n",
    "    \"L\",\n",
    "    \"K\",\n",
    "    \"M\",\n",
    "    \"F\",\n",
    "    \"P\",\n",
    "    \"S\",\n",
    "    \"T\",\n",
    "    \"W\",\n",
    "    \"Y\",\n",
    "    \"V\"\n",
    "}"
   ]
  },
  {
   "cell_type": "code",
   "execution_count": 14,
   "id": "ba0b4d68",
   "metadata": {
    "ExecuteTime": {
     "end_time": "2021-07-31T20:09:57.119032Z",
     "start_time": "2021-07-31T20:09:57.113063Z"
    }
   },
   "outputs": [],
   "source": [
    "def modify_sequence(sequence, mutation):\n",
    "    \"\"\"\n",
    "    Modifies a sequence with a given mutation.\n",
    "    \n",
    "    The mutation format is `XiY` where `X` and `Y `corresponds to the original\n",
    "    and the mutation aminoacid respectively, `i` corresponds to the location \n",
    "    of `X` in the original sequence (1 based indexing is expected for `i`).\n",
    "    \n",
    "    Example:\n",
    "       sequence     mutation       mutated sequence\n",
    "    'MASZGSADMAST'   'M1A'    ->    'AASZGSADMAST'\n",
    "    \"\"\"\n",
    "    mutation = list(mutation)\n",
    "    original, idx, variation = mutation[0], ''.join(mutation[1:-1]), mutation[-1]\n",
    "    \n",
    "    amino_is_valid = lambda x : x in valid_aminoacids\n",
    "    if not (amino_is_valid(original) and amino_is_valid(variation)):\n",
    "        raise ValueError(f\"One of {original} or {variation} is not a valid aminoacid\")\n",
    "    \n",
    "    return sequence[int(idx)-1:] + variation + sequence[:int(idx)]\n",
    "\n",
    "\n",
    "def parse_lines(fname):\n",
    "    \"\"\"\n",
    "    Parser for preprocessed data from: \n",
    "    ```Predicting and interpreting large scale mutagenesis data using\n",
    "       analyses of protein stability and conservation```\n",
    "    \"\"\"\n",
    "    clean_lines = []\n",
    "    with open(fname) as f:\n",
    "        \n",
    "        lines = f.readlines()\n",
    "        \n",
    "        sequence = lines[5].split(':')[1].strip()\n",
    "        columns = [col.strip() for col in lines[27].split(' ')]\n",
    "        \n",
    "        clean_lines.append(columns)\n",
    "        content = lines[28:]\n",
    "        \n",
    "        for row_idx, row in enumerate(content):\n",
    "            clean_row = []\n",
    "            row = [val.strip() for val in row.split(' ') if val != '']\n",
    "            mutation = row[0]\n",
    "            try:\n",
    "                new_seq = modify_sequence(sequence, mutation)\n",
    "            except ValueError:\n",
    "                continue\n",
    "            \n",
    "            clean_row.append(new_seq)\n",
    "            for idx, val in enumerate(row[1:]):\n",
    "                if val == '':\n",
    "                    continue\n",
    "                    \n",
    "                elif val == 'NA':\n",
    "                    val = np.nan\n",
    "                    \n",
    "                clean_row.append(val)\n",
    "            \n",
    "            clean_lines.append(clean_row)\n",
    "    return clean_lines"
   ]
  },
  {
   "cell_type": "code",
   "execution_count": 15,
   "id": "29adc901",
   "metadata": {
    "ExecuteTime": {
     "end_time": "2021-07-31T20:09:57.655112Z",
     "start_time": "2021-07-31T20:09:57.623778Z"
    }
   },
   "outputs": [],
   "source": [
    "lines = parse_lines(data_path/'preprocessed/prism_merged_002_PTEN_phosphatase_activity.txt')\n",
    "\n",
    "def write_csv(out_path, stem, lines):\n",
    "    \"\"\"\n",
    "    Writes the given list of lines (a list of lists) to \n",
    "    a .csv with the given stem in the out directory\n",
    "    \"\"\"\n",
    "    with open(out_path / (stem + '.csv'), \"w\") as csv_file:\n",
    "        writer = csv.writer(csv_file, delimiter=',')\n",
    "        for line in lines:\n",
    "            writer.writerow(line)\n",
    "    \n",
    "def process_to_csv(to_process_path, out_dir = 'Protera'):\n",
    "    \"\"\"\n",
    "    Processes for preprocessed data (.txt) from: \n",
    "    ```Predicting and interpreting large scale mutagenesis data using\n",
    "       analyses of protein stability and conservation```\n",
    "    \"\"\"\n",
    "    out_path = to_process_path.parent / out_dir\n",
    "    out_path.mkdir(exist_ok=True)\n",
    "        \n",
    "    for file in tqdm(to_process_path.iterdir()):\n",
    "        stem = file.stem\n",
    "        \n",
    "        lines = parse_lines(file)\n",
    "        write_csv(out_path, stem, lines)"
   ]
  },
  {
   "cell_type": "code",
   "execution_count": 16,
   "id": "3f294be7",
   "metadata": {
    "ExecuteTime": {
     "end_time": "2021-07-31T20:10:01.677547Z",
     "start_time": "2021-07-31T20:09:59.367251Z"
    }
   },
   "outputs": [
    {
     "name": "stderr",
     "output_type": "stream",
     "text": [
      "39it [00:02, 16.90it/s]\n"
     ]
    }
   ],
   "source": [
    "process_to_csv(data_path / \"preprocessed\")"
   ]
  },
  {
   "cell_type": "code",
   "execution_count": null,
   "id": "085eb8d8",
   "metadata": {},
   "outputs": [],
   "source": []
  }
 ],
 "metadata": {
  "kernelspec": {
   "display_name": "Python [conda env:protera-rapids]",
   "language": "python",
   "name": "conda-env-protera-rapids-py"
  },
  "language_info": {
   "codemirror_mode": {
    "name": "ipython",
    "version": 3
   },
   "file_extension": ".py",
   "mimetype": "text/x-python",
   "name": "python",
   "nbconvert_exporter": "python",
   "pygments_lexer": "ipython3",
   "version": "3.7.10"
  }
 },
 "nbformat": 4,
 "nbformat_minor": 5
}
